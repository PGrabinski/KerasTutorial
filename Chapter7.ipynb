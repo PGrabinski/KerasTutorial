{
  "nbformat": 4,
  "nbformat_minor": 0,
  "metadata": {
    "colab": {
      "name": "Chapter7.ipynb",
      "version": "0.3.2",
      "provenance": [],
      "collapsed_sections": [],
      "include_colab_link": true
    },
    "kernelspec": {
      "name": "python3",
      "display_name": "Python 3"
    }
  },
  "cells": [
    {
      "cell_type": "markdown",
      "metadata": {
        "id": "view-in-github",
        "colab_type": "text"
      },
      "source": [
        "[View in Colaboratory](https://colab.research.google.com/github/PGrabinski/KerasTutorial/blob/master/Chapter7.ipynb)"
      ]
    },
    {
      "metadata": {
        "id": "glEAp2PIbh2V",
        "colab_type": "text"
      },
      "cell_type": "markdown",
      "source": [
        "# Chapter 7"
      ]
    },
    {
      "metadata": {
        "id": "TCJpt-jRbnEm",
        "colab_type": "text"
      },
      "cell_type": "markdown",
      "source": [
        "## Functional API"
      ]
    },
    {
      "metadata": {
        "id": "7zQ_qLbebf5D",
        "colab_type": "code",
        "colab": {
          "base_uri": "https://localhost:8080/",
          "height": 493
        },
        "outputId": "aa62df3c-5a43-4f65-c0ec-88d12427e184"
      },
      "cell_type": "code",
      "source": [
        "from keras import Input, layers\n",
        "from keras.models import Sequential, Model\n",
        "\n",
        "seq_model = Sequential()\n",
        "seq_model.add(layers.Dense(32, activation='relu', input_shape=(64,)))\n",
        "seq_model.add(layers.Dense(32, activation='relu'))\n",
        "seq_model.add(layers.Dense(10, activation='softmax'))\n",
        "seq_model.summary()\n",
        "\n",
        "input_tensor = Input(shape=(64, ))\n",
        "dense = layers.Dense(32, activation='relu')(input_tensor)\n",
        "dense = layers.Dense(32, activation='relu')(dense)\n",
        "output_tensor = layers.Dense(10, activation='softmax')(dense)\n",
        "model = Model(input_tensor, output_tensor)\n",
        "model.summary()"
      ],
      "execution_count": 2,
      "outputs": [
        {
          "output_type": "stream",
          "text": [
            "_________________________________________________________________\n",
            "Layer (type)                 Output Shape              Param #   \n",
            "=================================================================\n",
            "dense_7 (Dense)              (None, 32)                2080      \n",
            "_________________________________________________________________\n",
            "dense_8 (Dense)              (None, 32)                1056      \n",
            "_________________________________________________________________\n",
            "dense_9 (Dense)              (None, 10)                330       \n",
            "=================================================================\n",
            "Total params: 3,466\n",
            "Trainable params: 3,466\n",
            "Non-trainable params: 0\n",
            "_________________________________________________________________\n",
            "_________________________________________________________________\n",
            "Layer (type)                 Output Shape              Param #   \n",
            "=================================================================\n",
            "input_2 (InputLayer)         (None, 64)                0         \n",
            "_________________________________________________________________\n",
            "dense_10 (Dense)             (None, 32)                2080      \n",
            "_________________________________________________________________\n",
            "dense_11 (Dense)             (None, 32)                1056      \n",
            "_________________________________________________________________\n",
            "dense_12 (Dense)             (None, 10)                330       \n",
            "=================================================================\n",
            "Total params: 3,466\n",
            "Trainable params: 3,466\n",
            "Non-trainable params: 0\n",
            "_________________________________________________________________\n"
          ],
          "name": "stdout"
        }
      ]
    },
    {
      "metadata": {
        "id": "ldPmtRl2z_Tv",
        "colab_type": "text"
      },
      "cell_type": "markdown",
      "source": [
        "### Multi-input models"
      ]
    },
    {
      "metadata": {
        "id": "k9LG9I6MdJrR",
        "colab_type": "code",
        "colab": {
          "base_uri": "https://localhost:8080/",
          "height": 442
        },
        "outputId": "0345f335-b243-43d2-c5f2-a3f5067024f4"
      },
      "cell_type": "code",
      "source": [
        "from keras.models import Model\n",
        "from keras.layers import LSTM, Dense, Embedding, concatenate\n",
        "from keras import Input, layers\n",
        "import numpy as np\n",
        "\n",
        "text_voc_size = 10000\n",
        "question_voc_size = 10000\n",
        "answer_voc_size = 500\n",
        "\n",
        "text_input = Input(shape=(None,), dtype='int32', name='text')\n",
        "embedded_text = Embedding(text_voc_size, 64)(text_input)\n",
        "encoded_text = LSTM(32)(embedded_text)\n",
        "\n",
        "question_input = Input(shape=(None,), dtype='int32', name='question')\n",
        "embedded_question = Embedding(question_voc_size, 32)(question_input)\n",
        "encoded_question = LSTM(16)(embedded_question)\n",
        "\n",
        "concatenated = layers.concatenate([encoded_text, encoded_question], axis=-1)\n",
        "\n",
        "answer = Dense(answer_voc_size, activation='softmax')(concatenated)\n",
        "\n",
        "model = Model([text_input, question_input], answer)\n",
        "model. compile(optimizer='rmsprop', loss='categorical_crossentropy', metrics=['acc'])\n",
        "model.summary()"
      ],
      "execution_count": 1,
      "outputs": [
        {
          "output_type": "stream",
          "text": [
            "Using TensorFlow backend.\n"
          ],
          "name": "stderr"
        },
        {
          "output_type": "stream",
          "text": [
            "__________________________________________________________________________________________________\n",
            "Layer (type)                    Output Shape         Param #     Connected to                     \n",
            "==================================================================================================\n",
            "text (InputLayer)               (None, None)         0                                            \n",
            "__________________________________________________________________________________________________\n",
            "question (InputLayer)           (None, None)         0                                            \n",
            "__________________________________________________________________________________________________\n",
            "embedding_1 (Embedding)         (None, None, 64)     640000      text[0][0]                       \n",
            "__________________________________________________________________________________________________\n",
            "embedding_2 (Embedding)         (None, None, 32)     320000      question[0][0]                   \n",
            "__________________________________________________________________________________________________\n",
            "lstm_1 (LSTM)                   (None, 32)           12416       embedding_1[0][0]                \n",
            "__________________________________________________________________________________________________\n",
            "lstm_2 (LSTM)                   (None, 16)           3136        embedding_2[0][0]                \n",
            "__________________________________________________________________________________________________\n",
            "concatenate_1 (Concatenate)     (None, 48)           0           lstm_1[0][0]                     \n",
            "                                                                 lstm_2[0][0]                     \n",
            "__________________________________________________________________________________________________\n",
            "dense_1 (Dense)                 (None, 500)          24500       concatenate_1[0][0]              \n",
            "==================================================================================================\n",
            "Total params: 1,000,052\n",
            "Trainable params: 1,000,052\n",
            "Non-trainable params: 0\n",
            "__________________________________________________________________________________________________\n"
          ],
          "name": "stdout"
        }
      ]
    },
    {
      "metadata": {
        "id": "sBe6F7bn8Uit",
        "colab_type": "code",
        "colab": {
          "base_uri": "https://localhost:8080/",
          "height": 357
        },
        "outputId": "52862487-8c6a-4b21-bcf5-557dd7522a91"
      },
      "cell_type": "code",
      "source": [
        "!apt-get -qq install -y graphviz && pip install -q pydot\n",
        "!pip install pydot\n",
        "!pip install graphviz\n",
        "!add-apt-repository ppa:gviz-adm/graphviz-dev\n",
        "!apt-get update\n",
        "!apt-get install graphviz-dev"
      ],
      "execution_count": 18,
      "outputs": [
        {
          "output_type": "stream",
          "text": [
            "\u001b[33mYou are using pip version 10.0.1, however version 18.0 is available.\r\n",
            "You should consider upgrading via the 'pip install --upgrade pip' command.\u001b[0m\n",
            "Requirement already satisfied: pydot in /usr/local/lib/python3.6/dist-packages (1.2.4)\n",
            "Requirement already satisfied: pyparsing>=2.1.4 in /usr/local/lib/python3.6/dist-packages (from pydot) (2.2.0)\n",
            "\u001b[33mYou are using pip version 10.0.1, however version 18.0 is available.\n",
            "You should consider upgrading via the 'pip install --upgrade pip' command.\u001b[0m\n",
            "Requirement already satisfied: graphviz in /usr/local/lib/python3.6/dist-packages (0.8.4)\n",
            "\u001b[33mYou are using pip version 10.0.1, however version 18.0 is available.\n",
            "You should consider upgrading via the 'pip install --upgrade pip' command.\u001b[0m\n",
            "/bin/sh: 1: add-apt-repository: not found\n",
            "Hit:1 http://security.ubuntu.com/ubuntu artful-security InRelease\n",
            "Hit:2 http://archive.ubuntu.com/ubuntu artful InRelease\n",
            "Hit:3 http://archive.ubuntu.com/ubuntu artful-updates InRelease\n",
            "Hit:4 http://archive.ubuntu.com/ubuntu artful-backports InRelease\n",
            "Reading package lists... Done\n",
            "Reading package lists... Done\n",
            "Building dependency tree       \n",
            "Reading state information... Done\n",
            "graphviz-dev is already the newest version (2.38.0-16ubuntu2).\n",
            "0 upgraded, 0 newly installed, 0 to remove and 0 not upgraded.\n"
          ],
          "name": "stdout"
        }
      ]
    },
    {
      "metadata": {
        "id": "wdnReEcTBo46",
        "colab_type": "code",
        "colab": {
          "base_uri": "https://localhost:8080/",
          "height": 537
        },
        "outputId": "98f1baf1-2e31-40b1-9bdf-a68c18e245b4"
      },
      "cell_type": "code",
      "source": [
        "import pydot\n",
        "import graphviz\n",
        "from IPython.display import SVG\n",
        "from keras.utils.vis_utils import model_to_dot\n",
        "# from keras.utils import plot_model\n",
        "SVG(model_to_dot(model,show_shapes=True).create(prog='dot', format='svg'))"
      ],
      "execution_count": 3,
      "outputs": [
        {
          "output_type": "execute_result",
          "data": {
            "text/plain": [
              "<IPython.core.display.SVG object>"
            ],
            "image/svg+xml": "<svg height=\"387pt\" viewBox=\"0.00 0.00 848.00 387.00\" width=\"848pt\" xmlns=\"http://www.w3.org/2000/svg\" xmlns:xlink=\"http://www.w3.org/1999/xlink\">\n<g class=\"graph\" id=\"graph0\" transform=\"scale(1 1) rotate(0) translate(4 383)\">\n<title>G</title>\n<polygon fill=\"white\" points=\"-4,4 -4,-383 844,-383 844,4 -4,4\" stroke=\"none\"/>\n<!-- 139863066389920 -->\n<g class=\"node\" id=\"node1\"><title>139863066389920</title>\n<polygon fill=\"none\" points=\"48,-332.5 48,-378.5 363,-378.5 363,-332.5 48,-332.5\" stroke=\"black\"/>\n<text font-family=\"Times,serif\" font-size=\"14.00\" text-anchor=\"middle\" x=\"115\" y=\"-351.8\">text: InputLayer</text>\n<polyline fill=\"none\" points=\"182,-332.5 182,-378.5 \" stroke=\"black\"/>\n<text font-family=\"Times,serif\" font-size=\"14.00\" text-anchor=\"middle\" x=\"216\" y=\"-363.3\">input:</text>\n<polyline fill=\"none\" points=\"182,-355.5 250,-355.5 \" stroke=\"black\"/>\n<text font-family=\"Times,serif\" font-size=\"14.00\" text-anchor=\"middle\" x=\"216\" y=\"-340.3\">output:</text>\n<polyline fill=\"none\" points=\"250,-332.5 250,-378.5 \" stroke=\"black\"/>\n<text font-family=\"Times,serif\" font-size=\"14.00\" text-anchor=\"middle\" x=\"306.5\" y=\"-363.3\">(None, None)</text>\n<polyline fill=\"none\" points=\"250,-355.5 363,-355.5 \" stroke=\"black\"/>\n<text font-family=\"Times,serif\" font-size=\"14.00\" text-anchor=\"middle\" x=\"306.5\" y=\"-340.3\">(None, None)</text>\n</g>\n<!-- 139863066390088 -->\n<g class=\"node\" id=\"node3\"><title>139863066390088</title>\n<polygon fill=\"none\" points=\"0,-249.5 0,-295.5 411,-295.5 411,-249.5 0,-249.5\" stroke=\"black\"/>\n<text font-family=\"Times,serif\" font-size=\"14.00\" text-anchor=\"middle\" x=\"101.5\" y=\"-268.8\">embedding_1: Embedding</text>\n<polyline fill=\"none\" points=\"203,-249.5 203,-295.5 \" stroke=\"black\"/>\n<text font-family=\"Times,serif\" font-size=\"14.00\" text-anchor=\"middle\" x=\"237\" y=\"-280.3\">input:</text>\n<polyline fill=\"none\" points=\"203,-272.5 271,-272.5 \" stroke=\"black\"/>\n<text font-family=\"Times,serif\" font-size=\"14.00\" text-anchor=\"middle\" x=\"237\" y=\"-257.3\">output:</text>\n<polyline fill=\"none\" points=\"271,-249.5 271,-295.5 \" stroke=\"black\"/>\n<text font-family=\"Times,serif\" font-size=\"14.00\" text-anchor=\"middle\" x=\"341\" y=\"-280.3\">(None, None)</text>\n<polyline fill=\"none\" points=\"271,-272.5 411,-272.5 \" stroke=\"black\"/>\n<text font-family=\"Times,serif\" font-size=\"14.00\" text-anchor=\"middle\" x=\"341\" y=\"-257.3\">(None, None, 64)</text>\n</g>\n<!-- 139863066389920&#45;&gt;139863066390088 -->\n<g class=\"edge\" id=\"edge1\"><title>139863066389920-&gt;139863066390088</title>\n<path d=\"M205.5,-332.366C205.5,-324.152 205.5,-314.658 205.5,-305.725\" fill=\"none\" stroke=\"black\"/>\n<polygon fill=\"black\" points=\"209,-305.607 205.5,-295.607 202,-305.607 209,-305.607\" stroke=\"black\"/>\n</g>\n<!-- 139863066374440 -->\n<g class=\"node\" id=\"node2\"><title>139863066374440</title>\n<polygon fill=\"none\" points=\"460.5,-332.5 460.5,-378.5 808.5,-378.5 808.5,-332.5 460.5,-332.5\" stroke=\"black\"/>\n<text font-family=\"Times,serif\" font-size=\"14.00\" text-anchor=\"middle\" x=\"544\" y=\"-351.8\">question: InputLayer</text>\n<polyline fill=\"none\" points=\"627.5,-332.5 627.5,-378.5 \" stroke=\"black\"/>\n<text font-family=\"Times,serif\" font-size=\"14.00\" text-anchor=\"middle\" x=\"661.5\" y=\"-363.3\">input:</text>\n<polyline fill=\"none\" points=\"627.5,-355.5 695.5,-355.5 \" stroke=\"black\"/>\n<text font-family=\"Times,serif\" font-size=\"14.00\" text-anchor=\"middle\" x=\"661.5\" y=\"-340.3\">output:</text>\n<polyline fill=\"none\" points=\"695.5,-332.5 695.5,-378.5 \" stroke=\"black\"/>\n<text font-family=\"Times,serif\" font-size=\"14.00\" text-anchor=\"middle\" x=\"752\" y=\"-363.3\">(None, None)</text>\n<polyline fill=\"none\" points=\"695.5,-355.5 808.5,-355.5 \" stroke=\"black\"/>\n<text font-family=\"Times,serif\" font-size=\"14.00\" text-anchor=\"middle\" x=\"752\" y=\"-340.3\">(None, None)</text>\n</g>\n<!-- 139862871888896 -->\n<g class=\"node\" id=\"node4\"><title>139862871888896</title>\n<polygon fill=\"none\" points=\"429,-249.5 429,-295.5 840,-295.5 840,-249.5 429,-249.5\" stroke=\"black\"/>\n<text font-family=\"Times,serif\" font-size=\"14.00\" text-anchor=\"middle\" x=\"530.5\" y=\"-268.8\">embedding_2: Embedding</text>\n<polyline fill=\"none\" points=\"632,-249.5 632,-295.5 \" stroke=\"black\"/>\n<text font-family=\"Times,serif\" font-size=\"14.00\" text-anchor=\"middle\" x=\"666\" y=\"-280.3\">input:</text>\n<polyline fill=\"none\" points=\"632,-272.5 700,-272.5 \" stroke=\"black\"/>\n<text font-family=\"Times,serif\" font-size=\"14.00\" text-anchor=\"middle\" x=\"666\" y=\"-257.3\">output:</text>\n<polyline fill=\"none\" points=\"700,-249.5 700,-295.5 \" stroke=\"black\"/>\n<text font-family=\"Times,serif\" font-size=\"14.00\" text-anchor=\"middle\" x=\"770\" y=\"-280.3\">(None, None)</text>\n<polyline fill=\"none\" points=\"700,-272.5 840,-272.5 \" stroke=\"black\"/>\n<text font-family=\"Times,serif\" font-size=\"14.00\" text-anchor=\"middle\" x=\"770\" y=\"-257.3\">(None, None, 32)</text>\n</g>\n<!-- 139863066374440&#45;&gt;139862871888896 -->\n<g class=\"edge\" id=\"edge2\"><title>139863066374440-&gt;139862871888896</title>\n<path d=\"M634.5,-332.366C634.5,-324.152 634.5,-314.658 634.5,-305.725\" fill=\"none\" stroke=\"black\"/>\n<polygon fill=\"black\" points=\"638,-305.607 634.5,-295.607 631,-305.607 638,-305.607\" stroke=\"black\"/>\n</g>\n<!-- 139862871785312 -->\n<g class=\"node\" id=\"node5\"><title>139862871785312</title>\n<polygon fill=\"none\" points=\"86,-166.5 86,-212.5 411,-212.5 411,-166.5 86,-166.5\" stroke=\"black\"/>\n<text font-family=\"Times,serif\" font-size=\"14.00\" text-anchor=\"middle\" x=\"144.5\" y=\"-185.8\">lstm_1: LSTM</text>\n<polyline fill=\"none\" points=\"203,-166.5 203,-212.5 \" stroke=\"black\"/>\n<text font-family=\"Times,serif\" font-size=\"14.00\" text-anchor=\"middle\" x=\"237\" y=\"-197.3\">input:</text>\n<polyline fill=\"none\" points=\"203,-189.5 271,-189.5 \" stroke=\"black\"/>\n<text font-family=\"Times,serif\" font-size=\"14.00\" text-anchor=\"middle\" x=\"237\" y=\"-174.3\">output:</text>\n<polyline fill=\"none\" points=\"271,-166.5 271,-212.5 \" stroke=\"black\"/>\n<text font-family=\"Times,serif\" font-size=\"14.00\" text-anchor=\"middle\" x=\"341\" y=\"-197.3\">(None, None, 64)</text>\n<polyline fill=\"none\" points=\"271,-189.5 411,-189.5 \" stroke=\"black\"/>\n<text font-family=\"Times,serif\" font-size=\"14.00\" text-anchor=\"middle\" x=\"341\" y=\"-174.3\">(None, 32)</text>\n</g>\n<!-- 139863066390088&#45;&gt;139862871785312 -->\n<g class=\"edge\" id=\"edge3\"><title>139863066390088-&gt;139862871785312</title>\n<path d=\"M217.25,-249.366C221.8,-240.794 227.09,-230.83 232.01,-221.563\" fill=\"none\" stroke=\"black\"/>\n<polygon fill=\"black\" points=\"235.167,-223.081 236.764,-212.607 228.984,-219.798 235.167,-223.081\" stroke=\"black\"/>\n</g>\n<!-- 139862871888112 -->\n<g class=\"node\" id=\"node6\"><title>139862871888112</title>\n<polygon fill=\"none\" points=\"450,-166.5 450,-212.5 775,-212.5 775,-166.5 450,-166.5\" stroke=\"black\"/>\n<text font-family=\"Times,serif\" font-size=\"14.00\" text-anchor=\"middle\" x=\"508.5\" y=\"-185.8\">lstm_2: LSTM</text>\n<polyline fill=\"none\" points=\"567,-166.5 567,-212.5 \" stroke=\"black\"/>\n<text font-family=\"Times,serif\" font-size=\"14.00\" text-anchor=\"middle\" x=\"601\" y=\"-197.3\">input:</text>\n<polyline fill=\"none\" points=\"567,-189.5 635,-189.5 \" stroke=\"black\"/>\n<text font-family=\"Times,serif\" font-size=\"14.00\" text-anchor=\"middle\" x=\"601\" y=\"-174.3\">output:</text>\n<polyline fill=\"none\" points=\"635,-166.5 635,-212.5 \" stroke=\"black\"/>\n<text font-family=\"Times,serif\" font-size=\"14.00\" text-anchor=\"middle\" x=\"705\" y=\"-197.3\">(None, None, 32)</text>\n<polyline fill=\"none\" points=\"635,-189.5 775,-189.5 \" stroke=\"black\"/>\n<text font-family=\"Times,serif\" font-size=\"14.00\" text-anchor=\"middle\" x=\"705\" y=\"-174.3\">(None, 16)</text>\n</g>\n<!-- 139862871888896&#45;&gt;139862871888112 -->\n<g class=\"edge\" id=\"edge4\"><title>139862871888896-&gt;139862871888112</title>\n<path d=\"M628.488,-249.366C626.233,-241.062 623.623,-231.451 621.173,-222.434\" fill=\"none\" stroke=\"black\"/>\n<polygon fill=\"black\" points=\"624.503,-221.34 618.504,-212.607 617.748,-223.175 624.503,-221.34\" stroke=\"black\"/>\n</g>\n<!-- 139862828421016 -->\n<g class=\"node\" id=\"node7\"><title>139862828421016</title>\n<polygon fill=\"none\" points=\"192,-83.5 192,-129.5 669,-129.5 669,-83.5 192,-83.5\" stroke=\"black\"/>\n<text font-family=\"Times,serif\" font-size=\"14.00\" text-anchor=\"middle\" x=\"302.5\" y=\"-102.8\">concatenate_1: Concatenate</text>\n<polyline fill=\"none\" points=\"413,-83.5 413,-129.5 \" stroke=\"black\"/>\n<text font-family=\"Times,serif\" font-size=\"14.00\" text-anchor=\"middle\" x=\"447\" y=\"-114.3\">input:</text>\n<polyline fill=\"none\" points=\"413,-106.5 481,-106.5 \" stroke=\"black\"/>\n<text font-family=\"Times,serif\" font-size=\"14.00\" text-anchor=\"middle\" x=\"447\" y=\"-91.3\">output:</text>\n<polyline fill=\"none\" points=\"481,-83.5 481,-129.5 \" stroke=\"black\"/>\n<text font-family=\"Times,serif\" font-size=\"14.00\" text-anchor=\"middle\" x=\"575\" y=\"-114.3\">[(None, 32), (None, 16)]</text>\n<polyline fill=\"none\" points=\"481,-106.5 669,-106.5 \" stroke=\"black\"/>\n<text font-family=\"Times,serif\" font-size=\"14.00\" text-anchor=\"middle\" x=\"575\" y=\"-91.3\">(None, 48)</text>\n</g>\n<!-- 139862871785312&#45;&gt;139862828421016 -->\n<g class=\"edge\" id=\"edge5\"><title>139862871785312-&gt;139862828421016</title>\n<path d=\"M298.232,-166.366C320.903,-156.277 347.91,-144.257 371.591,-133.718\" fill=\"none\" stroke=\"black\"/>\n<polygon fill=\"black\" points=\"373.115,-136.871 380.828,-129.607 370.269,-130.475 373.115,-136.871\" stroke=\"black\"/>\n</g>\n<!-- 139862871888112&#45;&gt;139862828421016 -->\n<g class=\"edge\" id=\"edge6\"><title>139862871888112-&gt;139862828421016</title>\n<path d=\"M562.768,-166.366C540.097,-156.277 513.09,-144.257 489.409,-133.718\" fill=\"none\" stroke=\"black\"/>\n<polygon fill=\"black\" points=\"490.731,-130.475 480.172,-129.607 487.885,-136.871 490.731,-130.475\" stroke=\"black\"/>\n</g>\n<!-- 139862871888056 -->\n<g class=\"node\" id=\"node8\"><title>139862871888056</title>\n<polygon fill=\"none\" points=\"282,-0.5 282,-46.5 579,-46.5 579,-0.5 282,-0.5\" stroke=\"black\"/>\n<text font-family=\"Times,serif\" font-size=\"14.00\" text-anchor=\"middle\" x=\"346\" y=\"-19.8\">dense_1: Dense</text>\n<polyline fill=\"none\" points=\"410,-0.5 410,-46.5 \" stroke=\"black\"/>\n<text font-family=\"Times,serif\" font-size=\"14.00\" text-anchor=\"middle\" x=\"444\" y=\"-31.3\">input:</text>\n<polyline fill=\"none\" points=\"410,-23.5 478,-23.5 \" stroke=\"black\"/>\n<text font-family=\"Times,serif\" font-size=\"14.00\" text-anchor=\"middle\" x=\"444\" y=\"-8.3\">output:</text>\n<polyline fill=\"none\" points=\"478,-0.5 478,-46.5 \" stroke=\"black\"/>\n<text font-family=\"Times,serif\" font-size=\"14.00\" text-anchor=\"middle\" x=\"528.5\" y=\"-31.3\">(None, 48)</text>\n<polyline fill=\"none\" points=\"478,-23.5 579,-23.5 \" stroke=\"black\"/>\n<text font-family=\"Times,serif\" font-size=\"14.00\" text-anchor=\"middle\" x=\"528.5\" y=\"-8.3\">(None, 500)</text>\n</g>\n<!-- 139862828421016&#45;&gt;139862871888056 -->\n<g class=\"edge\" id=\"edge7\"><title>139862828421016-&gt;139862871888056</title>\n<path d=\"M430.5,-83.3664C430.5,-75.1516 430.5,-65.6579 430.5,-56.7252\" fill=\"none\" stroke=\"black\"/>\n<polygon fill=\"black\" points=\"434,-56.6068 430.5,-46.6068 427,-56.6069 434,-56.6068\" stroke=\"black\"/>\n</g>\n</g>\n</svg>"
          },
          "metadata": {
            "tags": []
          },
          "execution_count": 3
        }
      ]
    },
    {
      "metadata": {
        "id": "aN1mivKh2pcO",
        "colab_type": "code",
        "colab": {
          "base_uri": "https://localhost:8080/",
          "height": 493
        },
        "outputId": "5c60f1b3-5834-4205-b6ef-2ca75f415c16"
      },
      "cell_type": "code",
      "source": [
        "samples = 1000\n",
        "max_len = 100\n",
        "text = np.random.randint(1, text_voc_size, size=(samples, max_len))\n",
        "question = np.random.randint(1, question_voc_size, size=(samples, max_len))\n",
        "answers = np.random.randint(0, 2, size=(samples, answer_voc_size))\n",
        "print(answers)\n",
        "model.fit({'text':text, 'question':question}, answers, epochs=10, batch_size=128)"
      ],
      "execution_count": 2,
      "outputs": [
        {
          "output_type": "stream",
          "text": [
            "[[1 0 1 ... 1 0 0]\n",
            " [1 1 1 ... 1 0 0]\n",
            " [1 0 0 ... 1 1 0]\n",
            " ...\n",
            " [1 1 1 ... 0 0 1]\n",
            " [1 0 1 ... 0 0 1]\n",
            " [1 1 1 ... 0 1 1]]\n",
            "Epoch 1/10\n",
            "1000/1000 [==============================] - 3s 3ms/step - loss: 1549.6925 - acc: 0.0000e+00\n",
            "Epoch 2/10\n",
            "1000/1000 [==============================] - 2s 2ms/step - loss: 1549.5514 - acc: 0.0000e+00\n",
            "Epoch 3/10\n",
            "1000/1000 [==============================] - 2s 2ms/step - loss: 1549.4031 - acc: 0.0000e+00\n",
            "Epoch 4/10\n",
            "1000/1000 [==============================] - 2s 2ms/step - loss: 1549.1403 - acc: 0.0000e+00\n",
            "Epoch 5/10\n",
            "1000/1000 [==============================] - 2s 2ms/step - loss: 1548.8006 - acc: 0.0000e+00\n",
            "Epoch 6/10\n",
            "1000/1000 [==============================] - 2s 2ms/step - loss: 1548.4321 - acc: 1.0000e-03\n",
            "Epoch 7/10\n",
            "1000/1000 [==============================] - 2s 2ms/step - loss: 1548.0540 - acc: 0.0050\n",
            "Epoch 8/10\n",
            "1000/1000 [==============================] - 2s 2ms/step - loss: 1547.6957 - acc: 0.0090\n",
            "Epoch 9/10\n",
            "1000/1000 [==============================] - 2s 2ms/step - loss: 1547.3438 - acc: 0.0160\n",
            "Epoch 10/10\n",
            "1000/1000 [==============================] - 2s 2ms/step - loss: 1546.9902 - acc: 0.0210\n"
          ],
          "name": "stdout"
        },
        {
          "output_type": "execute_result",
          "data": {
            "text/plain": [
              "<keras.callbacks.History at 0x7fa2f4f12b38>"
            ]
          },
          "metadata": {
            "tags": []
          },
          "execution_count": 2
        }
      ]
    },
    {
      "metadata": {
        "id": "RjroYNYjFL6V",
        "colab_type": "text"
      },
      "cell_type": "markdown",
      "source": [
        "### Multi-output models"
      ]
    },
    {
      "metadata": {
        "id": "NecHWuTU-6aU",
        "colab_type": "code",
        "colab": {
          "base_uri": "https://localhost:8080/",
          "height": 1907
        },
        "outputId": "218db8e1-ee0b-4c5e-8d30-0a67c6435981"
      },
      "cell_type": "code",
      "source": [
        "from keras.layers import Embedding, Conv1D, MaxPooling1D, GlobalMaxPooling1D, Dense\n",
        "from keras import Input\n",
        "from keras.models import Model\n",
        "\n",
        "voc_size = 50000\n",
        "income_groups = 10\n",
        "\n",
        "posts_input = Input(shape=(None,), dtype=np.int32, name='posts')\n",
        "embedded_posts = Embedding(voc_size, 256)(posts_input)\n",
        "x = Conv1D(128, 5, activation='relu', name='first_conv1d')(embedded_posts)\n",
        "x = MaxPooling1D(5)(x)\n",
        "x = Conv1D(256, 5, activation='relu')(x)\n",
        "x = Conv1D(256, 5, activation='relu')(x)\n",
        "x = MaxPooling1D(5)(x)\n",
        "x = Conv1D(256, 5, activation='relu')(x)\n",
        "x = Conv1D(256, 5, activation='relu')(x)\n",
        "x = GlobalMaxPooling1D()(x)\n",
        "x = Dense(128, activation='relu')(x)\n",
        "\n",
        "age_pred = Dense(1, name='age')(x)\n",
        "gender_pred = Dense(1, activation='sigmoid', name='gender')(x)\n",
        "income_pred = Dense(income_groups, activation='softmax')(x)\n",
        "\n",
        "model = Model(posts_input, [age_pred, gender_pred, income_pred])\n",
        "model.summary()\n",
        "SVG(model_to_dot(model,show_shapes=True).create(prog='dot', format='svg'))"
      ],
      "execution_count": 5,
      "outputs": [
        {
          "output_type": "stream",
          "text": [
            "__________________________________________________________________________________________________\n",
            "Layer (type)                    Output Shape         Param #     Connected to                     \n",
            "==================================================================================================\n",
            "posts (InputLayer)              (None, None)         0                                            \n",
            "__________________________________________________________________________________________________\n",
            "embedding_4 (Embedding)         (None, None, 256)    12800000    posts[0][0]                      \n",
            "__________________________________________________________________________________________________\n",
            "first_conv1d (Conv1D)           (None, None, 128)    163968      embedding_4[0][0]                \n",
            "__________________________________________________________________________________________________\n",
            "max_pooling1d_3 (MaxPooling1D)  (None, None, 128)    0           first_conv1d[0][0]               \n",
            "__________________________________________________________________________________________________\n",
            "conv1d_6 (Conv1D)               (None, None, 256)    164096      max_pooling1d_3[0][0]            \n",
            "__________________________________________________________________________________________________\n",
            "conv1d_7 (Conv1D)               (None, None, 256)    327936      conv1d_6[0][0]                   \n",
            "__________________________________________________________________________________________________\n",
            "max_pooling1d_4 (MaxPooling1D)  (None, None, 256)    0           conv1d_7[0][0]                   \n",
            "__________________________________________________________________________________________________\n",
            "conv1d_8 (Conv1D)               (None, None, 256)    327936      max_pooling1d_4[0][0]            \n",
            "__________________________________________________________________________________________________\n",
            "conv1d_9 (Conv1D)               (None, None, 256)    327936      conv1d_8[0][0]                   \n",
            "__________________________________________________________________________________________________\n",
            "global_max_pooling1d_2 (GlobalM (None, 256)          0           conv1d_9[0][0]                   \n",
            "__________________________________________________________________________________________________\n",
            "dense_4 (Dense)                 (None, 128)          32896       global_max_pooling1d_2[0][0]     \n",
            "__________________________________________________________________________________________________\n",
            "age (Dense)                     (None, 1)            129         dense_4[0][0]                    \n",
            "__________________________________________________________________________________________________\n",
            "gender (Dense)                  (None, 1)            129         dense_4[0][0]                    \n",
            "__________________________________________________________________________________________________\n",
            "dense_5 (Dense)                 (None, 10)           1290        dense_4[0][0]                    \n",
            "==================================================================================================\n",
            "Total params: 14,146,316\n",
            "Trainable params: 14,146,316\n",
            "Non-trainable params: 0\n",
            "__________________________________________________________________________________________________\n"
          ],
          "name": "stdout"
        },
        {
          "output_type": "execute_result",
          "data": {
            "text/plain": [
              "<IPython.core.display.SVG object>"
            ],
            "image/svg+xml": "<svg height=\"968pt\" viewBox=\"0.00 0.00 894.50 968.00\" width=\"895pt\" xmlns=\"http://www.w3.org/2000/svg\" xmlns:xlink=\"http://www.w3.org/1999/xlink\">\n<g class=\"graph\" id=\"graph0\" transform=\"scale(1 1) rotate(0) translate(4 964)\">\n<title>G</title>\n<polygon fill=\"white\" points=\"-4,4 -4,-964 890.5,-964 890.5,4 -4,4\" stroke=\"none\"/>\n<!-- 139862816089256 -->\n<g class=\"node\" id=\"node1\"><title>139862816089256</title>\n<polygon fill=\"none\" points=\"264.5,-913.5 264.5,-959.5 589.5,-959.5 589.5,-913.5 264.5,-913.5\" stroke=\"black\"/>\n<text font-family=\"Times,serif\" font-size=\"14.00\" text-anchor=\"middle\" x=\"336.5\" y=\"-932.8\">posts: InputLayer</text>\n<polyline fill=\"none\" points=\"408.5,-913.5 408.5,-959.5 \" stroke=\"black\"/>\n<text font-family=\"Times,serif\" font-size=\"14.00\" text-anchor=\"middle\" x=\"442.5\" y=\"-944.3\">input:</text>\n<polyline fill=\"none\" points=\"408.5,-936.5 476.5,-936.5 \" stroke=\"black\"/>\n<text font-family=\"Times,serif\" font-size=\"14.00\" text-anchor=\"middle\" x=\"442.5\" y=\"-921.3\">output:</text>\n<polyline fill=\"none\" points=\"476.5,-913.5 476.5,-959.5 \" stroke=\"black\"/>\n<text font-family=\"Times,serif\" font-size=\"14.00\" text-anchor=\"middle\" x=\"533\" y=\"-944.3\">(None, None)</text>\n<polyline fill=\"none\" points=\"476.5,-936.5 589.5,-936.5 \" stroke=\"black\"/>\n<text font-family=\"Times,serif\" font-size=\"14.00\" text-anchor=\"middle\" x=\"533\" y=\"-921.3\">(None, None)</text>\n</g>\n<!-- 139862816089424 -->\n<g class=\"node\" id=\"node2\"><title>139862816089424</title>\n<polygon fill=\"none\" points=\"217,-830.5 217,-876.5 637,-876.5 637,-830.5 217,-830.5\" stroke=\"black\"/>\n<text font-family=\"Times,serif\" font-size=\"14.00\" text-anchor=\"middle\" x=\"318.5\" y=\"-849.8\">embedding_4: Embedding</text>\n<polyline fill=\"none\" points=\"420,-830.5 420,-876.5 \" stroke=\"black\"/>\n<text font-family=\"Times,serif\" font-size=\"14.00\" text-anchor=\"middle\" x=\"454\" y=\"-861.3\">input:</text>\n<polyline fill=\"none\" points=\"420,-853.5 488,-853.5 \" stroke=\"black\"/>\n<text font-family=\"Times,serif\" font-size=\"14.00\" text-anchor=\"middle\" x=\"454\" y=\"-838.3\">output:</text>\n<polyline fill=\"none\" points=\"488,-830.5 488,-876.5 \" stroke=\"black\"/>\n<text font-family=\"Times,serif\" font-size=\"14.00\" text-anchor=\"middle\" x=\"562.5\" y=\"-861.3\">(None, None)</text>\n<polyline fill=\"none\" points=\"488,-853.5 637,-853.5 \" stroke=\"black\"/>\n<text font-family=\"Times,serif\" font-size=\"14.00\" text-anchor=\"middle\" x=\"562.5\" y=\"-838.3\">(None, None, 256)</text>\n</g>\n<!-- 139862816089256&#45;&gt;139862816089424 -->\n<g class=\"edge\" id=\"edge1\"><title>139862816089256-&gt;139862816089424</title>\n<path d=\"M427,-913.366C427,-905.152 427,-895.658 427,-886.725\" fill=\"none\" stroke=\"black\"/>\n<polygon fill=\"black\" points=\"430.5,-886.607 427,-876.607 423.5,-886.607 430.5,-886.607\" stroke=\"black\"/>\n</g>\n<!-- 139862816088360 -->\n<g class=\"node\" id=\"node3\"><title>139862816088360</title>\n<polygon fill=\"none\" points=\"232.5,-747.5 232.5,-793.5 621.5,-793.5 621.5,-747.5 232.5,-747.5\" stroke=\"black\"/>\n<text font-family=\"Times,serif\" font-size=\"14.00\" text-anchor=\"middle\" x=\"318.5\" y=\"-766.8\">first_conv1d: Conv1D</text>\n<polyline fill=\"none\" points=\"404.5,-747.5 404.5,-793.5 \" stroke=\"black\"/>\n<text font-family=\"Times,serif\" font-size=\"14.00\" text-anchor=\"middle\" x=\"438.5\" y=\"-778.3\">input:</text>\n<polyline fill=\"none\" points=\"404.5,-770.5 472.5,-770.5 \" stroke=\"black\"/>\n<text font-family=\"Times,serif\" font-size=\"14.00\" text-anchor=\"middle\" x=\"438.5\" y=\"-755.3\">output:</text>\n<polyline fill=\"none\" points=\"472.5,-747.5 472.5,-793.5 \" stroke=\"black\"/>\n<text font-family=\"Times,serif\" font-size=\"14.00\" text-anchor=\"middle\" x=\"547\" y=\"-778.3\">(None, None, 256)</text>\n<polyline fill=\"none\" points=\"472.5,-770.5 621.5,-770.5 \" stroke=\"black\"/>\n<text font-family=\"Times,serif\" font-size=\"14.00\" text-anchor=\"middle\" x=\"547\" y=\"-755.3\">(None, None, 128)</text>\n</g>\n<!-- 139862816089424&#45;&gt;139862816088360 -->\n<g class=\"edge\" id=\"edge2\"><title>139862816089424-&gt;139862816088360</title>\n<path d=\"M427,-830.366C427,-822.152 427,-812.658 427,-803.725\" fill=\"none\" stroke=\"black\"/>\n<polygon fill=\"black\" points=\"430.5,-803.607 427,-793.607 423.5,-803.607 430.5,-803.607\" stroke=\"black\"/>\n</g>\n<!-- 139862816089144 -->\n<g class=\"node\" id=\"node4\"><title>139862816089144</title>\n<polygon fill=\"none\" points=\"191.5,-664.5 191.5,-710.5 662.5,-710.5 662.5,-664.5 191.5,-664.5\" stroke=\"black\"/>\n<text font-family=\"Times,serif\" font-size=\"14.00\" text-anchor=\"middle\" x=\"318.5\" y=\"-683.8\">max_pooling1d_3: MaxPooling1D</text>\n<polyline fill=\"none\" points=\"445.5,-664.5 445.5,-710.5 \" stroke=\"black\"/>\n<text font-family=\"Times,serif\" font-size=\"14.00\" text-anchor=\"middle\" x=\"479.5\" y=\"-695.3\">input:</text>\n<polyline fill=\"none\" points=\"445.5,-687.5 513.5,-687.5 \" stroke=\"black\"/>\n<text font-family=\"Times,serif\" font-size=\"14.00\" text-anchor=\"middle\" x=\"479.5\" y=\"-672.3\">output:</text>\n<polyline fill=\"none\" points=\"513.5,-664.5 513.5,-710.5 \" stroke=\"black\"/>\n<text font-family=\"Times,serif\" font-size=\"14.00\" text-anchor=\"middle\" x=\"588\" y=\"-695.3\">(None, None, 128)</text>\n<polyline fill=\"none\" points=\"513.5,-687.5 662.5,-687.5 \" stroke=\"black\"/>\n<text font-family=\"Times,serif\" font-size=\"14.00\" text-anchor=\"middle\" x=\"588\" y=\"-672.3\">(None, None, 128)</text>\n</g>\n<!-- 139862816088360&#45;&gt;139862816089144 -->\n<g class=\"edge\" id=\"edge3\"><title>139862816088360-&gt;139862816089144</title>\n<path d=\"M427,-747.366C427,-739.152 427,-729.658 427,-720.725\" fill=\"none\" stroke=\"black\"/>\n<polygon fill=\"black\" points=\"430.5,-720.607 427,-710.607 423.5,-720.607 430.5,-720.607\" stroke=\"black\"/>\n</g>\n<!-- 139862816088248 -->\n<g class=\"node\" id=\"node5\"><title>139862816088248</title>\n<polygon fill=\"none\" points=\"243,-581.5 243,-627.5 611,-627.5 611,-581.5 243,-581.5\" stroke=\"black\"/>\n<text font-family=\"Times,serif\" font-size=\"14.00\" text-anchor=\"middle\" x=\"318.5\" y=\"-600.8\">conv1d_6: Conv1D</text>\n<polyline fill=\"none\" points=\"394,-581.5 394,-627.5 \" stroke=\"black\"/>\n<text font-family=\"Times,serif\" font-size=\"14.00\" text-anchor=\"middle\" x=\"428\" y=\"-612.3\">input:</text>\n<polyline fill=\"none\" points=\"394,-604.5 462,-604.5 \" stroke=\"black\"/>\n<text font-family=\"Times,serif\" font-size=\"14.00\" text-anchor=\"middle\" x=\"428\" y=\"-589.3\">output:</text>\n<polyline fill=\"none\" points=\"462,-581.5 462,-627.5 \" stroke=\"black\"/>\n<text font-family=\"Times,serif\" font-size=\"14.00\" text-anchor=\"middle\" x=\"536.5\" y=\"-612.3\">(None, None, 128)</text>\n<polyline fill=\"none\" points=\"462,-604.5 611,-604.5 \" stroke=\"black\"/>\n<text font-family=\"Times,serif\" font-size=\"14.00\" text-anchor=\"middle\" x=\"536.5\" y=\"-589.3\">(None, None, 256)</text>\n</g>\n<!-- 139862816089144&#45;&gt;139862816088248 -->\n<g class=\"edge\" id=\"edge4\"><title>139862816089144-&gt;139862816088248</title>\n<path d=\"M427,-664.366C427,-656.152 427,-646.658 427,-637.725\" fill=\"none\" stroke=\"black\"/>\n<polygon fill=\"black\" points=\"430.5,-637.607 427,-627.607 423.5,-637.607 430.5,-637.607\" stroke=\"black\"/>\n</g>\n<!-- 139862816079944 -->\n<g class=\"node\" id=\"node6\"><title>139862816079944</title>\n<polygon fill=\"none\" points=\"243,-498.5 243,-544.5 611,-544.5 611,-498.5 243,-498.5\" stroke=\"black\"/>\n<text font-family=\"Times,serif\" font-size=\"14.00\" text-anchor=\"middle\" x=\"318.5\" y=\"-517.8\">conv1d_7: Conv1D</text>\n<polyline fill=\"none\" points=\"394,-498.5 394,-544.5 \" stroke=\"black\"/>\n<text font-family=\"Times,serif\" font-size=\"14.00\" text-anchor=\"middle\" x=\"428\" y=\"-529.3\">input:</text>\n<polyline fill=\"none\" points=\"394,-521.5 462,-521.5 \" stroke=\"black\"/>\n<text font-family=\"Times,serif\" font-size=\"14.00\" text-anchor=\"middle\" x=\"428\" y=\"-506.3\">output:</text>\n<polyline fill=\"none\" points=\"462,-498.5 462,-544.5 \" stroke=\"black\"/>\n<text font-family=\"Times,serif\" font-size=\"14.00\" text-anchor=\"middle\" x=\"536.5\" y=\"-529.3\">(None, None, 256)</text>\n<polyline fill=\"none\" points=\"462,-521.5 611,-521.5 \" stroke=\"black\"/>\n<text font-family=\"Times,serif\" font-size=\"14.00\" text-anchor=\"middle\" x=\"536.5\" y=\"-506.3\">(None, None, 256)</text>\n</g>\n<!-- 139862816088248&#45;&gt;139862816079944 -->\n<g class=\"edge\" id=\"edge5\"><title>139862816088248-&gt;139862816079944</title>\n<path d=\"M427,-581.366C427,-573.152 427,-563.658 427,-554.725\" fill=\"none\" stroke=\"black\"/>\n<polygon fill=\"black\" points=\"430.5,-554.607 427,-544.607 423.5,-554.607 430.5,-554.607\" stroke=\"black\"/>\n</g>\n<!-- 139862816065240 -->\n<g class=\"node\" id=\"node7\"><title>139862816065240</title>\n<polygon fill=\"none\" points=\"191.5,-415.5 191.5,-461.5 662.5,-461.5 662.5,-415.5 191.5,-415.5\" stroke=\"black\"/>\n<text font-family=\"Times,serif\" font-size=\"14.00\" text-anchor=\"middle\" x=\"318.5\" y=\"-434.8\">max_pooling1d_4: MaxPooling1D</text>\n<polyline fill=\"none\" points=\"445.5,-415.5 445.5,-461.5 \" stroke=\"black\"/>\n<text font-family=\"Times,serif\" font-size=\"14.00\" text-anchor=\"middle\" x=\"479.5\" y=\"-446.3\">input:</text>\n<polyline fill=\"none\" points=\"445.5,-438.5 513.5,-438.5 \" stroke=\"black\"/>\n<text font-family=\"Times,serif\" font-size=\"14.00\" text-anchor=\"middle\" x=\"479.5\" y=\"-423.3\">output:</text>\n<polyline fill=\"none\" points=\"513.5,-415.5 513.5,-461.5 \" stroke=\"black\"/>\n<text font-family=\"Times,serif\" font-size=\"14.00\" text-anchor=\"middle\" x=\"588\" y=\"-446.3\">(None, None, 256)</text>\n<polyline fill=\"none\" points=\"513.5,-438.5 662.5,-438.5 \" stroke=\"black\"/>\n<text font-family=\"Times,serif\" font-size=\"14.00\" text-anchor=\"middle\" x=\"588\" y=\"-423.3\">(None, None, 256)</text>\n</g>\n<!-- 139862816079944&#45;&gt;139862816065240 -->\n<g class=\"edge\" id=\"edge6\"><title>139862816079944-&gt;139862816065240</title>\n<path d=\"M427,-498.366C427,-490.152 427,-480.658 427,-471.725\" fill=\"none\" stroke=\"black\"/>\n<polygon fill=\"black\" points=\"430.5,-471.607 427,-461.607 423.5,-471.607 430.5,-471.607\" stroke=\"black\"/>\n</g>\n<!-- 139862816367000 -->\n<g class=\"node\" id=\"node8\"><title>139862816367000</title>\n<polygon fill=\"none\" points=\"243,-332.5 243,-378.5 611,-378.5 611,-332.5 243,-332.5\" stroke=\"black\"/>\n<text font-family=\"Times,serif\" font-size=\"14.00\" text-anchor=\"middle\" x=\"318.5\" y=\"-351.8\">conv1d_8: Conv1D</text>\n<polyline fill=\"none\" points=\"394,-332.5 394,-378.5 \" stroke=\"black\"/>\n<text font-family=\"Times,serif\" font-size=\"14.00\" text-anchor=\"middle\" x=\"428\" y=\"-363.3\">input:</text>\n<polyline fill=\"none\" points=\"394,-355.5 462,-355.5 \" stroke=\"black\"/>\n<text font-family=\"Times,serif\" font-size=\"14.00\" text-anchor=\"middle\" x=\"428\" y=\"-340.3\">output:</text>\n<polyline fill=\"none\" points=\"462,-332.5 462,-378.5 \" stroke=\"black\"/>\n<text font-family=\"Times,serif\" font-size=\"14.00\" text-anchor=\"middle\" x=\"536.5\" y=\"-363.3\">(None, None, 256)</text>\n<polyline fill=\"none\" points=\"462,-355.5 611,-355.5 \" stroke=\"black\"/>\n<text font-family=\"Times,serif\" font-size=\"14.00\" text-anchor=\"middle\" x=\"536.5\" y=\"-340.3\">(None, None, 256)</text>\n</g>\n<!-- 139862816065240&#45;&gt;139862816367000 -->\n<g class=\"edge\" id=\"edge7\"><title>139862816065240-&gt;139862816367000</title>\n<path d=\"M427,-415.366C427,-407.152 427,-397.658 427,-388.725\" fill=\"none\" stroke=\"black\"/>\n<polygon fill=\"black\" points=\"430.5,-388.607 427,-378.607 423.5,-388.607 430.5,-388.607\" stroke=\"black\"/>\n</g>\n<!-- 139862816386016 -->\n<g class=\"node\" id=\"node9\"><title>139862816386016</title>\n<polygon fill=\"none\" points=\"243,-249.5 243,-295.5 611,-295.5 611,-249.5 243,-249.5\" stroke=\"black\"/>\n<text font-family=\"Times,serif\" font-size=\"14.00\" text-anchor=\"middle\" x=\"318.5\" y=\"-268.8\">conv1d_9: Conv1D</text>\n<polyline fill=\"none\" points=\"394,-249.5 394,-295.5 \" stroke=\"black\"/>\n<text font-family=\"Times,serif\" font-size=\"14.00\" text-anchor=\"middle\" x=\"428\" y=\"-280.3\">input:</text>\n<polyline fill=\"none\" points=\"394,-272.5 462,-272.5 \" stroke=\"black\"/>\n<text font-family=\"Times,serif\" font-size=\"14.00\" text-anchor=\"middle\" x=\"428\" y=\"-257.3\">output:</text>\n<polyline fill=\"none\" points=\"462,-249.5 462,-295.5 \" stroke=\"black\"/>\n<text font-family=\"Times,serif\" font-size=\"14.00\" text-anchor=\"middle\" x=\"536.5\" y=\"-280.3\">(None, None, 256)</text>\n<polyline fill=\"none\" points=\"462,-272.5 611,-272.5 \" stroke=\"black\"/>\n<text font-family=\"Times,serif\" font-size=\"14.00\" text-anchor=\"middle\" x=\"536.5\" y=\"-257.3\">(None, None, 256)</text>\n</g>\n<!-- 139862816367000&#45;&gt;139862816386016 -->\n<g class=\"edge\" id=\"edge8\"><title>139862816367000-&gt;139862816386016</title>\n<path d=\"M427,-332.366C427,-324.152 427,-314.658 427,-305.725\" fill=\"none\" stroke=\"black\"/>\n<polygon fill=\"black\" points=\"430.5,-305.607 427,-295.607 423.5,-305.607 430.5,-305.607\" stroke=\"black\"/>\n</g>\n<!-- 139862816336976 -->\n<g class=\"node\" id=\"node10\"><title>139862816336976</title>\n<polygon fill=\"none\" points=\"143.5,-166.5 143.5,-212.5 710.5,-212.5 710.5,-166.5 143.5,-166.5\" stroke=\"black\"/>\n<text font-family=\"Times,serif\" font-size=\"14.00\" text-anchor=\"middle\" x=\"318.5\" y=\"-185.8\">global_max_pooling1d_2: GlobalMaxPooling1D</text>\n<polyline fill=\"none\" points=\"493.5,-166.5 493.5,-212.5 \" stroke=\"black\"/>\n<text font-family=\"Times,serif\" font-size=\"14.00\" text-anchor=\"middle\" x=\"527.5\" y=\"-197.3\">input:</text>\n<polyline fill=\"none\" points=\"493.5,-189.5 561.5,-189.5 \" stroke=\"black\"/>\n<text font-family=\"Times,serif\" font-size=\"14.00\" text-anchor=\"middle\" x=\"527.5\" y=\"-174.3\">output:</text>\n<polyline fill=\"none\" points=\"561.5,-166.5 561.5,-212.5 \" stroke=\"black\"/>\n<text font-family=\"Times,serif\" font-size=\"14.00\" text-anchor=\"middle\" x=\"636\" y=\"-197.3\">(None, None, 256)</text>\n<polyline fill=\"none\" points=\"561.5,-189.5 710.5,-189.5 \" stroke=\"black\"/>\n<text font-family=\"Times,serif\" font-size=\"14.00\" text-anchor=\"middle\" x=\"636\" y=\"-174.3\">(None, 256)</text>\n</g>\n<!-- 139862816386016&#45;&gt;139862816336976 -->\n<g class=\"edge\" id=\"edge9\"><title>139862816386016-&gt;139862816336976</title>\n<path d=\"M427,-249.366C427,-241.152 427,-231.658 427,-222.725\" fill=\"none\" stroke=\"black\"/>\n<polygon fill=\"black\" points=\"430.5,-222.607 427,-212.607 423.5,-222.607 430.5,-222.607\" stroke=\"black\"/>\n</g>\n<!-- 139862816135936 -->\n<g class=\"node\" id=\"node11\"><title>139862816135936</title>\n<polygon fill=\"none\" points=\"278.5,-83.5 278.5,-129.5 575.5,-129.5 575.5,-83.5 278.5,-83.5\" stroke=\"black\"/>\n<text font-family=\"Times,serif\" font-size=\"14.00\" text-anchor=\"middle\" x=\"342.5\" y=\"-102.8\">dense_4: Dense</text>\n<polyline fill=\"none\" points=\"406.5,-83.5 406.5,-129.5 \" stroke=\"black\"/>\n<text font-family=\"Times,serif\" font-size=\"14.00\" text-anchor=\"middle\" x=\"440.5\" y=\"-114.3\">input:</text>\n<polyline fill=\"none\" points=\"406.5,-106.5 474.5,-106.5 \" stroke=\"black\"/>\n<text font-family=\"Times,serif\" font-size=\"14.00\" text-anchor=\"middle\" x=\"440.5\" y=\"-91.3\">output:</text>\n<polyline fill=\"none\" points=\"474.5,-83.5 474.5,-129.5 \" stroke=\"black\"/>\n<text font-family=\"Times,serif\" font-size=\"14.00\" text-anchor=\"middle\" x=\"525\" y=\"-114.3\">(None, 256)</text>\n<polyline fill=\"none\" points=\"474.5,-106.5 575.5,-106.5 \" stroke=\"black\"/>\n<text font-family=\"Times,serif\" font-size=\"14.00\" text-anchor=\"middle\" x=\"525\" y=\"-91.3\">(None, 128)</text>\n</g>\n<!-- 139862816336976&#45;&gt;139862816135936 -->\n<g class=\"edge\" id=\"edge10\"><title>139862816336976-&gt;139862816135936</title>\n<path d=\"M427,-166.366C427,-158.152 427,-148.658 427,-139.725\" fill=\"none\" stroke=\"black\"/>\n<polygon fill=\"black\" points=\"430.5,-139.607 427,-129.607 423.5,-139.607 430.5,-139.607\" stroke=\"black\"/>\n</g>\n<!-- 139862815886248 -->\n<g class=\"node\" id=\"node12\"><title>139862815886248</title>\n<polygon fill=\"none\" points=\"0,-0.5 0,-46.5 264,-46.5 264,-0.5 0,-0.5\" stroke=\"black\"/>\n<text font-family=\"Times,serif\" font-size=\"14.00\" text-anchor=\"middle\" x=\"47.5\" y=\"-19.8\">age: Dense</text>\n<polyline fill=\"none\" points=\"95,-0.5 95,-46.5 \" stroke=\"black\"/>\n<text font-family=\"Times,serif\" font-size=\"14.00\" text-anchor=\"middle\" x=\"129\" y=\"-31.3\">input:</text>\n<polyline fill=\"none\" points=\"95,-23.5 163,-23.5 \" stroke=\"black\"/>\n<text font-family=\"Times,serif\" font-size=\"14.00\" text-anchor=\"middle\" x=\"129\" y=\"-8.3\">output:</text>\n<polyline fill=\"none\" points=\"163,-0.5 163,-46.5 \" stroke=\"black\"/>\n<text font-family=\"Times,serif\" font-size=\"14.00\" text-anchor=\"middle\" x=\"213.5\" y=\"-31.3\">(None, 128)</text>\n<polyline fill=\"none\" points=\"163,-23.5 264,-23.5 \" stroke=\"black\"/>\n<text font-family=\"Times,serif\" font-size=\"14.00\" text-anchor=\"middle\" x=\"213.5\" y=\"-8.3\">(None, 1)</text>\n</g>\n<!-- 139862816135936&#45;&gt;139862815886248 -->\n<g class=\"edge\" id=\"edge11\"><title>139862816135936-&gt;139862815886248</title>\n<path d=\"M346.78,-83.4734C308.163,-72.8701 261.716,-60.1168 221.908,-49.1865\" fill=\"none\" stroke=\"black\"/>\n<polygon fill=\"black\" points=\"222.774,-45.795 212.204,-46.5222 220.921,-52.5452 222.774,-45.795\" stroke=\"black\"/>\n</g>\n<!-- 139862814600384 -->\n<g class=\"node\" id=\"node13\"><title>139862814600384</title>\n<polygon fill=\"none\" points=\"282.5,-0.5 282.5,-46.5 571.5,-46.5 571.5,-0.5 282.5,-0.5\" stroke=\"black\"/>\n<text font-family=\"Times,serif\" font-size=\"14.00\" text-anchor=\"middle\" x=\"342.5\" y=\"-19.8\">gender: Dense</text>\n<polyline fill=\"none\" points=\"402.5,-0.5 402.5,-46.5 \" stroke=\"black\"/>\n<text font-family=\"Times,serif\" font-size=\"14.00\" text-anchor=\"middle\" x=\"436.5\" y=\"-31.3\">input:</text>\n<polyline fill=\"none\" points=\"402.5,-23.5 470.5,-23.5 \" stroke=\"black\"/>\n<text font-family=\"Times,serif\" font-size=\"14.00\" text-anchor=\"middle\" x=\"436.5\" y=\"-8.3\">output:</text>\n<polyline fill=\"none\" points=\"470.5,-0.5 470.5,-46.5 \" stroke=\"black\"/>\n<text font-family=\"Times,serif\" font-size=\"14.00\" text-anchor=\"middle\" x=\"521\" y=\"-31.3\">(None, 128)</text>\n<polyline fill=\"none\" points=\"470.5,-23.5 571.5,-23.5 \" stroke=\"black\"/>\n<text font-family=\"Times,serif\" font-size=\"14.00\" text-anchor=\"middle\" x=\"521\" y=\"-8.3\">(None, 1)</text>\n</g>\n<!-- 139862816135936&#45;&gt;139862814600384 -->\n<g class=\"edge\" id=\"edge12\"><title>139862816135936-&gt;139862814600384</title>\n<path d=\"M427,-83.3664C427,-75.1516 427,-65.6579 427,-56.7252\" fill=\"none\" stroke=\"black\"/>\n<polygon fill=\"black\" points=\"430.5,-56.6068 427,-46.6068 423.5,-56.6069 430.5,-56.6068\" stroke=\"black\"/>\n</g>\n<!-- 139862814693024 -->\n<g class=\"node\" id=\"node14\"><title>139862814693024</title>\n<polygon fill=\"none\" points=\"589.5,-0.5 589.5,-46.5 886.5,-46.5 886.5,-0.5 589.5,-0.5\" stroke=\"black\"/>\n<text font-family=\"Times,serif\" font-size=\"14.00\" text-anchor=\"middle\" x=\"653.5\" y=\"-19.8\">dense_5: Dense</text>\n<polyline fill=\"none\" points=\"717.5,-0.5 717.5,-46.5 \" stroke=\"black\"/>\n<text font-family=\"Times,serif\" font-size=\"14.00\" text-anchor=\"middle\" x=\"751.5\" y=\"-31.3\">input:</text>\n<polyline fill=\"none\" points=\"717.5,-23.5 785.5,-23.5 \" stroke=\"black\"/>\n<text font-family=\"Times,serif\" font-size=\"14.00\" text-anchor=\"middle\" x=\"751.5\" y=\"-8.3\">output:</text>\n<polyline fill=\"none\" points=\"785.5,-0.5 785.5,-46.5 \" stroke=\"black\"/>\n<text font-family=\"Times,serif\" font-size=\"14.00\" text-anchor=\"middle\" x=\"836\" y=\"-31.3\">(None, 128)</text>\n<polyline fill=\"none\" points=\"785.5,-23.5 886.5,-23.5 \" stroke=\"black\"/>\n<text font-family=\"Times,serif\" font-size=\"14.00\" text-anchor=\"middle\" x=\"836\" y=\"-8.3\">(None, 10)</text>\n</g>\n<!-- 139862816135936&#45;&gt;139862814693024 -->\n<g class=\"edge\" id=\"edge13\"><title>139862816135936-&gt;139862814693024</title>\n<path d=\"M511.571,-83.4734C552.455,-72.8253 601.663,-60.0089 643.748,-49.048\" fill=\"none\" stroke=\"black\"/>\n<polygon fill=\"black\" points=\"644.651,-52.4297 653.446,-46.5222 642.886,-45.6557 644.651,-52.4297\" stroke=\"black\"/>\n</g>\n</g>\n</svg>"
          },
          "metadata": {
            "tags": []
          },
          "execution_count": 5
        }
      ]
    },
    {
      "metadata": {
        "id": "a29x8bTdHJgx",
        "colab_type": "code",
        "colab": {}
      },
      "cell_type": "code",
      "source": [
        "model.compile(optimizer='rmsprop', loss={'age':'mse','gender':'binary_crossentropy','income':'categorical_crossentropy'}, loss_weights={'age':0.25, 'income':1., 'gender':10.})\n",
        "model.fit(posts, {'age':age_targets,'income':income_targets,'gender':gender_targets}, epochs=10, batch_size=64)"
      ],
      "execution_count": 0,
      "outputs": []
    },
    {
      "metadata": {
        "id": "G99G5MCqJoSY",
        "colab_type": "text"
      },
      "cell_type": "markdown",
      "source": [
        "### Directed acyclic graphs"
      ]
    },
    {
      "metadata": {
        "id": "-J3sb5zs1ZxA",
        "colab_type": "text"
      },
      "cell_type": "markdown",
      "source": [
        "#### V3 implementation"
      ]
    },
    {
      "metadata": {
        "id": "0i6FFSc8JsIz",
        "colab_type": "code",
        "colab": {
          "base_uri": "https://localhost:8080/",
          "height": 557
        },
        "outputId": "0a20ad8b-1d91-427f-a7a4-e7c46149078d"
      },
      "cell_type": "code",
      "source": [
        "from keras import layers\n",
        "from keras.models import Model\n",
        "from keras import Input\n",
        "import numpy as np\n",
        "x = Input(shape=(None, None, 3), dtype='float32')\n",
        "\n",
        "path_a = layers.Conv2D(128, 1, activation='relu', strides=2)(x)\n",
        "\n",
        "path_b = layers.Conv2D(128, 1, activation='relu')(x)\n",
        "path_b = layers.Conv2D(128, 3, activation='relu', strides=2)(path_b)\n",
        "\n",
        "path_c = layers.AveragePooling2D(3, strides=2)(x)\n",
        "path_c = layers.Conv2D(128, 3, activation='relu', strides=2)(path_c)\n",
        "\n",
        "path_d = layers.Conv2D(128, 1, activation='relu')(x)\n",
        "path_d = layers.Conv2D(128, 3, activation='relu')(path_d)\n",
        "path_d = layers.Conv2D(128, 3, activation='relu', strides=2)(path_d)\n",
        "\n",
        "output = layers.concatenate([path_a, path_b, path_c, path_d], axis=-1)\n",
        "\n",
        "model = Model(x, output)\n",
        "\n",
        "import pydot\n",
        "import graphviz\n",
        "from IPython.display import SVG\n",
        "from keras.utils.vis_utils import model_to_dot\n",
        "SVG(model_to_dot(model,show_shapes=True).create(prog='dot', format='svg'))\n"
      ],
      "execution_count": 5,
      "outputs": [
        {
          "output_type": "execute_result",
          "data": {
            "text/plain": [
              "<IPython.core.display.SVG object>"
            ],
            "image/svg+xml": "<svg height=\"387pt\" viewBox=\"0.00 0.00 1537.50 387.00\" width=\"1538pt\" xmlns=\"http://www.w3.org/2000/svg\" xmlns:xlink=\"http://www.w3.org/1999/xlink\">\n<g class=\"graph\" id=\"graph0\" transform=\"scale(1 1) rotate(0) translate(4 383)\">\n<title>G</title>\n<polygon fill=\"white\" points=\"-4,4 -4,-383 1533.5,-383 1533.5,4 -4,4\" stroke=\"none\"/>\n<!-- 140533748785728 -->\n<g class=\"node\" id=\"node1\"><title>140533748785728</title>\n<polygon fill=\"none\" points=\"639,-332.5 639,-378.5 1045,-378.5 1045,-332.5 639,-332.5\" stroke=\"black\"/>\n<text font-family=\"Times,serif\" font-size=\"14.00\" text-anchor=\"middle\" x=\"719\" y=\"-351.8\">input_4: InputLayer</text>\n<polyline fill=\"none\" points=\"799,-332.5 799,-378.5 \" stroke=\"black\"/>\n<text font-family=\"Times,serif\" font-size=\"14.00\" text-anchor=\"middle\" x=\"833\" y=\"-363.3\">input:</text>\n<polyline fill=\"none\" points=\"799,-355.5 867,-355.5 \" stroke=\"black\"/>\n<text font-family=\"Times,serif\" font-size=\"14.00\" text-anchor=\"middle\" x=\"833\" y=\"-340.3\">output:</text>\n<polyline fill=\"none\" points=\"867,-332.5 867,-378.5 \" stroke=\"black\"/>\n<text font-family=\"Times,serif\" font-size=\"14.00\" text-anchor=\"middle\" x=\"956\" y=\"-363.3\">(None, None, None, 3)</text>\n<polyline fill=\"none\" points=\"867,-355.5 1045,-355.5 \" stroke=\"black\"/>\n<text font-family=\"Times,serif\" font-size=\"14.00\" text-anchor=\"middle\" x=\"956\" y=\"-340.3\">(None, None, None, 3)</text>\n</g>\n<!-- 140533748437400 -->\n<g class=\"node\" id=\"node2\"><title>140533748437400</title>\n<polygon fill=\"none\" points=\"119,-249.5 119,-295.5 543,-295.5 543,-249.5 119,-249.5\" stroke=\"black\"/>\n<text font-family=\"Times,serif\" font-size=\"14.00\" text-anchor=\"middle\" x=\"199\" y=\"-268.8\">conv2d_13: Conv2D</text>\n<polyline fill=\"none\" points=\"279,-249.5 279,-295.5 \" stroke=\"black\"/>\n<text font-family=\"Times,serif\" font-size=\"14.00\" text-anchor=\"middle\" x=\"313\" y=\"-280.3\">input:</text>\n<polyline fill=\"none\" points=\"279,-272.5 347,-272.5 \" stroke=\"black\"/>\n<text font-family=\"Times,serif\" font-size=\"14.00\" text-anchor=\"middle\" x=\"313\" y=\"-257.3\">output:</text>\n<polyline fill=\"none\" points=\"347,-249.5 347,-295.5 \" stroke=\"black\"/>\n<text font-family=\"Times,serif\" font-size=\"14.00\" text-anchor=\"middle\" x=\"445\" y=\"-280.3\">(None, None, None, 3)</text>\n<polyline fill=\"none\" points=\"347,-272.5 543,-272.5 \" stroke=\"black\"/>\n<text font-family=\"Times,serif\" font-size=\"14.00\" text-anchor=\"middle\" x=\"445\" y=\"-257.3\">(None, None, None, 128)</text>\n</g>\n<!-- 140533748785728&#45;&gt;140533748437400 -->\n<g class=\"edge\" id=\"edge1\"><title>140533748785728-&gt;140533748437400</title>\n<path d=\"M703.042,-332.473C634.028,-321.534 550.577,-308.306 480.214,-297.152\" fill=\"none\" stroke=\"black\"/>\n<polygon fill=\"black\" points=\"480.355,-293.631 469.93,-295.522 479.259,-300.545 480.355,-293.631\" stroke=\"black\"/>\n</g>\n<!-- 140533748786512 -->\n<g class=\"node\" id=\"node3\"><title>140533748786512</title>\n<polygon fill=\"none\" points=\"442,-166.5 442,-212.5 866,-212.5 866,-166.5 442,-166.5\" stroke=\"black\"/>\n<text font-family=\"Times,serif\" font-size=\"14.00\" text-anchor=\"middle\" x=\"522\" y=\"-185.8\">conv2d_10: Conv2D</text>\n<polyline fill=\"none\" points=\"602,-166.5 602,-212.5 \" stroke=\"black\"/>\n<text font-family=\"Times,serif\" font-size=\"14.00\" text-anchor=\"middle\" x=\"636\" y=\"-197.3\">input:</text>\n<polyline fill=\"none\" points=\"602,-189.5 670,-189.5 \" stroke=\"black\"/>\n<text font-family=\"Times,serif\" font-size=\"14.00\" text-anchor=\"middle\" x=\"636\" y=\"-174.3\">output:</text>\n<polyline fill=\"none\" points=\"670,-166.5 670,-212.5 \" stroke=\"black\"/>\n<text font-family=\"Times,serif\" font-size=\"14.00\" text-anchor=\"middle\" x=\"768\" y=\"-197.3\">(None, None, None, 3)</text>\n<polyline fill=\"none\" points=\"670,-189.5 866,-189.5 \" stroke=\"black\"/>\n<text font-family=\"Times,serif\" font-size=\"14.00\" text-anchor=\"middle\" x=\"768\" y=\"-174.3\">(None, None, None, 128)</text>\n</g>\n<!-- 140533748785728&#45;&gt;140533748786512 -->\n<g class=\"edge\" id=\"edge2\"><title>140533748785728-&gt;140533748786512</title>\n<path d=\"M785.021,-332.363C765.32,-323.009 743.954,-310.811 727,-296 702.969,-275.007 682.973,-244.47 670.022,-221.646\" fill=\"none\" stroke=\"black\"/>\n<polygon fill=\"black\" points=\"672.977,-219.757 665.077,-212.697 666.85,-223.142 672.977,-219.757\" stroke=\"black\"/>\n</g>\n<!-- 140533748788360 -->\n<g class=\"node\" id=\"node4\"><title>140533748788360</title>\n<polygon fill=\"none\" points=\"736,-249.5 736,-295.5 1290,-295.5 1290,-249.5 736,-249.5\" stroke=\"black\"/>\n<text font-family=\"Times,serif\" font-size=\"14.00\" text-anchor=\"middle\" x=\"890\" y=\"-268.8\">average_pooling2d_2: AveragePooling2D</text>\n<polyline fill=\"none\" points=\"1044,-249.5 1044,-295.5 \" stroke=\"black\"/>\n<text font-family=\"Times,serif\" font-size=\"14.00\" text-anchor=\"middle\" x=\"1078\" y=\"-280.3\">input:</text>\n<polyline fill=\"none\" points=\"1044,-272.5 1112,-272.5 \" stroke=\"black\"/>\n<text font-family=\"Times,serif\" font-size=\"14.00\" text-anchor=\"middle\" x=\"1078\" y=\"-257.3\">output:</text>\n<polyline fill=\"none\" points=\"1112,-249.5 1112,-295.5 \" stroke=\"black\"/>\n<text font-family=\"Times,serif\" font-size=\"14.00\" text-anchor=\"middle\" x=\"1201\" y=\"-280.3\">(None, None, None, 3)</text>\n<polyline fill=\"none\" points=\"1112,-272.5 1290,-272.5 \" stroke=\"black\"/>\n<text font-family=\"Times,serif\" font-size=\"14.00\" text-anchor=\"middle\" x=\"1201\" y=\"-257.3\">(None, None, None, 3)</text>\n</g>\n<!-- 140533748785728&#45;&gt;140533748788360 -->\n<g class=\"edge\" id=\"edge3\"><title>140533748785728-&gt;140533748788360</title>\n<path d=\"M888.727,-332.366C909.839,-322.366 934.953,-310.47 957.06,-299.998\" fill=\"none\" stroke=\"black\"/>\n<polygon fill=\"black\" points=\"958.791,-303.051 966.33,-295.607 955.794,-296.725 958.791,-303.051\" stroke=\"black\"/>\n</g>\n<!-- 140533748785616 -->\n<g class=\"node\" id=\"node6\"><title>140533748785616</title>\n<polygon fill=\"none\" points=\"1114.5,-83.5 1114.5,-129.5 1529.5,-129.5 1529.5,-83.5 1114.5,-83.5\" stroke=\"black\"/>\n<text font-family=\"Times,serif\" font-size=\"14.00\" text-anchor=\"middle\" x=\"1190\" y=\"-102.8\">conv2d_9: Conv2D</text>\n<polyline fill=\"none\" points=\"1265.5,-83.5 1265.5,-129.5 \" stroke=\"black\"/>\n<text font-family=\"Times,serif\" font-size=\"14.00\" text-anchor=\"middle\" x=\"1299.5\" y=\"-114.3\">input:</text>\n<polyline fill=\"none\" points=\"1265.5,-106.5 1333.5,-106.5 \" stroke=\"black\"/>\n<text font-family=\"Times,serif\" font-size=\"14.00\" text-anchor=\"middle\" x=\"1299.5\" y=\"-91.3\">output:</text>\n<polyline fill=\"none\" points=\"1333.5,-83.5 1333.5,-129.5 \" stroke=\"black\"/>\n<text font-family=\"Times,serif\" font-size=\"14.00\" text-anchor=\"middle\" x=\"1431.5\" y=\"-114.3\">(None, None, None, 3)</text>\n<polyline fill=\"none\" points=\"1333.5,-106.5 1529.5,-106.5 \" stroke=\"black\"/>\n<text font-family=\"Times,serif\" font-size=\"14.00\" text-anchor=\"middle\" x=\"1431.5\" y=\"-91.3\">(None, None, None, 128)</text>\n</g>\n<!-- 140533748785728&#45;&gt;140533748785616 -->\n<g class=\"edge\" id=\"edge5\"><title>140533748785728-&gt;140533748785616</title>\n<path d=\"M1045.28,-351.026C1149.25,-344.942 1261.64,-330.266 1299,-296 1341.87,-256.677 1336.57,-182.009 1329.14,-139.401\" fill=\"none\" stroke=\"black\"/>\n<polygon fill=\"black\" points=\"1332.57,-138.732 1327.28,-129.553 1325.69,-140.029 1332.57,-138.732\" stroke=\"black\"/>\n</g>\n<!-- 140533748440368 -->\n<g class=\"node\" id=\"node5\"><title>140533748440368</title>\n<polygon fill=\"none\" points=\"0,-166.5 0,-212.5 424,-212.5 424,-166.5 0,-166.5\" stroke=\"black\"/>\n<text font-family=\"Times,serif\" font-size=\"14.00\" text-anchor=\"middle\" x=\"80\" y=\"-185.8\">conv2d_14: Conv2D</text>\n<polyline fill=\"none\" points=\"160,-166.5 160,-212.5 \" stroke=\"black\"/>\n<text font-family=\"Times,serif\" font-size=\"14.00\" text-anchor=\"middle\" x=\"194\" y=\"-197.3\">input:</text>\n<polyline fill=\"none\" points=\"160,-189.5 228,-189.5 \" stroke=\"black\"/>\n<text font-family=\"Times,serif\" font-size=\"14.00\" text-anchor=\"middle\" x=\"194\" y=\"-174.3\">output:</text>\n<polyline fill=\"none\" points=\"228,-166.5 228,-212.5 \" stroke=\"black\"/>\n<text font-family=\"Times,serif\" font-size=\"14.00\" text-anchor=\"middle\" x=\"326\" y=\"-197.3\">(None, None, None, 128)</text>\n<polyline fill=\"none\" points=\"228,-189.5 424,-189.5 \" stroke=\"black\"/>\n<text font-family=\"Times,serif\" font-size=\"14.00\" text-anchor=\"middle\" x=\"326\" y=\"-174.3\">(None, None, None, 128)</text>\n</g>\n<!-- 140533748437400&#45;&gt;140533748440368 -->\n<g class=\"edge\" id=\"edge4\"><title>140533748437400-&gt;140533748440368</title>\n<path d=\"M298.483,-249.366C284.446,-239.812 267.868,-228.528 253.002,-218.409\" fill=\"none\" stroke=\"black\"/>\n<polygon fill=\"black\" points=\"254.714,-215.34 244.478,-212.607 250.775,-221.127 254.714,-215.34\" stroke=\"black\"/>\n</g>\n<!-- 140533748786232 -->\n<g class=\"node\" id=\"node7\"><title>140533748786232</title>\n<polygon fill=\"none\" points=\"481,-83.5 481,-129.5 905,-129.5 905,-83.5 481,-83.5\" stroke=\"black\"/>\n<text font-family=\"Times,serif\" font-size=\"14.00\" text-anchor=\"middle\" x=\"561\" y=\"-102.8\">conv2d_11: Conv2D</text>\n<polyline fill=\"none\" points=\"641,-83.5 641,-129.5 \" stroke=\"black\"/>\n<text font-family=\"Times,serif\" font-size=\"14.00\" text-anchor=\"middle\" x=\"675\" y=\"-114.3\">input:</text>\n<polyline fill=\"none\" points=\"641,-106.5 709,-106.5 \" stroke=\"black\"/>\n<text font-family=\"Times,serif\" font-size=\"14.00\" text-anchor=\"middle\" x=\"675\" y=\"-91.3\">output:</text>\n<polyline fill=\"none\" points=\"709,-83.5 709,-129.5 \" stroke=\"black\"/>\n<text font-family=\"Times,serif\" font-size=\"14.00\" text-anchor=\"middle\" x=\"807\" y=\"-114.3\">(None, None, None, 128)</text>\n<polyline fill=\"none\" points=\"709,-106.5 905,-106.5 \" stroke=\"black\"/>\n<text font-family=\"Times,serif\" font-size=\"14.00\" text-anchor=\"middle\" x=\"807\" y=\"-91.3\">(None, None, None, 128)</text>\n</g>\n<!-- 140533748786512&#45;&gt;140533748786232 -->\n<g class=\"edge\" id=\"edge6\"><title>140533748786512-&gt;140533748786232</title>\n<path d=\"M664.657,-166.366C668.741,-157.884 673.482,-148.037 677.904,-138.853\" fill=\"none\" stroke=\"black\"/>\n<polygon fill=\"black\" points=\"681.171,-140.135 682.356,-129.607 674.864,-137.098 681.171,-140.135\" stroke=\"black\"/>\n</g>\n<!-- 140533748907872 -->\n<g class=\"node\" id=\"node8\"><title>140533748907872</title>\n<polygon fill=\"none\" points=\"884,-166.5 884,-212.5 1308,-212.5 1308,-166.5 884,-166.5\" stroke=\"black\"/>\n<text font-family=\"Times,serif\" font-size=\"14.00\" text-anchor=\"middle\" x=\"964\" y=\"-185.8\">conv2d_12: Conv2D</text>\n<polyline fill=\"none\" points=\"1044,-166.5 1044,-212.5 \" stroke=\"black\"/>\n<text font-family=\"Times,serif\" font-size=\"14.00\" text-anchor=\"middle\" x=\"1078\" y=\"-197.3\">input:</text>\n<polyline fill=\"none\" points=\"1044,-189.5 1112,-189.5 \" stroke=\"black\"/>\n<text font-family=\"Times,serif\" font-size=\"14.00\" text-anchor=\"middle\" x=\"1078\" y=\"-174.3\">output:</text>\n<polyline fill=\"none\" points=\"1112,-166.5 1112,-212.5 \" stroke=\"black\"/>\n<text font-family=\"Times,serif\" font-size=\"14.00\" text-anchor=\"middle\" x=\"1210\" y=\"-197.3\">(None, None, None, 3)</text>\n<polyline fill=\"none\" points=\"1112,-189.5 1308,-189.5 \" stroke=\"black\"/>\n<text font-family=\"Times,serif\" font-size=\"14.00\" text-anchor=\"middle\" x=\"1210\" y=\"-174.3\">(None, None, None, 128)</text>\n</g>\n<!-- 140533748788360&#45;&gt;140533748907872 -->\n<g class=\"edge\" id=\"edge7\"><title>140533748788360-&gt;140533748907872</title>\n<path d=\"M1035.68,-249.366C1045.01,-240.259 1055.96,-229.579 1065.94,-219.835\" fill=\"none\" stroke=\"black\"/>\n<polygon fill=\"black\" points=\"1068.64,-222.096 1073.35,-212.607 1063.75,-217.086 1068.64,-222.096\" stroke=\"black\"/>\n</g>\n<!-- 140533748539344 -->\n<g class=\"node\" id=\"node9\"><title>140533748539344</title>\n<polygon fill=\"none\" points=\"13,-83.5 13,-129.5 437,-129.5 437,-83.5 13,-83.5\" stroke=\"black\"/>\n<text font-family=\"Times,serif\" font-size=\"14.00\" text-anchor=\"middle\" x=\"93\" y=\"-102.8\">conv2d_15: Conv2D</text>\n<polyline fill=\"none\" points=\"173,-83.5 173,-129.5 \" stroke=\"black\"/>\n<text font-family=\"Times,serif\" font-size=\"14.00\" text-anchor=\"middle\" x=\"207\" y=\"-114.3\">input:</text>\n<polyline fill=\"none\" points=\"173,-106.5 241,-106.5 \" stroke=\"black\"/>\n<text font-family=\"Times,serif\" font-size=\"14.00\" text-anchor=\"middle\" x=\"207\" y=\"-91.3\">output:</text>\n<polyline fill=\"none\" points=\"241,-83.5 241,-129.5 \" stroke=\"black\"/>\n<text font-family=\"Times,serif\" font-size=\"14.00\" text-anchor=\"middle\" x=\"339\" y=\"-114.3\">(None, None, None, 128)</text>\n<polyline fill=\"none\" points=\"241,-106.5 437,-106.5 \" stroke=\"black\"/>\n<text font-family=\"Times,serif\" font-size=\"14.00\" text-anchor=\"middle\" x=\"339\" y=\"-91.3\">(None, None, None, 128)</text>\n</g>\n<!-- 140533748440368&#45;&gt;140533748539344 -->\n<g class=\"edge\" id=\"edge8\"><title>140533748440368-&gt;140533748539344</title>\n<path d=\"M215.552,-166.366C216.871,-158.152 218.394,-148.658 219.828,-139.725\" fill=\"none\" stroke=\"black\"/>\n<polygon fill=\"black\" points=\"223.323,-140.035 221.452,-129.607 216.411,-138.926 223.323,-140.035\" stroke=\"black\"/>\n</g>\n<!-- 140533748673896 -->\n<g class=\"node\" id=\"node10\"><title>140533748673896</title>\n<polygon fill=\"none\" points=\"333,-0.5 333,-46.5 1393,-46.5 1393,-0.5 333,-0.5\" stroke=\"black\"/>\n<text font-family=\"Times,serif\" font-size=\"14.00\" text-anchor=\"middle\" x=\"443.5\" y=\"-19.8\">concatenate_1: Concatenate</text>\n<polyline fill=\"none\" points=\"554,-0.5 554,-46.5 \" stroke=\"black\"/>\n<text font-family=\"Times,serif\" font-size=\"14.00\" text-anchor=\"middle\" x=\"588\" y=\"-31.3\">input:</text>\n<polyline fill=\"none\" points=\"554,-23.5 622,-23.5 \" stroke=\"black\"/>\n<text font-family=\"Times,serif\" font-size=\"14.00\" text-anchor=\"middle\" x=\"588\" y=\"-8.3\">output:</text>\n<polyline fill=\"none\" points=\"622,-0.5 622,-46.5 \" stroke=\"black\"/>\n<text font-family=\"Times,serif\" font-size=\"14.00\" text-anchor=\"middle\" x=\"1007.5\" y=\"-31.3\">[(None, None, None, 128), (None, None, None, 128), (None, None, None, 128), (None, None, None, 128)]</text>\n<polyline fill=\"none\" points=\"622,-23.5 1393,-23.5 \" stroke=\"black\"/>\n<text font-family=\"Times,serif\" font-size=\"14.00\" text-anchor=\"middle\" x=\"1007.5\" y=\"-8.3\">(None, None, None, 512)</text>\n</g>\n<!-- 140533748785616&#45;&gt;140533748673896 -->\n<g class=\"edge\" id=\"edge9\"><title>140533748785616-&gt;140533748673896</title>\n<path d=\"M1197.18,-83.4734C1135.45,-72.5787 1060.85,-59.4142 997.807,-48.2895\" fill=\"none\" stroke=\"black\"/>\n<polygon fill=\"black\" points=\"998.249,-44.8134 987.793,-46.5222 997.032,-51.7069 998.249,-44.8134\" stroke=\"black\"/>\n</g>\n<!-- 140533748786232&#45;&gt;140533748673896 -->\n<g class=\"edge\" id=\"edge10\"><title>140533748786232-&gt;140533748673896</title>\n<path d=\"M739.453,-83.3664C760.442,-73.3658 785.409,-61.4698 807.387,-50.9979\" fill=\"none\" stroke=\"black\"/>\n<polygon fill=\"black\" points=\"809.081,-54.068 816.603,-46.6068 806.07,-47.7486 809.081,-54.068\" stroke=\"black\"/>\n</g>\n<!-- 140533748907872&#45;&gt;140533748673896 -->\n<g class=\"edge\" id=\"edge11\"><title>140533748907872-&gt;140533748673896</title>\n<path d=\"M1064.58,-166.382C1022.6,-136.833 948.207,-84.4739 902.486,-52.2927\" fill=\"none\" stroke=\"black\"/>\n<polygon fill=\"black\" points=\"904.489,-49.4224 894.297,-46.5286 900.46,-55.1466 904.489,-49.4224\" stroke=\"black\"/>\n</g>\n<!-- 140533748539344&#45;&gt;140533748673896 -->\n<g class=\"edge\" id=\"edge12\"><title>140533748539344-&gt;140533748673896</title>\n<path d=\"M398.494,-83.4734C485.542,-72.4218 590.988,-59.0345 679.397,-47.8101\" fill=\"none\" stroke=\"black\"/>\n<polygon fill=\"black\" points=\"680.061,-51.2539 689.541,-46.5222 679.18,-44.3097 680.061,-51.2539\" stroke=\"black\"/>\n</g>\n</g>\n</svg>"
          },
          "metadata": {
            "tags": []
          },
          "execution_count": 5
        }
      ]
    },
    {
      "metadata": {
        "id": "XbcAJJVq4Ab6",
        "colab_type": "text"
      },
      "cell_type": "markdown",
      "source": [
        "#### Residual connections"
      ]
    },
    {
      "metadata": {
        "id": "OwS6fEGv4DQa",
        "colab_type": "code",
        "colab": {
          "base_uri": "https://localhost:8080/",
          "height": 537
        },
        "outputId": "d8a01187-244f-4ba6-ef0b-a24299d228b3"
      },
      "cell_type": "code",
      "source": [
        "from keras import layers\n",
        "import pydot\n",
        "import graphviz\n",
        "from IPython.display import SVG\n",
        "from keras.utils.vis_utils import model_to_dot\n",
        "\n",
        "x = Input(shape=(None, None,3), dtype='float32')\n",
        "\n",
        "y = layers.Conv2D(128, 3, activation='relu', padding='same')(x)\n",
        "y = layers.Conv2D(128, 3, activation='relu', padding='same')(y)\n",
        "y = layers.MaxPooling2D(2, strides=2)(y)\n",
        "\n",
        "residual = layers.Conv2D(128, 1, strides=2, padding='same')(x)\n",
        "\n",
        "output = layers.add([y, residual])\n",
        "\n",
        "model = Model(x, output)\n",
        "SVG(model_to_dot(model,show_shapes=True).create(prog='dot', format='svg'))"
      ],
      "execution_count": 9,
      "outputs": [
        {
          "output_type": "execute_result",
          "data": {
            "text/plain": [
              "<IPython.core.display.SVG object>"
            ],
            "image/svg+xml": "<svg height=\"387pt\" viewBox=\"0.00 0.00 874.00 387.00\" width=\"874pt\" xmlns=\"http://www.w3.org/2000/svg\" xmlns:xlink=\"http://www.w3.org/1999/xlink\">\n<g class=\"graph\" id=\"graph0\" transform=\"scale(1 1) rotate(0) translate(4 383)\">\n<title>G</title>\n<polygon fill=\"white\" points=\"-4,4 -4,-383 870,-383 870,4 -4,4\" stroke=\"none\"/>\n<!-- 140533746731384 -->\n<g class=\"node\" id=\"node1\"><title>140533746731384</title>\n<polygon fill=\"none\" points=\"229,-332.5 229,-378.5 635,-378.5 635,-332.5 229,-332.5\" stroke=\"black\"/>\n<text font-family=\"Times,serif\" font-size=\"14.00\" text-anchor=\"middle\" x=\"309\" y=\"-351.8\">input_8: InputLayer</text>\n<polyline fill=\"none\" points=\"389,-332.5 389,-378.5 \" stroke=\"black\"/>\n<text font-family=\"Times,serif\" font-size=\"14.00\" text-anchor=\"middle\" x=\"423\" y=\"-363.3\">input:</text>\n<polyline fill=\"none\" points=\"389,-355.5 457,-355.5 \" stroke=\"black\"/>\n<text font-family=\"Times,serif\" font-size=\"14.00\" text-anchor=\"middle\" x=\"423\" y=\"-340.3\">output:</text>\n<polyline fill=\"none\" points=\"457,-332.5 457,-378.5 \" stroke=\"black\"/>\n<text font-family=\"Times,serif\" font-size=\"14.00\" text-anchor=\"middle\" x=\"546\" y=\"-363.3\">(None, None, None, 3)</text>\n<polyline fill=\"none\" points=\"457,-355.5 635,-355.5 \" stroke=\"black\"/>\n<text font-family=\"Times,serif\" font-size=\"14.00\" text-anchor=\"middle\" x=\"546\" y=\"-340.3\">(None, None, None, 3)</text>\n</g>\n<!-- 140533747203992 -->\n<g class=\"node\" id=\"node2\"><title>140533747203992</title>\n<polygon fill=\"none\" points=\"50,-249.5 50,-295.5 474,-295.5 474,-249.5 50,-249.5\" stroke=\"black\"/>\n<text font-family=\"Times,serif\" font-size=\"14.00\" text-anchor=\"middle\" x=\"130\" y=\"-268.8\">conv2d_20: Conv2D</text>\n<polyline fill=\"none\" points=\"210,-249.5 210,-295.5 \" stroke=\"black\"/>\n<text font-family=\"Times,serif\" font-size=\"14.00\" text-anchor=\"middle\" x=\"244\" y=\"-280.3\">input:</text>\n<polyline fill=\"none\" points=\"210,-272.5 278,-272.5 \" stroke=\"black\"/>\n<text font-family=\"Times,serif\" font-size=\"14.00\" text-anchor=\"middle\" x=\"244\" y=\"-257.3\">output:</text>\n<polyline fill=\"none\" points=\"278,-249.5 278,-295.5 \" stroke=\"black\"/>\n<text font-family=\"Times,serif\" font-size=\"14.00\" text-anchor=\"middle\" x=\"376\" y=\"-280.3\">(None, None, None, 3)</text>\n<polyline fill=\"none\" points=\"278,-272.5 474,-272.5 \" stroke=\"black\"/>\n<text font-family=\"Times,serif\" font-size=\"14.00\" text-anchor=\"middle\" x=\"376\" y=\"-257.3\">(None, None, None, 128)</text>\n</g>\n<!-- 140533746731384&#45;&gt;140533747203992 -->\n<g class=\"edge\" id=\"edge1\"><title>140533746731384-&gt;140533747203992</title>\n<path d=\"M385.547,-332.366C364.558,-322.366 339.591,-310.47 317.613,-299.998\" fill=\"none\" stroke=\"black\"/>\n<polygon fill=\"black\" points=\"318.93,-296.749 308.397,-295.607 315.919,-303.068 318.93,-296.749\" stroke=\"black\"/>\n</g>\n<!-- 140533747200128 -->\n<g class=\"node\" id=\"node5\"><title>140533747200128</title>\n<polygon fill=\"none\" points=\"442,-166.5 442,-212.5 866,-212.5 866,-166.5 442,-166.5\" stroke=\"black\"/>\n<text font-family=\"Times,serif\" font-size=\"14.00\" text-anchor=\"middle\" x=\"522\" y=\"-185.8\">conv2d_22: Conv2D</text>\n<polyline fill=\"none\" points=\"602,-166.5 602,-212.5 \" stroke=\"black\"/>\n<text font-family=\"Times,serif\" font-size=\"14.00\" text-anchor=\"middle\" x=\"636\" y=\"-197.3\">input:</text>\n<polyline fill=\"none\" points=\"602,-189.5 670,-189.5 \" stroke=\"black\"/>\n<text font-family=\"Times,serif\" font-size=\"14.00\" text-anchor=\"middle\" x=\"636\" y=\"-174.3\">output:</text>\n<polyline fill=\"none\" points=\"670,-166.5 670,-212.5 \" stroke=\"black\"/>\n<text font-family=\"Times,serif\" font-size=\"14.00\" text-anchor=\"middle\" x=\"768\" y=\"-197.3\">(None, None, None, 3)</text>\n<polyline fill=\"none\" points=\"670,-189.5 866,-189.5 \" stroke=\"black\"/>\n<text font-family=\"Times,serif\" font-size=\"14.00\" text-anchor=\"middle\" x=\"768\" y=\"-174.3\">(None, None, None, 128)</text>\n</g>\n<!-- 140533746731384&#45;&gt;140533747200128 -->\n<g class=\"edge\" id=\"edge4\"><title>140533746731384-&gt;140533747200128</title>\n<path d=\"M461.94,-332.382C501.856,-302.895 572.522,-250.691 616.107,-218.493\" fill=\"none\" stroke=\"black\"/>\n<polygon fill=\"black\" points=\"618.217,-221.286 624.181,-212.529 614.058,-215.655 618.217,-221.286\" stroke=\"black\"/>\n</g>\n<!-- 140533747204048 -->\n<g class=\"node\" id=\"node3\"><title>140533747204048</title>\n<polygon fill=\"none\" points=\"0,-166.5 0,-212.5 424,-212.5 424,-166.5 0,-166.5\" stroke=\"black\"/>\n<text font-family=\"Times,serif\" font-size=\"14.00\" text-anchor=\"middle\" x=\"80\" y=\"-185.8\">conv2d_21: Conv2D</text>\n<polyline fill=\"none\" points=\"160,-166.5 160,-212.5 \" stroke=\"black\"/>\n<text font-family=\"Times,serif\" font-size=\"14.00\" text-anchor=\"middle\" x=\"194\" y=\"-197.3\">input:</text>\n<polyline fill=\"none\" points=\"160,-189.5 228,-189.5 \" stroke=\"black\"/>\n<text font-family=\"Times,serif\" font-size=\"14.00\" text-anchor=\"middle\" x=\"194\" y=\"-174.3\">output:</text>\n<polyline fill=\"none\" points=\"228,-166.5 228,-212.5 \" stroke=\"black\"/>\n<text font-family=\"Times,serif\" font-size=\"14.00\" text-anchor=\"middle\" x=\"326\" y=\"-197.3\">(None, None, None, 128)</text>\n<polyline fill=\"none\" points=\"228,-189.5 424,-189.5 \" stroke=\"black\"/>\n<text font-family=\"Times,serif\" font-size=\"14.00\" text-anchor=\"middle\" x=\"326\" y=\"-174.3\">(None, None, None, 128)</text>\n</g>\n<!-- 140533747203992&#45;&gt;140533747204048 -->\n<g class=\"edge\" id=\"edge2\"><title>140533747203992-&gt;140533747204048</title>\n<path d=\"M248.337,-249.366C242.991,-240.705 236.767,-230.622 230.996,-221.274\" fill=\"none\" stroke=\"black\"/>\n<polygon fill=\"black\" points=\"233.877,-219.278 225.646,-212.607 227.921,-222.955 233.877,-219.278\" stroke=\"black\"/>\n</g>\n<!-- 140533747200240 -->\n<g class=\"node\" id=\"node4\"><title>140533747200240</title>\n<polygon fill=\"none\" points=\"30,-83.5 30,-129.5 548,-129.5 548,-83.5 30,-83.5\" stroke=\"black\"/>\n<text font-family=\"Times,serif\" font-size=\"14.00\" text-anchor=\"middle\" x=\"157\" y=\"-102.8\">max_pooling2d_1: MaxPooling2D</text>\n<polyline fill=\"none\" points=\"284,-83.5 284,-129.5 \" stroke=\"black\"/>\n<text font-family=\"Times,serif\" font-size=\"14.00\" text-anchor=\"middle\" x=\"318\" y=\"-114.3\">input:</text>\n<polyline fill=\"none\" points=\"284,-106.5 352,-106.5 \" stroke=\"black\"/>\n<text font-family=\"Times,serif\" font-size=\"14.00\" text-anchor=\"middle\" x=\"318\" y=\"-91.3\">output:</text>\n<polyline fill=\"none\" points=\"352,-83.5 352,-129.5 \" stroke=\"black\"/>\n<text font-family=\"Times,serif\" font-size=\"14.00\" text-anchor=\"middle\" x=\"450\" y=\"-114.3\">(None, None, None, 128)</text>\n<polyline fill=\"none\" points=\"352,-106.5 548,-106.5 \" stroke=\"black\"/>\n<text font-family=\"Times,serif\" font-size=\"14.00\" text-anchor=\"middle\" x=\"450\" y=\"-91.3\">(None, None, None, 128)</text>\n</g>\n<!-- 140533747204048&#45;&gt;140533747200240 -->\n<g class=\"edge\" id=\"edge3\"><title>140533747204048-&gt;140533747200240</title>\n<path d=\"M233.041,-166.366C241.614,-157.348 251.652,-146.788 260.841,-137.121\" fill=\"none\" stroke=\"black\"/>\n<polygon fill=\"black\" points=\"263.632,-139.266 267.985,-129.607 258.558,-134.443 263.632,-139.266\" stroke=\"black\"/>\n</g>\n<!-- 140533747653712 -->\n<g class=\"node\" id=\"node6\"><title>140533747653712</title>\n<polygon fill=\"none\" points=\"172,-0.5 172,-46.5 732,-46.5 732,-0.5 172,-0.5\" stroke=\"black\"/>\n<text font-family=\"Times,serif\" font-size=\"14.00\" text-anchor=\"middle\" x=\"220.5\" y=\"-19.8\">add_1: Add</text>\n<polyline fill=\"none\" points=\"269,-0.5 269,-46.5 \" stroke=\"black\"/>\n<text font-family=\"Times,serif\" font-size=\"14.00\" text-anchor=\"middle\" x=\"303\" y=\"-31.3\">input:</text>\n<polyline fill=\"none\" points=\"269,-23.5 337,-23.5 \" stroke=\"black\"/>\n<text font-family=\"Times,serif\" font-size=\"14.00\" text-anchor=\"middle\" x=\"303\" y=\"-8.3\">output:</text>\n<polyline fill=\"none\" points=\"337,-0.5 337,-46.5 \" stroke=\"black\"/>\n<text font-family=\"Times,serif\" font-size=\"14.00\" text-anchor=\"middle\" x=\"534.5\" y=\"-31.3\">[(None, None, None, 128), (None, None, None, 128)]</text>\n<polyline fill=\"none\" points=\"337,-23.5 732,-23.5 \" stroke=\"black\"/>\n<text font-family=\"Times,serif\" font-size=\"14.00\" text-anchor=\"middle\" x=\"534.5\" y=\"-8.3\">(None, None, None, 128)</text>\n</g>\n<!-- 140533747200240&#45;&gt;140533747653712 -->\n<g class=\"edge\" id=\"edge5\"><title>140533747200240-&gt;140533747653712</title>\n<path d=\"M333.54,-83.3664C353.575,-73.4105 377.39,-61.5759 398.395,-51.1382\" fill=\"none\" stroke=\"black\"/>\n<polygon fill=\"black\" points=\"400.116,-54.1914 407.513,-46.6068 397.001,-47.9227 400.116,-54.1914\" stroke=\"black\"/>\n</g>\n<!-- 140533747200128&#45;&gt;140533747653712 -->\n<g class=\"edge\" id=\"edge6\"><title>140533747200128-&gt;140533747653712</title>\n<path d=\"M637.171,-166.37C619.085,-143.579 588.648,-107.962 557,-83 542.07,-71.224 524.464,-60.4193 507.98,-51.3864\" fill=\"none\" stroke=\"black\"/>\n<polygon fill=\"black\" points=\"509.429,-48.1922 498.962,-46.5555 506.124,-54.3627 509.429,-48.1922\" stroke=\"black\"/>\n</g>\n</g>\n</svg>"
          },
          "metadata": {
            "tags": []
          },
          "execution_count": 9
        }
      ]
    },
    {
      "metadata": {
        "id": "0RBuS2s-HqEq",
        "colab_type": "text"
      },
      "cell_type": "markdown",
      "source": [
        "#### Layer weight sharing"
      ]
    },
    {
      "metadata": {
        "id": "kxv4pwXB61Ak",
        "colab_type": "code",
        "colab": {
          "base_uri": "https://localhost:8080/",
          "height": 426
        },
        "outputId": "f8cbbc42-7b4a-4984-af11-b4877349f099"
      },
      "cell_type": "code",
      "source": [
        "from keras import layers, Input\n",
        "from keras.models import Model\n",
        "\n",
        "text_proc = layers.LSTM(32)\n",
        "\n",
        "left_input = Input(shape=(None, 128), name='left')\n",
        "left_output = text_proc(left_input)\n",
        "\n",
        "right_input = Input(shape=(None, 128), name='right')\n",
        "right_output = text_proc(right_input)\n",
        "\n",
        "sim = layers.concatenate([left_output, right_output], axis = -1)\n",
        "estimator = layers.Dense(1, activation='sigmoid')(sim)\n",
        "\n",
        "model = Model([left_input, right_input], estimator)\n",
        "SVG(model_to_dot(model,show_shapes=True).create(prog='dot', format='svg'))\n"
      ],
      "execution_count": 11,
      "outputs": [
        {
          "output_type": "execute_result",
          "data": {
            "text/plain": [
              "<IPython.core.display.SVG object>"
            ],
            "image/svg+xml": "<svg height=\"304pt\" viewBox=\"0.00 0.00 731.50 304.00\" width=\"732pt\" xmlns=\"http://www.w3.org/2000/svg\" xmlns:xlink=\"http://www.w3.org/1999/xlink\">\n<g class=\"graph\" id=\"graph0\" transform=\"scale(1 1) rotate(0) translate(4 300)\">\n<title>G</title>\n<polygon fill=\"white\" points=\"-4,4 -4,-300 727.5,-300 727.5,4 -4,4\" stroke=\"none\"/>\n<!-- 140533946734184 -->\n<g class=\"node\" id=\"node1\"><title>140533946734184</title>\n<polygon fill=\"none\" points=\"0,-249.5 0,-295.5 347,-295.5 347,-249.5 0,-249.5\" stroke=\"black\"/>\n<text font-family=\"Times,serif\" font-size=\"14.00\" text-anchor=\"middle\" x=\"65\" y=\"-268.8\">left: InputLayer</text>\n<polyline fill=\"none\" points=\"130,-249.5 130,-295.5 \" stroke=\"black\"/>\n<text font-family=\"Times,serif\" font-size=\"14.00\" text-anchor=\"middle\" x=\"164\" y=\"-280.3\">input:</text>\n<polyline fill=\"none\" points=\"130,-272.5 198,-272.5 \" stroke=\"black\"/>\n<text font-family=\"Times,serif\" font-size=\"14.00\" text-anchor=\"middle\" x=\"164\" y=\"-257.3\">output:</text>\n<polyline fill=\"none\" points=\"198,-249.5 198,-295.5 \" stroke=\"black\"/>\n<text font-family=\"Times,serif\" font-size=\"14.00\" text-anchor=\"middle\" x=\"272.5\" y=\"-280.3\">(None, None, 128)</text>\n<polyline fill=\"none\" points=\"198,-272.5 347,-272.5 \" stroke=\"black\"/>\n<text font-family=\"Times,serif\" font-size=\"14.00\" text-anchor=\"middle\" x=\"272.5\" y=\"-257.3\">(None, None, 128)</text>\n</g>\n<!-- 140533747302472 -->\n<g class=\"node\" id=\"node3\"><title>140533747302472</title>\n<polygon fill=\"none\" points=\"191.5,-166.5 191.5,-212.5 525.5,-212.5 525.5,-166.5 191.5,-166.5\" stroke=\"black\"/>\n<text font-family=\"Times,serif\" font-size=\"14.00\" text-anchor=\"middle\" x=\"250\" y=\"-185.8\">lstm_1: LSTM</text>\n<polyline fill=\"none\" points=\"308.5,-166.5 308.5,-212.5 \" stroke=\"black\"/>\n<text font-family=\"Times,serif\" font-size=\"14.00\" text-anchor=\"middle\" x=\"342.5\" y=\"-197.3\">input:</text>\n<polyline fill=\"none\" points=\"308.5,-189.5 376.5,-189.5 \" stroke=\"black\"/>\n<text font-family=\"Times,serif\" font-size=\"14.00\" text-anchor=\"middle\" x=\"342.5\" y=\"-174.3\">output:</text>\n<polyline fill=\"none\" points=\"376.5,-166.5 376.5,-212.5 \" stroke=\"black\"/>\n<text font-family=\"Times,serif\" font-size=\"14.00\" text-anchor=\"middle\" x=\"451\" y=\"-197.3\">(None, None, 128)</text>\n<polyline fill=\"none\" points=\"376.5,-189.5 525.5,-189.5 \" stroke=\"black\"/>\n<text font-family=\"Times,serif\" font-size=\"14.00\" text-anchor=\"middle\" x=\"451\" y=\"-174.3\">(None, 32)</text>\n</g>\n<!-- 140533946734184&#45;&gt;140533747302472 -->\n<g class=\"edge\" id=\"edge1\"><title>140533946734184-&gt;140533747302472</title>\n<path d=\"M224.052,-249.366C247.097,-239.277 274.548,-227.257 298.62,-216.718\" fill=\"none\" stroke=\"black\"/>\n<polygon fill=\"black\" points=\"300.252,-219.824 308.009,-212.607 297.445,-213.412 300.252,-219.824\" stroke=\"black\"/>\n</g>\n<!-- 140533746495104 -->\n<g class=\"node\" id=\"node2\"><title>140533746495104</title>\n<polygon fill=\"none\" points=\"365.5,-249.5 365.5,-295.5 723.5,-295.5 723.5,-249.5 365.5,-249.5\" stroke=\"black\"/>\n<text font-family=\"Times,serif\" font-size=\"14.00\" text-anchor=\"middle\" x=\"436\" y=\"-268.8\">right: InputLayer</text>\n<polyline fill=\"none\" points=\"506.5,-249.5 506.5,-295.5 \" stroke=\"black\"/>\n<text font-family=\"Times,serif\" font-size=\"14.00\" text-anchor=\"middle\" x=\"540.5\" y=\"-280.3\">input:</text>\n<polyline fill=\"none\" points=\"506.5,-272.5 574.5,-272.5 \" stroke=\"black\"/>\n<text font-family=\"Times,serif\" font-size=\"14.00\" text-anchor=\"middle\" x=\"540.5\" y=\"-257.3\">output:</text>\n<polyline fill=\"none\" points=\"574.5,-249.5 574.5,-295.5 \" stroke=\"black\"/>\n<text font-family=\"Times,serif\" font-size=\"14.00\" text-anchor=\"middle\" x=\"649\" y=\"-280.3\">(None, None, 128)</text>\n<polyline fill=\"none\" points=\"574.5,-272.5 723.5,-272.5 \" stroke=\"black\"/>\n<text font-family=\"Times,serif\" font-size=\"14.00\" text-anchor=\"middle\" x=\"649\" y=\"-257.3\">(None, None, 128)</text>\n</g>\n<!-- 140533746495104&#45;&gt;140533747302472 -->\n<g class=\"edge\" id=\"edge2\"><title>140533746495104-&gt;140533747302472</title>\n<path d=\"M493.675,-249.366C470.505,-239.277 442.905,-227.257 418.704,-216.718\" fill=\"none\" stroke=\"black\"/>\n<polygon fill=\"black\" points=\"419.83,-213.391 409.264,-212.607 417.035,-219.808 419.83,-213.391\" stroke=\"black\"/>\n</g>\n<!-- 140533747848752 -->\n<g class=\"node\" id=\"node4\"><title>140533747848752</title>\n<polygon fill=\"none\" points=\"120,-83.5 120,-129.5 597,-129.5 597,-83.5 120,-83.5\" stroke=\"black\"/>\n<text font-family=\"Times,serif\" font-size=\"14.00\" text-anchor=\"middle\" x=\"230.5\" y=\"-102.8\">concatenate_2: Concatenate</text>\n<polyline fill=\"none\" points=\"341,-83.5 341,-129.5 \" stroke=\"black\"/>\n<text font-family=\"Times,serif\" font-size=\"14.00\" text-anchor=\"middle\" x=\"375\" y=\"-114.3\">input:</text>\n<polyline fill=\"none\" points=\"341,-106.5 409,-106.5 \" stroke=\"black\"/>\n<text font-family=\"Times,serif\" font-size=\"14.00\" text-anchor=\"middle\" x=\"375\" y=\"-91.3\">output:</text>\n<polyline fill=\"none\" points=\"409,-83.5 409,-129.5 \" stroke=\"black\"/>\n<text font-family=\"Times,serif\" font-size=\"14.00\" text-anchor=\"middle\" x=\"503\" y=\"-114.3\">[(None, 32), (None, 32)]</text>\n<polyline fill=\"none\" points=\"409,-106.5 597,-106.5 \" stroke=\"black\"/>\n<text font-family=\"Times,serif\" font-size=\"14.00\" text-anchor=\"middle\" x=\"503\" y=\"-91.3\">(None, 64)</text>\n</g>\n<!-- 140533747302472&#45;&gt;140533747848752 -->\n<g class=\"edge\" id=\"edge3\"><title>140533747302472-&gt;140533747848752</title>\n<path d=\"M358.5,-166.366C358.5,-158.152 358.5,-148.658 358.5,-139.725\" fill=\"none\" stroke=\"black\"/>\n<polygon fill=\"black\" points=\"362,-139.607 358.5,-129.607 355,-139.607 362,-139.607\" stroke=\"black\"/>\n</g>\n<!-- 140533745891312 -->\n<g class=\"node\" id=\"node5\"><title>140533745891312</title>\n<polygon fill=\"none\" points=\"214.5,-0.5 214.5,-46.5 502.5,-46.5 502.5,-0.5 214.5,-0.5\" stroke=\"black\"/>\n<text font-family=\"Times,serif\" font-size=\"14.00\" text-anchor=\"middle\" x=\"278.5\" y=\"-19.8\">dense_1: Dense</text>\n<polyline fill=\"none\" points=\"342.5,-0.5 342.5,-46.5 \" stroke=\"black\"/>\n<text font-family=\"Times,serif\" font-size=\"14.00\" text-anchor=\"middle\" x=\"376.5\" y=\"-31.3\">input:</text>\n<polyline fill=\"none\" points=\"342.5,-23.5 410.5,-23.5 \" stroke=\"black\"/>\n<text font-family=\"Times,serif\" font-size=\"14.00\" text-anchor=\"middle\" x=\"376.5\" y=\"-8.3\">output:</text>\n<polyline fill=\"none\" points=\"410.5,-0.5 410.5,-46.5 \" stroke=\"black\"/>\n<text font-family=\"Times,serif\" font-size=\"14.00\" text-anchor=\"middle\" x=\"456.5\" y=\"-31.3\">(None, 64)</text>\n<polyline fill=\"none\" points=\"410.5,-23.5 502.5,-23.5 \" stroke=\"black\"/>\n<text font-family=\"Times,serif\" font-size=\"14.00\" text-anchor=\"middle\" x=\"456.5\" y=\"-8.3\">(None, 1)</text>\n</g>\n<!-- 140533747848752&#45;&gt;140533745891312 -->\n<g class=\"edge\" id=\"edge5\"><title>140533747848752-&gt;140533745891312</title>\n<path d=\"M358.5,-83.3664C358.5,-75.1516 358.5,-65.6579 358.5,-56.7252\" fill=\"none\" stroke=\"black\"/>\n<polygon fill=\"black\" points=\"362,-56.6068 358.5,-46.6068 355,-56.6069 362,-56.6068\" stroke=\"black\"/>\n</g>\n</g>\n</svg>"
          },
          "metadata": {
            "tags": []
          },
          "execution_count": 11
        }
      ]
    },
    {
      "metadata": {
        "id": "E_bQto29NUff",
        "colab_type": "text"
      },
      "cell_type": "markdown",
      "source": [
        "#### Models as layers"
      ]
    },
    {
      "metadata": {
        "id": "OELVHbQFNL42",
        "colab_type": "code",
        "colab": {}
      },
      "cell_type": "code",
      "source": [
        ""
      ],
      "execution_count": 0,
      "outputs": []
    },
    {
      "metadata": {
        "id": "8owqA0UmN_1I",
        "colab_type": "text"
      },
      "cell_type": "markdown",
      "source": [
        "## TensorBoard"
      ]
    },
    {
      "metadata": {
        "id": "I_FsL0XKOCzC",
        "colab_type": "code",
        "colab": {}
      },
      "cell_type": "code",
      "source": [
        "from keras import layers\n",
        "from keras.datasets import imdb\n",
        "from keras.preprocessing import sequence\n",
        "from keras.models import Sequential\n",
        "max_features = 2000\n",
        "max_len = 500\n",
        "\n",
        "(x_train, y_train), (x_test, y_test) = imdb.load_data(num_words=max_features)\n",
        "x_train = sequence.pad_sequences(x_train, maxlen=max_len)\n",
        "x_test = sequence.pad_sequences(x_test, maxlen=max_len)\n",
        "\n",
        "model = Sequential()\n",
        "model.add(layers.Embedding(max_features, 128, input_length=max_len, name='embedding'))\n",
        "model.add(layers.Conv1D(32, 7, activation='relu'))\n",
        "model.add(layers.MaxPooling1D(5))\n",
        "model.add(layers.Conv1D(32, 7, activation='relu'))\n",
        "model.add(layers.GlobalMaxPooling1D())\n",
        "model.add(layers.Dense(1, activation='sigmoid'))\n",
        "\n",
        "import pydot\n",
        "import graphviz\n",
        "from IPython.display import SVG\n",
        "from keras.utils.vis_utils import model_to_dot\n",
        "from keras.utils import plot_model\n",
        "\n",
        "SVG(model_to_dot(model,show_shapes=True).create(prog='dot', format='svg'))\n",
        "model.compile(optimizer='rmsprop', loss='binary_crossentropy', metrics=['acc'])\n",
        "plot_model(model)\n"
      ],
      "execution_count": 0,
      "outputs": []
    },
    {
      "metadata": {
        "id": "aZY4H_bETg_Q",
        "colab_type": "code",
        "colab": {}
      },
      "cell_type": "code",
      "source": [
        "!mkdir my_log_dir"
      ],
      "execution_count": 0,
      "outputs": []
    },
    {
      "metadata": {
        "id": "Hyip9ylXUr_5",
        "colab_type": "code",
        "colab": {
          "base_uri": "https://localhost:8080/",
          "height": 734
        },
        "outputId": "b1b49a96-2847-49b9-ad5f-79c659129b96"
      },
      "cell_type": "code",
      "source": [
        "from keras import callbacks\n",
        "callbacks = [ callbacks.TensorBoard(log_dir='my_log_dir', histogram_freq=1, embeddings_freq=1)]\n",
        "history = model.fit(x_train, y_train, epochs=20, batch_size=128, validation_split=0.2, callbacks=callbacks)"
      ],
      "execution_count": 25,
      "outputs": [
        {
          "output_type": "stream",
          "text": [
            "Train on 20000 samples, validate on 5000 samples\n",
            "Epoch 1/20\n",
            "20000/20000 [==============================] - 79s 4ms/step - loss: 0.5402 - acc: 0.7104 - val_loss: 0.3661 - val_acc: 0.8430\n",
            "Epoch 2/20\n",
            "20000/20000 [==============================] - 79s 4ms/step - loss: 0.3275 - acc: 0.8606 - val_loss: 0.3228 - val_acc: 0.8680\n",
            "Epoch 3/20\n",
            " 9856/20000 [=============>................] - ETA: 37s - loss: 0.2784 - acc: 0.8857"
          ],
          "name": "stdout"
        },
        {
          "output_type": "stream",
          "text": [
            "20000/20000 [==============================] - 80s 4ms/step - loss: 0.2827 - acc: 0.8832 - val_loss: 0.3897 - val_acc: 0.8368\n",
            "Epoch 4/20\n",
            "20000/20000 [==============================] - 80s 4ms/step - loss: 0.2487 - acc: 0.9013 - val_loss: 0.3422 - val_acc: 0.8566\n",
            "Epoch 5/20\n",
            "20000/20000 [==============================] - 80s 4ms/step - loss: 0.2156 - acc: 0.9168 - val_loss: 0.3267 - val_acc: 0.8690\n",
            "Epoch 6/20\n",
            "  256/20000 [..............................] - ETA: 1:13 - loss: 0.1824 - acc: 0.9336"
          ],
          "name": "stdout"
        },
        {
          "output_type": "stream",
          "text": [
            "20000/20000 [==============================] - 80s 4ms/step - loss: 0.1828 - acc: 0.9311 - val_loss: 0.3393 - val_acc: 0.8620\n",
            "Epoch 7/20\n",
            "20000/20000 [==============================] - 79s 4ms/step - loss: 0.1474 - acc: 0.9473 - val_loss: 0.4077 - val_acc: 0.8478\n",
            "Epoch 8/20\n",
            "18432/20000 [==========================>...] - ETA: 5s - loss: 0.1127 - acc: 0.9642"
          ],
          "name": "stdout"
        },
        {
          "output_type": "stream",
          "text": [
            "20000/20000 [==============================] - 80s 4ms/step - loss: 0.1148 - acc: 0.9631 - val_loss: 0.4388 - val_acc: 0.8490\n",
            "Epoch 9/20\n",
            "20000/20000 [==============================] - 79s 4ms/step - loss: 0.0838 - acc: 0.9748 - val_loss: 0.5023 - val_acc: 0.8362\n",
            "Epoch 10/20\n",
            "20000/20000 [==============================] - 80s 4ms/step - loss: 0.0565 - acc: 0.9859 - val_loss: 0.4527 - val_acc: 0.8588\n",
            "Epoch 11/20\n",
            " 1664/20000 [=>............................] - ETA: 1:07 - loss: 0.0273 - acc: 0.9976"
          ],
          "name": "stdout"
        },
        {
          "output_type": "stream",
          "text": [
            "20000/20000 [==============================] - 79s 4ms/step - loss: 0.0350 - acc: 0.9922 - val_loss: 0.5247 - val_acc: 0.8542\n",
            "Epoch 12/20\n",
            "20000/20000 [==============================] - 80s 4ms/step - loss: 0.0221 - acc: 0.9953 - val_loss: 0.5671 - val_acc: 0.8592\n",
            "Epoch 13/20\n",
            "18560/20000 [==========================>...] - ETA: 5s - loss: 0.0129 - acc: 0.9981"
          ],
          "name": "stdout"
        },
        {
          "output_type": "stream",
          "text": [
            "20000/20000 [==============================] - 80s 4ms/step - loss: 0.0126 - acc: 0.9981 - val_loss: 0.6090 - val_acc: 0.8580\n",
            "Epoch 14/20\n",
            "20000/20000 [==============================] - 80s 4ms/step - loss: 0.0084 - acc: 0.9981 - val_loss: 0.6747 - val_acc: 0.8566\n",
            "Epoch 15/20\n",
            "20000/20000 [==============================] - 80s 4ms/step - loss: 0.0047 - acc: 0.9991 - val_loss: 0.7433 - val_acc: 0.8568\n",
            "Epoch 16/20\n",
            " 1664/20000 [=>............................] - ETA: 1:08 - loss: 0.0102 - acc: 0.9994"
          ],
          "name": "stdout"
        },
        {
          "output_type": "stream",
          "text": [
            "20000/20000 [==============================] - 80s 4ms/step - loss: 0.0035 - acc: 0.9993 - val_loss: 0.7792 - val_acc: 0.8578\n",
            "Epoch 17/20\n",
            "20000/20000 [==============================] - 78s 4ms/step - loss: 0.0022 - acc: 0.9997 - val_loss: 0.8757 - val_acc: 0.8516\n",
            "Epoch 18/20\n",
            "18560/20000 [==========================>...] - ETA: 5s - loss: 0.0015 - acc: 0.9999"
          ],
          "name": "stdout"
        },
        {
          "output_type": "stream",
          "text": [
            "20000/20000 [==============================] - 79s 4ms/step - loss: 0.0014 - acc: 0.9999 - val_loss: 0.8890 - val_acc: 0.8550\n",
            "Epoch 19/20\n",
            "20000/20000 [==============================] - 79s 4ms/step - loss: 0.0017 - acc: 0.9997 - val_loss: 0.9333 - val_acc: 0.8564\n",
            "Epoch 20/20\n",
            "20000/20000 [==============================] - 80s 4ms/step - loss: 0.0013 - acc: 0.9999 - val_loss: 0.9560 - val_acc: 0.8564\n"
          ],
          "name": "stdout"
        }
      ]
    },
    {
      "metadata": {
        "id": "y34x3qSjVfAz",
        "colab_type": "code",
        "colab": {
          "base_uri": "https://localhost:8080/",
          "height": 238
        },
        "outputId": "2b873029-52f5-4558-b344-10de3b89c98f"
      },
      "cell_type": "code",
      "source": [
        "!wget https://bin.equinox.io/c/4VmDzA7iaHb/ngrok-stable-linux-amd64.zip\n",
        "!unzip ngrok-stable-linux-amd64.zip"
      ],
      "execution_count": 26,
      "outputs": [
        {
          "output_type": "stream",
          "text": [
            "--2018-07-23 09:23:17--  https://bin.equinox.io/c/4VmDzA7iaHb/ngrok-stable-linux-amd64.zip\n",
            "Resolving bin.equinox.io (bin.equinox.io)... 34.206.9.96, 52.0.104.144, 34.239.63.98, ...\n",
            "Connecting to bin.equinox.io (bin.equinox.io)|34.206.9.96|:443... connected.\n",
            "HTTP request sent, awaiting response... 200 OK\n",
            "Length: 5363700 (5.1M) [application/octet-stream]\n",
            "Saving to: ‘ngrok-stable-linux-amd64.zip’\n",
            "\n",
            "ngrok-stable-linux- 100%[===================>]   5.11M  10.1MB/s    in 0.5s    \n",
            "\n",
            "2018-07-23 09:23:18 (10.1 MB/s) - ‘ngrok-stable-linux-amd64.zip’ saved [5363700/5363700]\n",
            "\n",
            "Archive:  ngrok-stable-linux-amd64.zip\n",
            "  inflating: ngrok                   \n"
          ],
          "name": "stdout"
        }
      ]
    },
    {
      "metadata": {
        "id": "G5nKfEKeXW10",
        "colab_type": "code",
        "colab": {}
      },
      "cell_type": "code",
      "source": [
        "LOG_DIR = './my_log_dir'\n",
        "get_ipython().system_raw(\n",
        "    'tensorboard --logdir {} --host 0.0.0.0 --port 6006 &'\n",
        "    .format(LOG_DIR)\n",
        ")"
      ],
      "execution_count": 0,
      "outputs": []
    },
    {
      "metadata": {
        "id": "fpyAxR91Xjz5",
        "colab_type": "code",
        "colab": {
          "base_uri": "https://localhost:8080/",
          "height": 34
        },
        "outputId": "5e69d869-0479-4a4a-fca1-e7be92887e6e"
      },
      "cell_type": "code",
      "source": [
        "get_ipython().system_raw('./ngrok http 6006 &')\n",
        "!curl -s http://localhost:4040/api/tunnels | python3 -c \\\n",
        "    \"import sys, json; print(json.load(sys.stdin)['tunnels'][0]['public_url'])\""
      ],
      "execution_count": 28,
      "outputs": [
        {
          "output_type": "stream",
          "text": [
            "http://da82d824.ngrok.io\r\n"
          ],
          "name": "stdout"
        }
      ]
    },
    {
      "metadata": {
        "id": "0_mzh5t7XrzF",
        "colab_type": "code",
        "colab": {}
      },
      "cell_type": "code",
      "source": [
        ""
      ],
      "execution_count": 0,
      "outputs": []
    }
  ]
}