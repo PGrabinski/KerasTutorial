{
  "nbformat": 4,
  "nbformat_minor": 0,
  "metadata": {
    "colab": {
      "name": "Chapter6.ipynb",
      "version": "0.3.2",
      "provenance": [],
      "collapsed_sections": [],
      "include_colab_link": true
    },
    "kernelspec": {
      "name": "python3",
      "display_name": "Python 3"
    },
    "accelerator": "GPU"
  },
  "cells": [
    {
      "cell_type": "markdown",
      "metadata": {
        "id": "view-in-github",
        "colab_type": "text"
      },
      "source": [
        "[View in Colaboratory](https://colab.research.google.com/github/PGrabinski/KerasTutorial/blob/master/Chapter6.ipynb)"
      ]
    },
    {
      "metadata": {
        "id": "ZnNxsANXdFnI",
        "colab_type": "text"
      },
      "cell_type": "markdown",
      "source": [
        "# Chapter 6"
      ]
    },
    {
      "metadata": {
        "id": "wYOhw0DFdSIx",
        "colab_type": "text"
      },
      "cell_type": "markdown",
      "source": [
        "## Working with text data"
      ]
    },
    {
      "metadata": {
        "id": "AtwjdKIhp2Rw",
        "colab_type": "code",
        "colab": {
          "base_uri": "https://localhost:8080/",
          "height": 68
        },
        "outputId": "d4de1c0a-8b9e-41e8-a2c9-b89fc433d9e4"
      },
      "cell_type": "code",
      "source": [
        "from keras.datasets import imdb\n",
        "from keras import preprocessing\n",
        "\n",
        "max_features = 10000\n",
        "maxlen = 20\n",
        "\n",
        "(x_train, y_train), (x_test, y_test) = imdb.load_data(num_words = max_features)\n",
        "\n",
        "x_train = preprocessing.sequence.pad_sequences(x_train, maxlen=maxlen)\n",
        "x_test = preprocessing.sequence.pad_sequences(x_test, maxlen=maxlen)"
      ],
      "execution_count": 2,
      "outputs": [
        {
          "output_type": "stream",
          "text": [
            "Using TensorFlow backend.\n"
          ],
          "name": "stderr"
        },
        {
          "output_type": "stream",
          "text": [
            "Downloading data from https://s3.amazonaws.com/text-datasets/imdb.npz\n",
            "17465344/17464789 [==============================] - 2s 0us/step\n"
          ],
          "name": "stdout"
        }
      ]
    },
    {
      "metadata": {
        "id": "OAlwRtpZsErD",
        "colab_type": "code",
        "colab": {
          "base_uri": "https://localhost:8080/",
          "height": 615
        },
        "outputId": "de1ff359-ba3d-4e3c-fc37-8cea472feaa8"
      },
      "cell_type": "code",
      "source": [
        "from keras.models import Sequential\n",
        "from keras.layers import Embedding, Flatten, Dense\n",
        "\n",
        "model = Sequential()\n",
        "model.add(Embedding(10000, 8, input_length = maxlen))\n",
        "model.add(Flatten())\n",
        "model.add(Dense(1,activation='sigmoid'))\n",
        "model.compile(optimizer='rmsprop', loss='binary_crossentropy', metrics=['acc'])\n",
        "model.summary()\n",
        "history = model.fit(x_train, y_train, epochs=10, batch_size=32, validation_split = 0.2)"
      ],
      "execution_count": 3,
      "outputs": [
        {
          "output_type": "stream",
          "text": [
            "_________________________________________________________________\n",
            "Layer (type)                 Output Shape              Param #   \n",
            "=================================================================\n",
            "embedding_1 (Embedding)      (None, 20, 8)             80000     \n",
            "_________________________________________________________________\n",
            "flatten_1 (Flatten)          (None, 160)               0         \n",
            "_________________________________________________________________\n",
            "dense_1 (Dense)              (None, 1)                 161       \n",
            "=================================================================\n",
            "Total params: 80,161\n",
            "Trainable params: 80,161\n",
            "Non-trainable params: 0\n",
            "_________________________________________________________________\n",
            "Train on 20000 samples, validate on 5000 samples\n",
            "Epoch 1/10\n",
            "20000/20000 [==============================] - 7s 345us/step - loss: 0.6759 - acc: 0.6050 - val_loss: 0.6398 - val_acc: 0.6814\n",
            "Epoch 2/10\n",
            " 1984/20000 [=>............................] - ETA: 4s - loss: 0.6139 - acc: 0.7470"
          ],
          "name": "stdout"
        },
        {
          "output_type": "stream",
          "text": [
            "20000/20000 [==============================] - 5s 252us/step - loss: 0.5657 - acc: 0.7427 - val_loss: 0.5467 - val_acc: 0.7206\n",
            "Epoch 3/10\n",
            "20000/20000 [==============================] - 5s 241us/step - loss: 0.4752 - acc: 0.7808 - val_loss: 0.5113 - val_acc: 0.7384\n",
            "Epoch 4/10\n",
            "20000/20000 [==============================] - 5s 262us/step - loss: 0.4263 - acc: 0.8077 - val_loss: 0.5008 - val_acc: 0.7452\n",
            "Epoch 5/10\n",
            "17920/20000 [=========================>....] - ETA: 0s - loss: 0.3924 - acc: 0.8274"
          ],
          "name": "stdout"
        },
        {
          "output_type": "stream",
          "text": [
            "20000/20000 [==============================] - 5s 263us/step - loss: 0.3930 - acc: 0.8258 - val_loss: 0.4981 - val_acc: 0.7538\n",
            "Epoch 6/10\n",
            "20000/20000 [==============================] - 5s 251us/step - loss: 0.3668 - acc: 0.8395 - val_loss: 0.5014 - val_acc: 0.7530\n",
            "Epoch 7/10\n",
            "20000/20000 [==============================] - 5s 257us/step - loss: 0.3435 - acc: 0.8533 - val_loss: 0.5052 - val_acc: 0.7520\n",
            "Epoch 8/10\n",
            "20000/20000 [==============================] - 5s 256us/step - loss: 0.3223 - acc: 0.8657 - val_loss: 0.5132 - val_acc: 0.7486\n",
            "Epoch 9/10\n",
            "  480/20000 [..............................] - ETA: 4s - loss: 0.3405 - acc: 0.8500"
          ],
          "name": "stdout"
        },
        {
          "output_type": "stream",
          "text": [
            "20000/20000 [==============================] - 5s 254us/step - loss: 0.3022 - acc: 0.8766 - val_loss: 0.5213 - val_acc: 0.7490\n",
            "Epoch 10/10\n",
            "20000/20000 [==============================] - 5s 250us/step - loss: 0.2839 - acc: 0.8860 - val_loss: 0.5303 - val_acc: 0.7466\n"
          ],
          "name": "stdout"
        }
      ]
    },
    {
      "metadata": {
        "id": "ELrrOAFXs_pT",
        "colab_type": "code",
        "colab": {
          "base_uri": "https://localhost:8080/",
          "height": 68
        },
        "outputId": "d7f51a90-3a25-44f3-fcdc-74c8f8b448b3"
      },
      "cell_type": "code",
      "source": [
        "!wget -nc http://mng.bz/0tIo\n",
        "!unzip -qo 0tIo\n",
        "!ls"
      ],
      "execution_count": 5,
      "outputs": [
        {
          "output_type": "stream",
          "text": [
            "File ‘0tIo’ already there; not retrieving.\r\n",
            "\n",
            "0tIo  0tIo.1  aclImdb  datalab\t__MACOSX\n"
          ],
          "name": "stdout"
        }
      ]
    },
    {
      "metadata": {
        "id": "HI4B73SRt0OJ",
        "colab_type": "code",
        "colab": {}
      },
      "cell_type": "code",
      "source": [
        "import os\n",
        "path = 'aclImdb/'\n",
        "train = os.path.join(path, 'train')\n",
        "\n",
        "labels = []\n",
        "texts = []\n",
        "\n",
        "for label_type in ['neg','pos']:\n",
        "  dir_name = os.path.join(train, label_type)\n",
        "  for fname in os.listdir(dir_name):\n",
        "    if fname[-4:] == '.txt':\n",
        "      with open(os.path.join(dir_name, fname)) as file:\n",
        "        texts.append(file.read())\n",
        "      if label_type == 'neg':\n",
        "        labels.append(0)\n",
        "      else:\n",
        "        labels.append(1)"
      ],
      "execution_count": 0,
      "outputs": []
    },
    {
      "metadata": {
        "id": "5biOucA3Rsk5",
        "colab_type": "text"
      },
      "cell_type": "markdown",
      "source": [
        "### Tokenizing texts"
      ]
    },
    {
      "metadata": {
        "id": "BaJybZRcRpzM",
        "colab_type": "code",
        "colab": {
          "base_uri": "https://localhost:8080/",
          "height": 68
        },
        "outputId": "27bc4650-ee18-4eb0-b362-1517ca2cd4b0"
      },
      "cell_type": "code",
      "source": [
        "from keras.preprocessing.text import Tokenizer\n",
        "from keras.preprocessing.sequence import pad_sequences\n",
        "import numpy as np\n",
        "\n",
        "maxlen = 100\n",
        "training_samples = 200\n",
        "validation_samples = 10000\n",
        "max_words = 10000\n",
        "\n",
        "tokenizer = Tokenizer(num_words=max_words)\n",
        "tokenizer.fit_on_texts(texts)\n",
        "sequences = tokenizer.texts_to_sequences(texts)\n",
        "\n",
        "word_index = tokenizer.word_index\n",
        "print(f'Found {len(word_index)} unique tokens.')\n",
        "\n",
        "data = pad_sequences(sequences, maxlen)\n",
        "labels = np.asarray(labels)\n",
        "print(f'Data tensor shape is {data.shape}')\n",
        "print(f'Target tensor shape is {labels.shape}')\n",
        "\n",
        "indices = np.arange(data.shape[0])\n",
        "np.random.shuffle(indices)\n",
        "data = data[indices]\n",
        "labels = labels[indices]\n",
        "\n",
        "x_train = data[:training_samples]\n",
        "y_train = labels[:training_samples]\n",
        "\n",
        "x_val = data[training_samples:training_samples+validation_samples]\n",
        "y_val = labels[training_samples:training_samples+validation_samples]"
      ],
      "execution_count": 7,
      "outputs": [
        {
          "output_type": "stream",
          "text": [
            "Found 88582 unique tokens.\n",
            "Data tensor shape is (25000, 100)\n",
            "Target tensor shape is (25000,)\n"
          ],
          "name": "stdout"
        }
      ]
    },
    {
      "metadata": {
        "id": "dLmzJMdSdW_L",
        "colab_type": "text"
      },
      "cell_type": "markdown",
      "source": [
        "### Using pretrained embeddings"
      ]
    },
    {
      "metadata": {
        "id": "Vie2SeumUf-S",
        "colab_type": "code",
        "colab": {
          "base_uri": "https://localhost:8080/",
          "height": 306
        },
        "outputId": "32f6135a-2842-4e78-dfd5-bfb38b8c38be"
      },
      "cell_type": "code",
      "source": [
        "!wget -nc http://nlp.stanford.edu/data/glove.6B.zip\n",
        "!unzip -qo glove.6B.zip\n",
        "!ls"
      ],
      "execution_count": 8,
      "outputs": [
        {
          "output_type": "stream",
          "text": [
            "--2018-07-18 19:11:52--  http://nlp.stanford.edu/data/glove.6B.zip\r\n",
            "Resolving nlp.stanford.edu (nlp.stanford.edu)... 171.64.67.140\n",
            "Connecting to nlp.stanford.edu (nlp.stanford.edu)|171.64.67.140|:80... connected.\n",
            "HTTP request sent, awaiting response... 302 Found\n",
            "Location: https://nlp.stanford.edu/data/glove.6B.zip [following]\n",
            "--2018-07-18 19:11:53--  https://nlp.stanford.edu/data/glove.6B.zip\n",
            "Connecting to nlp.stanford.edu (nlp.stanford.edu)|171.64.67.140|:443... connected.\n",
            "HTTP request sent, awaiting response... 200 OK\n",
            "Length: 862182613 (822M) [application/zip]\n",
            "Saving to: ‘glove.6B.zip’\n",
            "\n",
            "glove.6B.zip        100%[===================>] 822.24M  62.9MB/s    in 16s     \n",
            "\n",
            "2018-07-18 19:12:09 (50.7 MB/s) - ‘glove.6B.zip’ saved [862182613/862182613]\n",
            "\n",
            "0tIo\taclImdb  glove.6B.100d.txt  glove.6B.300d.txt  glove.6B.zip\n",
            "0tIo.1\tdatalab  glove.6B.200d.txt  glove.6B.50d.txt   __MACOSX\n"
          ],
          "name": "stdout"
        }
      ]
    },
    {
      "metadata": {
        "id": "oWz6a1sdWBpq",
        "colab_type": "code",
        "colab": {
          "base_uri": "https://localhost:8080/",
          "height": 34
        },
        "outputId": "e346ce9b-5eee-4e14-85f0-ef55573431d3"
      },
      "cell_type": "code",
      "source": [
        "gloves = 'glove.6B.100d.txt'\n",
        "\n",
        "embeddings_index = {}\n",
        "with open(gloves) as file:\n",
        "  for line in file:\n",
        "    values = line.split()\n",
        "    word = values[0]\n",
        "    coefs = np.asarray(values[1:], dtype=np.float32)\n",
        "    embeddings_index[word] = coefs\n",
        "print(f'Found {len(embeddings_index)} word vectors.')"
      ],
      "execution_count": 9,
      "outputs": [
        {
          "output_type": "stream",
          "text": [
            "Found 400000 word vectors.\n"
          ],
          "name": "stdout"
        }
      ]
    },
    {
      "metadata": {
        "id": "-xvBexSXZfRH",
        "colab_type": "code",
        "colab": {}
      },
      "cell_type": "code",
      "source": [
        "embedding_dim = 100\n",
        "\n",
        "embedding_matrix = np.zeros((max_words, embedding_dim))\n",
        "for word, i in word_index.items():\n",
        "  if i < max_words:\n",
        "    embedding_vector = embeddings_index.get(word)\n",
        "    if embedding_vector is not None:\n",
        "      embedding_matrix[i] = embedding_vector"
      ],
      "execution_count": 0,
      "outputs": []
    },
    {
      "metadata": {
        "id": "pgBaWP8ca505",
        "colab_type": "code",
        "colab": {
          "base_uri": "https://localhost:8080/",
          "height": 629
        },
        "outputId": "09b9c761-5600-4ddd-c8aa-053b7ec7c398"
      },
      "cell_type": "code",
      "source": [
        "from keras.models import Sequential\n",
        "from keras.layers import Embedding, Flatten, Dense\n",
        "\n",
        "model = Sequential()\n",
        "model.add(Embedding(max_words, embedding_dim, input_length=maxlen))\n",
        "model.layers[0].set_weights([embedding_matrix])\n",
        "model.layers[0].trainable = False\n",
        "model.add(Flatten())\n",
        "model.add(Dense(32, activation='relu'))\n",
        "model.add(Dense(1, activation='sigmoid'))\n",
        "model.summary()\n",
        "model.compile(optimizer='rmsprop', metrics=['acc'], loss='binary_crossentropy')\n",
        "history = model.fit(x_train, y_train, epochs=10, batch_size=32, validation_data=(x_val,y_val))\n",
        "model.save_weights('pre_trained_glove.h5')"
      ],
      "execution_count": 11,
      "outputs": [
        {
          "output_type": "stream",
          "text": [
            "_________________________________________________________________\n",
            "Layer (type)                 Output Shape              Param #   \n",
            "=================================================================\n",
            "embedding_2 (Embedding)      (None, 100, 100)          1000000   \n",
            "_________________________________________________________________\n",
            "flatten_2 (Flatten)          (None, 10000)             0         \n",
            "_________________________________________________________________\n",
            "dense_2 (Dense)              (None, 32)                320032    \n",
            "_________________________________________________________________\n",
            "dense_3 (Dense)              (None, 1)                 33        \n",
            "=================================================================\n",
            "Total params: 1,320,065\n",
            "Trainable params: 320,065\n",
            "Non-trainable params: 1,000,000\n",
            "_________________________________________________________________\n",
            "Train on 200 samples, validate on 10000 samples\n",
            "Epoch 1/10\n",
            "200/200 [==============================] - 1s 7ms/step - loss: 1.8751 - acc: 0.5200 - val_loss: 0.7338 - val_acc: 0.5058\n",
            "Epoch 2/10\n",
            "200/200 [==============================] - 1s 5ms/step - loss: 0.5996 - acc: 0.7050 - val_loss: 0.7595 - val_acc: 0.5127\n",
            "Epoch 3/10\n",
            "200/200 [==============================] - 1s 5ms/step - loss: 0.5352 - acc: 0.7050 - val_loss: 0.7891 - val_acc: 0.4945\n",
            "Epoch 4/10\n",
            "200/200 [==============================] - 1s 5ms/step - loss: 0.3883 - acc: 0.8350 - val_loss: 0.6805 - val_acc: 0.5740\n",
            "Epoch 5/10\n",
            "200/200 [==============================] - 1s 6ms/step - loss: 0.2889 - acc: 0.8900 - val_loss: 0.6790 - val_acc: 0.5734\n",
            "Epoch 6/10\n",
            "200/200 [==============================] - 1s 6ms/step - loss: 0.1874 - acc: 0.9700 - val_loss: 0.9814 - val_acc: 0.5152\n",
            "Epoch 7/10\n",
            "200/200 [==============================] - 1s 6ms/step - loss: 0.1720 - acc: 0.9600 - val_loss: 1.2852 - val_acc: 0.4977\n",
            "Epoch 8/10\n",
            "200/200 [==============================] - 1s 6ms/step - loss: 0.1460 - acc: 0.9650 - val_loss: 0.7360 - val_acc: 0.5674\n",
            "Epoch 9/10\n",
            "200/200 [==============================] - 1s 6ms/step - loss: 0.0433 - acc: 1.0000 - val_loss: 0.7540 - val_acc: 0.5638\n",
            "Epoch 10/10\n",
            "200/200 [==============================] - 1s 7ms/step - loss: 0.0326 - acc: 1.0000 - val_loss: 0.7444 - val_acc: 0.5817\n"
          ],
          "name": "stdout"
        }
      ]
    },
    {
      "metadata": {
        "id": "dKOWJTqDdI8c",
        "colab_type": "code",
        "colab": {
          "base_uri": "https://localhost:8080/",
          "height": 362
        },
        "outputId": "bf83de07-9e83-4c58-d240-706cd647c2dc"
      },
      "cell_type": "code",
      "source": [
        "import matplotlib.pyplot as plt\n",
        "\n",
        "acc = history.history['acc']\n",
        "val_acc = history.history['val_acc']\n",
        "loss = history.history['loss']\n",
        "val_loss = history.history['val_loss']\n",
        "\n",
        "epochs = range(1, len(acc) + 1)\n",
        "\n",
        "plt.plot(epochs, acc, 'bo', label='Training accuracy')\n",
        "plt.plot(epochs, val_acc, 'b', label='Validation accuracy')\n",
        "plt.title('Training and validation accuracy')\n",
        "plt.legend()\n",
        "\n",
        "plt.plot(epochs, loss, 'bo', label='Training loss')\n",
        "plt.plot(epochs, val_loss, 'b', label='Valdiation loss')\n",
        "plt.title('Training and valdiation loss')\n",
        "plt.legend()\n",
        "\n",
        "plt.show()"
      ],
      "execution_count": 12,
      "outputs": [
        {
          "output_type": "display_data",
          "data": {
            "image/png": "[encoded data removed]",
            "text/plain": [
              "<matplotlib.figure.Figure at 0x7f8502177eb8>"
            ]
          },
          "metadata": {
            "tags": []
          }
        }
      ]
    },
    {
      "metadata": {
        "id": "FSZqR83XYKUK",
        "colab_type": "text"
      },
      "cell_type": "markdown",
      "source": [
        "### Training own embedding"
      ]
    },
    {
      "metadata": {
        "id": "Z1Ga-UkyXqhR",
        "colab_type": "code",
        "colab": {
          "base_uri": "https://localhost:8080/",
          "height": 629
        },
        "outputId": "d4d77cbc-4a30-46ec-8bca-24d46a448b92"
      },
      "cell_type": "code",
      "source": [
        "from keras.models import Sequential\n",
        "from keras.layers import Embedding, Flatten, Dense\n",
        "\n",
        "model = Sequential()\n",
        "model.add(Embedding(max_words, embedding_dim, input_length=maxlen))\n",
        "model.add(Flatten())\n",
        "model.add(Dense(32, activation='relu'))\n",
        "model.add(Dense(1, activation='sigmoid'))\n",
        "model.summary()\n",
        "\n",
        "model.compile(optimizer='rmsprop', loss='binary_crossentropy', metrics=['acc'])\n",
        "history = model.fit(x_train, y_train, epochs=10, validation_data=(x_val, y_val), batch_size=32)"
      ],
      "execution_count": 13,
      "outputs": [
        {
          "output_type": "stream",
          "text": [
            "_________________________________________________________________\n",
            "Layer (type)                 Output Shape              Param #   \n",
            "=================================================================\n",
            "embedding_3 (Embedding)      (None, 100, 100)          1000000   \n",
            "_________________________________________________________________\n",
            "flatten_3 (Flatten)          (None, 10000)             0         \n",
            "_________________________________________________________________\n",
            "dense_4 (Dense)              (None, 32)                320032    \n",
            "_________________________________________________________________\n",
            "dense_5 (Dense)              (None, 1)                 33        \n",
            "=================================================================\n",
            "Total params: 1,320,065\n",
            "Trainable params: 1,320,065\n",
            "Non-trainable params: 0\n",
            "_________________________________________________________________\n",
            "Train on 200 samples, validate on 10000 samples\n",
            "Epoch 1/10\n",
            "200/200 [==============================] - 2s 8ms/step - loss: 0.6922 - acc: 0.5200 - val_loss: 0.6916 - val_acc: 0.5198\n",
            "Epoch 2/10\n",
            "200/200 [==============================] - 1s 6ms/step - loss: 0.4992 - acc: 0.9700 - val_loss: 0.6996 - val_acc: 0.5166\n",
            "Epoch 3/10\n",
            "200/200 [==============================] - 1s 5ms/step - loss: 0.2856 - acc: 0.9750 - val_loss: 0.7028 - val_acc: 0.5194\n",
            "Epoch 4/10\n",
            "200/200 [==============================] - 1s 5ms/step - loss: 0.1229 - acc: 1.0000 - val_loss: 0.7061 - val_acc: 0.5225\n",
            "Epoch 5/10\n",
            "200/200 [==============================] - 1s 6ms/step - loss: 0.0545 - acc: 1.0000 - val_loss: 0.7274 - val_acc: 0.5215\n",
            "Epoch 6/10\n",
            "200/200 [==============================] - 1s 6ms/step - loss: 0.0288 - acc: 1.0000 - val_loss: 0.7082 - val_acc: 0.5349\n",
            "Epoch 7/10\n",
            "200/200 [==============================] - 1s 5ms/step - loss: 0.0155 - acc: 1.0000 - val_loss: 0.7321 - val_acc: 0.5265\n",
            "Epoch 8/10\n",
            "200/200 [==============================] - 1s 5ms/step - loss: 0.0088 - acc: 1.0000 - val_loss: 0.7481 - val_acc: 0.5255\n",
            "Epoch 9/10\n",
            "200/200 [==============================] - 1s 5ms/step - loss: 0.0053 - acc: 1.0000 - val_loss: 0.7396 - val_acc: 0.5278\n",
            "Epoch 10/10\n",
            "200/200 [==============================] - 1s 6ms/step - loss: 0.0032 - acc: 1.0000 - val_loss: 0.7539 - val_acc: 0.5260\n"
          ],
          "name": "stdout"
        }
      ]
    },
    {
      "metadata": {
        "id": "vAH20-v-YZcK",
        "colab_type": "code",
        "colab": {
          "base_uri": "https://localhost:8080/",
          "height": 51
        },
        "outputId": "123e335e-de68-4cfe-e442-85cbcd981373"
      },
      "cell_type": "code",
      "source": [
        "import os\n",
        "test_dir = os.path.join(path, 'test')\n",
        "test_labels = []\n",
        "test_texts = []\n",
        "\n",
        "for label_type in ['neg', 'pos']:\n",
        "  dir_name = os.path.join(test_dir, label_type)\n",
        "  for file_name in sorted(os.listdir(dir_name)):\n",
        "    if file_name[-4:] == '.txt':\n",
        "      with open(os.path.join(dir_name,file_name)) as file:\n",
        "        test_texts.append(file.read())\n",
        "      if label_type == 'neg':\n",
        "        test_labels.append(0)\n",
        "      else:\n",
        "        test_labels.append(1)\n",
        "        \n",
        "test_sequences = tokenizer.texts_to_sequences(test_texts)\n",
        "x_test = pad_sequences(test_sequences, maxlen=maxlen)\n",
        "y_test = np.asarray(test_labels)\n",
        "model.load_weights('pre_trained_glove.h5')\n",
        "model.evaluate(x_test, y_test)"
      ],
      "execution_count": 16,
      "outputs": [
        {
          "output_type": "stream",
          "text": [
            "25000/25000 [==============================] - 4s 140us/step\n"
          ],
          "name": "stdout"
        },
        {
          "output_type": "execute_result",
          "data": {
            "text/plain": [
              "[0.7553520709991455, 0.57252]"
            ]
          },
          "metadata": {
            "tags": []
          },
          "execution_count": 16
        }
      ]
    },
    {
      "metadata": {
        "id": "8rhdpHXvfs46",
        "colab_type": "text"
      },
      "cell_type": "markdown",
      "source": [
        ""
      ]
    },
    {
      "metadata": {
        "id": "7-sII0jbfs9Q",
        "colab_type": "text"
      },
      "cell_type": "markdown",
      "source": [
        "## Understanding RNNs"
      ]
    },
    {
      "metadata": {
        "id": "T5Ttsg3TjL4o",
        "colab_type": "code",
        "colab": {}
      },
      "cell_type": "code",
      "source": [
        "from keras.datasets import imdb\n",
        "from keras.preprocessing import sequence\n",
        "\n",
        "max_features = 10000\n",
        "maxlen = 500\n",
        "batch_size = 32\n",
        "\n",
        "(x_train, y_train), (x_test, y_test) = imdb.load_data(num_words=max_features)\n",
        "x_train = sequence.pad_sequences(x_train, maxlen=maxlen)\n",
        "x_test = sequence.pad_sequences(x_test, maxlen=maxlen)"
      ],
      "execution_count": 0,
      "outputs": []
    },
    {
      "metadata": {
        "id": "YlMcGMxzny-T",
        "colab_type": "text"
      },
      "cell_type": "markdown",
      "source": [
        "### Simple RNN"
      ]
    },
    {
      "metadata": {
        "id": "bb663MoFfxtt",
        "colab_type": "code",
        "colab": {
          "base_uri": "https://localhost:8080/",
          "height": 394
        },
        "outputId": "6bc44793-1a54-492e-ed5b-8c5d6c6cac89"
      },
      "cell_type": "code",
      "source": [
        "from keras.models import Sequential\n",
        "from keras.layers import Flatten, Embedding, Dense, SimpleRNN\n",
        "\n",
        "model = Sequential()\n",
        "model.add(Embedding(10000, 32))\n",
        "model.add(SimpleRNN(32))\n",
        "model.add(Dense(1, activation='sigmoid'))\n",
        "model.compile(optimizer='rmsprop', metrics=['acc'], loss='binary_crossentropy')\n",
        "history = model.fit(x_train, y_train, epochs=10, batch_size=128, validation_split=0.2)"
      ],
      "execution_count": 18,
      "outputs": [
        {
          "output_type": "stream",
          "text": [
            "Train on 20000 samples, validate on 5000 samples\n",
            "Epoch 1/10\n",
            "20000/20000 [==============================] - 59s 3ms/step - loss: 0.6450 - acc: 0.6109 - val_loss: 0.5470 - val_acc: 0.7406\n",
            "Epoch 2/10\n",
            "20000/20000 [==============================] - 59s 3ms/step - loss: 0.4099 - acc: 0.8256 - val_loss: 0.3629 - val_acc: 0.8510\n",
            "Epoch 3/10\n",
            " 9984/20000 [=============>................] - ETA: 28s - loss: 0.3048 - acc: 0.8785"
          ],
          "name": "stdout"
        },
        {
          "output_type": "stream",
          "text": [
            "20000/20000 [==============================] - 59s 3ms/step - loss: 0.3085 - acc: 0.8771 - val_loss: 0.3664 - val_acc: 0.8516\n",
            "Epoch 4/10\n",
            "20000/20000 [==============================] - 59s 3ms/step - loss: 0.2302 - acc: 0.9116 - val_loss: 0.3714 - val_acc: 0.8530\n",
            "Epoch 5/10\n",
            "20000/20000 [==============================] - 59s 3ms/step - loss: 0.1644 - acc: 0.9405 - val_loss: 0.3616 - val_acc: 0.8662\n",
            "Epoch 6/10\n",
            "  384/20000 [..............................] - ETA: 56s - loss: 0.0821 - acc: 0.9714"
          ],
          "name": "stdout"
        },
        {
          "output_type": "stream",
          "text": [
            "20000/20000 [==============================] - 60s 3ms/step - loss: 0.1112 - acc: 0.9623 - val_loss: 0.4430 - val_acc: 0.8324\n",
            "Epoch 7/10\n",
            "20000/20000 [==============================] - 60s 3ms/step - loss: 0.0738 - acc: 0.9767 - val_loss: 0.4802 - val_acc: 0.8292\n",
            "Epoch 8/10\n",
            "18432/20000 [==========================>...] - ETA: 4s - loss: 0.0469 - acc: 0.9855"
          ],
          "name": "stdout"
        },
        {
          "output_type": "stream",
          "text": [
            "20000/20000 [==============================] - 60s 3ms/step - loss: 0.0482 - acc: 0.9847 - val_loss: 0.5652 - val_acc: 0.8140\n",
            "Epoch 9/10\n",
            "20000/20000 [==============================] - 60s 3ms/step - loss: 0.0284 - acc: 0.9919 - val_loss: 0.5614 - val_acc: 0.8432\n",
            "Epoch 10/10\n",
            "20000/20000 [==============================] - 60s 3ms/step - loss: 0.0222 - acc: 0.9940 - val_loss: 0.6795 - val_acc: 0.8076\n"
          ],
          "name": "stdout"
        }
      ]
    },
    {
      "metadata": {
        "id": "4oE37uY6l_P2",
        "colab_type": "code",
        "colab": {
          "base_uri": "https://localhost:8080/",
          "height": 707
        },
        "outputId": "9fcdf985-24b0-4da5-9fcb-c56eea6075db"
      },
      "cell_type": "code",
      "source": [
        "import matplotlib.pyplot as plt\n",
        "\n",
        "acc = history.history['acc']\n",
        "val_acc = history.history['val_acc']\n",
        "loss = history.history['loss']\n",
        "val_loss = history.history['val_loss']\n",
        "\n",
        "epochs = range(1, len(acc) + 1)\n",
        "\n",
        "plt.plot(epochs, acc, 'bo', label='Training accuracy')\n",
        "plt.plot(epochs, val_acc, 'b', label='Validation accuracy')\n",
        "plt.title('Accuracy of the model')\n",
        "plt.legend()\n",
        "\n",
        "plt.figure()\n",
        "\n",
        "plt.plot(epochs, loss, 'bo', label='Training loss')\n",
        "plt.plot(epochs, val_loss, 'b', label='Validation loss')\n",
        "plt.legend()\n",
        "plt.title('Loss of the model')\n",
        "\n",
        "plt.show()"
      ],
      "execution_count": 19,
      "outputs": [
        {
          "output_type": "display_data",
          "data": {
            "image/png": "[encoded data removed]",
            "text/plain": [
              "<matplotlib.figure.Figure at 0x7f84f3f9cbe0>"
            ]
          },
          "metadata": {
            "tags": []
          }
        },
        {
          "output_type": "display_data",
          "data": {
            "image/png": "[encoded data removed]",
            "text/plain": [
              "<matplotlib.figure.Figure at 0x7f84f3fe3198>"
            ]
          },
          "metadata": {
            "tags": []
          }
        }
      ]
    },
    {
      "metadata": {
        "id": "ZQiUEYsSn3gO",
        "colab_type": "text"
      },
      "cell_type": "markdown",
      "source": [
        "### LSTM and GRU"
      ]
    },
    {
      "metadata": {
        "id": "LgvtuLLAnaDL",
        "colab_type": "code",
        "colab": {
          "base_uri": "https://localhost:8080/",
          "height": 394
        },
        "outputId": "ff7d82e0-f9b8-45b2-cfaf-44c84d23b658"
      },
      "cell_type": "code",
      "source": [
        "from keras.models import Sequential\n",
        "from keras.layers import Dense, Flatten, LSTM, Embedding\n",
        "\n",
        "model = Sequential()\n",
        "model.add(Embedding(max_features, 32))\n",
        "model.add(LSTM(32))\n",
        "model.add(Dense(1, activation='sigmoid'))\n",
        "model.compile(optimizer='rmsprop', metrics=['acc'], loss='binary_crossentropy')\n",
        "history = model.fit(x_train, y_train, batch_size=128, epochs=10, validation_split=0.2)"
      ],
      "execution_count": 20,
      "outputs": [
        {
          "output_type": "stream",
          "text": [
            "Train on 20000 samples, validate on 5000 samples\n",
            "Epoch 1/10\n",
            "20000/20000 [==============================] - 245s 12ms/step - loss: 0.5088 - acc: 0.7623 - val_loss: 0.4024 - val_acc: 0.8520\n",
            "Epoch 2/10\n",
            "20000/20000 [==============================] - 242s 12ms/step - loss: 0.2920 - acc: 0.8863 - val_loss: 0.3657 - val_acc: 0.8356\n",
            "Epoch 3/10\n",
            " 9600/20000 [=============>................] - ETA: 1:58 - loss: 0.2245 - acc: 0.9135"
          ],
          "name": "stdout"
        },
        {
          "output_type": "stream",
          "text": [
            "20000/20000 [==============================] - 243s 12ms/step - loss: 0.2320 - acc: 0.9102 - val_loss: 0.2898 - val_acc: 0.8874\n",
            "Epoch 4/10\n",
            "20000/20000 [==============================] - 249s 12ms/step - loss: 0.1939 - acc: 0.9281 - val_loss: 0.4248 - val_acc: 0.8736\n",
            "Epoch 5/10\n",
            "20000/20000 [==============================] - 251s 13ms/step - loss: 0.1755 - acc: 0.9357 - val_loss: 0.2890 - val_acc: 0.8780\n"
          ],
          "name": "stdout"
        },
        {
          "output_type": "stream",
          "text": [
            "Epoch 6/10\n",
            "20000/20000 [==============================] - 247s 12ms/step - loss: 0.1529 - acc: 0.9437 - val_loss: 0.4394 - val_acc: 0.8546\n",
            "Epoch 7/10\n",
            "20000/20000 [==============================] - 246s 12ms/step - loss: 0.1410 - acc: 0.9493 - val_loss: 0.3719 - val_acc: 0.8810\n",
            "Epoch 8/10\n",
            "16256/20000 [=======================>......] - ETA: 42s - loss: 0.1271 - acc: 0.9556"
          ],
          "name": "stdout"
        },
        {
          "output_type": "stream",
          "text": [
            "20000/20000 [==============================] - 243s 12ms/step - loss: 0.1291 - acc: 0.9546 - val_loss: 0.3255 - val_acc: 0.8790\n",
            "Epoch 9/10\n",
            "20000/20000 [==============================] - 248s 12ms/step - loss: 0.1156 - acc: 0.9594 - val_loss: 0.4300 - val_acc: 0.8564\n",
            "Epoch 10/10\n",
            "20000/20000 [==============================] - 248s 12ms/step - loss: 0.1141 - acc: 0.9604 - val_loss: 0.3655 - val_acc: 0.8692\n"
          ],
          "name": "stdout"
        }
      ]
    },
    {
      "metadata": {
        "id": "PQfFvocBxff3",
        "colab_type": "code",
        "colab": {
          "base_uri": "https://localhost:8080/",
          "height": 707
        },
        "outputId": "515d01dd-9bee-4c56-b61c-884d347f81ce"
      },
      "cell_type": "code",
      "source": [
        "import matplotlib.pyplot as plt\n",
        "\n",
        "acc = history.history['acc']\n",
        "val_acc = history.history['val_acc']\n",
        "loss = history.history['loss']\n",
        "val_loss = history.history['val_loss']\n",
        "\n",
        "epochs = range(1, len(acc) + 1)\n",
        "\n",
        "plt.plot(epochs, acc, 'bo', label='Training accuracy')\n",
        "plt.plot(epochs, val_acc, 'b', label='Validation accuracy')\n",
        "plt.title('Accuracy of the model')\n",
        "plt.legend()\n",
        "\n",
        "plt.figure()\n",
        "\n",
        "plt.plot(epochs, loss, 'bo', label='Training loss')\n",
        "plt.plot(epochs, val_loss, 'b', label='Validation loss')\n",
        "plt.legend()\n",
        "plt.title('Loss of the model')\n",
        "\n",
        "plt.show()"
      ],
      "execution_count": 37,
      "outputs": [
        {
          "output_type": "display_data",
          "data": {
            "image/png": "[encoded data removed]",
            "text/plain": [
              "<matplotlib.figure.Figure at 0x7f0a8353bf28>"
            ]
          },
          "metadata": {
            "tags": []
          }
        },
        {
          "output_type": "display_data",
          "data": {
            "image/png": "[encoded data removed]",
            "text/plain": [
              "<matplotlib.figure.Figure at 0x7f0a8357bda0>"
            ]
          },
          "metadata": {
            "tags": []
          }
        }
      ]
    },
    {
      "metadata": {
        "id": "RhokS72zxjrc",
        "colab_type": "text"
      },
      "cell_type": "markdown",
      "source": [
        "## Timeseries"
      ]
    },
    {
      "metadata": {
        "id": "ZCVxAon6qvUo",
        "colab_type": "code",
        "colab": {
          "base_uri": "https://localhost:8080/",
          "height": 221
        },
        "outputId": "e38ab82e-1082-4fa6-f461-cd817551cc04"
      },
      "cell_type": "code",
      "source": [
        "!wget -nc https://s3.amazonaws.com/keras-datasets/jena_climate_2009_2016.csv.zip\n",
        "!unzip -qo jena_climate_2009_2016.csv.zip\n",
        "!ls"
      ],
      "execution_count": 1,
      "outputs": [
        {
          "output_type": "stream",
          "text": [
            "--2018-07-19 16:02:29--  https://s3.amazonaws.com/keras-datasets/jena_climate_2009_2016.csv.zip\r\n",
            "Resolving s3.amazonaws.com (s3.amazonaws.com)... 52.216.232.61\n",
            "Connecting to s3.amazonaws.com (s3.amazonaws.com)|52.216.232.61|:443... connected.\n",
            "HTTP request sent, awaiting response... 200 OK\n",
            "Length: 13568290 (13M) [application/zip]\n",
            "Saving to: ‘jena_climate_2009_2016.csv.zip’\n",
            "\n",
            "jena_climate_2009_2 100%[===================>]  12.94M  7.78MB/s    in 1.7s    \n",
            "\n",
            "2018-07-19 16:02:31 (7.78 MB/s) - ‘jena_climate_2009_2016.csv.zip’ saved [13568290/13568290]\n",
            "\n",
            "datalab  jena_climate_2009_2016.csv  jena_climate_2009_2016.csv.zip\n"
          ],
          "name": "stdout"
        }
      ]
    },
    {
      "metadata": {
        "id": "R4fPbSR2ub6p",
        "colab_type": "code",
        "colab": {}
      },
      "cell_type": "code",
      "source": [
        "import os\n",
        "weather_dir = ''\n",
        "filename = os.path.join(weather_dir, 'jena_climate_2009_2016.csv')\n",
        "\n",
        "with open(filename) as file:\n",
        "  data = file.read()\n",
        "  \n",
        "data = data.split('\\n')\n",
        "header = data[0].split(',')\n",
        "lines = data[1:]\n",
        "\n",
        "import numpy as np\n",
        "\n",
        "weather = np.zeros((len(lines), len(header) - 1))\n",
        "for i, line in enumerate(lines):\n",
        "  values = [float(x) for x in line.split(',')[1:]]\n",
        "  weather[i,:] = values  "
      ],
      "execution_count": 0,
      "outputs": []
    },
    {
      "metadata": {
        "id": "ZWnnySBMwsq7",
        "colab_type": "code",
        "colab": {}
      },
      "cell_type": "code",
      "source": [
        "mean = weather[:200000].mean(axis=0)\n",
        "weather -= mean\n",
        "std = weather[:200000].std(axis=0)\n",
        "weather /= std"
      ],
      "execution_count": 0,
      "outputs": []
    },
    {
      "metadata": {
        "id": "5vhYx5WnRHHK",
        "colab_type": "code",
        "colab": {}
      },
      "cell_type": "code",
      "source": [
        "lookback = 1440\n",
        "step = 6\n",
        "delay = 144\n",
        "batch_size = 128"
      ],
      "execution_count": 0,
      "outputs": []
    },
    {
      "metadata": {
        "id": "6eaYmHuPxRME",
        "colab_type": "code",
        "colab": {}
      },
      "cell_type": "code",
      "source": [
        "def generator(data, lookback, delay, min_index, max_index, shuffle=False, batch_size=128, step=6):\n",
        "  if max_index is None:\n",
        "    max_index = len(data) - delay - 1\n",
        "  i = min_index + lookback\n",
        "  while True:\n",
        "    if shuffle:\n",
        "      rows = np.random.randint(min_index + lookback, max_index, size=batch_size)\n",
        "    else:\n",
        "      if i + batch_size >= max_index:\n",
        "        i = min_index + lookback\n",
        "      rows = np.arange(i, min(i + batch_size, max_index))\n",
        "      i += len(rows)\n",
        "    samples = np.zeros((len(rows), lookback//step, data.shape[-1]))\n",
        "    targets = np.zeros((len(rows),))\n",
        "    for j, row in enumerate(rows):\n",
        "      indices = range(rows[j] - lookback, rows[j], step)\n",
        "      samples[j] = data[indices]\n",
        "      targets[j] = data[rows[j] + delay][1]\n",
        "    yield samples, targets"
      ],
      "execution_count": 0,
      "outputs": []
    },
    {
      "metadata": {
        "id": "L0k06KjpRpjQ",
        "colab_type": "code",
        "colab": {}
      },
      "cell_type": "code",
      "source": [
        "train_gen = generator(weather, lookback=lookback, delay=delay, min_index=0, max_index=200000, shuffle=True, step=step, batch_size=batch_size)\n",
        "val_gen = generator(weather, lookback=lookback, delay=delay, min_index=200001, max_index=300000, shuffle=True, step=step, batch_size=batch_size)\n",
        "test_gen = generator(weather, lookback=lookback, delay=delay, min_index=300001, max_index=None, shuffle=True, step=step, batch_size=batch_size)"
      ],
      "execution_count": 0,
      "outputs": []
    },
    {
      "metadata": {
        "id": "Z8niwZpvS7rM",
        "colab_type": "code",
        "colab": {
          "base_uri": "https://localhost:8080/",
          "height": 51
        },
        "outputId": "ac2f518b-87b6-4fd5-929e-d489f88c4202"
      },
      "cell_type": "code",
      "source": [
        "val_steps = (300000 - 200001 - lookback) // batch_size \n",
        "print(val_steps)\n",
        "test_steps = (len(weather) - 300001 - lookback) // batch_size \n",
        "print(test_steps)"
      ],
      "execution_count": 7,
      "outputs": [
        {
          "output_type": "stream",
          "text": [
            "769\n",
            "930\n"
          ],
          "name": "stdout"
        }
      ]
    },
    {
      "metadata": {
        "id": "4Q64_QkMoO6-",
        "colab_type": "text"
      },
      "cell_type": "markdown",
      "source": [
        "### Naive prediction"
      ]
    },
    {
      "metadata": {
        "id": "fh7dv7e0VKl7",
        "colab_type": "code",
        "colab": {
          "base_uri": "https://localhost:8080/",
          "height": 51
        },
        "outputId": "eafe489d-b402-4859-c866-b48e0d3d0038"
      },
      "cell_type": "code",
      "source": [
        "def naive_prediction_mae():\n",
        "  batch_maes = []\n",
        "  for step in range(val_steps):\n",
        "    samples, targets = next(val_gen)\n",
        "    preds = samples[:,-1, 1]\n",
        "    mae = np.mean(np.abs(preds - targets))\n",
        "    batch_maes.append(mae)\n",
        "  return np.mean(batch_maes)\n",
        "np_mae = naive_prediction_mae()\n",
        "print(f'The naive apporach has a normalized MAE of {np_mae}')\n",
        "print(f'The real world MAE is {np_mae * std[1]}')"
      ],
      "execution_count": 30,
      "outputs": [
        {
          "output_type": "stream",
          "text": [
            "The naive apporach has a normalized MAE of 0.2889441846094727\n",
            "The real world MAE is 2.5578781290637194\n"
          ],
          "name": "stdout"
        }
      ]
    },
    {
      "metadata": {
        "id": "VxcNy5W2oJIN",
        "colab_type": "text"
      },
      "cell_type": "markdown",
      "source": [
        "### Simple dense network"
      ]
    },
    {
      "metadata": {
        "id": "t6PP3vccX8kf",
        "colab_type": "code",
        "colab": {
          "base_uri": "https://localhost:8080/",
          "height": 1336
        },
        "outputId": "ab056ed8-f728-46d1-cb42-f7bedaa09ff5"
      },
      "cell_type": "code",
      "source": [
        "from keras.models import Sequential\n",
        "from keras.layers import Flatten, Dense\n",
        "\n",
        "model = Sequential()\n",
        "model.add(Flatten(input_shape=(lookback//step, weather.shape[-1])))\n",
        "model.add(Dense(32, activation='relu'))\n",
        "model.add(Dense(1))\n",
        "model.compile(optimizer='rmsprop', metrics=['mae'], loss='mae')\n",
        "model.summary()\n",
        "history = model.fit_generator(train_gen, epochs=20, steps_per_epoch=500, validation_data=val_gen, validation_steps=val_steps)\n",
        "\n",
        "import matplotlib.pyplot as plt\n",
        "mae = history.history['loss']\n",
        "val_mae = history.history['val_loss']\n",
        "\n",
        "epochs = range(3, len(mae) + 1)\n",
        "\n",
        "plt.figure()\n",
        "plt.plot(epochs, mae[3:], 'bo', label='Training loss')\n",
        "plt.plot(epochs, val_mae[3:], 'b', label='Validation loss')\n",
        "plt.title('Mean Absolute Error')\n",
        "plt.legend()\n",
        "\n",
        "plt.show()"
      ],
      "execution_count": 27,
      "outputs": [
        {
          "output_type": "stream",
          "text": [
            "_________________________________________________________________\n",
            "Layer (type)                 Output Shape              Param #   \n",
            "=================================================================\n",
            "flatten_8 (Flatten)          (None, 3360)              0         \n",
            "_________________________________________________________________\n",
            "dense_15 (Dense)             (None, 32)                107552    \n",
            "_________________________________________________________________\n",
            "dense_16 (Dense)             (None, 1)                 33        \n",
            "=================================================================\n",
            "Total params: 107,585\n",
            "Trainable params: 107,585\n",
            "Non-trainable params: 0\n",
            "_________________________________________________________________\n",
            "Epoch 1/20\n",
            "482/500 [===========================>..] - ETA: 0s - loss: 1.6774 - mean_absolute_error: 1.6774"
          ],
          "name": "stdout"
        },
        {
          "output_type": "stream",
          "text": [
            "500/500 [==============================] - 15s 31ms/step - loss: 1.6470 - mean_absolute_error: 1.6470 - val_loss: 0.9427 - val_mean_absolute_error: 0.9427\n",
            "Epoch 2/20\n",
            "500/500 [==============================] - 15s 30ms/step - loss: 0.5453 - mean_absolute_error: 0.5453 - val_loss: 0.3542 - val_mean_absolute_error: 0.3542\n",
            "Epoch 3/20\n",
            "500/500 [==============================] - 15s 31ms/step - loss: 0.3114 - mean_absolute_error: 0.3114 - val_loss: 0.3218 - val_mean_absolute_error: 0.3218\n",
            "Epoch 4/20\n",
            " 99/500 [====>.........................] - ETA: 5s - loss: 0.2838 - mean_absolute_error: 0.2838"
          ],
          "name": "stdout"
        },
        {
          "output_type": "stream",
          "text": [
            "500/500 [==============================] - 15s 30ms/step - loss: 0.2746 - mean_absolute_error: 0.2746 - val_loss: 0.3045 - val_mean_absolute_error: 0.3045\n",
            "Epoch 5/20\n",
            "500/500 [==============================] - 15s 30ms/step - loss: 0.2596 - mean_absolute_error: 0.2596 - val_loss: 0.3396 - val_mean_absolute_error: 0.3396\n",
            "Epoch 6/20\n",
            "500/500 [==============================] - 15s 30ms/step - loss: 0.2465 - mean_absolute_error: 0.2465 - val_loss: 0.3451 - val_mean_absolute_error: 0.3451\n",
            "Epoch 7/20\n",
            " 40/500 [=>............................] - ETA: 5s - loss: 0.2394 - mean_absolute_error: 0.2394"
          ],
          "name": "stdout"
        },
        {
          "output_type": "stream",
          "text": [
            "500/500 [==============================] - 15s 30ms/step - loss: 0.2380 - mean_absolute_error: 0.2380 - val_loss: 0.3544 - val_mean_absolute_error: 0.3544\n",
            "Epoch 8/20\n",
            "500/500 [==============================] - 15s 30ms/step - loss: 0.2308 - mean_absolute_error: 0.2308 - val_loss: 0.3323 - val_mean_absolute_error: 0.3323\n",
            "Epoch 9/20\n",
            "500/500 [==============================] - 15s 30ms/step - loss: 0.2265 - mean_absolute_error: 0.2265 - val_loss: 0.3224 - val_mean_absolute_error: 0.3224\n",
            "Epoch 10/20\n",
            " 35/500 [=>............................] - ETA: 5s - loss: 0.2276 - mean_absolute_error: 0.2276"
          ],
          "name": "stdout"
        },
        {
          "output_type": "stream",
          "text": [
            "500/500 [==============================] - 15s 30ms/step - loss: 0.2217 - mean_absolute_error: 0.2217 - val_loss: 0.3210 - val_mean_absolute_error: 0.3210\n",
            "Epoch 11/20\n",
            "500/500 [==============================] - 16s 33ms/step - loss: 0.2182 - mean_absolute_error: 0.2182 - val_loss: 0.3656 - val_mean_absolute_error: 0.3656\n",
            "Epoch 12/20\n",
            "473/500 [===========================>..] - ETA: 0s - loss: 0.2149 - mean_absolute_error: 0.2149"
          ],
          "name": "stdout"
        },
        {
          "output_type": "stream",
          "text": [
            "500/500 [==============================] - 16s 33ms/step - loss: 0.2149 - mean_absolute_error: 0.2149 - val_loss: 0.3247 - val_mean_absolute_error: 0.3247\n",
            "Epoch 13/20\n",
            "500/500 [==============================] - 16s 33ms/step - loss: 0.2129 - mean_absolute_error: 0.2129 - val_loss: 0.3221 - val_mean_absolute_error: 0.3221\n",
            "Epoch 14/20\n",
            "500/500 [==============================] - 16s 33ms/step - loss: 0.2089 - mean_absolute_error: 0.2089 - val_loss: 0.3236 - val_mean_absolute_error: 0.3236\n",
            "Epoch 15/20\n",
            " 59/500 [==>...........................] - ETA: 6s - loss: 0.2116 - mean_absolute_error: 0.2116"
          ],
          "name": "stdout"
        },
        {
          "output_type": "stream",
          "text": [
            "500/500 [==============================] - 16s 33ms/step - loss: 0.2085 - mean_absolute_error: 0.2085 - val_loss: 0.3329 - val_mean_absolute_error: 0.3329\n",
            "Epoch 16/20\n",
            "500/500 [==============================] - 16s 33ms/step - loss: 0.2039 - mean_absolute_error: 0.2039 - val_loss: 0.3550 - val_mean_absolute_error: 0.3550\n",
            "Epoch 17/20\n",
            "471/500 [===========================>..] - ETA: 0s - loss: 0.2032 - mean_absolute_error: 0.2032"
          ],
          "name": "stdout"
        },
        {
          "output_type": "stream",
          "text": [
            "500/500 [==============================] - 17s 33ms/step - loss: 0.2029 - mean_absolute_error: 0.2029 - val_loss: 0.3372 - val_mean_absolute_error: 0.3372\n",
            "Epoch 18/20\n",
            "500/500 [==============================] - 16s 33ms/step - loss: 0.2010 - mean_absolute_error: 0.2010 - val_loss: 0.3344 - val_mean_absolute_error: 0.3344\n",
            "Epoch 19/20\n",
            "500/500 [==============================] - 16s 33ms/step - loss: 0.1998 - mean_absolute_error: 0.1998 - val_loss: 0.3268 - val_mean_absolute_error: 0.3268\n",
            "Epoch 20/20\n",
            " 44/500 [=>............................] - ETA: 6s - loss: 0.2011 - mean_absolute_error: 0.2011"
          ],
          "name": "stdout"
        },
        {
          "output_type": "stream",
          "text": [
            "500/500 [==============================] - 16s 33ms/step - loss: 0.1983 - mean_absolute_error: 0.1983 - val_loss: 0.3404 - val_mean_absolute_error: 0.3404\n"
          ],
          "name": "stdout"
        },
        {
          "output_type": "display_data",
          "data": {
            "image/png": "[encoded data removed]",
            "text/plain": [
              "<matplotlib.figure.Figure at 0x7f14876dc400>"
            ]
          },
          "metadata": {
            "tags": []
          }
        }
      ]
    },
    {
      "metadata": {
        "id": "QT8mr4SGoFV4",
        "colab_type": "text"
      },
      "cell_type": "markdown",
      "source": [
        "### GRU"
      ]
    },
    {
      "metadata": {
        "id": "-f6eIth3d_UD",
        "colab_type": "code",
        "colab": {
          "base_uri": "https://localhost:8080/",
          "height": 737
        },
        "outputId": "4046d63d-9d9a-4e7d-cb62-a7b0adb789b9"
      },
      "cell_type": "code",
      "source": [
        "from keras.models import Sequential\n",
        "from keras.layers import Dense, GRU\n",
        "\n",
        "model = Sequential()\n",
        "model.add(GRU(32, input_shape=(None, weather.shape[-1])))\n",
        "model.add(Dense(1))\n",
        "model.compile(optimizer='rmsprop', loss='mae')\n",
        "history = model.fit_generator(train_gen, epochs=20, steps_per_epoch=20, validation_data=val_gen, validation_steps=val_steps)"
      ],
      "execution_count": 28,
      "outputs": [
        {
          "output_type": "stream",
          "text": [
            "Epoch 1/20\n",
            "20/20 [==============================] - 92s 5s/step - loss: 0.3758 - val_loss: 0.2980\n",
            "Epoch 2/20\n",
            "20/20 [==============================] - 91s 5s/step - loss: 0.3290 - val_loss: 0.2865\n",
            "Epoch 3/20\n",
            "20/20 [==============================] - 91s 5s/step - loss: 0.3112 - val_loss: 0.2889\n",
            "Epoch 4/20\n",
            "20/20 [==============================] - 91s 5s/step - loss: 0.3118 - val_loss: 0.2837\n",
            "Epoch 5/20\n",
            "20/20 [==============================] - 91s 5s/step - loss: 0.3014 - val_loss: 0.2784\n",
            "Epoch 6/20\n",
            "20/20 [==============================] - 91s 5s/step - loss: 0.3018 - val_loss: 0.2863\n",
            "Epoch 7/20\n",
            "20/20 [==============================] - 91s 5s/step - loss: 0.3022 - val_loss: 0.2778\n",
            "Epoch 8/20\n",
            "20/20 [==============================] - 92s 5s/step - loss: 0.2891 - val_loss: 0.2816\n",
            "Epoch 9/20\n",
            "20/20 [==============================] - 91s 5s/step - loss: 0.3033 - val_loss: 0.2801\n",
            "Epoch 10/20\n",
            "11/20 [===============>..............] - ETA: 3s - loss: 0.2945"
          ],
          "name": "stdout"
        },
        {
          "output_type": "stream",
          "text": [
            "20/20 [==============================] - 91s 5s/step - loss: 0.2908 - val_loss: 0.2764\n",
            "Epoch 11/20\n",
            "20/20 [==============================] - 91s 5s/step - loss: 0.2906 - val_loss: 0.2765\n",
            "Epoch 12/20\n",
            "20/20 [==============================] - 92s 5s/step - loss: 0.2842 - val_loss: 0.2737\n",
            "Epoch 13/20\n",
            "20/20 [==============================] - 91s 5s/step - loss: 0.2912 - val_loss: 0.2743\n",
            "Epoch 14/20\n",
            "20/20 [==============================] - 91s 5s/step - loss: 0.2896 - val_loss: 0.2767\n",
            "Epoch 15/20\n",
            "20/20 [==============================] - 91s 5s/step - loss: 0.2924 - val_loss: 0.2777\n",
            "Epoch 16/20\n",
            "20/20 [==============================] - 91s 5s/step - loss: 0.2941 - val_loss: 0.2728\n",
            "Epoch 17/20\n",
            "20/20 [==============================] - 91s 5s/step - loss: 0.2840 - val_loss: 0.2716\n",
            "Epoch 18/20\n",
            "20/20 [==============================] - 91s 5s/step - loss: 0.2892 - val_loss: 0.2812\n",
            "Epoch 19/20\n",
            "13/20 [==================>...........] - ETA: 2s - loss: 0.2925"
          ],
          "name": "stdout"
        },
        {
          "output_type": "stream",
          "text": [
            "20/20 [==============================] - 91s 5s/step - loss: 0.2937 - val_loss: 0.2762\n",
            "Epoch 20/20\n",
            "20/20 [==============================] - 92s 5s/step - loss: 0.2973 - val_loss: 0.2730\n"
          ],
          "name": "stdout"
        }
      ]
    },
    {
      "metadata": {
        "id": "XVp2LOD-gsze",
        "colab_type": "code",
        "colab": {
          "base_uri": "https://localhost:8080/",
          "height": 362
        },
        "outputId": "68d12013-90c1-424c-e752-69374ce87473"
      },
      "cell_type": "code",
      "source": [
        "import matplotlib.pyplot as plt\n",
        "mae = history.history['loss']\n",
        "val_mae = history.history['val_loss']\n",
        "\n",
        "epochs = range(1, len(mae) + 1)\n",
        "\n",
        "plt.figure()\n",
        "plt.plot(epochs, mae, 'bo', label='Training loss')\n",
        "plt.plot(epochs, val_mae, 'b', label='Validation loss')\n",
        "plt.title('Mean Absolute Error')\n",
        "plt.legend()\n",
        "\n",
        "plt.show()"
      ],
      "execution_count": 29,
      "outputs": [
        {
          "output_type": "display_data",
          "data": {
            "image/png": "[encoded data removed]",
            "text/plain": [
              "<matplotlib.figure.Figure at 0x7f1489d705c0>"
            ]
          },
          "metadata": {
            "tags": []
          }
        }
      ]
    },
    {
      "metadata": {
        "id": "lb5_ur-oojG-",
        "colab_type": "text"
      },
      "cell_type": "markdown",
      "source": [
        "### Dropout"
      ]
    },
    {
      "metadata": {
        "id": "_UbWQY00gtM9",
        "colab_type": "code",
        "colab": {
          "base_uri": "https://localhost:8080/",
          "height": 1959
        },
        "outputId": "bdbaa213-431d-46a6-996c-b3e52ea5a167"
      },
      "cell_type": "code",
      "source": [
        "from keras.models import Sequential\n",
        "from keras.layers import Dense, GRU\n",
        "\n",
        "model = Sequential()\n",
        "model.add(GRU(32, input_shape=(None, weather.shape[-1]), dropout=0.2, recurrent_dropout=0.2))\n",
        "model.add(Dense(1))\n",
        "model.compile(optimizer='rmsprop', loss='mae')\n",
        "history = model.fit_generator(train_gen, epochs=20, steps_per_epoch=40, validation_data=val_gen, validation_steps=val_steps)"
      ],
      "execution_count": 31,
      "outputs": [
        {
          "output_type": "stream",
          "text": [
            "Epoch 1/20\n",
            "40/40 [==============================] - 143s 4s/step - loss: 0.3969 - val_loss: 0.2954\n",
            "Epoch 2/20\n",
            "40/40 [==============================] - 143s 4s/step - loss: 0.3499 - val_loss: 0.2881\n",
            "Epoch 3/20\n",
            "40/40 [==============================] - 140s 4s/step - loss: 0.3410 - val_loss: 0.2844\n",
            "Epoch 4/20\n",
            "40/40 [==============================] - 141s 4s/step - loss: 0.3363 - val_loss: 0.2817\n",
            "Epoch 5/20\n",
            "40/40 [==============================] - 140s 3s/step - loss: 0.3380 - val_loss: 0.2807\n",
            "Epoch 6/20\n",
            "40/40 [==============================] - 139s 3s/step - loss: 0.3281 - val_loss: 0.2826\n",
            "Epoch 7/20\n",
            "30/40 [=====================>........] - ETA: 5s - loss: 0.3365"
          ],
          "name": "stdout"
        },
        {
          "output_type": "stream",
          "text": [
            "40/40 [==============================] - 139s 3s/step - loss: 0.3322 - val_loss: 0.2814\n",
            "Epoch 8/20\n",
            "40/40 [==============================] - 139s 3s/step - loss: 0.3217 - val_loss: 0.2808\n",
            "Epoch 9/20\n",
            "40/40 [==============================] - 141s 4s/step - loss: 0.3193 - val_loss: 0.2785\n",
            "Epoch 10/20\n",
            "40/40 [==============================] - 140s 4s/step - loss: 0.3230 - val_loss: 0.2789\n",
            "Epoch 11/20\n",
            "40/40 [==============================] - 140s 4s/step - loss: 0.3276 - val_loss: 0.2786\n",
            "Epoch 12/20\n",
            "40/40 [==============================] - 140s 3s/step - loss: 0.3303 - val_loss: 0.2767\n",
            "Epoch 13/20\n",
            "37/40 [==========================>...] - ETA: 1s - loss: 0.3207"
          ],
          "name": "stdout"
        },
        {
          "output_type": "stream",
          "text": [
            "40/40 [==============================] - 138s 3s/step - loss: 0.3208 - val_loss: 0.2850\n",
            "Epoch 14/20\n",
            "40/40 [==============================] - 138s 3s/step - loss: 0.3234 - val_loss: 0.2814\n",
            "Epoch 15/20\n",
            "40/40 [==============================] - 138s 3s/step - loss: 0.3124 - val_loss: 0.2778\n",
            "Epoch 16/20\n",
            "40/40 [==============================] - 138s 3s/step - loss: 0.3155 - val_loss: 0.2825\n",
            "Epoch 17/20\n",
            "40/40 [==============================] - 140s 4s/step - loss: 0.3131 - val_loss: 0.2747\n",
            "Epoch 18/20\n",
            "40/40 [==============================] - 140s 4s/step - loss: 0.3134 - val_loss: 0.2751\n",
            "Epoch 19/20\n",
            "37/40 [==========================>...] - ETA: 1s - loss: 0.3139"
          ],
          "name": "stdout"
        },
        {
          "output_type": "stream",
          "text": [
            "40/40 [==============================] - 140s 4s/step - loss: 0.3149 - val_loss: 0.2780\n",
            "Epoch 20/20\n",
            "40/40 [==============================] - 141s 4s/step - loss: 0.3139 - val_loss: 0.2746\n"
          ],
          "name": "stdout"
        },
        {
          "output_type": "error",
          "ename": "ValueError",
          "evalue": "ignored",
          "traceback": [
            "\u001b[0;31m---------------------------------------------------------------------------\u001b[0m",
            "\u001b[0;31mValueError\u001b[0m                                Traceback (most recent call last)",
            "\u001b[0;32m<ipython-input-31-7713a108f7ab>\u001b[0m in \u001b[0;36m<module>\u001b[0;34m()\u001b[0m\n\u001b[1;32m     15\u001b[0m \u001b[0;34m\u001b[0m\u001b[0m\n\u001b[1;32m     16\u001b[0m \u001b[0mplt\u001b[0m\u001b[0;34m.\u001b[0m\u001b[0mfigure\u001b[0m\u001b[0;34m(\u001b[0m\u001b[0;34m)\u001b[0m\u001b[0;34m\u001b[0m\u001b[0m\n\u001b[0;32m---> 17\u001b[0;31m \u001b[0mplt\u001b[0m\u001b[0;34m.\u001b[0m\u001b[0mplot\u001b[0m\u001b[0;34m(\u001b[0m\u001b[0mepochs\u001b[0m\u001b[0;34m,\u001b[0m \u001b[0mmae\u001b[0m\u001b[0;34m,\u001b[0m \u001b[0;34m'bo'\u001b[0m\u001b[0;34m,\u001b[0m \u001b[0mlabel\u001b[0m\u001b[0;34m=\u001b[0m\u001b[0;34m'Training loss'\u001b[0m\u001b[0;34m)\u001b[0m\u001b[0;34m\u001b[0m\u001b[0m\n\u001b[0m\u001b[1;32m     18\u001b[0m \u001b[0mplt\u001b[0m\u001b[0;34m.\u001b[0m\u001b[0mplot\u001b[0m\u001b[0;34m(\u001b[0m\u001b[0mepochs\u001b[0m\u001b[0;34m,\u001b[0m \u001b[0mval_mae\u001b[0m\u001b[0;34m,\u001b[0m \u001b[0;34m'b'\u001b[0m\u001b[0;34m,\u001b[0m \u001b[0mlabel\u001b[0m\u001b[0;34m=\u001b[0m\u001b[0;34m'Validation loss'\u001b[0m\u001b[0;34m)\u001b[0m\u001b[0;34m\u001b[0m\u001b[0m\n\u001b[1;32m     19\u001b[0m \u001b[0mplt\u001b[0m\u001b[0;34m.\u001b[0m\u001b[0mtitle\u001b[0m\u001b[0;34m(\u001b[0m\u001b[0;34m'Mean Absolute Error'\u001b[0m\u001b[0;34m)\u001b[0m\u001b[0;34m\u001b[0m\u001b[0m\n",
            "\u001b[0;32m/usr/local/lib/python3.6/dist-packages/matplotlib/pyplot.py\u001b[0m in \u001b[0;36mplot\u001b[0;34m(*args, **kwargs)\u001b[0m\n\u001b[1;32m   3259\u001b[0m                       mplDeprecation)\n\u001b[1;32m   3260\u001b[0m     \u001b[0;32mtry\u001b[0m\u001b[0;34m:\u001b[0m\u001b[0;34m\u001b[0m\u001b[0m\n\u001b[0;32m-> 3261\u001b[0;31m         \u001b[0mret\u001b[0m \u001b[0;34m=\u001b[0m \u001b[0max\u001b[0m\u001b[0;34m.\u001b[0m\u001b[0mplot\u001b[0m\u001b[0;34m(\u001b[0m\u001b[0;34m*\u001b[0m\u001b[0margs\u001b[0m\u001b[0;34m,\u001b[0m \u001b[0;34m**\u001b[0m\u001b[0mkwargs\u001b[0m\u001b[0;34m)\u001b[0m\u001b[0;34m\u001b[0m\u001b[0m\n\u001b[0m\u001b[1;32m   3262\u001b[0m     \u001b[0;32mfinally\u001b[0m\u001b[0;34m:\u001b[0m\u001b[0;34m\u001b[0m\u001b[0m\n\u001b[1;32m   3263\u001b[0m         \u001b[0max\u001b[0m\u001b[0;34m.\u001b[0m\u001b[0m_hold\u001b[0m \u001b[0;34m=\u001b[0m \u001b[0mwashold\u001b[0m\u001b[0;34m\u001b[0m\u001b[0m\n",
            "\u001b[0;32m/usr/local/lib/python3.6/dist-packages/matplotlib/__init__.py\u001b[0m in \u001b[0;36minner\u001b[0;34m(ax, *args, **kwargs)\u001b[0m\n\u001b[1;32m   1715\u001b[0m                     warnings.warn(msg % (label_namer, func.__name__),\n\u001b[1;32m   1716\u001b[0m                                   RuntimeWarning, stacklevel=2)\n\u001b[0;32m-> 1717\u001b[0;31m             \u001b[0;32mreturn\u001b[0m \u001b[0mfunc\u001b[0m\u001b[0;34m(\u001b[0m\u001b[0max\u001b[0m\u001b[0;34m,\u001b[0m \u001b[0;34m*\u001b[0m\u001b[0margs\u001b[0m\u001b[0;34m,\u001b[0m \u001b[0;34m**\u001b[0m\u001b[0mkwargs\u001b[0m\u001b[0;34m)\u001b[0m\u001b[0;34m\u001b[0m\u001b[0m\n\u001b[0m\u001b[1;32m   1718\u001b[0m         \u001b[0mpre_doc\u001b[0m \u001b[0;34m=\u001b[0m \u001b[0minner\u001b[0m\u001b[0;34m.\u001b[0m\u001b[0m__doc__\u001b[0m\u001b[0;34m\u001b[0m\u001b[0m\n\u001b[1;32m   1719\u001b[0m         \u001b[0;32mif\u001b[0m \u001b[0mpre_doc\u001b[0m \u001b[0;32mis\u001b[0m \u001b[0;32mNone\u001b[0m\u001b[0;34m:\u001b[0m\u001b[0;34m\u001b[0m\u001b[0m\n",
            "\u001b[0;32m/usr/local/lib/python3.6/dist-packages/matplotlib/axes/_axes.py\u001b[0m in \u001b[0;36mplot\u001b[0;34m(self, *args, **kwargs)\u001b[0m\n\u001b[1;32m   1370\u001b[0m         \u001b[0mkwargs\u001b[0m \u001b[0;34m=\u001b[0m \u001b[0mcbook\u001b[0m\u001b[0;34m.\u001b[0m\u001b[0mnormalize_kwargs\u001b[0m\u001b[0;34m(\u001b[0m\u001b[0mkwargs\u001b[0m\u001b[0;34m,\u001b[0m \u001b[0m_alias_map\u001b[0m\u001b[0;34m)\u001b[0m\u001b[0;34m\u001b[0m\u001b[0m\n\u001b[1;32m   1371\u001b[0m \u001b[0;34m\u001b[0m\u001b[0m\n\u001b[0;32m-> 1372\u001b[0;31m         \u001b[0;32mfor\u001b[0m \u001b[0mline\u001b[0m \u001b[0;32min\u001b[0m \u001b[0mself\u001b[0m\u001b[0;34m.\u001b[0m\u001b[0m_get_lines\u001b[0m\u001b[0;34m(\u001b[0m\u001b[0;34m*\u001b[0m\u001b[0margs\u001b[0m\u001b[0;34m,\u001b[0m \u001b[0;34m**\u001b[0m\u001b[0mkwargs\u001b[0m\u001b[0;34m)\u001b[0m\u001b[0;34m:\u001b[0m\u001b[0;34m\u001b[0m\u001b[0m\n\u001b[0m\u001b[1;32m   1373\u001b[0m             \u001b[0mself\u001b[0m\u001b[0;34m.\u001b[0m\u001b[0madd_line\u001b[0m\u001b[0;34m(\u001b[0m\u001b[0mline\u001b[0m\u001b[0;34m)\u001b[0m\u001b[0;34m\u001b[0m\u001b[0m\n\u001b[1;32m   1374\u001b[0m             \u001b[0mlines\u001b[0m\u001b[0;34m.\u001b[0m\u001b[0mappend\u001b[0m\u001b[0;34m(\u001b[0m\u001b[0mline\u001b[0m\u001b[0;34m)\u001b[0m\u001b[0;34m\u001b[0m\u001b[0m\n",
            "\u001b[0;32m/usr/local/lib/python3.6/dist-packages/matplotlib/axes/_base.py\u001b[0m in \u001b[0;36m_grab_next_args\u001b[0;34m(self, *args, **kwargs)\u001b[0m\n\u001b[1;32m    402\u001b[0m                 \u001b[0mthis\u001b[0m \u001b[0;34m+=\u001b[0m \u001b[0margs\u001b[0m\u001b[0;34m[\u001b[0m\u001b[0;36m0\u001b[0m\u001b[0;34m]\u001b[0m\u001b[0;34m,\u001b[0m\u001b[0;34m\u001b[0m\u001b[0m\n\u001b[1;32m    403\u001b[0m                 \u001b[0margs\u001b[0m \u001b[0;34m=\u001b[0m \u001b[0margs\u001b[0m\u001b[0;34m[\u001b[0m\u001b[0;36m1\u001b[0m\u001b[0;34m:\u001b[0m\u001b[0;34m]\u001b[0m\u001b[0;34m\u001b[0m\u001b[0m\n\u001b[0;32m--> 404\u001b[0;31m             \u001b[0;32mfor\u001b[0m \u001b[0mseg\u001b[0m \u001b[0;32min\u001b[0m \u001b[0mself\u001b[0m\u001b[0;34m.\u001b[0m\u001b[0m_plot_args\u001b[0m\u001b[0;34m(\u001b[0m\u001b[0mthis\u001b[0m\u001b[0;34m,\u001b[0m \u001b[0mkwargs\u001b[0m\u001b[0;34m)\u001b[0m\u001b[0;34m:\u001b[0m\u001b[0;34m\u001b[0m\u001b[0m\n\u001b[0m\u001b[1;32m    405\u001b[0m                 \u001b[0;32myield\u001b[0m \u001b[0mseg\u001b[0m\u001b[0;34m\u001b[0m\u001b[0m\n\u001b[1;32m    406\u001b[0m \u001b[0;34m\u001b[0m\u001b[0m\n",
            "\u001b[0;32m/usr/local/lib/python3.6/dist-packages/matplotlib/axes/_base.py\u001b[0m in \u001b[0;36m_plot_args\u001b[0;34m(self, tup, kwargs)\u001b[0m\n\u001b[1;32m    382\u001b[0m             \u001b[0mx\u001b[0m\u001b[0;34m,\u001b[0m \u001b[0my\u001b[0m \u001b[0;34m=\u001b[0m \u001b[0mindex_of\u001b[0m\u001b[0;34m(\u001b[0m\u001b[0mtup\u001b[0m\u001b[0;34m[\u001b[0m\u001b[0;34m-\u001b[0m\u001b[0;36m1\u001b[0m\u001b[0;34m]\u001b[0m\u001b[0;34m)\u001b[0m\u001b[0;34m\u001b[0m\u001b[0m\n\u001b[1;32m    383\u001b[0m \u001b[0;34m\u001b[0m\u001b[0m\n\u001b[0;32m--> 384\u001b[0;31m         \u001b[0mx\u001b[0m\u001b[0;34m,\u001b[0m \u001b[0my\u001b[0m \u001b[0;34m=\u001b[0m \u001b[0mself\u001b[0m\u001b[0;34m.\u001b[0m\u001b[0m_xy_from_xy\u001b[0m\u001b[0;34m(\u001b[0m\u001b[0mx\u001b[0m\u001b[0;34m,\u001b[0m \u001b[0my\u001b[0m\u001b[0;34m)\u001b[0m\u001b[0;34m\u001b[0m\u001b[0m\n\u001b[0m\u001b[1;32m    385\u001b[0m \u001b[0;34m\u001b[0m\u001b[0m\n\u001b[1;32m    386\u001b[0m         \u001b[0;32mif\u001b[0m \u001b[0mself\u001b[0m\u001b[0;34m.\u001b[0m\u001b[0mcommand\u001b[0m \u001b[0;34m==\u001b[0m \u001b[0;34m'plot'\u001b[0m\u001b[0;34m:\u001b[0m\u001b[0;34m\u001b[0m\u001b[0m\n",
            "\u001b[0;32m/usr/local/lib/python3.6/dist-packages/matplotlib/axes/_base.py\u001b[0m in \u001b[0;36m_xy_from_xy\u001b[0;34m(self, x, y)\u001b[0m\n\u001b[1;32m    241\u001b[0m         \u001b[0;32mif\u001b[0m \u001b[0mx\u001b[0m\u001b[0;34m.\u001b[0m\u001b[0mshape\u001b[0m\u001b[0;34m[\u001b[0m\u001b[0;36m0\u001b[0m\u001b[0;34m]\u001b[0m \u001b[0;34m!=\u001b[0m \u001b[0my\u001b[0m\u001b[0;34m.\u001b[0m\u001b[0mshape\u001b[0m\u001b[0;34m[\u001b[0m\u001b[0;36m0\u001b[0m\u001b[0;34m]\u001b[0m\u001b[0;34m:\u001b[0m\u001b[0;34m\u001b[0m\u001b[0m\n\u001b[1;32m    242\u001b[0m             raise ValueError(\"x and y must have same first dimension, but \"\n\u001b[0;32m--> 243\u001b[0;31m                              \"have shapes {} and {}\".format(x.shape, y.shape))\n\u001b[0m\u001b[1;32m    244\u001b[0m         \u001b[0;32mif\u001b[0m \u001b[0mx\u001b[0m\u001b[0;34m.\u001b[0m\u001b[0mndim\u001b[0m \u001b[0;34m>\u001b[0m \u001b[0;36m2\u001b[0m \u001b[0;32mor\u001b[0m \u001b[0my\u001b[0m\u001b[0;34m.\u001b[0m\u001b[0mndim\u001b[0m \u001b[0;34m>\u001b[0m \u001b[0;36m2\u001b[0m\u001b[0;34m:\u001b[0m\u001b[0;34m\u001b[0m\u001b[0m\n\u001b[1;32m    245\u001b[0m             raise ValueError(\"x and y can be no greater than 2-D, but have \"\n",
            "\u001b[0;31mValueError\u001b[0m: x and y must have same first dimension, but have shapes (17,) and (18,)"
          ]
        },
        {
          "output_type": "display_data",
          "data": {
            "image/png": "[encoded data removed]",
            "text/plain": [
              "<matplotlib.figure.Figure at 0x7f84f33ecc50>"
            ]
          },
          "metadata": {
            "tags": []
          }
        }
      ]
    },
    {
      "metadata": {
        "id": "FxHSzksdO4JD",
        "colab_type": "code",
        "colab": {
          "base_uri": "https://localhost:8080/",
          "height": 362
        },
        "outputId": "6b1044cc-633d-4358-9fb2-dbcee89aff5c"
      },
      "cell_type": "code",
      "source": [
        "import matplotlib.pyplot as plt\n",
        "mae = history.history['loss']\n",
        "val_mae = history.history['val_loss']\n",
        "\n",
        "epochs = range(2, len(mae) + 1)\n",
        "\n",
        "plt.figure()\n",
        "plt.plot(epochs, mae[1:], 'bo', label='Training loss')\n",
        "plt.plot(epochs, val_mae[1:], 'b', label='Validation loss')\n",
        "plt.title('Mean Absolute Error')\n",
        "plt.legend()\n",
        "\n",
        "plt.show()"
      ],
      "execution_count": 36,
      "outputs": [
        {
          "output_type": "display_data",
          "data": {
            "image/png": "[encoded data removed]",
            "text/plain": [
              "<matplotlib.figure.Figure at 0x7f84f3eba278>"
            ]
          },
          "metadata": {
            "tags": []
          }
        }
      ]
    },
    {
      "metadata": {
        "id": "Hs860mGpOBCf",
        "colab_type": "text"
      },
      "cell_type": "markdown",
      "source": [
        "### Stacking layers"
      ]
    },
    {
      "metadata": {
        "id": "0W8-i-1FNi6g",
        "colab_type": "code",
        "colab": {
          "base_uri": "https://localhost:8080/",
          "height": 1059
        },
        "outputId": "505a1132-ddd6-4a07-cd72-bcb7056005bb"
      },
      "cell_type": "code",
      "source": [
        "from keras.models import Sequential\n",
        "from keras.layers import Dense, GRU\n",
        "\n",
        "model = Sequential()\n",
        "model.add(GRU(32, input_shape=(None, weather.shape[-1]), dropout=0.1, recurrent_dropout=0.5, return_sequences=True))\n",
        "model.add(GRU(64, dropout=0.1, recurrent_dropout=0.5, activation='relu'))\n",
        "model.add(Dense(1))\n",
        "model.compile(optimizer='rmsprop', loss='mae')\n",
        "history = model.fit_generator(train_gen, epochs=20, steps_per_epoch=40, validation_data=val_gen, validation_steps=val_steps)\n",
        "\n",
        "import matplotlib.pyplot as plt\n",
        "mae = history.history['loss']\n",
        "val_mae = history.history['val_loss']\n",
        "epochs = range(2, len(mae) + 1)\n",
        "\n",
        "plt.figure()\n",
        "plt.plot(epochs, mae[1:], 'bo', label='Training loss')\n",
        "plt.plot(epochs, val_mae[1:], 'b', label='Validation loss')\n",
        "plt.title('Mean Absolute Error')\n",
        "plt.legend()\n",
        "\n",
        "plt.show()"
      ],
      "execution_count": 8,
      "outputs": [
        {
          "output_type": "stream",
          "text": [
            "Using TensorFlow backend.\n"
          ],
          "name": "stderr"
        },
        {
          "output_type": "stream",
          "text": [
            "Epoch 1/20\n",
            "40/40 [==============================] - 271s 7s/step - loss: 0.4245 - val_loss: 0.3028\n",
            "Epoch 2/20\n",
            "40/40 [==============================] - 267s 7s/step - loss: 0.3506 - val_loss: 0.2983\n",
            "Epoch 3/20\n",
            "40/40 [==============================] - 272s 7s/step - loss: 0.3321 - val_loss: 0.2906\n",
            "Epoch 4/20\n",
            "40/40 [==============================] - 271s 7s/step - loss: 0.3393 - val_loss: 0.2844\n",
            "Epoch 5/20\n",
            "40/40 [==============================] - 271s 7s/step - loss: 0.3345 - val_loss: 0.2822\n",
            "Epoch 6/20\n",
            "40/40 [==============================] - 269s 7s/step - loss: 0.3234 - val_loss: 0.2838\n",
            "Epoch 7/20\n",
            "30/40 [=====================>........] - ETA: 11s - loss: 0.3266"
          ],
          "name": "stdout"
        },
        {
          "output_type": "stream",
          "text": [
            "40/40 [==============================] - 268s 7s/step - loss: 0.3249 - val_loss: 0.2804\n",
            "Epoch 8/20\n",
            "40/40 [==============================] - 271s 7s/step - loss: 0.3254 - val_loss: 0.2806\n",
            "Epoch 9/20\n",
            "40/40 [==============================] - 264s 7s/step - loss: 0.3229 - val_loss: 0.2801\n",
            "Epoch 10/20\n",
            "40/40 [==============================] - 266s 7s/step - loss: 0.3196 - val_loss: 0.2761\n",
            "Epoch 11/20\n",
            "40/40 [==============================] - 267s 7s/step - loss: 0.3159 - val_loss: 0.2810\n",
            "Epoch 12/20\n",
            "40/40 [==============================] - 266s 7s/step - loss: 0.3151 - val_loss: 0.2776\n",
            "Epoch 13/20\n",
            "37/40 [==========================>...] - ETA: 3s - loss: 0.3204"
          ],
          "name": "stdout"
        },
        {
          "output_type": "stream",
          "text": [
            "40/40 [==============================] - 267s 7s/step - loss: 0.3200 - val_loss: 0.2903\n",
            "Epoch 14/20\n",
            "40/40 [==============================] - 268s 7s/step - loss: 0.3174 - val_loss: 0.2754\n",
            "Epoch 15/20\n",
            "40/40 [==============================] - 269s 7s/step - loss: 0.3168 - val_loss: 0.2762\n",
            "Epoch 16/20\n",
            "40/40 [==============================] - 270s 7s/step - loss: 0.3076 - val_loss: 0.2789\n",
            "Epoch 17/20\n",
            "40/40 [==============================] - 264s 7s/step - loss: 0.3133 - val_loss: 0.2748\n",
            "Epoch 18/20\n",
            "40/40 [==============================] - 266s 7s/step - loss: 0.3120 - val_loss: 0.2757\n",
            "Epoch 19/20\n",
            "37/40 [==========================>...] - ETA: 3s - loss: 0.3136"
          ],
          "name": "stdout"
        },
        {
          "output_type": "stream",
          "text": [
            "40/40 [==============================] - 266s 7s/step - loss: 0.3129 - val_loss: 0.2789\n",
            "Epoch 20/20\n",
            "40/40 [==============================] - 271s 7s/step - loss: 0.3128 - val_loss: 0.2736\n"
          ],
          "name": "stdout"
        },
        {
          "output_type": "display_data",
          "data": {
            "image/png": "[encoded data removed]",
            "text/plain": [
              "<matplotlib.figure.Figure at 0x7f243ac7cf98>"
            ]
          },
          "metadata": {
            "tags": []
          }
        }
      ]
    },
    {
      "metadata": {
        "id": "x5xbRwM8beM0",
        "colab_type": "text"
      },
      "cell_type": "markdown",
      "source": [
        "### Bidirectional layers\n"
      ]
    },
    {
      "metadata": {
        "id": "eRcMgR8IdIff",
        "colab_type": "text"
      },
      "cell_type": "markdown",
      "source": [
        "#### IMDB with LSTM"
      ]
    },
    {
      "metadata": {
        "id": "pu1to_X-dlTM",
        "colab_type": "code",
        "colab": {
          "base_uri": "https://localhost:8080/",
          "height": 51
        },
        "outputId": "e7106aa7-d36b-4cfb-a2ce-28d7bc35e50b"
      },
      "cell_type": "code",
      "source": [
        "from keras.datasets import imdb\n",
        "from keras.preprocessing import sequence\n",
        "\n",
        "max_features = 10000\n",
        "maxlen = 500\n",
        "\n",
        "(x_train, y_train), (x_test, y_test) = imdb.load_data(num_words=max_features)\n",
        "x_train = sequence.pad_sequences(x_train, maxlen=maxlen)\n",
        "x_test = sequence.pad_sequences(x_test, maxlen=maxlen)"
      ],
      "execution_count": 9,
      "outputs": [
        {
          "output_type": "stream",
          "text": [
            "Downloading data from https://s3.amazonaws.com/text-datasets/imdb.npz\n",
            "17465344/17464789 [==============================] - 2s 0us/step\n"
          ],
          "name": "stdout"
        }
      ]
    },
    {
      "metadata": {
        "id": "Yp7P0Bg7OcKR",
        "colab_type": "code",
        "colab": {
          "base_uri": "https://localhost:8080/",
          "height": 938
        },
        "outputId": "cdacf752-5ae3-4739-bd8f-da4273da0c37"
      },
      "cell_type": "code",
      "source": [
        "from keras.models import Sequential\n",
        "from keras.layers import Dense, Embedding, LSTM, Bidirectional\n",
        "\n",
        "model = Sequential()\n",
        "model.add(Embedding(max_features, 32))\n",
        "model.add(Bidirectional(LSTM(32, dropout=0.2, recurrent_dropout=0.2)))\n",
        "model.add(Dense(1, activation='sigmoid'))\n",
        "model.compile(optimizer='rmsprop', loss='binary_crossentropy', metrics=['acc'])\n",
        "history = model.fit(x_train, y_train, epochs=30, batch_size=128, validation_split=0.2)\n",
        "\n",
        "import matplotlib.pyplot as plt\n",
        "acc = history.history['acc']\n",
        "val_acc = history.history['acc']\n",
        "epochs = range(2, len(mae) + 1)\n",
        "\n",
        "plt.figure()\n",
        "plt.plot(epochs, mae[1:], 'bo', label='Training accuracy')\n",
        "plt.plot(epochs, val_mae[1:], 'b', label='Validation accuracy')\n",
        "plt.title('Accuracy')\n",
        "plt.legend()\n",
        "\n",
        "plt.show()"
      ],
      "execution_count": 0,
      "outputs": [
        {
          "output_type": "stream",
          "text": [
            "Train on 20000 samples, validate on 5000 samples\n",
            "Epoch 1/30\n",
            "20000/20000 [==============================] - 513s 26ms/step - loss: 0.5700 - acc: 0.7223 - val_loss: 0.4111 - val_acc: 0.8202\n",
            "Epoch 2/30\n",
            "20000/20000 [==============================] - 524s 26ms/step - loss: 0.3970 - acc: 0.8373 - val_loss: 0.4221 - val_acc: 0.8184\n",
            "Epoch 3/30\n",
            " 9600/20000 [=============>................] - ETA: 4:14 - loss: 0.3340 - acc: 0.8685"
          ],
          "name": "stdout"
        },
        {
          "output_type": "stream",
          "text": [
            "20000/20000 [==============================] - 521s 26ms/step - loss: 0.3328 - acc: 0.8679 - val_loss: 0.3674 - val_acc: 0.8434\n",
            "Epoch 4/30\n",
            "20000/20000 [==============================] - 512s 26ms/step - loss: 0.2955 - acc: 0.8831 - val_loss: 0.3943 - val_acc: 0.8298\n",
            "Epoch 5/30\n",
            "20000/20000 [==============================] - 516s 26ms/step - loss: 0.2700 - acc: 0.8967 - val_loss: 0.3922 - val_acc: 0.8258\n"
          ],
          "name": "stdout"
        },
        {
          "output_type": "stream",
          "text": [
            "Epoch 6/30\n",
            "20000/20000 [==============================] - 523s 26ms/step - loss: 0.2541 - acc: 0.9035 - val_loss: 0.3992 - val_acc: 0.8258\n",
            "Epoch 7/30\n",
            "20000/20000 [==============================] - 521s 26ms/step - loss: 0.2330 - acc: 0.9127 - val_loss: 0.3865 - val_acc: 0.8376\n",
            "Epoch 8/30\n",
            "16256/20000 [=======================>......] - ETA: 1:30 - loss: 0.2198 - acc: 0.9219"
          ],
          "name": "stdout"
        },
        {
          "output_type": "stream",
          "text": [
            "20000/20000 [==============================] - 516s 26ms/step - loss: 0.2249 - acc: 0.9181 - val_loss: 0.3758 - val_acc: 0.8568\n",
            "Epoch 9/30\n",
            "20000/20000 [==============================] - 514s 26ms/step - loss: 0.2099 - acc: 0.9243 - val_loss: 0.3735 - val_acc: 0.8484\n",
            "Epoch 10/30\n",
            "20000/20000 [==============================] - 522s 26ms/step - loss: 0.1952 - acc: 0.9280 - val_loss: 0.3787 - val_acc: 0.8468\n",
            "Epoch 11/30\n",
            " 1024/20000 [>.............................] - ETA: 7:47 - loss: 0.1969 - acc: 0.9229"
          ],
          "name": "stdout"
        },
        {
          "output_type": "stream",
          "text": [
            "20000/20000 [==============================] - 520s 26ms/step - loss: 0.1879 - acc: 0.9307 - val_loss: 0.4376 - val_acc: 0.8350\n",
            "Epoch 12/30\n",
            "20000/20000 [==============================] - 515s 26ms/step - loss: 0.1836 - acc: 0.9334 - val_loss: 0.4074 - val_acc: 0.8358\n",
            "Epoch 13/30\n",
            "17920/20000 [=========================>....] - ETA: 50s - loss: 0.1699 - acc: 0.9398"
          ],
          "name": "stdout"
        },
        {
          "output_type": "stream",
          "text": [
            "20000/20000 [==============================] - 513s 26ms/step - loss: 0.1701 - acc: 0.9394 - val_loss: 0.3834 - val_acc: 0.8596\n",
            "Epoch 14/30\n",
            "20000/20000 [==============================] - 519s 26ms/step - loss: 0.1589 - acc: 0.9441 - val_loss: 0.4074 - val_acc: 0.8482\n",
            "Epoch 15/30\n",
            "20000/20000 [==============================] - 522s 26ms/step - loss: 0.1576 - acc: 0.9426 - val_loss: 0.4113 - val_acc: 0.8410\n",
            "Epoch 16/30\n",
            " 1152/20000 [>.............................] - ETA: 7:35 - loss: 0.1500 - acc: 0.9505"
          ],
          "name": "stdout"
        },
        {
          "output_type": "stream",
          "text": [
            "20000/20000 [==============================] - 515s 26ms/step - loss: 0.1501 - acc: 0.9469 - val_loss: 0.4033 - val_acc: 0.8534\n",
            "Epoch 17/30\n",
            "20000/20000 [==============================] - 517s 26ms/step - loss: 0.1418 - acc: 0.9503 - val_loss: 0.4048 - val_acc: 0.8590\n",
            "Epoch 18/30\n",
            "18048/20000 [==========================>...] - ETA: 47s - loss: 0.1370 - acc: 0.9531"
          ],
          "name": "stdout"
        },
        {
          "output_type": "stream",
          "text": [
            "20000/20000 [==============================] - 520s 26ms/step - loss: 0.1363 - acc: 0.9532 - val_loss: 0.4701 - val_acc: 0.8498\n",
            "Epoch 19/30\n",
            "20000/20000 [==============================] - 526s 26ms/step - loss: 0.1315 - acc: 0.9539 - val_loss: 0.4334 - val_acc: 0.8476\n",
            "Epoch 20/30\n",
            "20000/20000 [==============================] - 523s 26ms/step - loss: 0.1225 - acc: 0.9574 - val_loss: 0.4594 - val_acc: 0.8438\n",
            "Epoch 21/30\n",
            " 1152/20000 [>.............................] - ETA: 7:37 - loss: 0.1205 - acc: 0.9549"
          ],
          "name": "stdout"
        },
        {
          "output_type": "stream",
          "text": [
            "20000/20000 [==============================] - 518s 26ms/step - loss: 0.1209 - acc: 0.9577 - val_loss: 0.4792 - val_acc: 0.8434\n",
            "Epoch 22/30\n",
            "20000/20000 [==============================] - 530s 27ms/step - loss: 0.1154 - acc: 0.9598 - val_loss: 0.4353 - val_acc: 0.8518\n",
            "Epoch 23/30\n",
            "18048/20000 [==========================>...] - ETA: 48s - loss: 0.1036 - acc: 0.9648"
          ],
          "name": "stdout"
        },
        {
          "output_type": "stream",
          "text": [
            "20000/20000 [==============================] - 523s 26ms/step - loss: 0.1050 - acc: 0.9643 - val_loss: 0.4494 - val_acc: 0.8596\n",
            "Epoch 24/30\n",
            "20000/20000 [==============================] - 527s 26ms/step - loss: 0.1058 - acc: 0.9633 - val_loss: 0.5900 - val_acc: 0.8278\n",
            "Epoch 25/30\n",
            "20000/20000 [==============================] - 539s 27ms/step - loss: 0.0995 - acc: 0.9651 - val_loss: 0.4473 - val_acc: 0.8554\n",
            "Epoch 26/30\n",
            " 1152/20000 [>.............................] - ETA: 7:47 - loss: 0.0799 - acc: 0.9731"
          ],
          "name": "stdout"
        },
        {
          "output_type": "stream",
          "text": [
            "19968/20000 [============================>.] - ETA: 0s - loss: 0.0970 - acc: 0.9666"
          ],
          "name": "stdout"
        }
      ]
    },
    {
      "metadata": {
        "id": "RpM_2b5Id0Vl",
        "colab_type": "text"
      },
      "cell_type": "markdown",
      "source": [
        "#### Jena weather with GRU"
      ]
    },
    {
      "metadata": {
        "id": "5eDTG5FEeawh",
        "colab_type": "code",
        "colab": {}
      },
      "cell_type": "code",
      "source": [
        "from keras.models import Sequential\n",
        "from keras.layers import Dense, GRU, Bidirectional\n",
        "\n",
        "model = Sequential()\n",
        "model.add(Bidirectional(GRU(32, droput=0.2, recurrent_dropout=0.2), input_shape=(None, weather.shape[-1])))\n",
        "model.add(Dense(1))\n",
        "model.compile(optimizer='rmsprop', loss='mae')\n",
        "history = model.fit_generator(train_generator, steps_per_epoch=500, epochs=50, validation_data=val_gen, validation_steps=val_steps)"
      ],
      "execution_count": 0,
      "outputs": []
    },
    {
      "metadata": {
        "id": "3Wfz6kZQhGIl",
        "colab_type": "code",
        "colab": {}
      },
      "cell_type": "code",
      "source": [
        "import matplotlib.pyplot as plt\n",
        "acc = history.history['acc']\n",
        "val_acc = history.history['val_acc']\n",
        "epochs = range(2, len(mae) + 1)\n",
        "\n",
        "plt.figure()\n",
        "plt.plot(epochs, mae[1:], 'bo', label='Training accuracy')\n",
        "plt.plot(epochs, val_mae[1:], 'b', label='Validation accuracy')\n",
        "plt.title('Accuracy')\n",
        "plt.legend()\n",
        "\n",
        "plt.show()"
      ],
      "execution_count": 0,
      "outputs": []
    },
    {
      "metadata": {
        "id": "_e0Ecls665cX",
        "colab_type": "text"
      },
      "cell_type": "markdown",
      "source": [
        "## 1D convnets"
      ]
    },
    {
      "metadata": {
        "id": "DFTwhRF-67cw",
        "colab_type": "code",
        "colab": {}
      },
      "cell_type": "code",
      "source": [
        "from keras.datasets import imdb\n",
        "from keras.preprocessing import sequence\n",
        "\n",
        "max_features = 10000\n",
        "maxlen = 500\n",
        "\n",
        "(x_train, y_train), (x_test, y_test) = imdb.load_data(num_words=max_features)\n",
        "x_train = sequence.pad_sequences(x_train, maxlen=maxlen)\n",
        "x_test = sequence.pad_sequences(x_test, maxlen=maxlen)"
      ],
      "execution_count": 0,
      "outputs": []
    },
    {
      "metadata": {
        "id": "zQjHKdyh7xD-",
        "colab_type": "code",
        "colab": {}
      },
      "cell_type": "code",
      "source": [
        "from keras.models import Sequential\n",
        "from keras.layers import Embedding, Conv1D, MaxPooling1D, GlobalMaxPooling1D, Dense\n",
        "\n",
        "model = Sequential()\n",
        "model.add(Embedding(max_features, 128, input_length=maxlen))\n",
        "model.add(Conv1D(32, 7, activation='relu'))\n",
        "model.add(MaxPooling1D(5))\n",
        "model.add(Conv1D(32, 7, activation='relu'))\n",
        "model.add(GlobalMaxPooling1D())\n",
        "model.add(Dense(1, activation='sigmoid'))\n",
        "model.compile(optimizer='rmsprop', loss='binary_crossentropy', metrics=['acc'])\n",
        "history = model.fit_generator(x_train, y_tain, epochs=10, batch_size=128, validation+split=0.2)"
      ],
      "execution_count": 0,
      "outputs": []
    },
    {
      "metadata": {
        "id": "WOZa4ey28g04",
        "colab_type": "code",
        "colab": {}
      },
      "cell_type": "code",
      "source": [
        "def plot_it(name):\n",
        "  import matplotlib.pyplot as plt\n",
        "  acc = history.history[name]\n",
        "  val_acc = history.history['val_'+name]\n",
        "  epochs = range(2, len(mae) + 1)\n",
        "\n",
        "  plt.figure()\n",
        "  plt.plot(epochs, mae[1:], 'bo', label='Training '+name)\n",
        "  plt.plot(epochs, val_mae[1:], 'b', label='Validation '+name)\n",
        "  plt.title(name)\n",
        "  plt.legend()\n",
        "\n",
        "  plt.show()\n"
      ],
      "execution_count": 0,
      "outputs": []
    },
    {
      "metadata": {
        "id": "OUQGqEod_9Fw",
        "colab_type": "code",
        "colab": {}
      },
      "cell_type": "code",
      "source": [
        "plot_it('acc')"
      ],
      "execution_count": 0,
      "outputs": []
    },
    {
      "metadata": {
        "id": "L2W4SpV8EbuH",
        "colab_type": "text"
      },
      "cell_type": "markdown",
      "source": [
        "### Order sensitivity"
      ]
    },
    {
      "metadata": {
        "id": "C6koe5ivEcLS",
        "colab_type": "code",
        "colab": {}
      },
      "cell_type": "code",
      "source": [
        "from keras.models import Sequential\n",
        "from keras.layers import Dense, Conv1D, MaxPooling1D, GlobalMaxPooling1D\n",
        "\n",
        "model = Sequential()\n",
        "model.add(Conv1D(32, 5, activation='relu', input_shape=(None, weather.shape[-1])))\n",
        "model.add(MaxPooling1D(3))\n",
        "model.add(Conv1D(32, 5, activation='relu'))\n",
        "model.add(MaxPooling1D(3))\n",
        "model.add(Conv1D(32, 5, activation='relu'))\n",
        "model.add(GlobalMaxPooling1D())\n",
        "model.add(Dense(1))\n",
        "model.add(layers.Dense(1))\n",
        "model.compile(optimizer='rmsprop', loss='mae')\n",
        "history = model.fit_generator(train_gen, steps_per_epoch=500, epochs=20, validation_data=val_gen, validation_steps=val_steps)\n",
        "plot_it('loss')"
      ],
      "execution_count": 0,
      "outputs": []
    },
    {
      "metadata": {
        "id": "y7iKGZ-gUG8s",
        "colab_type": "text"
      },
      "cell_type": "markdown",
      "source": [
        "### 1D convnets + RNNs"
      ]
    },
    {
      "metadata": {
        "id": "PxrNX1ewURcY",
        "colab_type": "code",
        "colab": {}
      },
      "cell_type": "code",
      "source": [
        "step = 3\n",
        "lookback = 720\n",
        "delay = 144\n",
        "train_gen = generator(weather, lookback=lookback, delay=delay, min_index=0, max_index=200000, shuffle=True, step=step)\n",
        "val_gen = generator(weather, lookback=lookback, delay=delay, min_index=200001, max_index=300000, step=step)\n",
        "test_gen = generator(weather, lookback=lookback, delay=delay, min_index=300001, max_index=None, step=step)\n",
        "val_steps = (300000 - 200001 - lookback) // 128\n",
        "print(val_steps)\n",
        "test_steps = (len(weather) - 300001 - lookback) // 128\n",
        "print(test_steps)"
      ],
      "execution_count": 0,
      "outputs": []
    },
    {
      "metadata": {
        "id": "ObBvUAvtVG0A",
        "colab_type": "code",
        "colab": {}
      },
      "cell_type": "code",
      "source": [
        "from keras.models import Sequential\n",
        "from keras.layers import GRU, Conv1D, MaxPooling1D, Dense\n",
        "\n",
        "model = Sequential()\n",
        "model.add(Conv1D(32, 5, activation='relu', input_shape=(None, weather.shape[-1])))\n",
        "model.add(MaxPooling1D(3))\n",
        "model.add(Conv1D(32, 5, activation='relu'))\n",
        "model.add(GRU(32, dropout=0.1, recurrent_dropout=0.5))\n",
        "model.add(Dense(1))\n",
        "model.summary()\n",
        "model.compile(optimizer-'rmsprop', loss='mae')\n",
        "history = model.fit_generator(train_gen, steps_per_epoch=500, epochs=20, validation_data=val_gen, validation_steps=val_steps)"
      ],
      "execution_count": 0,
      "outputs": []
    }
  ]
}