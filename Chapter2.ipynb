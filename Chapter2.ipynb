{
  "nbformat": 4,
  "nbformat_minor": 0,
  "metadata": {
    "colab": {
      "name": "Chapter2.ipynb",
      "version": "0.3.2",
      "provenance": []
    },
    "kernelspec": {
      "display_name": "Python 3",
      "language": "python",
      "name": "python3"
    },
    "accelerator": "GPU"
  },
  "cells": [
    {
      "cell_type": "markdown",
      "metadata": {
        "id": "view-in-github",
        "colab_type": "text"
      },
      "source": [
        "[View in Colaboratory](https://colab.research.google.com/github/PGrabinski/KerasTutorial/blob/master/Chapter2.ipynb)"
      ]
    },
    {
      "metadata": {
        "id": "E3_E8NWroGL2",
        "colab_type": "text"
      },
      "cell_type": "markdown",
      "source": [
        "# Chapter 2: MNIST\n",
        "To begin, we are working on the famous widely used dateset MNIST. It contains 60k train examples and 10k test examples of$28 \\times 28$ grey-scale images . We plot one number to get some intuition."
      ]
    },
    {
      "metadata": {
        "id": "5DJTvZ0Vn0Rb",
        "colab_type": "code",
        "colab": {
          "base_uri": "https://localhost:8080/",
          "height": 437
        },
        "outputId": "59ee00bc-a636-4869-d73a-1e23900994a7"
      },
      "cell_type": "code",
      "source": [
        "from keras.datasets import mnist\n",
        "import matplotlib.pyplot as plt\n",
        "\n",
        "(train_data, train_labels), (test_data, test_labels) = mnist.load_data()\n",
        "\n",
        "plt.imshow(train_data[100], cmap='gray')\n",
        "print(train_data.shape)\n",
        "print(test_data.shape)"
      ],
      "execution_count": 1,
      "outputs": [
        {
          "output_type": "stream",
          "text": [
            "Using TensorFlow backend.\n"
          ],
          "name": "stderr"
        },
        {
          "output_type": "stream",
          "text": [
            "Downloading data from https://s3.amazonaws.com/img-datasets/mnist.npz\n",
            "11493376/11490434 [==============================] - 1s 0us/step\n",
            "(60000, 28, 28)\n",
            "(10000, 28, 28)\n"
          ],
          "name": "stdout"
        },
        {
          "output_type": "display_data",
          "data": {
            "image/png": "[encoded data removed]",
            "text/plain": [
              "<matplotlib.figure.Figure at 0x7fe532cf8e80>"
            ]
          },
          "metadata": {
            "tags": []
          }
        }
      ]
    },
    {
      "metadata": {
        "id": "-voICAKTpFg7",
        "colab_type": "text"
      },
      "cell_type": "markdown",
      "source": [
        "We set up a simple model with two densly conected layers. The first layer containing $512$ units which will learn features encoded in different parts of the images and the second layer which contains 10 units - one for each number.\n",
        "For the first layer, we use ReLU activation function to enable possible unlinear behaviours and in the second one we have softmax function which ensures that the probabilities of all categories sum up to 1. And we compile the model with appropiate parameters."
      ]
    },
    {
      "metadata": {
        "id": "s-cNyVxxn0Rs",
        "colab_type": "code",
        "colab": {}
      },
      "cell_type": "code",
      "source": [
        "from keras import models\n",
        "from keras import layers\n",
        "\n",
        "\n",
        "\n",
        "model = models.Sequential()\n",
        "model.add(layers.Dense(512, activation='relu' , input_shape=(28*28,)))\n",
        "model.add(layers.Dense(10, activation='softmax'))\n",
        "model.compile(optimizer='rmsprop', loss='categorical_crossentropy', metrics=['acc'])"
      ],
      "execution_count": 0,
      "outputs": []
    },
    {
      "metadata": {
        "id": "eX2fdwttqGnB",
        "colab_type": "text"
      },
      "cell_type": "markdown",
      "source": [
        "We transform the data to a from with which we can feed the network. Important aspect is that we normalize the data to $[0,1)$ form as it enables faster learning. And we let the network learn."
      ]
    },
    {
      "metadata": {
        "id": "yQMWQmbon0Rv",
        "colab_type": "code",
        "colab": {
          "base_uri": "https://localhost:8080/",
          "height": 377
        },
        "outputId": "350e6d0e-9600-49c4-b4f2-16158885f035"
      },
      "cell_type": "code",
      "source": [
        "from keras.utils.np_utils import to_categorical\n",
        "\n",
        "x_train = train_data.reshape((60000,28*28)).astype('float32') / 255\n",
        "y_train = to_categorical(train_labels)\n",
        "\n",
        "x_test = test_data.reshape((10000,28*28)).astype('float32') / 255\n",
        "y_test = to_categorical(test_labels)\n",
        "\n",
        "epochs_num = 10\n",
        "\n",
        "history = model.fit(x_train, y_train, epochs = epochs_num, batch_size=128)"
      ],
      "execution_count": 6,
      "outputs": [
        {
          "output_type": "stream",
          "text": [
            "Epoch 1/10\n",
            "60000/60000 [==============================] - 3s 47us/step - loss: 0.2568 - acc: 0.9261\n",
            "Epoch 2/10\n",
            "60000/60000 [==============================] - 3s 47us/step - loss: 0.1041 - acc: 0.9694\n",
            "Epoch 3/10\n",
            "60000/60000 [==============================] - 3s 46us/step - loss: 0.0705 - acc: 0.9787\n",
            "Epoch 4/10\n",
            "60000/60000 [==============================] - 3s 46us/step - loss: 0.0510 - acc: 0.9845\n",
            "Epoch 5/10\n",
            "60000/60000 [==============================] - 3s 46us/step - loss: 0.0382 - acc: 0.9885\n",
            "Epoch 6/10\n",
            "36736/60000 [=================>............] - ETA: 1s - loss: 0.0287 - acc: 0.9915"
          ],
          "name": "stdout"
        },
        {
          "output_type": "stream",
          "text": [
            "60000/60000 [==============================] - 3s 47us/step - loss: 0.0294 - acc: 0.9913\n",
            "Epoch 7/10\n",
            "60000/60000 [==============================] - 3s 46us/step - loss: 0.0227 - acc: 0.9933\n",
            "Epoch 8/10\n",
            "60000/60000 [==============================] - 3s 46us/step - loss: 0.0170 - acc: 0.9948\n",
            "Epoch 9/10\n",
            "60000/60000 [==============================] - 3s 47us/step - loss: 0.0130 - acc: 0.9962\n",
            "Epoch 10/10\n",
            "60000/60000 [==============================] - 3s 47us/step - loss: 0.0106 - acc: 0.9972\n"
          ],
          "name": "stdout"
        }
      ]
    },
    {
      "metadata": {
        "id": "nYpniyjJqYh5",
        "colab_type": "text"
      },
      "cell_type": "markdown",
      "source": [
        "Now, we can see how did the accuracy and loss function behaved during the learning process. We drop the first epoch data so the diagram is easier to read."
      ]
    },
    {
      "metadata": {
        "id": "4vVNzttJn0R4",
        "colab_type": "code",
        "colab": {
          "base_uri": "https://localhost:8080/",
          "height": 735
        },
        "outputId": "dd9e7e49-f114-412e-fea2-488820d06712"
      },
      "cell_type": "code",
      "source": [
        "loss_train = history.history['loss']\n",
        "acc_train = history.history['acc']\n",
        "\n",
        "\n",
        "epochs = range(1, epochs_num + 1)\n",
        "\n",
        "\n",
        "import matplotlib.pyplot as plt\n",
        "plt.plot(epochs[1:], loss_train[1:], 'bo', label=\"Training loss\")\n",
        "plt.xlabel('Epochs')\n",
        "plt.ylabel('Loss function')\n",
        "plt.title('Model loss function')\n",
        "plt.legend()\n",
        "\n",
        "plt.figure()\n",
        "\n",
        "plt.plot(epochs[1:], acc_train[1:], 'bo', label=\"Training acc\")\n",
        "plt.xlabel('Epochs')\n",
        "plt.ylabel('Accuracy')\n",
        "plt.title('Model accuracy')\n",
        "plt.legend()\n",
        "plt.show()\n"
      ],
      "execution_count": 12,
      "outputs": [
        {
          "output_type": "display_data",
          "data": {
            "image/png": "[encoded data removed]",
            "text/plain": [
              "<matplotlib.figure.Figure at 0x7fe5308452b0>"
            ]
          },
          "metadata": {
            "tags": []
          }
        },
        {
          "output_type": "display_data",
          "data": {
            "image/png": "[encoded data removed]",
            "text/plain": [
              "<matplotlib.figure.Figure at 0x7fe50c5e1160>"
            ]
          },
          "metadata": {
            "tags": []
          }
        }
      ]
    },
    {
      "metadata": {
        "id": "j48qqOQFrzii",
        "colab_type": "text"
      },
      "cell_type": "markdown",
      "source": [
        "And in the end, we can test our model on the test set."
      ]
    },
    {
      "metadata": {
        "id": "130GPGOxn0SB",
        "colab_type": "code",
        "colab": {
          "base_uri": "https://localhost:8080/",
          "height": 53
        },
        "outputId": "33710d41-9614-4824-cd82-3e7b6545733d"
      },
      "cell_type": "code",
      "source": [
        "test_loss, test_acc = model.evaluate(x_test, y_test)\n",
        "print('Accuracy of the model: {}'.format(test_acc))"
      ],
      "execution_count": 13,
      "outputs": [
        {
          "output_type": "stream",
          "text": [
            "10000/10000 [==============================] - 1s 62us/step\n",
            "Accuracy of the model: 0.9823\n"
          ],
          "name": "stdout"
        }
      ]
    },
    {
      "metadata": {
        "id": "J91Z4GRysEGH",
        "colab_type": "text"
      },
      "cell_type": "markdown",
      "source": [
        "The performance for such a simple model is highly acceptable."
      ]
    }
  ]
}