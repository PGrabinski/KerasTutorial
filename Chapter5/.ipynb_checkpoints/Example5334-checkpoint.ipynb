{
 "cells": [
  {
   "cell_type": "code",
   "execution_count": 1,
   "metadata": {},
   "outputs": [
    {
     "name": "stderr",
     "output_type": "stream",
     "text": [
      "/usr/local/lib/python3.5/dist-packages/h5py/__init__.py:36: FutureWarning: Conversion of the second argument of issubdtype from `float` to `np.floating` is deprecated. In future, it will be treated as `np.float64 == np.dtype(float).type`.\n",
      "  from ._conv import register_converters as _register_converters\n",
      "Using TensorFlow backend.\n"
     ]
    }
   ],
   "source": [
    "# Importing convolutional part of the pretrained network\n",
    "from keras.applications import VGG16\n",
    "conv = VGG16(weights='imagenet', include_top=False, input_shape=(150,150,3))"
   ]
  },
  {
   "cell_type": "code",
   "execution_count": 3,
   "metadata": {},
   "outputs": [],
   "source": [
    "from keras import models, layers\n",
    "\n",
    "model = models.Sequential()\n",
    "conv.trainable = False\n",
    "model.add(conv)\n",
    "model.add(layers.Flatten())\n",
    "model.add(layers.Dense(256, activation='relu'))\n",
    "model.add(layers.Dense(1, activation='sigmoid'))"
   ]
  },
  {
   "cell_type": "code",
   "execution_count": 6,
   "metadata": {},
   "outputs": [
    {
     "name": "stdout",
     "output_type": "stream",
     "text": [
      "Found 2000 images belonging to 2 classes.\n",
      "Found 1000 images belonging to 2 classes.\n",
      "Epoch 1/1\n",
      "100/100 [==============================] - 857s 9s/step - loss: 0.5945 - acc: 0.7030 - val_loss: 0.4667 - val_acc: 0.8080\n"
     ]
    }
   ],
   "source": [
    "from keras.preprocessing.image import ImageDataGenerator\n",
    "from keras import optimizers\n",
    "import os\n",
    "\n",
    "trainDatagen = ImageDataGenerator( rescale = 1./255, rotation_range = 40, width_shift_range = 0.2,\n",
    "                                  height_shift_range = 0.2, shear_range = 0.2, zoom_range = 0.2,\n",
    "                                  horizontal_flip=True, fill_mode = 'nearest')\n",
    "\n",
    "testDatagen = ImageDataGenerator( rescale = 1./255 )\n",
    "\n",
    "base_dir = '/home/raroog/Documents/GitHub/KerasTutorial/Chapter5/data'\n",
    "train_dir = os.path.join(base_dir, 'train')\n",
    "val_dir = os.path.join(base_dir, 'val')\n",
    "test_dir = os.path.join(base_dir, 'test')\n",
    "\n",
    "trainGen = trainDatagen.flow_from_directory(train_dir, target_size = (150, 150),\n",
    "                                            batch_size = 20, class_mode = 'binary') \n",
    "\n",
    "valGen = testDatagen.flow_from_directory(val_dir, target_size = (150, 150),\n",
    "                                            batch_size = 20, class_mode = 'binary') \n",
    "\n",
    "model.compile( optimizer = optimizers.RMSprop(lr=2e-5), metrics = ['acc'], loss='binary_crossentropy')\n",
    "\n",
    "history = model.fit_generator(trainGen, steps_per_epoch=100, epochs=1, validation_data=valGen, validation_steps=50)"
   ]
  },
  {
   "cell_type": "code",
   "execution_count": null,
   "metadata": {},
   "outputs": [],
   "source": []
  }
 ],
 "metadata": {
  "kernelspec": {
   "display_name": "Python 3",
   "language": "python",
   "name": "python3"
  },
  "language_info": {
   "codemirror_mode": {
    "name": "ipython",
    "version": 3
   },
   "file_extension": ".py",
   "mimetype": "text/x-python",
   "name": "python",
   "nbconvert_exporter": "python",
   "pygments_lexer": "ipython3",
   "version": "3.5.2"
  }
 },
 "nbformat": 4,
 "nbformat_minor": 2
}
