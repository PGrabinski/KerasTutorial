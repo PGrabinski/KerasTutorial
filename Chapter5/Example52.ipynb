{
 "cells": [
  {
   "cell_type": "code",
   "execution_count": 1,
   "metadata": {},
   "outputs": [],
   "source": [
    "import os, shutil\n",
    "\n",
    "# Set paths\n",
    "\n",
    "original_dir = '/home/raroog/Documents/GitHub/KerasTutorial/Chapter5/'\n",
    "\n",
    "base_dir = '/home/raroog/Documents/GitHub/KerasTutorial/Chapter5/data'\n",
    "os.mkdir(base_dir)\n",
    "\n",
    "# Make folders\n",
    "\n",
    "train_dir = os.path.join(base_dir, 'train')\n",
    "os.mkdir(train_dir)\n",
    "\n",
    "val_dir = os.path.join(base_dir, 'val')\n",
    "os.mkdir(val_dir)\n",
    "\n",
    "test_dir = os.path.join(base_dir, 'test')\n",
    "os.mkdir(test_dir)\n",
    "\n",
    "train_cats_dir = os.path.join(train_dir, 'cats')\n",
    "os.mkdir(train_cats_dir)\n",
    "\n",
    "train_dogs_dir = os.path.join(train_dir, 'dogs')\n",
    "os.mkdir(train_dogs_dir)\n",
    "\n",
    "val_cats_dir = os.path.join(val_dir, 'cats')\n",
    "os.mkdir(val_cats_dir)\n",
    "\n",
    "val_dogs_dir = os.path.join(val_dir, 'dogs')\n",
    "os.mkdir(val_dogs_dir)\n",
    "\n",
    "test_cats_dir = os.path.join(test_dir, 'cats')\n",
    "os.mkdir(test_cats_dir)\n",
    "\n",
    "test_dogs_dir = os.path.join(test_dir, 'dogs')\n",
    "os.mkdir(test_dogs_dir)\n",
    "\n",
    "# Copy cats into train, val, test\n",
    "\n",
    "fnames = ['cat.{}.jpg'.format(i) for i in range(1000)]\n",
    "for fname in fnames:\n",
    "    src = os.path.join(original_dir, 'train', fname)\n",
    "    dst = os.path.join(train_cats_dir, fname)\n",
    "    shutil.copyfile(src, dst)\n",
    "\n",
    "fnames = ['cat.{}.jpg'.format(i) for i in range(1000,1500)]\n",
    "for fname in fnames:\n",
    "    src = os.path.join(original_dir, 'train', fname)\n",
    "    dst = os.path.join(val_cats_dir, fname)\n",
    "    shutil.copyfile(src, dst)\n",
    "    \n",
    "fnames = ['cat.{}.jpg'.format(i) for i in range(1500,2000)]\n",
    "for fname in fnames:\n",
    "    src = os.path.join(original_dir, 'train', fname)\n",
    "    dst = os.path.join(test_cats_dir, fname)\n",
    "    shutil.copyfile(src, dst)\n",
    "\n",
    "# Copy dogs into train, val, test\n",
    "\n",
    "fnames = ['dog.{}.jpg'.format(i) for i in range(1000)]\n",
    "for fname in fnames:\n",
    "    src = os.path.join(original_dir, 'train', fname)\n",
    "    dst = os.path.join(train_dogs_dir, fname)\n",
    "    shutil.copyfile(src, dst)\n",
    "\n",
    "fnames = ['dog.{}.jpg'.format(i) for i in range(1000,1500)]\n",
    "for fname in fnames:\n",
    "    src = os.path.join(original_dir, 'train', fname)\n",
    "    dst = os.path.join(val_dogs_dir, fname)\n",
    "    shutil.copyfile(src, dst)\n",
    "    \n",
    "fnames = ['dog.{}.jpg'.format(i) for i in range(1500,2000)]\n",
    "for fname in fnames:\n",
    "    src = os.path.join(original_dir, 'train', fname)\n",
    "    dst = os.path.join(test_dogs_dir, fname)\n",
    "    shutil.copyfile(src, dst)\n",
    "\n"
   ]
  },
  {
   "cell_type": "code",
   "execution_count": 4,
   "metadata": {},
   "outputs": [
    {
     "name": "stdout",
     "output_type": "stream",
     "text": [
      "total training cat images: 1000\n",
      "total training dog images: 1000\n",
      "total validation cat images: 500\n",
      "total validation dog images: 500\n",
      "total test cat images: 500\n",
      "total test dog images: 500\n"
     ]
    }
   ],
   "source": [
    "# Checking the results\n",
    "print('total training cat images:', len(os.listdir(train_cats_dir)))\n",
    "print('total training dog images:', len(os.listdir(train_dogs_dir)))\n",
    "print('total validation cat images:', len(os.listdir(val_cats_dir)))\n",
    "print('total validation dog images:', len(os.listdir(val_dogs_dir)))\n",
    "print('total test cat images:', len(os.listdir(test_cats_dir)))\n",
    "print('total test dog images:', len(os.listdir(test_dogs_dir)))"
   ]
  },
  {
   "cell_type": "code",
   "execution_count": 10,
   "metadata": {},
   "outputs": [],
   "source": [
    "# Setting the model\n",
    "from keras import models\n",
    "from keras import layers\n",
    "\n",
    "model = models.Sequential()\n",
    "model.add(layers.Conv2D(32, (3,3), activation='relu', input_shape=(150,150,3)))\n",
    "model.add(layers.MaxPooling2D((2,2)))\n",
    "model.add(layers.Conv2D(64, (3,3), activation='relu'))\n",
    "model.add(layers.MaxPooling2D((2,2)))\n",
    "model.add(layers.Conv2D(128, (3,3), activation='relu'))\n",
    "model.add(layers.MaxPooling2D((2,2)))\n",
    "model.add(layers.Conv2D(128, (3,3), activation='relu'))\n",
    "model.add(layers.MaxPooling2D((2,2)))\n",
    "model.add(layers.Flatten())\n",
    "model.add(layers.Dense(512, activation='relu'))\n",
    "model.add(layers.Dense(1, activation='sigmoid'))"
   ]
  },
  {
   "cell_type": "code",
   "execution_count": 7,
   "metadata": {},
   "outputs": [
    {
     "name": "stdout",
     "output_type": "stream",
     "text": [
      "_________________________________________________________________\n",
      "Layer (type)                 Output Shape              Param #   \n",
      "=================================================================\n",
      "conv2d_2 (Conv2D)            (None, 148, 148, 32)      896       \n",
      "_________________________________________________________________\n",
      "max_pooling2d_1 (MaxPooling2 (None, 74, 74, 32)        0         \n",
      "_________________________________________________________________\n",
      "conv2d_3 (Conv2D)            (None, 72, 72, 64)        18496     \n",
      "_________________________________________________________________\n",
      "max_pooling2d_2 (MaxPooling2 (None, 36, 36, 64)        0         \n",
      "_________________________________________________________________\n",
      "conv2d_4 (Conv2D)            (None, 34, 34, 128)       73856     \n",
      "_________________________________________________________________\n",
      "max_pooling2d_3 (MaxPooling2 (None, 17, 17, 128)       0         \n",
      "_________________________________________________________________\n",
      "conv2d_5 (Conv2D)            (None, 15, 15, 128)       147584    \n",
      "_________________________________________________________________\n",
      "max_pooling2d_4 (MaxPooling2 (None, 7, 7, 128)         0         \n",
      "_________________________________________________________________\n",
      "flatten_1 (Flatten)          (None, 6272)              0         \n",
      "_________________________________________________________________\n",
      "dense_1 (Dense)              (None, 512)               3211776   \n",
      "_________________________________________________________________\n",
      "dense_2 (Dense)              (None, 1)                 513       \n",
      "=================================================================\n",
      "Total params: 3,453,121\n",
      "Trainable params: 3,453,121\n",
      "Non-trainable params: 0\n",
      "_________________________________________________________________\n"
     ]
    }
   ],
   "source": [
    "model.summary()"
   ]
  },
  {
   "cell_type": "code",
   "execution_count": 12,
   "metadata": {},
   "outputs": [],
   "source": [
    "from keras import optimizers\n",
    "model.compile(optimizer = optimizers.RMSprop(lr=1e-4), loss = 'binary_crossentropy', metrics=['acc'])"
   ]
  },
  {
   "cell_type": "code",
   "execution_count": 5,
   "metadata": {},
   "outputs": [
    {
     "name": "stdout",
     "output_type": "stream",
     "text": [
      "Found 1000 images belonging to 2 classes.\n",
      "Found 2000 images belonging to 2 classes.\n",
      "Found 1000 images belonging to 2 classes.\n"
     ]
    }
   ],
   "source": [
    "# Importing the images\n",
    "from keras.preprocessing.image import ImageDataGenerator\n",
    "import os\n",
    "base_dir = '/home/raroog/Documents/GitHub/KerasTutorial/Chapter5/data'\n",
    "train_dir = os.path.join(base_dir, 'train')\n",
    "val_dir = os.path.join(base_dir, 'val')\n",
    "test_dir = os.path.join(base_dir, 'test')\n",
    "\n",
    "train_datagen = ImageDataGenerator(rescale=1./255)\n",
    "test_datagen = ImageDataGenerator(rescale=1./255)\n",
    "\n",
    "test_generetor = test_datagen.flow_from_directory(test_dir, target_size=(150, 150), batch_size = 32, class_mode = 'binary')\n",
    "train_generator = train_datagen.flow_from_directory(train_dir, target_size=(150,150), batch_size = 20, class_mode='binary')\n",
    "val_generator = train_datagen.flow_from_directory(val_dir, target_size=(150,150), batch_size = 20, class_mode='binary')"
   ]
  },
  {
   "cell_type": "code",
   "execution_count": 20,
   "metadata": {},
   "outputs": [
    {
     "name": "stdout",
     "output_type": "stream",
     "text": [
      "Epoch 1/30\n",
      "100/100 [==============================] - 124s 1s/step - loss: 0.6429 - acc: 0.6350 - val_loss: 0.6338 - val_acc: 0.6410\n",
      "Epoch 2/30\n",
      "100/100 [==============================] - 124s 1s/step - loss: 0.5954 - acc: 0.6960 - val_loss: 0.6485 - val_acc: 0.6230\n",
      "Epoch 3/30\n",
      "100/100 [==============================] - 124s 1s/step - loss: 0.5498 - acc: 0.7140 - val_loss: 0.6492 - val_acc: 0.6340\n",
      "Epoch 4/30\n",
      "100/100 [==============================] - 123s 1s/step - loss: 0.5171 - acc: 0.7360 - val_loss: 0.5918 - val_acc: 0.6800\n",
      "Epoch 5/30\n",
      "100/100 [==============================] - 124s 1s/step - loss: 0.4783 - acc: 0.7705 - val_loss: 0.5664 - val_acc: 0.7040\n",
      "Epoch 6/30\n",
      "100/100 [==============================] - 124s 1s/step - loss: 0.4536 - acc: 0.7860 - val_loss: 0.5727 - val_acc: 0.7180\n",
      "Epoch 7/30\n",
      "100/100 [==============================] - 123s 1s/step - loss: 0.4201 - acc: 0.8070 - val_loss: 0.5616 - val_acc: 0.7110\n",
      "Epoch 8/30\n",
      "100/100 [==============================] - 123s 1s/step - loss: 0.3941 - acc: 0.8210 - val_loss: 0.8040 - val_acc: 0.6630\n",
      "Epoch 9/30\n",
      "100/100 [==============================] - 123s 1s/step - loss: 0.3672 - acc: 0.8315 - val_loss: 0.5494 - val_acc: 0.7350\n",
      "Epoch 10/30\n",
      "100/100 [==============================] - 125s 1s/step - loss: 0.3302 - acc: 0.8675 - val_loss: 0.7385 - val_acc: 0.6730\n",
      "Epoch 11/30\n",
      "100/100 [==============================] - 124s 1s/step - loss: 0.3085 - acc: 0.8645 - val_loss: 0.5798 - val_acc: 0.7250\n",
      "Epoch 12/30\n",
      "100/100 [==============================] - 124s 1s/step - loss: 0.2836 - acc: 0.8860 - val_loss: 0.5854 - val_acc: 0.7180\n",
      "Epoch 13/30\n",
      "100/100 [==============================] - 124s 1s/step - loss: 0.2684 - acc: 0.8865 - val_loss: 0.8431 - val_acc: 0.6720\n",
      "Epoch 14/30\n",
      "100/100 [==============================] - 124s 1s/step - loss: 0.2451 - acc: 0.8990 - val_loss: 0.6227 - val_acc: 0.7210\n",
      "Epoch 15/30\n",
      "100/100 [==============================] - 125s 1s/step - loss: 0.2102 - acc: 0.9150 - val_loss: 0.6430 - val_acc: 0.7310\n",
      "Epoch 16/30\n",
      "100/100 [==============================] - 124s 1s/step - loss: 0.1892 - acc: 0.9250 - val_loss: 0.6908 - val_acc: 0.7240\n",
      "Epoch 17/30\n",
      "100/100 [==============================] - 124s 1s/step - loss: 0.1697 - acc: 0.9365 - val_loss: 0.6614 - val_acc: 0.7310\n",
      "Epoch 18/30\n",
      "100/100 [==============================] - 125s 1s/step - loss: 0.1464 - acc: 0.9480 - val_loss: 0.7762 - val_acc: 0.7210\n",
      "Epoch 19/30\n",
      "100/100 [==============================] - 124s 1s/step - loss: 0.1300 - acc: 0.9580 - val_loss: 0.7686 - val_acc: 0.7220\n",
      "Epoch 20/30\n",
      "100/100 [==============================] - 125s 1s/step - loss: 0.1170 - acc: 0.9635 - val_loss: 0.7852 - val_acc: 0.7310\n",
      "Epoch 21/30\n",
      "100/100 [==============================] - 124s 1s/step - loss: 0.0938 - acc: 0.9670 - val_loss: 0.8328 - val_acc: 0.7280\n",
      "Epoch 22/30\n",
      "100/100 [==============================] - 124s 1s/step - loss: 0.0919 - acc: 0.9735 - val_loss: 0.8353 - val_acc: 0.7360\n",
      "Epoch 23/30\n",
      "100/100 [==============================] - 125s 1s/step - loss: 0.0696 - acc: 0.9800 - val_loss: 1.0142 - val_acc: 0.6980\n",
      "Epoch 24/30\n",
      "100/100 [==============================] - 124s 1s/step - loss: 0.0595 - acc: 0.9815 - val_loss: 0.9537 - val_acc: 0.7270\n",
      "Epoch 25/30\n",
      "100/100 [==============================] - 124s 1s/step - loss: 0.0531 - acc: 0.9850 - val_loss: 1.0444 - val_acc: 0.7200\n",
      "Epoch 26/30\n",
      "100/100 [==============================] - 126s 1s/step - loss: 0.0490 - acc: 0.9870 - val_loss: 0.9901 - val_acc: 0.7170\n",
      "Epoch 27/30\n",
      "100/100 [==============================] - 124s 1s/step - loss: 0.0395 - acc: 0.9890 - val_loss: 1.0227 - val_acc: 0.7310\n",
      "Epoch 28/30\n",
      "100/100 [==============================] - 125s 1s/step - loss: 0.0326 - acc: 0.9925 - val_loss: 1.1833 - val_acc: 0.7240\n",
      "Epoch 29/30\n",
      "100/100 [==============================] - 124s 1s/step - loss: 0.0284 - acc: 0.9935 - val_loss: 1.1893 - val_acc: 0.7200\n",
      "Epoch 30/30\n",
      "100/100 [==============================] - 124s 1s/step - loss: 0.0303 - acc: 0.9890 - val_loss: 1.1512 - val_acc: 0.7090\n"
     ]
    }
   ],
   "source": [
    "epochs_num = 30\n",
    "history = model.fit_generator(train_generator, steps_per_epoch = 100, epochs = epochs_num, validation_data=val_generator, validation_steps = 50)"
   ]
  },
  {
   "cell_type": "code",
   "execution_count": 21,
   "metadata": {},
   "outputs": [],
   "source": [
    "model.save('cats_vs_dogs_small_v1.h5')"
   ]
  },
  {
   "cell_type": "code",
   "execution_count": 24,
   "metadata": {},
   "outputs": [
    {
     "data": {
      "image/png": "[encoded data removed]",
      "text/plain": [
       "<Figure size 432x288 with 1 Axes>"
      ]
     },
     "metadata": {},
     "output_type": "display_data"
    },
    {
     "data": {
      "image/png": "[encoded data removed]",
      "text/plain": [
       "<Figure size 432x288 with 1 Axes>"
      ]
     },
     "metadata": {},
     "output_type": "display_data"
    }
   ],
   "source": [
    "import matplotlib.pyplot as plt\n",
    "\n",
    "acc = history.history['acc']\n",
    "val_acc = history.history['val_acc']\n",
    "loss = history.history['loss']\n",
    "val_loss = history.history['val_loss']\n",
    "epochs = range(1, epochs_num + 1)\n",
    "\n",
    "plt.plot(epochs, acc, 'bo', label='Training acc')\n",
    "plt.plot(epochs, val_acc, 'b', label='Validation acc')\n",
    "plt.title('Training and validation accuracy')\n",
    "plt.xlabel('Epochs')\n",
    "plt.ylabel('Accuracy')\n",
    "plt.legend()\n",
    "\n",
    "plt.figure()\n",
    "\n",
    "plt.plot(epochs, loss, 'bo', label='Training loss')\n",
    "plt.plot(epochs, val_loss, 'b', label='Validation loss')\n",
    "plt.xlabel('Epochs')\n",
    "plt.ylabel('Loss function')\n",
    "plt.title('Training and validation loss')\n",
    "plt.legend()\n",
    "\n",
    "plt.show()"
   ]
  },
  {
   "cell_type": "markdown",
   "metadata": {},
   "source": [
    "# Overfiting! Let's do some data augmentation"
   ]
  },
  {
   "cell_type": "code",
   "execution_count": 8,
   "metadata": {},
   "outputs": [
    {
     "name": "stdout",
     "output_type": "stream",
     "text": [
      "Found 2000 images belonging to 2 classes.\n",
      "Found 1000 images belonging to 2 classes.\n"
     ]
    }
   ],
   "source": [
    "train_datagen2 = ImageDataGenerator(rescale=1./255, rotation_range=40, width_shift_range=0.2, height_shift_range=0.2, shear_range=0.2, zoom_range=0.2, horizontal_flip=True,)\n",
    "\n",
    "train_generator2 = train_datagen2.flow_from_directory(train_dir, target_size=(150, 150), batch_size = 32, class_mode = 'binary')\n",
    "val_generator2 = test_datagen.flow_from_directory(val_dir, target_size=(150, 150), batch_size = 32, class_mode = 'binary')"
   ]
  },
  {
   "cell_type": "code",
   "execution_count": 13,
   "metadata": {},
   "outputs": [],
   "source": [
    "model2 =  models.Sequential()\n",
    "model2.add(layers.Conv2D(32, (3,3), activation='relu', input_shape=(150,150,3)))\n",
    "model2.add(layers.MaxPooling2D((2,2)))\n",
    "model2.add(layers.Conv2D(64, (3,3), activation='relu'))\n",
    "model2.add(layers.MaxPooling2D((2,2)))\n",
    "model2.add(layers.Conv2D(128, (3,3), activation='relu'))\n",
    "model2.add(layers.MaxPooling2D((2,2)))\n",
    "model2.add(layers.Conv2D(128, (3,3), activation='relu'))\n",
    "model2.add(layers.MaxPooling2D((2,2)))\n",
    "model2.add(layers.Flatten())\n",
    "model2.add(layers.Dropout(0.5))\n",
    "model2.add(layers.Dense(512, activation='relu'))\n",
    "model2.add(layers.Dense(1, activation='sigmoid'))\n",
    "model2.compile(loss='binary_crossentropy', optimizer=optimizers.RMSprop(lr=1e-4), metrics=['acc'])"
   ]
  },
  {
   "cell_type": "code",
   "execution_count": 14,
   "metadata": {},
   "outputs": [
    {
     "name": "stdout",
     "output_type": "stream",
     "text": [
      "Epoch 1/100\n",
      "100/100 [==============================] - 200s 2s/step - loss: 0.6899 - acc: 0.5194 - val_loss: 0.6712 - val_acc: 0.5806\n",
      "Epoch 2/100\n",
      "100/100 [==============================] - 198s 2s/step - loss: 0.6719 - acc: 0.5631 - val_loss: 0.6508 - val_acc: 0.5952\n",
      "Epoch 3/100\n",
      "100/100 [==============================] - 197s 2s/step - loss: 0.6599 - acc: 0.5834 - val_loss: 0.6334 - val_acc: 0.6580\n",
      "Epoch 4/100\n",
      "100/100 [==============================] - 198s 2s/step - loss: 0.6356 - acc: 0.6241 - val_loss: 0.6388 - val_acc: 0.6110\n",
      "Epoch 5/100\n",
      "100/100 [==============================] - 197s 2s/step - loss: 0.6254 - acc: 0.6344 - val_loss: 0.6032 - val_acc: 0.6827\n",
      "Epoch 6/100\n",
      "100/100 [==============================] - 199s 2s/step - loss: 0.6097 - acc: 0.6634 - val_loss: 0.6006 - val_acc: 0.6656\n",
      "Epoch 7/100\n",
      "100/100 [==============================] - 198s 2s/step - loss: 0.5994 - acc: 0.6750 - val_loss: 0.5741 - val_acc: 0.6954\n",
      "Epoch 8/100\n",
      "100/100 [==============================] - 199s 2s/step - loss: 0.5874 - acc: 0.6847 - val_loss: 0.5672 - val_acc: 0.6891\n",
      "Epoch 9/100\n",
      "100/100 [==============================] - 198s 2s/step - loss: 0.5926 - acc: 0.6837 - val_loss: 0.5374 - val_acc: 0.7240\n",
      "Epoch 10/100\n",
      "100/100 [==============================] - 198s 2s/step - loss: 0.5865 - acc: 0.6894 - val_loss: 0.5434 - val_acc: 0.7189\n",
      "Epoch 11/100\n",
      "100/100 [==============================] - 200s 2s/step - loss: 0.5743 - acc: 0.6991 - val_loss: 0.5377 - val_acc: 0.7151\n",
      "Epoch 12/100\n",
      "100/100 [==============================] - 195s 2s/step - loss: 0.5735 - acc: 0.7053 - val_loss: 0.5511 - val_acc: 0.7176\n",
      "Epoch 13/100\n",
      "100/100 [==============================] - 196s 2s/step - loss: 0.5642 - acc: 0.7069 - val_loss: 0.5961 - val_acc: 0.6681\n",
      "Epoch 14/100\n",
      "100/100 [==============================] - 197s 2s/step - loss: 0.5615 - acc: 0.7144 - val_loss: 0.5255 - val_acc: 0.7405\n",
      "Epoch 15/100\n",
      "100/100 [==============================] - 196s 2s/step - loss: 0.5502 - acc: 0.7156 - val_loss: 0.5189 - val_acc: 0.7348\n",
      "Epoch 16/100\n",
      "100/100 [==============================] - 196s 2s/step - loss: 0.5497 - acc: 0.7166 - val_loss: 0.5482 - val_acc: 0.6954\n",
      "Epoch 17/100\n",
      "100/100 [==============================] - 194s 2s/step - loss: 0.5396 - acc: 0.7294 - val_loss: 0.4981 - val_acc: 0.7532\n",
      "Epoch 18/100\n",
      "100/100 [==============================] - 197s 2s/step - loss: 0.5404 - acc: 0.7306 - val_loss: 0.5146 - val_acc: 0.7360\n",
      "Epoch 19/100\n",
      "100/100 [==============================] - 196s 2s/step - loss: 0.5412 - acc: 0.7259 - val_loss: 0.4883 - val_acc: 0.7608\n",
      "Epoch 20/100\n",
      "100/100 [==============================] - 195s 2s/step - loss: 0.5323 - acc: 0.7253 - val_loss: 0.5058 - val_acc: 0.7570\n",
      "Epoch 21/100\n",
      "100/100 [==============================] - 195s 2s/step - loss: 0.5242 - acc: 0.7397 - val_loss: 0.4836 - val_acc: 0.7621\n",
      "Epoch 22/100\n",
      "100/100 [==============================] - 196s 2s/step - loss: 0.5215 - acc: 0.7409 - val_loss: 0.5314 - val_acc: 0.7170\n",
      "Epoch 23/100\n",
      "100/100 [==============================] - 197s 2s/step - loss: 0.5112 - acc: 0.7428 - val_loss: 0.4867 - val_acc: 0.7665\n",
      "Epoch 24/100\n",
      "100/100 [==============================] - 195s 2s/step - loss: 0.5131 - acc: 0.7372 - val_loss: 0.5178 - val_acc: 0.7379\n",
      "Epoch 25/100\n",
      "100/100 [==============================] - 195s 2s/step - loss: 0.5127 - acc: 0.7384 - val_loss: 0.5280 - val_acc: 0.7195\n",
      "Epoch 26/100\n",
      "100/100 [==============================] - 196s 2s/step - loss: 0.5063 - acc: 0.7556 - val_loss: 0.4995 - val_acc: 0.7621\n",
      "Epoch 27/100\n",
      "100/100 [==============================] - 195s 2s/step - loss: 0.4979 - acc: 0.7547 - val_loss: 0.4772 - val_acc: 0.7760\n",
      "Epoch 28/100\n",
      "100/100 [==============================] - 196s 2s/step - loss: 0.5048 - acc: 0.7397 - val_loss: 0.5237 - val_acc: 0.7500\n",
      "Epoch 29/100\n",
      "100/100 [==============================] - 198s 2s/step - loss: 0.5017 - acc: 0.7500 - val_loss: 0.4944 - val_acc: 0.7481\n",
      "Epoch 30/100\n",
      "100/100 [==============================] - 195s 2s/step - loss: 0.4935 - acc: 0.7625 - val_loss: 0.4879 - val_acc: 0.7602\n",
      "Epoch 31/100\n",
      "100/100 [==============================] - 201s 2s/step - loss: 0.4916 - acc: 0.7656 - val_loss: 0.6134 - val_acc: 0.6859\n",
      "Epoch 32/100\n",
      "100/100 [==============================] - 204s 2s/step - loss: 0.4812 - acc: 0.7653 - val_loss: 0.4854 - val_acc: 0.7690\n",
      "Epoch 33/100\n",
      "100/100 [==============================] - 205s 2s/step - loss: 0.4771 - acc: 0.7666 - val_loss: 0.4674 - val_acc: 0.7709\n",
      "Epoch 34/100\n",
      "100/100 [==============================] - 210s 2s/step - loss: 0.4792 - acc: 0.7631 - val_loss: 0.4799 - val_acc: 0.7747\n",
      "Epoch 35/100\n",
      "100/100 [==============================] - 203s 2s/step - loss: 0.4762 - acc: 0.7703 - val_loss: 0.4847 - val_acc: 0.7500\n",
      "Epoch 36/100\n",
      "100/100 [==============================] - 204s 2s/step - loss: 0.4679 - acc: 0.7703 - val_loss: 0.5375 - val_acc: 0.7329\n",
      "Epoch 37/100\n",
      "100/100 [==============================] - 204s 2s/step - loss: 0.4769 - acc: 0.7672 - val_loss: 0.5131 - val_acc: 0.7519\n",
      "Epoch 38/100\n",
      "100/100 [==============================] - 207s 2s/step - loss: 0.4858 - acc: 0.7662 - val_loss: 0.4617 - val_acc: 0.7766\n",
      "Epoch 39/100\n",
      "100/100 [==============================] - 206s 2s/step - loss: 0.4699 - acc: 0.7869 - val_loss: 0.4563 - val_acc: 0.7849\n",
      "Epoch 40/100\n",
      "100/100 [==============================] - 204s 2s/step - loss: 0.4648 - acc: 0.7900 - val_loss: 0.4582 - val_acc: 0.7779\n",
      "Epoch 41/100\n",
      "100/100 [==============================] - 204s 2s/step - loss: 0.4670 - acc: 0.7756 - val_loss: 0.4505 - val_acc: 0.7887\n",
      "Epoch 42/100\n",
      "100/100 [==============================] - 204s 2s/step - loss: 0.4764 - acc: 0.7716 - val_loss: 0.4844 - val_acc: 0.7849\n",
      "Epoch 43/100\n",
      "100/100 [==============================] - 206s 2s/step - loss: 0.4591 - acc: 0.7806 - val_loss: 0.4764 - val_acc: 0.7779\n",
      "Epoch 44/100\n",
      "100/100 [==============================] - 204s 2s/step - loss: 0.4555 - acc: 0.7866 - val_loss: 0.4384 - val_acc: 0.7938\n",
      "Epoch 45/100\n",
      "100/100 [==============================] - 204s 2s/step - loss: 0.4568 - acc: 0.7862 - val_loss: 0.5175 - val_acc: 0.7487\n",
      "Epoch 46/100\n",
      "100/100 [==============================] - 207s 2s/step - loss: 0.4538 - acc: 0.7797 - val_loss: 0.4984 - val_acc: 0.7462\n",
      "Epoch 47/100\n",
      "100/100 [==============================] - 208s 2s/step - loss: 0.4439 - acc: 0.7947 - val_loss: 0.4888 - val_acc: 0.7779\n",
      "Epoch 48/100\n",
      "100/100 [==============================] - 209s 2s/step - loss: 0.4525 - acc: 0.7763 - val_loss: 0.5235 - val_acc: 0.7379\n",
      "Epoch 49/100\n",
      "100/100 [==============================] - 208s 2s/step - loss: 0.4484 - acc: 0.7863 - val_loss: 0.4310 - val_acc: 0.8166\n",
      "Epoch 50/100\n",
      "100/100 [==============================] - 207s 2s/step - loss: 0.4304 - acc: 0.8022 - val_loss: 0.5507 - val_acc: 0.7513\n",
      "Epoch 51/100\n",
      "100/100 [==============================] - 207s 2s/step - loss: 0.4426 - acc: 0.7984 - val_loss: 0.4308 - val_acc: 0.7951\n",
      "Epoch 52/100\n",
      "100/100 [==============================] - 219s 2s/step - loss: 0.4431 - acc: 0.7947 - val_loss: 0.4349 - val_acc: 0.7874\n",
      "Epoch 53/100\n",
      "100/100 [==============================] - 264s 3s/step - loss: 0.4325 - acc: 0.8019 - val_loss: 0.4432 - val_acc: 0.8090\n",
      "Epoch 54/100\n",
      "100/100 [==============================] - 303s 3s/step - loss: 0.4418 - acc: 0.7959 - val_loss: 0.4127 - val_acc: 0.8255\n",
      "Epoch 55/100\n",
      "100/100 [==============================] - 287s 3s/step - loss: 0.4275 - acc: 0.8047 - val_loss: 0.4422 - val_acc: 0.8103\n",
      "Epoch 56/100\n",
      "100/100 [==============================] - 306s 3s/step - loss: 0.4395 - acc: 0.7937 - val_loss: 0.4503 - val_acc: 0.7906\n",
      "Epoch 57/100\n",
      "100/100 [==============================] - 332s 3s/step - loss: 0.4248 - acc: 0.8063 - val_loss: 0.4785 - val_acc: 0.7887\n",
      "Epoch 58/100\n",
      "100/100 [==============================] - 336s 3s/step - loss: 0.4245 - acc: 0.8009 - val_loss: 0.5746 - val_acc: 0.7373\n",
      "Epoch 59/100\n",
      "100/100 [==============================] - 322s 3s/step - loss: 0.4365 - acc: 0.7953 - val_loss: 0.4485 - val_acc: 0.8122\n",
      "Epoch 60/100\n",
      "100/100 [==============================] - 275s 3s/step - loss: 0.4348 - acc: 0.8025 - val_loss: 0.4286 - val_acc: 0.8084\n",
      "Epoch 61/100\n",
      "100/100 [==============================] - 268s 3s/step - loss: 0.4265 - acc: 0.8059 - val_loss: 0.4898 - val_acc: 0.7728\n"
     ]
    },
    {
     "name": "stdout",
     "output_type": "stream",
     "text": [
      "Epoch 62/100\n",
      "100/100 [==============================] - 272s 3s/step - loss: 0.4220 - acc: 0.8059 - val_loss: 0.4439 - val_acc: 0.7931\n",
      "Epoch 63/100\n",
      "100/100 [==============================] - 268s 3s/step - loss: 0.4234 - acc: 0.8000 - val_loss: 0.4447 - val_acc: 0.8046\n",
      "Epoch 64/100\n",
      "100/100 [==============================] - 299s 3s/step - loss: 0.4176 - acc: 0.8053 - val_loss: 0.4300 - val_acc: 0.8001\n",
      "Epoch 65/100\n",
      "100/100 [==============================] - 264s 3s/step - loss: 0.4065 - acc: 0.8141 - val_loss: 0.4548 - val_acc: 0.7951\n",
      "Epoch 66/100\n",
      "100/100 [==============================] - 217s 2s/step - loss: 0.4258 - acc: 0.8069 - val_loss: 0.4501 - val_acc: 0.8141\n",
      "Epoch 67/100\n",
      "100/100 [==============================] - 242s 2s/step - loss: 0.3999 - acc: 0.8147 - val_loss: 0.5037 - val_acc: 0.7766\n",
      "Epoch 68/100\n",
      "100/100 [==============================] - 253s 3s/step - loss: 0.4124 - acc: 0.8122 - val_loss: 0.4328 - val_acc: 0.8147\n",
      "Epoch 69/100\n",
      "100/100 [==============================] - 240s 2s/step - loss: 0.4092 - acc: 0.8100 - val_loss: 0.4981 - val_acc: 0.7792\n",
      "Epoch 70/100\n",
      "100/100 [==============================] - 238s 2s/step - loss: 0.4149 - acc: 0.8125 - val_loss: 0.4596 - val_acc: 0.8109\n",
      "Epoch 71/100\n",
      "100/100 [==============================] - 244s 2s/step - loss: 0.4025 - acc: 0.8100 - val_loss: 0.4236 - val_acc: 0.8242\n",
      "Epoch 72/100\n",
      "100/100 [==============================] - 222s 2s/step - loss: 0.3997 - acc: 0.8188 - val_loss: 0.4463 - val_acc: 0.7982\n",
      "Epoch 73/100\n",
      "100/100 [==============================] - 229s 2s/step - loss: 0.4212 - acc: 0.8041 - val_loss: 0.4456 - val_acc: 0.7938\n",
      "Epoch 74/100\n",
      "100/100 [==============================] - 233s 2s/step - loss: 0.4031 - acc: 0.8147 - val_loss: 0.4257 - val_acc: 0.8046\n",
      "Epoch 75/100\n",
      "100/100 [==============================] - 217s 2s/step - loss: 0.4130 - acc: 0.8103 - val_loss: 0.5122 - val_acc: 0.7544\n",
      "Epoch 76/100\n",
      "100/100 [==============================] - 201s 2s/step - loss: 0.3914 - acc: 0.8219 - val_loss: 0.4488 - val_acc: 0.8014\n",
      "Epoch 77/100\n",
      "100/100 [==============================] - 228s 2s/step - loss: 0.3935 - acc: 0.8225 - val_loss: 0.4183 - val_acc: 0.8160\n",
      "Epoch 78/100\n",
      "100/100 [==============================] - 202s 2s/step - loss: 0.4068 - acc: 0.8194 - val_loss: 0.6840 - val_acc: 0.7094\n",
      "Epoch 79/100\n",
      "100/100 [==============================] - 208s 2s/step - loss: 0.3903 - acc: 0.8272 - val_loss: 0.4354 - val_acc: 0.8223\n",
      "Epoch 80/100\n",
      "100/100 [==============================] - 244s 2s/step - loss: 0.3982 - acc: 0.8216 - val_loss: 0.4445 - val_acc: 0.7912\n",
      "Epoch 81/100\n",
      "100/100 [==============================] - 221s 2s/step - loss: 0.4021 - acc: 0.8197 - val_loss: 0.4274 - val_acc: 0.8141\n",
      "Epoch 82/100\n",
      "100/100 [==============================] - 251s 3s/step - loss: 0.3872 - acc: 0.8222 - val_loss: 0.4573 - val_acc: 0.7881\n",
      "Epoch 83/100\n",
      "100/100 [==============================] - 257s 3s/step - loss: 0.3831 - acc: 0.8338 - val_loss: 0.4494 - val_acc: 0.8052\n",
      "Epoch 84/100\n",
      "100/100 [==============================] - 260s 3s/step - loss: 0.3895 - acc: 0.8238 - val_loss: 0.5371 - val_acc: 0.7957\n",
      "Epoch 85/100\n",
      "100/100 [==============================] - 240s 2s/step - loss: 0.3802 - acc: 0.8259 - val_loss: 0.4535 - val_acc: 0.8122\n",
      "Epoch 86/100\n",
      "100/100 [==============================] - 233s 2s/step - loss: 0.3763 - acc: 0.8278 - val_loss: 0.4959 - val_acc: 0.7709\n",
      "Epoch 87/100\n",
      "100/100 [==============================] - 240s 2s/step - loss: 0.3774 - acc: 0.8291 - val_loss: 0.4272 - val_acc: 0.8274\n",
      "Epoch 88/100\n",
      "100/100 [==============================] - 218s 2s/step - loss: 0.3774 - acc: 0.8303 - val_loss: 0.4613 - val_acc: 0.8020\n",
      "Epoch 89/100\n",
      "100/100 [==============================] - 216s 2s/step - loss: 0.3753 - acc: 0.8306 - val_loss: 0.4137 - val_acc: 0.8198\n",
      "Epoch 90/100\n",
      "100/100 [==============================] - 219s 2s/step - loss: 0.3776 - acc: 0.8387 - val_loss: 0.4052 - val_acc: 0.8198\n",
      "Epoch 91/100\n",
      "100/100 [==============================] - 203s 2s/step - loss: 0.3772 - acc: 0.8306 - val_loss: 0.4863 - val_acc: 0.7951\n",
      "Epoch 92/100\n",
      "100/100 [==============================] - 225s 2s/step - loss: 0.3907 - acc: 0.8194 - val_loss: 0.4528 - val_acc: 0.8166\n",
      "Epoch 93/100\n",
      "100/100 [==============================] - 254s 3s/step - loss: 0.3742 - acc: 0.8359 - val_loss: 0.4045 - val_acc: 0.8274\n",
      "Epoch 94/100\n",
      "100/100 [==============================] - 254s 3s/step - loss: 0.3775 - acc: 0.8325 - val_loss: 0.4431 - val_acc: 0.7849\n",
      "Epoch 95/100\n",
      "100/100 [==============================] - 203s 2s/step - loss: 0.3699 - acc: 0.8372 - val_loss: 0.4329 - val_acc: 0.8179\n",
      "Epoch 96/100\n",
      "100/100 [==============================] - 202s 2s/step - loss: 0.3726 - acc: 0.8363 - val_loss: 0.4409 - val_acc: 0.8052\n",
      "Epoch 97/100\n",
      "100/100 [==============================] - 201s 2s/step - loss: 0.3631 - acc: 0.8369 - val_loss: 0.4165 - val_acc: 0.8179\n",
      "Epoch 98/100\n",
      "100/100 [==============================] - 205s 2s/step - loss: 0.3644 - acc: 0.8394 - val_loss: 0.5664 - val_acc: 0.7538\n",
      "Epoch 99/100\n",
      "100/100 [==============================] - 201s 2s/step - loss: 0.3626 - acc: 0.8325 - val_loss: 0.4576 - val_acc: 0.8154\n",
      "Epoch 100/100\n",
      "100/100 [==============================] - 202s 2s/step - loss: 0.3646 - acc: 0.8434 - val_loss: 0.4200 - val_acc: 0.8179\n"
     ]
    }
   ],
   "source": [
    "history2 = model2.fit_generator(train_generator2, steps_per_epoch=100, epochs=100, validation_data=val_generator2, validation_steps=50)\n",
    "#model2.save('cats_vs_dogs_small_v2.h5')"
   ]
  },
  {
   "cell_type": "code",
   "execution_count": 17,
   "metadata": {},
   "outputs": [
    {
     "data": {
      "image/png": "[encoded data removed]",
      "text/plain": [
       "<Figure size 432x288 with 1 Axes>"
      ]
     },
     "metadata": {},
     "output_type": "display_data"
    },
    {
     "data": {
      "image/png": "[encoded data removed]",
      "text/plain": [
       "<Figure size 432x288 with 1 Axes>"
      ]
     },
     "metadata": {},
     "output_type": "display_data"
    }
   ],
   "source": [
    "# Plotting the new net's history\n",
    "import matplotlib.pyplot as plt\n",
    "acc2 = history2.history['acc']\n",
    "val_acc2 = history2.history['val_acc']\n",
    "loss2 = history2.history['loss']\n",
    "val_loss2 = history2.history['val_loss']\n",
    "epochs2 = range(1, 100 + 1)\n",
    "\n",
    "plt.plot(epochs2, acc2, 'bo', label='Training acc')\n",
    "plt.plot(epochs2, val_acc2, 'b', label='Validation acc')\n",
    "plt.title('Training and validation accuracy')\n",
    "plt.xlabel('Epochs')\n",
    "plt.ylabel('Accuracy')\n",
    "plt.legend()\n",
    "\n",
    "plt.figure()\n",
    "\n",
    "plt.plot(epochs2, loss2, 'bo', label='Training loss')\n",
    "plt.plot(epochs2, val_loss2, 'b', label='Validation loss')\n",
    "plt.xlabel('Epochs')\n",
    "plt.ylabel('Loss function')\n",
    "plt.title('Training and validation loss')\n",
    "plt.legend()\n",
    "\n",
    "plt.show()"
   ]
  },
  {
   "cell_type": "code",
   "execution_count": 6,
   "metadata": {},
   "outputs": [
    {
     "name": "stdout",
     "output_type": "stream",
     "text": [
      "0.789\n"
     ]
    }
   ],
   "source": [
    "# Evaluate the test data\n",
    "from keras.models import load_model\n",
    "model3 = load_model('cats_vs_dogs_small_v2.h5')\n",
    "loss3, acc3 = model3.evaluate_generator(test_generetor)\n",
    "print(acc3)"
   ]
  },
  {
   "cell_type": "code",
   "execution_count": 29,
   "metadata": {},
   "outputs": [],
   "source": [
    "import numpy as np\n",
    "np.save(open('acc2.dat','wb'), acc2)\n",
    "np.save(open('val_acc2.dat','wb'), val_acc2)\n",
    "np.save(open('loss2.dat','wb'), loss2)\n",
    "np.save(open('val_loss2.dat','wb'), val_loss2)"
   ]
  },
  {
   "cell_type": "code",
   "execution_count": 27,
   "metadata": {},
   "outputs": [],
   "source": [
    "loaded = np.load(open('acc2.dat','rb'))"
   ]
  },
  {
   "cell_type": "code",
   "execution_count": 28,
   "metadata": {},
   "outputs": [
    {
     "name": "stdout",
     "output_type": "stream",
     "text": [
      "[0.52020202 0.56375628 0.58333333 0.62437186 0.63415404 0.66331658\n",
      " 0.67424242 0.6852904  0.68308081 0.68938442 0.69817839 0.70738636\n",
      " 0.70643939 0.71482412 0.71496212 0.71639447 0.72916667 0.72885101\n",
      " 0.72613065 0.72632576 0.73958333 0.74026382 0.74246231 0.73705808\n",
      " 0.73926768 0.75659548 0.75441919 0.7405303  0.75       0.76231061\n",
      " 0.76476131 0.7645202  0.76609848 0.76350503 0.77020202 0.7701005\n",
      " 0.76821608 0.76522843 0.786875   0.78945707 0.77493687 0.77167085\n",
      " 0.78061869 0.78661616 0.78598485 0.77889447 0.7957702  0.77638191\n",
      " 0.78693182 0.80082071 0.79805276 0.79428392 0.80082071 0.7957702\n",
      " 0.80527638 0.79324495 0.80747487 0.79987374 0.79459799 0.80113636\n",
      " 0.80492424 0.80559045 0.80113636 0.80587121 0.81438442 0.80618687\n",
      " 0.81469849 0.81281566 0.8102904  0.8125     0.80839646 0.81912879\n",
      " 0.80370603 0.8156407  0.81060606 0.82133838 0.82223618 0.81944444\n",
      " 0.82694724 0.82260101 0.82039141 0.82223618 0.83385678 0.82423858\n",
      " 0.82537688 0.82670455 0.82883166 0.82986111 0.83071608 0.83869949\n",
      " 0.83040201 0.8197601  0.83554293 0.83228643 0.83743687 0.8364899\n",
      " 0.83668342 0.83919598 0.83301768 0.84280303]\n"
     ]
    }
   ],
   "source": [
    "print(loaded)"
   ]
  },
  {
   "cell_type": "code",
   "execution_count": null,
   "metadata": {},
   "outputs": [],
   "source": []
  }
 ],
 "metadata": {
  "kernelspec": {
   "display_name": "Python 3",
   "language": "python",
   "name": "python3"
  },
  "language_info": {
   "codemirror_mode": {
    "name": "ipython",
    "version": 3
   },
   "file_extension": ".py",
   "mimetype": "text/x-python",
   "name": "python",
   "nbconvert_exporter": "python",
   "pygments_lexer": "ipython3",
   "version": "3.5.2"
  }
 },
 "nbformat": 4,
 "nbformat_minor": 2
}
