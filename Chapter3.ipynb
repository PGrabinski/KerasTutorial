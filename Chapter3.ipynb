{
  "nbformat": 4,
  "nbformat_minor": 0,
  "metadata": {
    "colab": {
      "name": "Chapter3.ipynb",
      "version": "0.3.2",
      "provenance": [],
      "collapsed_sections": []
    },
    "kernelspec": {
      "display_name": "Python 3",
      "language": "python",
      "name": "python3"
    },
    "accelerator": "GPU"
  },
  "cells": [
    {
      "cell_type": "markdown",
      "metadata": {
        "id": "view-in-github",
        "colab_type": "text"
      },
      "source": [
        "[View in Colaboratory](https://colab.research.google.com/github/PGrabinski/KerasTutorial/blob/master/Chapter3.ipynb)"
      ]
    },
    {
      "metadata": {
        "id": "-5VtC5Jlxsbv",
        "colab_type": "text"
      },
      "cell_type": "markdown",
      "source": [
        "# Chapter 3: Hands-on\n",
        "This chapter contains three typical supervised-learning tasks:\n",
        "1. Binary classification: IMDB postivie/negative reviews\n",
        "1. Multi classification: Reuters news data and its topics\n",
        "1. Regression: Boston housing prices"
      ]
    },
    {
      "metadata": {
        "id": "PKb9KSYiyMLF",
        "colab_type": "text"
      },
      "cell_type": "markdown",
      "source": [
        "## IMDB reviews\n",
        "This set contains movie reviews from IMDB. They are highly polarized and the task ist to develope a model discriminating between positive and negative reviews. There are 25k samples in both, the train and the test sets. The reviews are divided $50:50$ into *positive/negative* classes. The input data are sequences of integers where every integer represents a word encoded by a dictionary. To make the task less noisy we take only 10k most frequent words. We can decode one of the reviews to see how it looks."
      ]
    },
    {
      "metadata": {
        "id": "xMIZy9X0u1xU",
        "colab_type": "code",
        "colab": {
          "base_uri": "https://localhost:8080/",
          "height": 53
        },
        "outputId": "9064c160-c6af-4ed4-dc71-5160b679c5bb"
      },
      "cell_type": "code",
      "source": [
        "import numpy as np\n",
        "from keras.datasets import imdb\n",
        "(trainData_imdb, trainLabels_imdb), (testData_imdb, testLabels_imdb) = imdb.load_data(num_words=10000)"
      ],
      "execution_count": 8,
      "outputs": [
        {
          "output_type": "stream",
          "text": [
            "Downloading data from https://s3.amazonaws.com/text-datasets/imdb.npz\n",
            "17465344/17464789 [==============================] - 1s 0us/step\n"
          ],
          "name": "stdout"
        }
      ]
    },
    {
      "metadata": {
        "id": "z8psoqJTu1xZ",
        "colab_type": "code",
        "colab": {
          "base_uri": "https://localhost:8080/",
          "height": 91
        },
        "outputId": "e32c4571-4bbb-453c-b3b9-c6bdcbdeaa03"
      },
      "cell_type": "code",
      "source": [
        "# Decoding a review (optional)\n",
        "wordIndex_imdb = imdb.get_word_index()\n",
        "reverseWordIndex_imdb = dict( [(value, key) for (key, value) in wordIndex_imdb.items() ])\n",
        "decodedReview_imdb = ' '.join( [reverseWordIndex_imdb.get(i-3, '?') for i in trainData_imdb[2]])\n",
        "print(decodedReview_imdb)"
      ],
      "execution_count": 9,
      "outputs": [
        {
          "output_type": "stream",
          "text": [
            "Downloading data from https://s3.amazonaws.com/text-datasets/imdb_word_index.json\n",
            "1646592/1641221 [==============================] - 0s 0us/step\n",
            "? this has to be one of the worst films of the 1990s when my friends i were watching this film being the target audience it was aimed at we just sat watched the first half an hour with our jaws touching the floor at how bad it really was the rest of the time everyone else in the theatre just started talking to each other leaving or generally crying into their popcorn that they actually paid money they had ? working to watch this feeble excuse for a film it must have looked like a great idea on paper but on film it looks like no one in the film has a clue what is going on crap acting crap costumes i can't get across how ? this is to watch save yourself an hour a bit of your life\n"
          ],
          "name": "stdout"
        }
      ]
    },
    {
      "metadata": {
        "id": "7Qz3MyQ69NgR",
        "colab_type": "text"
      },
      "cell_type": "markdown",
      "source": [
        "We transform the input data into binary-valued vectors for each sequence (review). Such a vector encodes the information whether a word with given index appears in the sequence, by this we loose the information about order in the sequence, but it makes our input space much simpler."
      ]
    },
    {
      "metadata": {
        "id": "2jNSQUdQu1xf",
        "colab_type": "code",
        "colab": {}
      },
      "cell_type": "code",
      "source": [
        "def vectorize_imdb(sequences, dimension = 10000):\n",
        "    results = np.zeros((len(sequences), dimension))\n",
        "    for i, sequence in enumerate(sequences):\n",
        "        results[i, sequence] = 1.\n",
        "    return results\n",
        "\n",
        "# Vectorizing the inputs\n",
        "xTrain_imdb = vectorize_imdb(trainData_imdb)\n",
        "xTest_imdb = vectorize_imdb(testData_imdb)\n",
        "\n",
        "# Vectorizing the targets\n",
        "yTrain_imdb = np.asarray(trainLabels_imdb).astype('float32')\n",
        "yTest_imdb = np.asarray(testLabels_imdb).astype('float32')"
      ],
      "execution_count": 0,
      "outputs": []
    },
    {
      "metadata": {
        "id": "nK9qBRRq-OCr",
        "colab_type": "text"
      },
      "cell_type": "markdown",
      "source": [
        "Now, we define our simple densly conected model ending with a single unit layer which gives us probability of one the class encoded as $1$."
      ]
    },
    {
      "metadata": {
        "id": "5N9hMLXau1xq",
        "colab_type": "code",
        "colab": {}
      },
      "cell_type": "code",
      "source": [
        "from keras import models\n",
        "from keras import layers\n",
        "\n",
        "model_imdb = models.Sequential()\n",
        "model_imdb.add(layers.Dense(16, activation='relu', input_shape = (10000,)))\n",
        "model_imdb.add(layers.Dense(16, activation='relu'))\n",
        "model_imdb.add(layers.Dense(1, activation='sigmoid'))\n",
        "model_imdb.compile(optimizer='rmsprop', loss='binary_crossentropy', metrics=['acc'])"
      ],
      "execution_count": 0,
      "outputs": []
    },
    {
      "metadata": {
        "id": "8kMGRfqt-l8l",
        "colab_type": "text"
      },
      "cell_type": "markdown",
      "source": [
        "Dividing data into train and validation sets, we teach the network."
      ]
    },
    {
      "metadata": {
        "id": "DvoobnJwu1xs",
        "colab_type": "code",
        "colab": {}
      },
      "cell_type": "code",
      "source": [
        "xTrainRest_imdb = xTrain_imdb[:10000]\n",
        "xTrainPart_imdb = xTrain_imdb[10000:]\n",
        "\n",
        "yTrainRest_imdb = yTrain_imdb[:10000]\n",
        "yTrainPart_imdb = yTrain_imdb[10000:]"
      ],
      "execution_count": 0,
      "outputs": []
    },
    {
      "metadata": {
        "id": "nvli7j8gu1xx",
        "colab_type": "code",
        "colab": {
          "base_uri": "https://localhost:8080/",
          "height": 755
        },
        "outputId": "7d644deb-5b98-4abc-d74a-622e6211493b"
      },
      "cell_type": "code",
      "source": [
        "history_imdb = model_imdb.fit(xTrainPart_imdb, yTrainPart_imdb, epochs = 20, batch_size=512, validation_data=(xTrainRest_imdb,yTrainRest_imdb))"
      ],
      "execution_count": 13,
      "outputs": [
        {
          "output_type": "stream",
          "text": [
            "Train on 15000 samples, validate on 10000 samples\n",
            "Epoch 1/20\n",
            "15000/15000 [==============================] - 1s 99us/step - loss: 0.5084 - acc: 0.7813 - val_loss: 0.3797 - val_acc: 0.8684\n",
            "Epoch 2/20\n",
            "15000/15000 [==============================] - 1s 85us/step - loss: 0.3004 - acc: 0.9047 - val_loss: 0.3004 - val_acc: 0.8897\n",
            "Epoch 3/20\n",
            "15000/15000 [==============================] - 1s 87us/step - loss: 0.2179 - acc: 0.9285 - val_loss: 0.3085 - val_acc: 0.8711\n",
            "Epoch 4/20\n",
            "15000/15000 [==============================] - 1s 89us/step - loss: 0.1750 - acc: 0.9437 - val_loss: 0.2840 - val_acc: 0.8832\n",
            "Epoch 5/20\n",
            "15000/15000 [==============================] - 1s 86us/step - loss: 0.1427 - acc: 0.9543 - val_loss: 0.2841 - val_acc: 0.8872\n",
            "Epoch 6/20\n",
            "15000/15000 [==============================] - 1s 85us/step - loss: 0.1150 - acc: 0.9650 - val_loss: 0.3166 - val_acc: 0.8772\n",
            "Epoch 7/20\n",
            "15000/15000 [==============================] - 1s 88us/step - loss: 0.0980 - acc: 0.9705 - val_loss: 0.3127 - val_acc: 0.8846\n",
            "Epoch 8/20\n",
            "15000/15000 [==============================] - 1s 88us/step - loss: 0.0807 - acc: 0.9763 - val_loss: 0.3859 - val_acc: 0.8649\n",
            "Epoch 9/20\n",
            "14848/15000 [============================>.] - ETA: 0s - loss: 0.0658 - acc: 0.9824"
          ],
          "name": "stdout"
        },
        {
          "output_type": "stream",
          "text": [
            "15000/15000 [==============================] - 1s 89us/step - loss: 0.0661 - acc: 0.9821 - val_loss: 0.3635 - val_acc: 0.8782\n",
            "Epoch 10/20\n",
            "15000/15000 [==============================] - 1s 89us/step - loss: 0.0561 - acc: 0.9853 - val_loss: 0.3843 - val_acc: 0.8792\n",
            "Epoch 11/20\n",
            "15000/15000 [==============================] - 1s 89us/step - loss: 0.0439 - acc: 0.9893 - val_loss: 0.4153 - val_acc: 0.8779\n",
            "Epoch 12/20\n",
            "15000/15000 [==============================] - 1s 88us/step - loss: 0.0381 - acc: 0.9921 - val_loss: 0.4525 - val_acc: 0.8690\n",
            "Epoch 13/20\n",
            "15000/15000 [==============================] - 1s 87us/step - loss: 0.0300 - acc: 0.9928 - val_loss: 0.4698 - val_acc: 0.8729\n",
            "Epoch 14/20\n",
            "15000/15000 [==============================] - 1s 87us/step - loss: 0.0247 - acc: 0.9945 - val_loss: 0.5023 - val_acc: 0.8726\n",
            "Epoch 15/20\n",
            "15000/15000 [==============================] - 1s 88us/step - loss: 0.0175 - acc: 0.9979 - val_loss: 0.5342 - val_acc: 0.8693\n",
            "Epoch 16/20\n",
            "15000/15000 [==============================] - 1s 89us/step - loss: 0.0149 - acc: 0.9983 - val_loss: 0.5710 - val_acc: 0.8699\n",
            "Epoch 17/20\n",
            "15000/15000 [==============================] - 1s 88us/step - loss: 0.0151 - acc: 0.9971 - val_loss: 0.6024 - val_acc: 0.8697\n",
            "Epoch 18/20\n",
            " 6656/15000 [============>.................] - ETA: 0s - loss: 0.0063 - acc: 1.0000"
          ],
          "name": "stdout"
        },
        {
          "output_type": "stream",
          "text": [
            "15000/15000 [==============================] - 1s 87us/step - loss: 0.0075 - acc: 0.9996 - val_loss: 0.6822 - val_acc: 0.8632\n",
            "Epoch 19/20\n",
            "15000/15000 [==============================] - 1s 87us/step - loss: 0.0121 - acc: 0.9971 - val_loss: 0.6771 - val_acc: 0.8652\n",
            "Epoch 20/20\n",
            "15000/15000 [==============================] - 1s 87us/step - loss: 0.0041 - acc: 0.9999 - val_loss: 0.6900 - val_acc: 0.8657\n"
          ],
          "name": "stdout"
        }
      ]
    },
    {
      "metadata": {
        "id": "I5RI-a-v-7Ss",
        "colab_type": "text"
      },
      "cell_type": "markdown",
      "source": [
        "Now, we can see how did the accuracy and loss function behave."
      ]
    },
    {
      "metadata": {
        "id": "5179VyLEu1x1",
        "colab_type": "code",
        "colab": {
          "base_uri": "https://localhost:8080/",
          "height": 735
        },
        "outputId": "15712e64-76f8-4f52-be42-f0e36220cd06"
      },
      "cell_type": "code",
      "source": [
        "import matplotlib.pyplot as plt\n",
        "\n",
        "losses_imdb = history_imdb.history['loss']\n",
        "lossValues_imdb = history_imdb.history['val_loss']\n",
        "\n",
        "acc_imdb = history_imdb.history['acc']\n",
        "accValues_imdb = history_imdb.history['val_acc']\n",
        "\n",
        "epochs_imdb = range(1, len(losses_imdb)+1)\n",
        "\n",
        "plt.plot(epochs_imdb, losses_imdb, 'bo', label='Training loss')\n",
        "plt.plot(epochs_imdb, lossValues_imdb, 'b', label='Validation loss')\n",
        "plt.title('Training and validation loss')\n",
        "plt.xlabel('Epochs')\n",
        "plt.ylabel('Loss')\n",
        "plt.legend()\n",
        "\n",
        "plt.figure()\n",
        "\n",
        "plt.plot(epochs_imdb, acc_imdb, 'bo', label='Training accuracy')\n",
        "plt.plot(epochs_imdb, accValues_imdb, 'b', label='Validation accuracy')\n",
        "plt.title('Training and validation accuracy')\n",
        "plt.xlabel('Epochs')\n",
        "plt.ylabel('Accuracy')\n",
        "plt.legend()\n",
        "\n",
        "plt.show()"
      ],
      "execution_count": 14,
      "outputs": [
        {
          "output_type": "display_data",
          "data": {
            "image/png": "[encoded data removed]",
            "text/plain": [
              "<matplotlib.figure.Figure at 0x7f13f72fd6a0>"
            ]
          },
          "metadata": {
            "tags": []
          }
        },
        {
          "output_type": "display_data",
          "data": {
            "image/png": "[encoded data removed]",
            "text/plain": [
              "<matplotlib.figure.Figure at 0x7f13f6baf898>"
            ]
          },
          "metadata": {
            "tags": []
          }
        }
      ]
    },
    {
      "metadata": {
        "id": "GDf7RSyc_ikI",
        "colab_type": "text"
      },
      "cell_type": "markdown",
      "source": [
        "We see that the network overfits quickly and the validation accuracy drops. We change our learning epochs number parameter to a smaller value. With this newtork we check the test accuracy."
      ]
    },
    {
      "metadata": {
        "id": "N2bPS9YVu1yB",
        "colab_type": "code",
        "colab": {
          "base_uri": "https://localhost:8080/",
          "height": 269
        },
        "outputId": "384ee8bb-b604-49b1-9c5d-7f6762989219"
      },
      "cell_type": "code",
      "source": [
        "model_imdb2 = models.Sequential()\n",
        "model_imdb2.add(layers.Dense(16, activation='relu', input_shape=(10000,)))\n",
        "model_imdb2.add(layers.Dense(16, activation='relu'))\n",
        "model_imdb2.add(layers.Dense(1, activation='sigmoid'))\n",
        "\n",
        "model_imdb2.compile(optimizer = 'rmsprop', loss = 'binary_crossentropy', metrics=['acc'])\n",
        "model_imdb2.fit(xTrain_imdb,yTrain_imdb, epochs=6, batch_size=512)\n",
        "\n",
        "results_imdb = model_imdb2.evaluate(xTest_imdb,yTest_imdb)\n",
        "print('The test accuracy of the new model is: {}'.format(results_imdb))"
      ],
      "execution_count": 18,
      "outputs": [
        {
          "output_type": "stream",
          "text": [
            "Epoch 1/6\n",
            "25000/25000 [==============================] - 2s 64us/step - loss: 0.4447 - acc: 0.8280\n",
            "Epoch 2/6\n",
            "25000/25000 [==============================] - 1s 56us/step - loss: 0.2591 - acc: 0.9101\n",
            "Epoch 3/6\n",
            "25000/25000 [==============================] - 1s 57us/step - loss: 0.1998 - acc: 0.9276\n",
            "Epoch 4/6\n",
            "25000/25000 [==============================] - 1s 59us/step - loss: 0.1676 - acc: 0.9399\n",
            "Epoch 5/6\n",
            "25000/25000 [==============================] - 1s 58us/step - loss: 0.1427 - acc: 0.9506\n",
            "Epoch 6/6\n",
            "25000/25000 [==============================] - 1s 57us/step - loss: 0.1274 - acc: 0.9560\n",
            "25000/25000 [==============================] - 3s 129us/step\n",
            "The test accuracy of the new model is: [0.32944575251579283, 0.87636]\n"
          ],
          "name": "stdout"
        }
      ]
    },
    {
      "metadata": {
        "id": "BIkCkLiDArlA",
        "colab_type": "text"
      },
      "cell_type": "markdown",
      "source": [
        "And we got $87.6\\%$ accuracy which is quite high for such a model!"
      ]
    },
    {
      "metadata": {
        "id": "mhoY12oSySIc",
        "colab_type": "text"
      },
      "cell_type": "markdown",
      "source": [
        "## Reuters news\n",
        "This is set of $8982$ training samples and $2246$ test samples. There are $46$ topics (classes) and each class has at least $10$ samples in the training set."
      ]
    },
    {
      "metadata": {
        "id": "icS5KOFMykLl",
        "colab_type": "code",
        "colab": {}
      },
      "cell_type": "code",
      "source": [
        "\n",
        "from keras.datasets import reuters\n",
        "(train_data, train_labels), (test_data, test_labels) = reuters.load_data(num_words=10000)"
      ],
      "execution_count": 0,
      "outputs": []
    },
    {
      "metadata": {
        "id": "kk9P9oP2ykLr",
        "colab_type": "code",
        "colab": {
          "base_uri": "https://localhost:8080/",
          "height": 55
        },
        "outputId": "79437bc5-75d0-4de9-e65a-f394e6fbb80b"
      },
      "cell_type": "code",
      "source": [
        "word_index = reuters.get_word_index()\n",
        "reversed_word_index = dict([(value, key) for (key, value) in word_index.items()])\n",
        "decoded_news = ' '.join([reversed_word_index.get(i-3, '?') for i in train_data[0]])\n",
        "print(decoded_news)"
      ],
      "execution_count": 20,
      "outputs": [
        {
          "output_type": "stream",
          "text": [
            "? ? ? said as a result of its december acquisition of space co it expects earnings per share in 1987 of 1 15 to 1 30 dlrs per share up from 70 cts in 1986 the company said pretax net should rise to nine to 10 mln dlrs from six mln dlrs in 1986 and rental operation revenues to 19 to 22 mln dlrs from 12 5 mln dlrs it said cash flow per share this year should be 2 50 to three dlrs reuter 3\n"
          ],
          "name": "stdout"
        }
      ]
    },
    {
      "metadata": {
        "id": "YhtbHtGvCOsm",
        "colab_type": "text"
      },
      "cell_type": "markdown",
      "source": [
        "We transform the input data into binary-valued vectors for each sequence (review). Such a vector encodes the information whether a word with given index appears in the sequence, by this we loose the information about order in the sequence, but it makes our input space much simpler."
      ]
    },
    {
      "metadata": {
        "id": "NjQZPEJYykLx",
        "colab_type": "code",
        "colab": {}
      },
      "cell_type": "code",
      "source": [
        "import numpy as np\n",
        "from keras.utils.np_utils import to_categorical\n",
        "\n",
        "def vectorize_sequences(sequences, dimension=10000):\n",
        "    results = np.zeros((len(sequences), dimension))\n",
        "    for i, sequence in enumerate(sequences):\n",
        "        results[i,sequence] = 1.\n",
        "    return results\n",
        "\n",
        "x_train = vectorize_sequences(train_data)\n",
        "x_test = vectorize_sequences(test_data)\n",
        "\n",
        "y_train = to_categorical(train_labels)\n",
        "y_test = to_categorical(test_labels)"
      ],
      "execution_count": 0,
      "outputs": []
    },
    {
      "metadata": {
        "id": "BWH6dKqXyFlo",
        "colab_type": "text"
      },
      "cell_type": "markdown",
      "source": [
        "Again, we build a simple densly conected model with two layers. What is different is that now the last layer contains $46$ units instead of $1$. This is the difference between binary- and multi- discriminations. The other parameters are usuall. We divide the train set, so we have validation set. And we let the network learn."
      ]
    },
    {
      "metadata": {
        "id": "xQkeZ7_CykL2",
        "colab_type": "code",
        "colab": {}
      },
      "cell_type": "code",
      "source": [
        "from keras import models\n",
        "from keras import layers\n",
        "\n",
        "model = models.Sequential()\n",
        "model.add(layers.Dense(64, activation='relu', input_shape=(10000,)))\n",
        "model.add(layers.Dense(64, activation='relu'))\n",
        "model.add(layers.Dense(46, activation='softmax'))\n",
        "\n",
        "model.compile( optimizer = 'rmsprop', loss = 'categorical_crossentropy', metrics = ['accuracy'])"
      ],
      "execution_count": 0,
      "outputs": []
    },
    {
      "metadata": {
        "id": "S34tnS_XykL_",
        "colab_type": "code",
        "colab": {}
      },
      "cell_type": "code",
      "source": [
        "x_train_rest = x_train[:1000]\n",
        "x_train_train = x_train[1000:]\n",
        "\n",
        "y_train_rest = y_train[:1000]\n",
        "y_train_train = y_train[1000:]"
      ],
      "execution_count": 0,
      "outputs": []
    },
    {
      "metadata": {
        "id": "rG_cgPS1ykMB",
        "colab_type": "code",
        "colab": {
          "base_uri": "https://localhost:8080/",
          "height": 755
        },
        "outputId": "639ded56-d783-4b4c-fc06-be047b4e9fd5"
      },
      "cell_type": "code",
      "source": [
        "history = model.fit(x_train_train, y_train_train, epochs=20, batch_size=512, validation_data = (x_train_rest,y_train_rest))"
      ],
      "execution_count": 24,
      "outputs": [
        {
          "output_type": "stream",
          "text": [
            "Train on 7982 samples, validate on 1000 samples\n",
            "Epoch 1/20\n",
            "7982/7982 [==============================] - 1s 102us/step - loss: 2.5322 - acc: 0.4955 - val_loss: 1.7208 - val_acc: 0.6120\n",
            "Epoch 2/20\n",
            "7982/7982 [==============================] - 1s 67us/step - loss: 1.4452 - acc: 0.6879 - val_loss: 1.3459 - val_acc: 0.7060\n",
            "Epoch 3/20\n",
            "7982/7982 [==============================] - 1s 65us/step - loss: 1.0953 - acc: 0.7651 - val_loss: 1.1708 - val_acc: 0.7430\n",
            "Epoch 4/20\n",
            "7982/7982 [==============================] - 1s 66us/step - loss: 0.8697 - acc: 0.8165 - val_loss: 1.0793 - val_acc: 0.7590\n",
            "Epoch 5/20\n",
            "7982/7982 [==============================] - 1s 64us/step - loss: 0.7034 - acc: 0.8472 - val_loss: 0.9844 - val_acc: 0.7810\n",
            "Epoch 6/20\n",
            "7982/7982 [==============================] - 1s 66us/step - loss: 0.5667 - acc: 0.8802 - val_loss: 0.9411 - val_acc: 0.8040\n",
            "Epoch 7/20\n",
            "7982/7982 [==============================] - 1s 65us/step - loss: 0.4581 - acc: 0.9048 - val_loss: 0.9083 - val_acc: 0.8020\n",
            "Epoch 8/20\n",
            "7982/7982 [==============================] - 1s 65us/step - loss: 0.3695 - acc: 0.9231 - val_loss: 0.9363 - val_acc: 0.7890\n",
            "Epoch 9/20\n",
            "7982/7982 [==============================] - 1s 65us/step - loss: 0.3032 - acc: 0.9315 - val_loss: 0.8917 - val_acc: 0.8090\n",
            "Epoch 10/20\n",
            "7982/7982 [==============================] - 1s 64us/step - loss: 0.2537 - acc: 0.9414 - val_loss: 0.9071 - val_acc: 0.8110\n",
            "Epoch 11/20\n",
            "7982/7982 [==============================] - 1s 66us/step - loss: 0.2187 - acc: 0.9471 - val_loss: 0.9177 - val_acc: 0.8130\n",
            "Epoch 12/20\n",
            "4608/7982 [================>.............] - ETA: 0s - loss: 0.1782 - acc: 0.9527"
          ],
          "name": "stdout"
        },
        {
          "output_type": "stream",
          "text": [
            "7982/7982 [==============================] - 1s 66us/step - loss: 0.1873 - acc: 0.9508 - val_loss: 0.9027 - val_acc: 0.8130\n",
            "Epoch 13/20\n",
            "7982/7982 [==============================] - 1s 66us/step - loss: 0.1703 - acc: 0.9521 - val_loss: 0.9323 - val_acc: 0.8110\n",
            "Epoch 14/20\n",
            "7982/7982 [==============================] - 1s 67us/step - loss: 0.1536 - acc: 0.9554 - val_loss: 0.9689 - val_acc: 0.8050\n",
            "Epoch 15/20\n",
            "7982/7982 [==============================] - 1s 67us/step - loss: 0.1390 - acc: 0.9560 - val_loss: 0.9686 - val_acc: 0.8150\n",
            "Epoch 16/20\n",
            "7982/7982 [==============================] - 1s 65us/step - loss: 0.1313 - acc: 0.9560 - val_loss: 1.0220 - val_acc: 0.8060\n",
            "Epoch 17/20\n",
            "7982/7982 [==============================] - 1s 64us/step - loss: 0.1217 - acc: 0.9579 - val_loss: 1.0254 - val_acc: 0.7970\n",
            "Epoch 18/20\n",
            "7982/7982 [==============================] - 1s 65us/step - loss: 0.1198 - acc: 0.9582 - val_loss: 1.0430 - val_acc: 0.8060\n",
            "Epoch 19/20\n",
            "7982/7982 [==============================] - 1s 65us/step - loss: 0.1138 - acc: 0.9597 - val_loss: 1.0955 - val_acc: 0.7970\n",
            "Epoch 20/20\n",
            "7982/7982 [==============================] - 1s 64us/step - loss: 0.1111 - acc: 0.9593 - val_loss: 1.0674 - val_acc: 0.8020\n"
          ],
          "name": "stdout"
        }
      ]
    },
    {
      "metadata": {
        "id": "WDdbeZby0Wm5",
        "colab_type": "text"
      },
      "cell_type": "markdown",
      "source": [
        "Now, we can see how the network performs over time in the learning process."
      ]
    },
    {
      "metadata": {
        "id": "4_a-H5jjykMF",
        "colab_type": "code",
        "colab": {
          "base_uri": "https://localhost:8080/",
          "height": 735
        },
        "outputId": "5547444c-54d6-479d-cec9-9cacb2ee6a72"
      },
      "cell_type": "code",
      "source": [
        "\n",
        "import matplotlib.pyplot as plt\n",
        "\n",
        "loss_train = history.history['loss']\n",
        "loss_valid = history.history['val_loss']\n",
        "\n",
        "acc_train = history.history['acc']\n",
        "acc_valid = history.history['val_acc']\n",
        "\n",
        "epochs = range(1, len(loss_train) + 1)\n",
        "\n",
        "plt.clf()\n",
        "plt.plot(epochs, loss_train, 'bo', label='Training loss')\n",
        "plt.plot(epochs, loss_valid, 'g', label='Validation loss')\n",
        "plt.title('Training and validation loss')\n",
        "plt.xlabel('Epochs')\n",
        "plt.ylabel('Loss')\n",
        "plt.legend()\n",
        "\n",
        "plt.figure()\n",
        "\n",
        "plt.plot(epochs, acc_train, 'bo', label='Training acc')\n",
        "plt.plot(epochs, acc_valid, 'g', label='Validation acc')\n",
        "plt.title('Training and validation accuracy')\n",
        "plt.xlabel('Epochs')\n",
        "plt.ylabel('Accuracy')\n",
        "plt.legend()\n",
        "\n",
        "plt.show()"
      ],
      "execution_count": 25,
      "outputs": [
        {
          "output_type": "display_data",
          "data": {
            "image/png": "[encoded data removed]",
            "text/plain": [
              "<matplotlib.figure.Figure at 0x7f13f5fca518>"
            ]
          },
          "metadata": {
            "tags": []
          }
        },
        {
          "output_type": "display_data",
          "data": {
            "image/png": "[encoded data removed]",
            "text/plain": [
              "<matplotlib.figure.Figure at 0x7f13f60d6048>"
            ]
          },
          "metadata": {
            "tags": []
          }
        }
      ]
    },
    {
      "metadata": {
        "id": "j2XhKnob0t4p",
        "colab_type": "text"
      },
      "cell_type": "markdown",
      "source": [
        "We can see that after $5$th epoch the validation accuracy stabilizes while training accuracy still grows. Let's build a model with a shorter learning process."
      ]
    },
    {
      "metadata": {
        "id": "ArZnATrJykMM",
        "colab_type": "code",
        "colab": {
          "base_uri": "https://localhost:8080/",
          "height": 377
        },
        "outputId": "a065ec57-68cb-4fd5-8184-1f70c41048d2"
      },
      "cell_type": "code",
      "source": [
        "model2 = models.Sequential()\n",
        "model2.add(layers.Dense(64, activation='relu', input_shape=(10000,)))\n",
        "model2.add(layers.Dense(64, activation='relu'))\n",
        "model2.add(layers.Dense(46, activation='softmax'))\n",
        "model2.compile( optimizer = 'rmsprop', loss = 'categorical_crossentropy', metrics=['acc'])\n",
        "model2.fit(x_train_train, y_train_train, epochs=9, batch_size=512, validation_data=(x_train_rest, y_train_rest))"
      ],
      "execution_count": 26,
      "outputs": [
        {
          "output_type": "stream",
          "text": [
            "Train on 7982 samples, validate on 1000 samples\n",
            "Epoch 1/9\n",
            "7982/7982 [==============================] - 1s 108us/step - loss: 2.5398 - acc: 0.5226 - val_loss: 1.6733 - val_acc: 0.6570\n",
            "Epoch 2/9\n",
            "7982/7982 [==============================] - 1s 71us/step - loss: 1.3712 - acc: 0.7121 - val_loss: 1.2758 - val_acc: 0.7210\n",
            "Epoch 3/9\n",
            "7982/7982 [==============================] - 1s 68us/step - loss: 1.0136 - acc: 0.7781 - val_loss: 1.1303 - val_acc: 0.7530\n",
            "Epoch 4/9\n",
            "7982/7982 [==============================] - 1s 66us/step - loss: 0.7976 - acc: 0.8251 - val_loss: 1.0539 - val_acc: 0.7590\n",
            "Epoch 5/9\n",
            "7982/7982 [==============================] - 1s 64us/step - loss: 0.6393 - acc: 0.8624 - val_loss: 0.9754 - val_acc: 0.7920\n",
            "Epoch 6/9\n",
            "7982/7982 [==============================] - 1s 64us/step - loss: 0.5124 - acc: 0.8921 - val_loss: 0.9102 - val_acc: 0.8140\n",
            "Epoch 7/9\n",
            "7982/7982 [==============================] - 1s 65us/step - loss: 0.4124 - acc: 0.9137 - val_loss: 0.8932 - val_acc: 0.8210\n",
            "Epoch 8/9\n",
            "7982/7982 [==============================] - 1s 64us/step - loss: 0.3355 - acc: 0.9290 - val_loss: 0.8732 - val_acc: 0.8260\n",
            "Epoch 9/9\n",
            "7982/7982 [==============================] - 1s 65us/step - loss: 0.2782 - acc: 0.9371 - val_loss: 0.9338 - val_acc: 0.8000\n"
          ],
          "name": "stdout"
        },
        {
          "output_type": "execute_result",
          "data": {
            "text/plain": [
              "<keras.callbacks.History at 0x7f13ca9bfd30>"
            ]
          },
          "metadata": {
            "tags": []
          },
          "execution_count": 26
        }
      ]
    },
    {
      "metadata": {
        "id": "CRT32eyTykMQ",
        "colab_type": "code",
        "colab": {
          "base_uri": "https://localhost:8080/",
          "height": 53
        },
        "outputId": "2c2dbbf3-aa49-4e44-d68c-281229da7f92"
      },
      "cell_type": "code",
      "source": [
        "results = model2.evaluate(x_test, y_test)\n",
        "print(results)"
      ],
      "execution_count": 27,
      "outputs": [
        {
          "output_type": "stream",
          "text": [
            "2246/2246 [==============================] - 0s 136us/step\n",
            "[1.022498287691777, 0.7756010686194165]\n"
          ],
          "name": "stdout"
        }
      ]
    },
    {
      "metadata": {
        "id": "DqbiDCR04klo",
        "colab_type": "code",
        "colab": {}
      },
      "cell_type": "code",
      "source": [
        ""
      ],
      "execution_count": 0,
      "outputs": []
    },
    {
      "metadata": {
        "id": "WUorsk124FMX",
        "colab_type": "text"
      },
      "cell_type": "markdown",
      "source": [
        "The result is good for such a complex classification task and simple input space. Author got here almotst $80\\%$ what is really interesting.\n",
        "\n",
        "Now we can see what would happen, if we took the second layer to be much smaller - we generate a bottleneck effect."
      ]
    },
    {
      "metadata": {
        "id": "FPuNXtY0ykMa",
        "colab_type": "code",
        "colab": {
          "base_uri": "https://localhost:8080/",
          "height": 791
        },
        "outputId": "43caa790-b945-471b-89a8-f5222acbd40b"
      },
      "cell_type": "code",
      "source": [
        "model3 = models.Sequential()\n",
        "model3.add(layers.Dense(64, activation='relu', input_shape=(10000,)))\n",
        "model3.add(layers.Dense(4, activation='relu'))\n",
        "model3.add(layers.Dense(46, activation='softmax'))\n",
        "model3.compile( optimizer = 'rmsprop', loss = 'categorical_crossentropy', metrics=['acc'])\n",
        "model3.fit(x_train_train, y_train_train, epochs=20, batch_size=128, validation_data=(x_train_rest, y_train_rest))\n",
        "results3 = model3.evaluate(x_test, y_test)\n",
        "print(results3)"
      ],
      "execution_count": 28,
      "outputs": [
        {
          "output_type": "stream",
          "text": [
            "Train on 7982 samples, validate on 1000 samples\n",
            "Epoch 1/20\n",
            "7982/7982 [==============================] - 1s 150us/step - loss: 3.1696 - acc: 0.2433 - val_loss: 2.6142 - val_acc: 0.2740\n",
            "Epoch 2/20\n",
            "7982/7982 [==============================] - 1s 104us/step - loss: 2.0606 - acc: 0.5461 - val_loss: 1.7033 - val_acc: 0.5860\n",
            "Epoch 3/20\n",
            "7982/7982 [==============================] - 1s 103us/step - loss: 1.5012 - acc: 0.6233 - val_loss: 1.5122 - val_acc: 0.6390\n",
            "Epoch 4/20\n",
            "7982/7982 [==============================] - 1s 99us/step - loss: 1.2887 - acc: 0.6907 - val_loss: 1.4120 - val_acc: 0.6780\n",
            "Epoch 5/20\n",
            "7982/7982 [==============================] - 1s 100us/step - loss: 1.1457 - acc: 0.7159 - val_loss: 1.3673 - val_acc: 0.6830\n",
            "Epoch 6/20\n",
            "7982/7982 [==============================] - 1s 104us/step - loss: 1.0403 - acc: 0.7313 - val_loss: 1.3424 - val_acc: 0.6980\n",
            "Epoch 7/20\n",
            "7982/7982 [==============================] - 1s 94us/step - loss: 0.9587 - acc: 0.7422 - val_loss: 1.3388 - val_acc: 0.7010\n",
            "Epoch 8/20\n",
            "7982/7982 [==============================] - 1s 93us/step - loss: 0.8896 - acc: 0.7526 - val_loss: 1.3372 - val_acc: 0.7040\n",
            "Epoch 9/20\n",
            "7982/7982 [==============================] - 1s 93us/step - loss: 0.8266 - acc: 0.7692 - val_loss: 1.3596 - val_acc: 0.7090\n",
            "Epoch 10/20\n",
            "2688/7982 [=========>....................] - ETA: 0s - loss: 0.7411 - acc: 0.7999"
          ],
          "name": "stdout"
        },
        {
          "output_type": "stream",
          "text": [
            "7982/7982 [==============================] - 1s 95us/step - loss: 0.7670 - acc: 0.7890 - val_loss: 1.3728 - val_acc: 0.7110\n",
            "Epoch 11/20\n",
            "7982/7982 [==============================] - 1s 93us/step - loss: 0.7128 - acc: 0.8052 - val_loss: 1.3971 - val_acc: 0.7160\n",
            "Epoch 12/20\n",
            "7982/7982 [==============================] - 1s 94us/step - loss: 0.6672 - acc: 0.8170 - val_loss: 1.4007 - val_acc: 0.7210\n",
            "Epoch 13/20\n",
            "7982/7982 [==============================] - 1s 92us/step - loss: 0.6231 - acc: 0.8301 - val_loss: 1.4599 - val_acc: 0.7180\n",
            "Epoch 14/20\n",
            "7982/7982 [==============================] - 1s 93us/step - loss: 0.5860 - acc: 0.8366 - val_loss: 1.4702 - val_acc: 0.7210\n",
            "Epoch 15/20\n",
            "7982/7982 [==============================] - 1s 95us/step - loss: 0.5521 - acc: 0.8459 - val_loss: 1.5118 - val_acc: 0.7170\n",
            "Epoch 16/20\n",
            "7982/7982 [==============================] - 1s 92us/step - loss: 0.5228 - acc: 0.8557 - val_loss: 1.5592 - val_acc: 0.7160\n",
            "Epoch 17/20\n",
            "7982/7982 [==============================] - 1s 95us/step - loss: 0.4958 - acc: 0.8648 - val_loss: 1.5719 - val_acc: 0.7190\n",
            "Epoch 18/20\n",
            "7982/7982 [==============================] - 1s 97us/step - loss: 0.4694 - acc: 0.8791 - val_loss: 1.6396 - val_acc: 0.7180\n",
            "Epoch 19/20\n",
            "6912/7982 [========================>.....] - ETA: 0s - loss: 0.4511 - acc: 0.8834"
          ],
          "name": "stdout"
        },
        {
          "output_type": "stream",
          "text": [
            "7982/7982 [==============================] - 1s 96us/step - loss: 0.4462 - acc: 0.8845 - val_loss: 1.6695 - val_acc: 0.7160\n",
            "Epoch 20/20\n",
            "7982/7982 [==============================] - 1s 100us/step - loss: 0.4274 - acc: 0.8894 - val_loss: 1.7346 - val_acc: 0.7170\n",
            "2246/2246 [==============================] - 0s 137us/step\n",
            "[1.9634437153409448, 0.6905609973285841]\n"
          ],
          "name": "stdout"
        }
      ]
    },
    {
      "metadata": {
        "id": "Ncdai9Fi4rRC",
        "colab_type": "text"
      },
      "cell_type": "markdown",
      "source": [
        "We see that the results are much worse as the network is not able to learn all the patterns.\n",
        "\n",
        "But what if we add an additional layer? Will it improve the performance?"
      ]
    },
    {
      "metadata": {
        "id": "cJSq4cURykMe",
        "colab_type": "code",
        "colab": {
          "base_uri": "https://localhost:8080/",
          "height": 791
        },
        "outputId": "77c27749-32e6-4752-cbd9-d9ce9cd1fdde"
      },
      "cell_type": "code",
      "source": [
        "model4 = models.Sequential()\n",
        "model4.add(layers.Dense(64, activation='relu', input_shape=(10000,)))\n",
        "model4.add(layers.Dense(64, activation='relu'))\n",
        "model4.add(layers.Dense(64, activation='relu'))\n",
        "model4.add(layers.Dense(46, activation='softmax'))\n",
        "model4.compile( optimizer = 'rmsprop', loss = 'categorical_crossentropy', metrics=['acc'])\n",
        "model4.fit(x_train_train, y_train_train, epochs=20, batch_size=512, validation_data=(x_train_rest, y_train_rest))\n",
        "results4 = model4.evaluate(x_test, y_test)\n",
        "print(results4)"
      ],
      "execution_count": 29,
      "outputs": [
        {
          "output_type": "stream",
          "text": [
            "Train on 7982 samples, validate on 1000 samples\n",
            "Epoch 1/20\n",
            "7982/7982 [==============================] - 1s 110us/step - loss: 2.6174 - acc: 0.4446 - val_loss: 1.7360 - val_acc: 0.6090\n",
            "Epoch 2/20\n",
            "7982/7982 [==============================] - 0s 62us/step - loss: 1.4645 - acc: 0.6833 - val_loss: 1.3705 - val_acc: 0.6760\n",
            "Epoch 3/20\n",
            "7982/7982 [==============================] - 1s 67us/step - loss: 1.1140 - acc: 0.7404 - val_loss: 1.1924 - val_acc: 0.7300\n",
            "Epoch 4/20\n",
            "7982/7982 [==============================] - 1s 66us/step - loss: 0.9031 - acc: 0.7904 - val_loss: 1.1012 - val_acc: 0.7760\n",
            "Epoch 5/20\n",
            "7982/7982 [==============================] - 1s 66us/step - loss: 0.7356 - acc: 0.8315 - val_loss: 1.0718 - val_acc: 0.7600\n",
            "Epoch 6/20\n",
            "7982/7982 [==============================] - 1s 67us/step - loss: 0.5923 - acc: 0.8637 - val_loss: 1.0537 - val_acc: 0.7760\n",
            "Epoch 7/20\n",
            "7982/7982 [==============================] - 1s 66us/step - loss: 0.4879 - acc: 0.8884 - val_loss: 0.9996 - val_acc: 0.7850\n",
            "Epoch 8/20\n",
            "7982/7982 [==============================] - 1s 64us/step - loss: 0.3921 - acc: 0.9152 - val_loss: 1.2292 - val_acc: 0.7360\n",
            "Epoch 9/20\n",
            "7982/7982 [==============================] - 1s 63us/step - loss: 0.3210 - acc: 0.9300 - val_loss: 1.0190 - val_acc: 0.7960\n",
            "Epoch 10/20\n",
            "7982/7982 [==============================] - 1s 65us/step - loss: 0.2745 - acc: 0.9427 - val_loss: 1.0048 - val_acc: 0.8050\n",
            "Epoch 11/20\n",
            "7982/7982 [==============================] - 1s 64us/step - loss: 0.2330 - acc: 0.9453 - val_loss: 1.0453 - val_acc: 0.7950\n",
            "Epoch 12/20\n",
            "6656/7982 [========================>.....] - ETA: 0s - loss: 0.1975 - acc: 0.9518"
          ],
          "name": "stdout"
        },
        {
          "output_type": "stream",
          "text": [
            "7982/7982 [==============================] - 1s 65us/step - loss: 0.2015 - acc: 0.9498 - val_loss: 1.0554 - val_acc: 0.8030\n",
            "Epoch 13/20\n",
            "7982/7982 [==============================] - 1s 63us/step - loss: 0.1725 - acc: 0.9553 - val_loss: 1.1202 - val_acc: 0.7910\n",
            "Epoch 14/20\n",
            "7982/7982 [==============================] - 1s 63us/step - loss: 0.1675 - acc: 0.9545 - val_loss: 1.1538 - val_acc: 0.7810\n",
            "Epoch 15/20\n",
            "7982/7982 [==============================] - 1s 63us/step - loss: 0.1555 - acc: 0.9565 - val_loss: 1.1277 - val_acc: 0.7920\n",
            "Epoch 16/20\n",
            "7982/7982 [==============================] - 1s 64us/step - loss: 0.1442 - acc: 0.9563 - val_loss: 1.1210 - val_acc: 0.7980\n",
            "Epoch 17/20\n",
            "7982/7982 [==============================] - 1s 64us/step - loss: 0.1351 - acc: 0.9559 - val_loss: 1.1308 - val_acc: 0.7970\n",
            "Epoch 18/20\n",
            "7982/7982 [==============================] - 1s 64us/step - loss: 0.1327 - acc: 0.9574 - val_loss: 1.2036 - val_acc: 0.7860\n",
            "Epoch 19/20\n",
            "7982/7982 [==============================] - 1s 63us/step - loss: 0.1217 - acc: 0.9574 - val_loss: 1.1784 - val_acc: 0.7980\n",
            "Epoch 20/20\n",
            "7982/7982 [==============================] - 1s 65us/step - loss: 0.1228 - acc: 0.9562 - val_loss: 1.2014 - val_acc: 0.7950\n",
            "2246/2246 [==============================] - 0s 131us/step\n",
            "[1.3577374437507093, 0.7707034728936818]\n"
          ],
          "name": "stdout"
        }
      ]
    },
    {
      "metadata": {
        "id": "0F3dI8Nq5AdE",
        "colab_type": "text"
      },
      "cell_type": "markdown",
      "source": [
        "We see that the network overfits now really quickly as it learns patterns exclusive to the training set not general rules.\n",
        "\n",
        "What about one less layer?"
      ]
    },
    {
      "metadata": {
        "id": "W0KAjHeRykMr",
        "colab_type": "code",
        "colab": {
          "base_uri": "https://localhost:8080/",
          "height": 791
        },
        "outputId": "ab6d6567-62ee-4c62-df2b-cf6fcbf832e4"
      },
      "cell_type": "code",
      "source": [
        "model5 = models.Sequential()\n",
        "model5.add(layers.Dense(64, activation='relu', input_shape=(10000,)))\n",
        "model5.add(layers.Dense(46, activation='softmax'))\n",
        "model5.compile( optimizer = 'rmsprop', loss = 'categorical_crossentropy', metrics=['acc'])\n",
        "model5.fit(x_train_train, y_train_train, epochs=20, batch_size=512, validation_data=(x_train_rest, y_train_rest))\n",
        "results5 = model5.evaluate(x_test, y_test)\n",
        "print(results5)"
      ],
      "execution_count": 30,
      "outputs": [
        {
          "output_type": "stream",
          "text": [
            "Train on 7982 samples, validate on 1000 samples\n",
            "Epoch 1/20\n",
            "7982/7982 [==============================] - 1s 111us/step - loss: 2.6539 - acc: 0.5426 - val_loss: 1.8759 - val_acc: 0.6480\n",
            "Epoch 2/20\n",
            "7982/7982 [==============================] - 1s 63us/step - loss: 1.5233 - acc: 0.7134 - val_loss: 1.3931 - val_acc: 0.7270\n",
            "Epoch 3/20\n",
            "7982/7982 [==============================] - 0s 62us/step - loss: 1.1008 - acc: 0.7815 - val_loss: 1.1669 - val_acc: 0.7660\n",
            "Epoch 4/20\n",
            "7982/7982 [==============================] - 1s 64us/step - loss: 0.8528 - acc: 0.8321 - val_loss: 1.0288 - val_acc: 0.7900\n",
            "Epoch 5/20\n",
            "7982/7982 [==============================] - 1s 65us/step - loss: 0.6823 - acc: 0.8638 - val_loss: 0.9496 - val_acc: 0.7960\n",
            "Epoch 6/20\n",
            "7982/7982 [==============================] - 1s 66us/step - loss: 0.5574 - acc: 0.8908 - val_loss: 0.8999 - val_acc: 0.8100\n",
            "Epoch 7/20\n",
            "7982/7982 [==============================] - 1s 64us/step - loss: 0.4602 - acc: 0.9124 - val_loss: 0.8667 - val_acc: 0.8180\n",
            "Epoch 8/20\n",
            "7982/7982 [==============================] - 1s 65us/step - loss: 0.3817 - acc: 0.9223 - val_loss: 0.8446 - val_acc: 0.8240\n",
            "Epoch 9/20\n",
            "7982/7982 [==============================] - 1s 65us/step - loss: 0.3212 - acc: 0.9334 - val_loss: 0.8331 - val_acc: 0.8330\n",
            "Epoch 10/20\n",
            "7982/7982 [==============================] - 1s 66us/step - loss: 0.2742 - acc: 0.9417 - val_loss: 0.8227 - val_acc: 0.8260\n",
            "Epoch 11/20\n",
            "7982/7982 [==============================] - 1s 63us/step - loss: 0.2372 - acc: 0.9468 - val_loss: 0.8314 - val_acc: 0.8250\n",
            "Epoch 12/20\n",
            "5632/7982 [====================>.........] - ETA: 0s - loss: 0.2119 - acc: 0.9489"
          ],
          "name": "stdout"
        },
        {
          "output_type": "stream",
          "text": [
            "7982/7982 [==============================] - 1s 64us/step - loss: 0.2085 - acc: 0.9480 - val_loss: 0.8353 - val_acc: 0.8280\n",
            "Epoch 13/20\n",
            "7982/7982 [==============================] - 1s 65us/step - loss: 0.1840 - acc: 0.9518 - val_loss: 0.8356 - val_acc: 0.8210\n",
            "Epoch 14/20\n",
            "7982/7982 [==============================] - 1s 64us/step - loss: 0.1648 - acc: 0.9531 - val_loss: 0.8613 - val_acc: 0.8140\n",
            "Epoch 15/20\n",
            "7982/7982 [==============================] - 1s 63us/step - loss: 0.1508 - acc: 0.9548 - val_loss: 0.8714 - val_acc: 0.8160\n",
            "Epoch 16/20\n",
            "7982/7982 [==============================] - 1s 65us/step - loss: 0.1401 - acc: 0.9564 - val_loss: 0.8679 - val_acc: 0.8130\n",
            "Epoch 17/20\n",
            "7982/7982 [==============================] - 1s 64us/step - loss: 0.1299 - acc: 0.9573 - val_loss: 0.8831 - val_acc: 0.8160\n",
            "Epoch 18/20\n",
            "7982/7982 [==============================] - 1s 63us/step - loss: 0.1222 - acc: 0.9569 - val_loss: 0.8965 - val_acc: 0.8230\n",
            "Epoch 19/20\n",
            "7982/7982 [==============================] - 1s 64us/step - loss: 0.1154 - acc: 0.9584 - val_loss: 0.9083 - val_acc: 0.8140\n",
            "Epoch 20/20\n",
            "7982/7982 [==============================] - 1s 64us/step - loss: 0.1108 - acc: 0.9553 - val_loss: 0.9208 - val_acc: 0.8130\n",
            "2246/2246 [==============================] - 0s 132us/step\n",
            "[1.0461524562546958, 0.796527159394479]\n"
          ],
          "name": "stdout"
        }
      ]
    },
    {
      "metadata": {
        "id": "OSu1BcVH5Yhr",
        "colab_type": "text"
      },
      "cell_type": "markdown",
      "source": [
        "We acutally see that this one got better results than the architecture proposed by the author scoring almost $80\\%$ - the score given by the author as the top score of the two-layered network.\n",
        "\n",
        "But we can check also, if shorter learning process will help."
      ]
    },
    {
      "metadata": {
        "id": "MtkWV5sa56j9",
        "colab_type": "code",
        "colab": {
          "base_uri": "https://localhost:8080/",
          "height": 431
        },
        "outputId": "2a776afb-7737-4313-cb63-b3243066a6c5"
      },
      "cell_type": "code",
      "source": [
        "model6 = models.Sequential()\n",
        "model6.add(layers.Dense(64, activation='relu', input_shape=(10000,)))\n",
        "model6.add(layers.Dense(46, activation='softmax'))\n",
        "model6.compile( optimizer = 'rmsprop', loss = 'categorical_crossentropy', metrics=['acc'])\n",
        "model6.fit(x_train_train, y_train_train, epochs=10, batch_size=512, validation_data=(x_train_rest, y_train_rest))\n",
        "results6 = model6.evaluate(x_test, y_test)\n",
        "print(results6)"
      ],
      "execution_count": 34,
      "outputs": [
        {
          "output_type": "stream",
          "text": [
            "Train on 7982 samples, validate on 1000 samples\n",
            "Epoch 1/10\n",
            "7982/7982 [==============================] - 1s 147us/step - loss: 2.6895 - acc: 0.5495 - val_loss: 1.9245 - val_acc: 0.6570\n",
            "Epoch 2/10\n",
            "7982/7982 [==============================] - 0s 60us/step - loss: 1.5548 - acc: 0.7159 - val_loss: 1.4232 - val_acc: 0.7140\n",
            "Epoch 3/10\n",
            "7982/7982 [==============================] - 0s 62us/step - loss: 1.1210 - acc: 0.7803 - val_loss: 1.1718 - val_acc: 0.7580\n",
            "Epoch 4/10\n",
            "7982/7982 [==============================] - 1s 64us/step - loss: 0.8657 - acc: 0.8292 - val_loss: 1.0346 - val_acc: 0.7870\n",
            "Epoch 5/10\n",
            "7982/7982 [==============================] - 1s 66us/step - loss: 0.6921 - acc: 0.8654 - val_loss: 0.9519 - val_acc: 0.8030\n",
            "Epoch 6/10\n",
            "7982/7982 [==============================] - 1s 64us/step - loss: 0.5622 - acc: 0.8911 - val_loss: 0.9029 - val_acc: 0.8120\n",
            "Epoch 7/10\n",
            "7982/7982 [==============================] - 1s 64us/step - loss: 0.4630 - acc: 0.9073 - val_loss: 0.8615 - val_acc: 0.8200\n",
            "Epoch 8/10\n",
            "7982/7982 [==============================] - 1s 64us/step - loss: 0.3861 - acc: 0.9222 - val_loss: 0.8311 - val_acc: 0.8230\n",
            "Epoch 9/10\n",
            "7982/7982 [==============================] - 1s 64us/step - loss: 0.3242 - acc: 0.9339 - val_loss: 0.8246 - val_acc: 0.8230\n",
            "Epoch 10/10\n",
            "7982/7982 [==============================] - 1s 63us/step - loss: 0.2767 - acc: 0.9402 - val_loss: 0.8146 - val_acc: 0.8210\n",
            "2246/2246 [==============================] - 0s 134us/step\n",
            "[0.9050226226409206, 0.7991985752448798]\n"
          ],
          "name": "stdout"
        }
      ]
    },
    {
      "metadata": {
        "id": "2uvLzSNc6eOs",
        "colab_type": "text"
      },
      "cell_type": "markdown",
      "source": [
        "Not much, but better. *p*-hacking anyway."
      ]
    },
    {
      "metadata": {
        "id": "Z3JNTp45yVM1",
        "colab_type": "text"
      },
      "cell_type": "markdown",
      "source": [
        "## Boston houses\n",
        "The task now is not a catogorization, but regression. The data is a very small set of $404$ training samples and $102$ test samples. The data is in general in bad shape. It will give us a hard time. In the begining we normalize it by subtracting ist mean and dividing by its standard deviation."
      ]
    },
    {
      "metadata": {
        "id": "-SVmAz65uzny",
        "colab_type": "code",
        "colab": {
          "base_uri": "https://localhost:8080/",
          "height": 89
        },
        "outputId": "8f02f86a-7d6d-484a-9a97-6bc547c4b2a1"
      },
      "cell_type": "code",
      "source": [
        "from keras.datasets import boston_housing\n",
        "(train_data_boston, train_targets_boston), (test_data_boston, test_targets_boston) = boston_housing.load_data()\n",
        "print(train_data_boston.shape)\n",
        "print(train_targets_boston.shape)"
      ],
      "execution_count": 35,
      "outputs": [
        {
          "output_type": "stream",
          "text": [
            "Downloading data from https://s3.amazonaws.com/keras-datasets/boston_housing.npz\n",
            "57344/57026 [==============================] - 0s 1us/step\n",
            "(404, 13)\n",
            "(404,)\n"
          ],
          "name": "stdout"
        }
      ]
    },
    {
      "metadata": {
        "id": "OXvQROAkuzoA",
        "colab_type": "code",
        "colab": {
          "base_uri": "https://localhost:8080/",
          "height": 179
        },
        "outputId": "14f25866-4f81-4e14-def2-2ef5027f342f"
      },
      "cell_type": "code",
      "source": [
        "mean_boston = train_data_boston.mean(axis=0)\n",
        "std_boston = train_data_boston.std(axis=0)\n",
        "\n",
        "train_data_boston -= mean_boston\n",
        "train_data_boston /= std_boston\n",
        "\n",
        "test_data_boston -= mean_boston\n",
        "test_data_boston /= std_boston\n",
        "print(train_data_boston[:3])"
      ],
      "execution_count": 37,
      "outputs": [
        {
          "output_type": "stream",
          "text": [
            "[[-0.27224633 -0.48361547 -0.43576161 -0.25683275 -0.1652266  -0.1764426\n",
            "   0.81306188  0.1166983  -0.62624905 -0.59517003  1.14850044  0.44807713\n",
            "   0.8252202 ]\n",
            " [-0.40342651  2.99178419 -1.33391162 -0.25683275 -1.21518188  1.89434613\n",
            "  -1.91036058  1.24758524 -0.85646254 -0.34843254 -1.71818909  0.43190599\n",
            "  -1.32920239]\n",
            " [ 0.1249402  -0.48361547  1.0283258  -0.25683275  0.62864202 -1.82968811\n",
            "   1.11048828 -1.18743907  1.67588577  1.5652875   0.78447637  0.22061726\n",
            "  -1.30850006]]\n"
          ],
          "name": "stdout"
        }
      ]
    },
    {
      "metadata": {
        "id": "LhJonpnB-suC",
        "colab_type": "text"
      },
      "cell_type": "markdown",
      "source": [
        "We build again simple densly conected model. What it interesting is that now, we have different loss function and metrics. The new loss function is *mean squared error* and the metric is *mean absolute error*. Both suitable for continous-valued output."
      ]
    },
    {
      "metadata": {
        "id": "_-Ou7C9zuzoF",
        "colab_type": "code",
        "colab": {
          "base_uri": "https://localhost:8080/",
          "height": 269
        },
        "outputId": "b556481b-b77a-43b7-fd24-d32761626373"
      },
      "cell_type": "code",
      "source": [
        "from keras import models\n",
        "from keras import layers\n",
        "\n",
        "def build_model_boston(units=[64,64]):\n",
        "    model = models.Sequential()\n",
        "    for unit_number in units:\n",
        "        model.add(layers.Dense(unit_number, activation='relu', input_shape=(train_data_boston.shape[1],)))\n",
        "    model.add(layers.Dense(1))\n",
        "    model.compile( optimizer = 'rmsprop', loss = 'mse', metrics = ['mae'])\n",
        "    return model\n",
        "\n",
        "test_model_boston = build_model_boston()\n",
        "print(test_model_boston.summary())"
      ],
      "execution_count": 38,
      "outputs": [
        {
          "output_type": "stream",
          "text": [
            "_________________________________________________________________\n",
            "Layer (type)                 Output Shape              Param #   \n",
            "=================================================================\n",
            "dense_45 (Dense)             (None, 64)                896       \n",
            "_________________________________________________________________\n",
            "dense_46 (Dense)             (None, 64)                4160      \n",
            "_________________________________________________________________\n",
            "dense_47 (Dense)             (None, 1)                 65        \n",
            "=================================================================\n",
            "Total params: 5,121\n",
            "Trainable params: 5,121\n",
            "Non-trainable params: 0\n",
            "_________________________________________________________________\n",
            "None\n"
          ],
          "name": "stdout"
        }
      ]
    },
    {
      "metadata": {
        "id": "6mhnri73BPzi",
        "colab_type": "text"
      },
      "cell_type": "markdown",
      "source": [
        "As we have very little data, we need to squeeze everything we got from it. We use *k-folding* to do so."
      ]
    },
    {
      "metadata": {
        "id": "cTwbQMNAuzoJ",
        "colab_type": "code",
        "colab": {
          "base_uri": "https://localhost:8080/",
          "height": 89
        },
        "outputId": "bea5e54c-2dbc-4ff2-e395-ff2885fdf814"
      },
      "cell_type": "code",
      "source": [
        "import numpy as np\n",
        "k = 4\n",
        "num_val_samples = len(train_data_boston)//4\n",
        "num_epochs_boston = 200\n",
        "all_scores = []\n",
        "for i in range(k):\n",
        "    print('processing fold #', i)\n",
        "    val_data_boston = train_data_boston[i * num_val_samples: (i + 1) * num_val_samples]\n",
        "    val_targets_boston = train_targets_boston[i * num_val_samples: (i + 1) * num_val_samples]\n",
        "    \n",
        "    partial_train_data = np.concatenate(\n",
        "        [train_data_boston[:i *num_val_samples], train_data_boston[(i + 1) * num_val_samples:]],\n",
        "        axis = 0)\n",
        "    \n",
        "    partial_train_targets = np.concatenate(\n",
        "        [train_targets_boston[:i *num_val_samples], train_targets_boston[(i + 1) * num_val_samples:]],\n",
        "        axis = 0)\n",
        "    \n",
        "    model_boston = build_model_boston()\n",
        "    history_boston = model_boston.fit(partial_train_data, partial_train_targets, epochs = num_epochs_boston, batch_size = 1, verbose = 0,\n",
        "                       validation_data=(val_data_boston, val_targets_boston))\n",
        "    mae_history = history_boston.history['val_mean_absolute_error']\n",
        "    all_scores.append(mae_history)"
      ],
      "execution_count": 41,
      "outputs": [
        {
          "output_type": "stream",
          "text": [
            "processing fold # 0\n",
            "processing fold # 1\n",
            "processing fold # 2\n",
            "processing fold # 3\n"
          ],
          "name": "stdout"
        }
      ]
    },
    {
      "metadata": {
        "id": "umougF0huzoN",
        "colab_type": "code",
        "colab": {}
      },
      "cell_type": "code",
      "source": [
        "avarage_mae_history = [ np.mean([x[i] for x in all_scores]) for i in range(num_epochs) ]"
      ],
      "execution_count": 0,
      "outputs": []
    },
    {
      "metadata": {
        "id": "MKPu7-yhDI7p",
        "colab_type": "text"
      },
      "cell_type": "markdown",
      "source": [
        "We can check how did the network behave during the learning process."
      ]
    },
    {
      "metadata": {
        "id": "wCEtj8qIuzoR",
        "colab_type": "code",
        "colab": {
          "base_uri": "https://localhost:8080/",
          "height": 361
        },
        "outputId": "29e4e388-a3e4-4b1e-a03d-e6800b8d7960"
      },
      "cell_type": "code",
      "source": [
        "import matplotlib.pyplot as plt\n",
        "plt.clf()\n",
        "plt.plot(range(1, len(avarage_mae_history) + 1), avarage_mae_history)\n",
        "plt.xlabel('Epochs')\n",
        "plt.ylabel('Validation MAE')\n",
        "plt.show()"
      ],
      "execution_count": 43,
      "outputs": [
        {
          "output_type": "display_data",
          "data": {
            "image/png": "[encoded data removed]",
            "text/plain": [
              "<matplotlib.figure.Figure at 0x7f13c632a828>"
            ]
          },
          "metadata": {
            "tags": []
          }
        }
      ]
    },
    {
      "metadata": {
        "id": "6d6xxvmtCame",
        "colab_type": "text"
      },
      "cell_type": "markdown",
      "source": [
        "This plot gives us little insight. We can smooth it out and drop the first 10 epochs as they generate huge error."
      ]
    },
    {
      "metadata": {
        "id": "HU2ywqoXuzoW",
        "colab_type": "code",
        "colab": {
          "base_uri": "https://localhost:8080/",
          "height": 361
        },
        "outputId": "3a14beef-7106-4903-e04f-d7e3ec0e264d"
      },
      "cell_type": "code",
      "source": [
        "def smooth_curve(points, factor=0.9):\n",
        "    smoothed_points = []\n",
        "    for point in points:\n",
        "        if smoothed_points:\n",
        "            previous = smoothed_points[-1]\n",
        "            smoothed_points.append(previous*factor + point* (1 - factor))\n",
        "        else:\n",
        "            smoothed_points.append(point)\n",
        "    return smoothed_points\n",
        "\n",
        "smooth_mae_history = smooth_curve(avarage_mae_history[10:])\n",
        "\n",
        "plt.clf()\n",
        "plt.plot(range(11, len(smooth_mae_history) + 11), smooth_mae_history)\n",
        "plt.xlabel('Epochs')\n",
        "plt.ylabel('Validation MAE')\n",
        "plt.show()"
      ],
      "execution_count": 44,
      "outputs": [
        {
          "output_type": "display_data",
          "data": {
            "image/png": "[encoded data removed]",
            "text/plain": [
              "<matplotlib.figure.Figure at 0x7f13f6e40fd0>"
            ]
          },
          "metadata": {
            "tags": []
          }
        }
      ]
    },
    {
      "metadata": {
        "id": "jM0NQZdwDao0",
        "colab_type": "text"
      },
      "cell_type": "markdown",
      "source": [
        "We see that after approximatelly 70 epochs the network begins to overfit. Thanks to that we can build a better model."
      ]
    },
    {
      "metadata": {
        "id": "WtrMvKY7Duuz",
        "colab_type": "code",
        "colab": {
          "base_uri": "https://localhost:8080/",
          "height": 1853
        },
        "outputId": "2b5558f9-2f7e-4276-eb1d-6147205b6bf2"
      },
      "cell_type": "code",
      "source": [
        "model_boston2 = build_model_boston()\n",
        "history_boston2 = model_boston2.fit(train_data_boston, train_targets_boston, epochs = 50, batch_size = 1)\n",
        "results_boston = model_boston2.evaluate(test_data_boston, test_targets_boston)\n",
        "print(results_boston)"
      ],
      "execution_count": 46,
      "outputs": [
        {
          "output_type": "stream",
          "text": [
            "Epoch 1/50\n",
            "404/404 [==============================] - 3s 6ms/step - loss: 199.3171 - mean_absolute_error: 10.5207\n",
            "Epoch 2/50\n",
            "404/404 [==============================] - 2s 6ms/step - loss: 28.5236 - mean_absolute_error: 3.6564\n",
            "Epoch 3/50\n",
            "404/404 [==============================] - 2s 6ms/step - loss: 20.8767 - mean_absolute_error: 3.0553\n",
            "Epoch 4/50\n",
            "404/404 [==============================] - 2s 6ms/step - loss: 17.3959 - mean_absolute_error: 2.8190\n",
            "Epoch 5/50\n",
            "404/404 [==============================] - 2s 6ms/step - loss: 14.9718 - mean_absolute_error: 2.5669\n",
            "Epoch 6/50\n",
            "353/404 [=========================>....] - ETA: 0s - loss: 14.8373 - mean_absolute_error: 2.5161"
          ],
          "name": "stdout"
        },
        {
          "output_type": "stream",
          "text": [
            "404/404 [==============================] - 2s 6ms/step - loss: 13.9233 - mean_absolute_error: 2.4671\n",
            "Epoch 7/50\n",
            "404/404 [==============================] - 2s 6ms/step - loss: 13.1339 - mean_absolute_error: 2.4172\n",
            "Epoch 8/50\n",
            "404/404 [==============================] - 2s 5ms/step - loss: 12.3548 - mean_absolute_error: 2.3324\n",
            "Epoch 9/50\n",
            "404/404 [==============================] - 2s 6ms/step - loss: 11.8918 - mean_absolute_error: 2.2934\n",
            "Epoch 10/50\n",
            "404/404 [==============================] - 2s 6ms/step - loss: 11.4191 - mean_absolute_error: 2.2498\n",
            "Epoch 11/50\n",
            "404/404 [==============================] - 2s 6ms/step - loss: 10.9985 - mean_absolute_error: 2.2317\n",
            "Epoch 12/50\n",
            "  1/404 [..............................] - ETA: 3s - loss: 13.0694 - mean_absolute_error: 3.6152"
          ],
          "name": "stdout"
        },
        {
          "output_type": "stream",
          "text": [
            "404/404 [==============================] - 2s 6ms/step - loss: 10.3225 - mean_absolute_error: 2.1758\n",
            "Epoch 13/50\n",
            "404/404 [==============================] - 2s 6ms/step - loss: 10.3811 - mean_absolute_error: 2.1825\n",
            "Epoch 14/50\n",
            "404/404 [==============================] - 2s 6ms/step - loss: 9.9368 - mean_absolute_error: 2.1306\n",
            "Epoch 15/50\n",
            "404/404 [==============================] - 2s 6ms/step - loss: 10.1086 - mean_absolute_error: 2.1345\n",
            "Epoch 16/50\n",
            "404/404 [==============================] - 2s 6ms/step - loss: 9.5477 - mean_absolute_error: 2.0865\n",
            "Epoch 17/50\n",
            "374/404 [==========================>...] - ETA: 0s - loss: 9.4120 - mean_absolute_error: 1.9944"
          ],
          "name": "stdout"
        },
        {
          "output_type": "stream",
          "text": [
            "404/404 [==============================] - 2s 6ms/step - loss: 9.1538 - mean_absolute_error: 1.9946\n",
            "Epoch 18/50\n",
            "404/404 [==============================] - 2s 6ms/step - loss: 8.9762 - mean_absolute_error: 2.0726\n",
            "Epoch 19/50\n",
            "404/404 [==============================] - 2s 6ms/step - loss: 9.3774 - mean_absolute_error: 2.0206\n",
            "Epoch 20/50\n",
            "404/404 [==============================] - 2s 6ms/step - loss: 9.0943 - mean_absolute_error: 2.0211\n",
            "Epoch 21/50\n",
            "404/404 [==============================] - 2s 6ms/step - loss: 8.7160 - mean_absolute_error: 1.9735\n",
            "Epoch 22/50\n",
            "404/404 [==============================] - 2s 6ms/step - loss: 8.6730 - mean_absolute_error: 1.9900\n",
            "Epoch 23/50\n",
            " 29/404 [=>............................] - ETA: 2s - loss: 3.3369 - mean_absolute_error: 1.2825"
          ],
          "name": "stdout"
        },
        {
          "output_type": "stream",
          "text": [
            "404/404 [==============================] - 2s 6ms/step - loss: 8.2816 - mean_absolute_error: 1.9658\n",
            "Epoch 24/50\n",
            "404/404 [==============================] - 2s 6ms/step - loss: 8.2838 - mean_absolute_error: 1.9423\n",
            "Epoch 25/50\n",
            "404/404 [==============================] - 2s 6ms/step - loss: 8.1360 - mean_absolute_error: 1.9013\n",
            "Epoch 26/50\n",
            "404/404 [==============================] - 2s 6ms/step - loss: 8.3768 - mean_absolute_error: 1.9011\n",
            "Epoch 27/50\n",
            "404/404 [==============================] - 2s 6ms/step - loss: 7.7391 - mean_absolute_error: 1.8795\n",
            "Epoch 28/50\n",
            "404/404 [==============================] - 2s 6ms/step - loss: 7.9231 - mean_absolute_error: 1.8528\n"
          ],
          "name": "stdout"
        },
        {
          "output_type": "stream",
          "text": [
            "Epoch 29/50\n",
            "404/404 [==============================] - 2s 6ms/step - loss: 7.7294 - mean_absolute_error: 1.8431\n",
            "Epoch 30/50\n",
            "404/404 [==============================] - 2s 6ms/step - loss: 7.8198 - mean_absolute_error: 1.8471\n",
            "Epoch 31/50\n",
            "404/404 [==============================] - 2s 6ms/step - loss: 7.7070 - mean_absolute_error: 1.8114\n",
            "Epoch 32/50\n",
            "404/404 [==============================] - 2s 6ms/step - loss: 7.3056 - mean_absolute_error: 1.7818\n",
            "Epoch 33/50\n",
            "404/404 [==============================] - 2s 6ms/step - loss: 7.5471 - mean_absolute_error: 1.7762\n",
            "Epoch 34/50\n",
            "371/404 [==========================>...] - ETA: 0s - loss: 7.3944 - mean_absolute_error: 1.7812"
          ],
          "name": "stdout"
        },
        {
          "output_type": "stream",
          "text": [
            "404/404 [==============================] - 2s 6ms/step - loss: 7.3136 - mean_absolute_error: 1.7715\n",
            "Epoch 35/50\n",
            "404/404 [==============================] - 2s 6ms/step - loss: 7.2956 - mean_absolute_error: 1.7445\n",
            "Epoch 36/50\n",
            "404/404 [==============================] - 2s 6ms/step - loss: 7.3923 - mean_absolute_error: 1.7747\n",
            "Epoch 37/50\n",
            "404/404 [==============================] - 2s 6ms/step - loss: 7.1794 - mean_absolute_error: 1.7664\n",
            "Epoch 38/50\n",
            "404/404 [==============================] - 2s 6ms/step - loss: 6.8874 - mean_absolute_error: 1.7318\n",
            "Epoch 39/50\n",
            "404/404 [==============================] - 2s 6ms/step - loss: 6.6456 - mean_absolute_error: 1.7363\n",
            "Epoch 40/50\n",
            " 30/404 [=>............................] - ETA: 2s - loss: 3.5161 - mean_absolute_error: 1.3718"
          ],
          "name": "stdout"
        },
        {
          "output_type": "stream",
          "text": [
            "404/404 [==============================] - 2s 6ms/step - loss: 6.9589 - mean_absolute_error: 1.6922\n",
            "Epoch 41/50\n",
            "404/404 [==============================] - 2s 6ms/step - loss: 6.5935 - mean_absolute_error: 1.6774\n",
            "Epoch 42/50\n",
            "404/404 [==============================] - 2s 6ms/step - loss: 6.6487 - mean_absolute_error: 1.7197\n",
            "Epoch 43/50\n",
            "404/404 [==============================] - 2s 6ms/step - loss: 6.4441 - mean_absolute_error: 1.6809\n",
            "Epoch 44/50\n",
            "404/404 [==============================] - 2s 6ms/step - loss: 6.5530 - mean_absolute_error: 1.6911\n",
            "Epoch 45/50\n",
            "404/404 [==============================] - 2s 6ms/step - loss: 6.6671 - mean_absolute_error: 1.6548\n",
            "Epoch 46/50\n",
            " 11/404 [..............................] - ETA: 2s - loss: 3.1530 - mean_absolute_error: 1.1184"
          ],
          "name": "stdout"
        },
        {
          "output_type": "stream",
          "text": [
            "404/404 [==============================] - 2s 6ms/step - loss: 6.3386 - mean_absolute_error: 1.6644\n",
            "Epoch 47/50\n",
            "404/404 [==============================] - 2s 6ms/step - loss: 6.5374 - mean_absolute_error: 1.6522\n",
            "Epoch 48/50\n",
            "404/404 [==============================] - 2s 6ms/step - loss: 6.7957 - mean_absolute_error: 1.6366\n",
            "Epoch 49/50\n",
            "404/404 [==============================] - 2s 6ms/step - loss: 6.2229 - mean_absolute_error: 1.6674\n",
            "Epoch 50/50\n",
            "404/404 [==============================] - 2s 6ms/step - loss: 6.4331 - mean_absolute_error: 1.6172\n",
            "102/102 [==============================] - 0s 2ms/step\n",
            "[18.30237564386106, 2.728666866526884]\n"
          ],
          "name": "stdout"
        }
      ]
    },
    {
      "metadata": {
        "id": "1rpoSj3IEq18",
        "colab_type": "code",
        "colab": {
          "base_uri": "https://localhost:8080/",
          "height": 2573
        },
        "outputId": "0214a819-d869-4b5e-85e1-0a38eab9d6e2"
      },
      "cell_type": "code",
      "source": [
        "model_boston3 = build_model_boston()\n",
        "history_boston3 = model_boston3.fit(train_data_boston, train_targets_boston, epochs = 70, batch_size = 1)\n",
        "results_boston3 = model_boston3.evaluate(test_data_boston, test_targets_boston)\n",
        "print(results_boston3)"
      ],
      "execution_count": 47,
      "outputs": [
        {
          "output_type": "stream",
          "text": [
            "Epoch 1/70\n",
            "404/404 [==============================] - 3s 7ms/step - loss: 172.6805 - mean_absolute_error: 9.2086\n",
            "Epoch 2/70\n",
            "404/404 [==============================] - 2s 6ms/step - loss: 25.7849 - mean_absolute_error: 3.3268\n",
            "Epoch 3/70\n",
            "404/404 [==============================] - 2s 6ms/step - loss: 18.9752 - mean_absolute_error: 2.7901\n",
            "Epoch 4/70\n",
            "404/404 [==============================] - 2s 6ms/step - loss: 16.0270 - mean_absolute_error: 2.5554\n",
            "Epoch 5/70\n",
            "404/404 [==============================] - 2s 6ms/step - loss: 14.1319 - mean_absolute_error: 2.4725\n",
            "Epoch 6/70\n",
            "378/404 [===========================>..] - ETA: 0s - loss: 12.2646 - mean_absolute_error: 2.4219"
          ],
          "name": "stdout"
        },
        {
          "output_type": "stream",
          "text": [
            "404/404 [==============================] - 2s 6ms/step - loss: 12.9007 - mean_absolute_error: 2.4181\n",
            "Epoch 7/70\n",
            "404/404 [==============================] - 2s 6ms/step - loss: 11.8383 - mean_absolute_error: 2.2665\n",
            "Epoch 8/70\n",
            "404/404 [==============================] - 2s 6ms/step - loss: 11.8353 - mean_absolute_error: 2.2832\n",
            "Epoch 9/70\n",
            "404/404 [==============================] - 2s 6ms/step - loss: 11.1282 - mean_absolute_error: 2.2081\n",
            "Epoch 10/70\n",
            "404/404 [==============================] - 2s 6ms/step - loss: 10.7036 - mean_absolute_error: 2.2037\n",
            "Epoch 11/70\n",
            "404/404 [==============================] - 2s 6ms/step - loss: 10.2415 - mean_absolute_error: 2.1888\n",
            "Epoch 12/70\n",
            " 29/404 [=>............................] - ETA: 2s - loss: 31.5732 - mean_absolute_error: 3.3597"
          ],
          "name": "stdout"
        },
        {
          "output_type": "stream",
          "text": [
            "404/404 [==============================] - 2s 6ms/step - loss: 10.2092 - mean_absolute_error: 2.1197\n",
            "Epoch 13/70\n",
            "404/404 [==============================] - 2s 6ms/step - loss: 9.9136 - mean_absolute_error: 2.1518\n",
            "Epoch 14/70\n",
            "404/404 [==============================] - 2s 6ms/step - loss: 9.4869 - mean_absolute_error: 2.0621\n",
            "Epoch 15/70\n",
            "404/404 [==============================] - 2s 6ms/step - loss: 8.9269 - mean_absolute_error: 2.0333\n",
            "Epoch 16/70\n",
            "404/404 [==============================] - 2s 6ms/step - loss: 9.0364 - mean_absolute_error: 2.0372\n",
            "Epoch 17/70\n",
            "384/404 [===========================>..] - ETA: 0s - loss: 9.0959 - mean_absolute_error: 2.0232"
          ],
          "name": "stdout"
        },
        {
          "output_type": "stream",
          "text": [
            "404/404 [==============================] - 2s 6ms/step - loss: 8.9304 - mean_absolute_error: 2.0155\n",
            "Epoch 18/70\n",
            "404/404 [==============================] - 2s 6ms/step - loss: 8.8143 - mean_absolute_error: 1.9891\n",
            "Epoch 19/70\n",
            "404/404 [==============================] - 2s 6ms/step - loss: 8.6435 - mean_absolute_error: 2.0310\n",
            "Epoch 20/70\n",
            "404/404 [==============================] - 2s 6ms/step - loss: 8.5114 - mean_absolute_error: 1.9281\n",
            "Epoch 21/70\n",
            "404/404 [==============================] - 2s 6ms/step - loss: 8.5967 - mean_absolute_error: 1.9089\n",
            "Epoch 22/70\n",
            "404/404 [==============================] - 2s 6ms/step - loss: 8.2811 - mean_absolute_error: 1.8510\n",
            "Epoch 23/70\n",
            " 31/404 [=>............................] - ETA: 2s - loss: 7.3092 - mean_absolute_error: 2.2627"
          ],
          "name": "stdout"
        },
        {
          "output_type": "stream",
          "text": [
            "404/404 [==============================] - 2s 6ms/step - loss: 8.0582 - mean_absolute_error: 1.8920\n",
            "Epoch 24/70\n",
            "404/404 [==============================] - 2s 6ms/step - loss: 7.7080 - mean_absolute_error: 1.8743\n",
            "Epoch 25/70\n",
            "404/404 [==============================] - 2s 6ms/step - loss: 6.9995 - mean_absolute_error: 1.7847\n",
            "Epoch 26/70\n",
            "404/404 [==============================] - 2s 6ms/step - loss: 7.7893 - mean_absolute_error: 1.8692\n",
            "Epoch 27/70\n",
            "404/404 [==============================] - 2s 6ms/step - loss: 7.5979 - mean_absolute_error: 1.8020\n",
            "Epoch 28/70\n",
            "396/404 [============================>.] - ETA: 0s - loss: 7.4605 - mean_absolute_error: 1.8550"
          ],
          "name": "stdout"
        },
        {
          "output_type": "stream",
          "text": [
            "404/404 [==============================] - 2s 6ms/step - loss: 7.4530 - mean_absolute_error: 1.8547\n",
            "Epoch 29/70\n",
            "404/404 [==============================] - 2s 6ms/step - loss: 7.0137 - mean_absolute_error: 1.8211\n",
            "Epoch 30/70\n",
            "404/404 [==============================] - 2s 6ms/step - loss: 7.2685 - mean_absolute_error: 1.8210\n",
            "Epoch 31/70\n",
            "404/404 [==============================] - 2s 6ms/step - loss: 7.1427 - mean_absolute_error: 1.7836\n",
            "Epoch 32/70\n",
            "404/404 [==============================] - 2s 6ms/step - loss: 6.9311 - mean_absolute_error: 1.7436\n",
            "Epoch 33/70\n",
            "404/404 [==============================] - 2s 6ms/step - loss: 6.8021 - mean_absolute_error: 1.7477\n",
            "Epoch 34/70\n",
            " 29/404 [=>............................] - ETA: 2s - loss: 2.6023 - mean_absolute_error: 1.3113"
          ],
          "name": "stdout"
        },
        {
          "output_type": "stream",
          "text": [
            "404/404 [==============================] - 2s 6ms/step - loss: 6.7855 - mean_absolute_error: 1.7517\n",
            "Epoch 35/70\n",
            "404/404 [==============================] - 2s 6ms/step - loss: 6.7056 - mean_absolute_error: 1.6737\n",
            "Epoch 36/70\n",
            "404/404 [==============================] - 2s 6ms/step - loss: 6.5779 - mean_absolute_error: 1.7477\n",
            "Epoch 37/70\n",
            "404/404 [==============================] - 2s 6ms/step - loss: 7.2457 - mean_absolute_error: 1.7549\n",
            "Epoch 38/70\n",
            "404/404 [==============================] - 2s 6ms/step - loss: 6.5005 - mean_absolute_error: 1.7004\n",
            "Epoch 39/70\n",
            "397/404 [============================>.] - ETA: 0s - loss: 6.3476 - mean_absolute_error: 1.7381"
          ],
          "name": "stdout"
        },
        {
          "output_type": "stream",
          "text": [
            "404/404 [==============================] - 2s 6ms/step - loss: 6.3045 - mean_absolute_error: 1.7294\n",
            "Epoch 40/70\n",
            "404/404 [==============================] - 2s 6ms/step - loss: 6.6998 - mean_absolute_error: 1.6878\n",
            "Epoch 41/70\n",
            "404/404 [==============================] - 2s 6ms/step - loss: 5.8852 - mean_absolute_error: 1.6818\n",
            "Epoch 42/70\n",
            "404/404 [==============================] - 2s 6ms/step - loss: 6.2674 - mean_absolute_error: 1.7076\n",
            "Epoch 43/70\n",
            "404/404 [==============================] - 2s 6ms/step - loss: 6.1808 - mean_absolute_error: 1.6453\n",
            "Epoch 44/70\n",
            "404/404 [==============================] - 2s 6ms/step - loss: 6.3711 - mean_absolute_error: 1.6504\n",
            "Epoch 45/70\n",
            " 38/404 [=>............................] - ETA: 2s - loss: 2.2072 - mean_absolute_error: 1.1634"
          ],
          "name": "stdout"
        },
        {
          "output_type": "stream",
          "text": [
            "404/404 [==============================] - 2s 6ms/step - loss: 6.1632 - mean_absolute_error: 1.6510\n",
            "Epoch 46/70\n",
            "404/404 [==============================] - 2s 6ms/step - loss: 6.0486 - mean_absolute_error: 1.6598\n",
            "Epoch 47/70\n",
            "404/404 [==============================] - 2s 6ms/step - loss: 5.7817 - mean_absolute_error: 1.6070\n",
            "Epoch 48/70\n",
            "404/404 [==============================] - 2s 6ms/step - loss: 5.8715 - mean_absolute_error: 1.6144\n",
            "Epoch 49/70\n",
            "404/404 [==============================] - 2s 6ms/step - loss: 5.7991 - mean_absolute_error: 1.5870\n",
            "Epoch 50/70\n",
            "404/404 [==============================] - 2s 6ms/step - loss: 5.7944 - mean_absolute_error: 1.6188\n"
          ],
          "name": "stdout"
        },
        {
          "output_type": "stream",
          "text": [
            "Epoch 51/70\n",
            "404/404 [==============================] - 2s 6ms/step - loss: 5.6437 - mean_absolute_error: 1.6197\n",
            "Epoch 52/70\n",
            "404/404 [==============================] - 2s 6ms/step - loss: 5.9685 - mean_absolute_error: 1.6744\n",
            "Epoch 53/70\n",
            "404/404 [==============================] - 2s 6ms/step - loss: 5.6371 - mean_absolute_error: 1.5636\n",
            "Epoch 54/70\n",
            "404/404 [==============================] - 2s 6ms/step - loss: 5.6849 - mean_absolute_error: 1.5659\n",
            "Epoch 55/70\n",
            "404/404 [==============================] - 2s 6ms/step - loss: 5.1654 - mean_absolute_error: 1.5519\n",
            "Epoch 56/70\n",
            "364/404 [==========================>...] - ETA: 0s - loss: 5.0888 - mean_absolute_error: 1.5526"
          ],
          "name": "stdout"
        },
        {
          "output_type": "stream",
          "text": [
            "404/404 [==============================] - 2s 6ms/step - loss: 5.3002 - mean_absolute_error: 1.5750\n",
            "Epoch 57/70\n",
            "404/404 [==============================] - 2s 6ms/step - loss: 5.4714 - mean_absolute_error: 1.5268\n",
            "Epoch 58/70\n",
            "404/404 [==============================] - 2s 6ms/step - loss: 5.5915 - mean_absolute_error: 1.5941\n",
            "Epoch 59/70\n",
            "404/404 [==============================] - 2s 6ms/step - loss: 5.2301 - mean_absolute_error: 1.5509\n",
            "Epoch 60/70\n",
            "404/404 [==============================] - 2s 6ms/step - loss: 5.1683 - mean_absolute_error: 1.5262\n",
            "Epoch 61/70\n",
            "404/404 [==============================] - 2s 6ms/step - loss: 5.1896 - mean_absolute_error: 1.5231\n",
            "Epoch 62/70\n",
            " 20/404 [>.............................] - ETA: 2s - loss: 0.8580 - mean_absolute_error: 0.7977"
          ],
          "name": "stdout"
        },
        {
          "output_type": "stream",
          "text": [
            "404/404 [==============================] - 2s 6ms/step - loss: 5.2519 - mean_absolute_error: 1.5527\n",
            "Epoch 63/70\n",
            "404/404 [==============================] - 2s 6ms/step - loss: 5.1774 - mean_absolute_error: 1.5194\n",
            "Epoch 64/70\n",
            "404/404 [==============================] - 2s 6ms/step - loss: 5.4195 - mean_absolute_error: 1.5024\n",
            "Epoch 65/70\n",
            "404/404 [==============================] - 2s 6ms/step - loss: 5.0033 - mean_absolute_error: 1.5205\n",
            "Epoch 66/70\n",
            "404/404 [==============================] - 2s 5ms/step - loss: 5.2080 - mean_absolute_error: 1.5241\n",
            "Epoch 67/70\n",
            "404/404 [==============================] - 2s 6ms/step - loss: 4.5665 - mean_absolute_error: 1.4673\n",
            "Epoch 68/70\n",
            " 11/404 [..............................] - ETA: 2s - loss: 2.4419 - mean_absolute_error: 1.3261"
          ],
          "name": "stdout"
        },
        {
          "output_type": "stream",
          "text": [
            "404/404 [==============================] - 2s 6ms/step - loss: 4.9921 - mean_absolute_error: 1.5224\n",
            "Epoch 69/70\n",
            "404/404 [==============================] - 2s 6ms/step - loss: 4.6534 - mean_absolute_error: 1.5235\n",
            "Epoch 70/70\n",
            "404/404 [==============================] - 2s 6ms/step - loss: 4.7189 - mean_absolute_error: 1.4961\n",
            "102/102 [==============================] - 0s 3ms/step\n",
            "[17.240299598843443, 2.73118564194324]\n"
          ],
          "name": "stdout"
        }
      ]
    },
    {
      "metadata": {
        "id": "w3CgHuSwIoMC",
        "colab_type": "text"
      },
      "cell_type": "markdown",
      "source": [
        "Even after this optimalization, we have approximatelly $2700\\$$ mean absolute error! "
      ]
    }
  ]
}