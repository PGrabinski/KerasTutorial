{
 "cells": [
  {
   "cell_type": "code",
   "execution_count": 1,
   "metadata": {},
   "outputs": [
    {
     "name": "stderr",
     "output_type": "stream",
     "text": [
      "/usr/local/lib/python3.5/dist-packages/h5py/__init__.py:36: FutureWarning: Conversion of the second argument of issubdtype from `float` to `np.floating` is deprecated. In future, it will be treated as `np.float64 == np.dtype(float).type`.\n",
      "  from ._conv import register_converters as _register_converters\n",
      "Using TensorFlow backend.\n"
     ]
    }
   ],
   "source": [
    "# Importing the MNIST handwritten number set\n",
    "from keras.datasets import mnist\n",
    "\n",
    "(train_data, train_labels), (test_data, test_labels) = mnist.load_data()"
   ]
  },
  {
   "cell_type": "code",
   "execution_count": 2,
   "metadata": {},
   "outputs": [
    {
     "data": {
      "text/plain": [
       "10000"
      ]
     },
     "execution_count": 2,
     "metadata": {},
     "output_type": "execute_result"
    }
   ],
   "source": [
    "# Ploting one sample to get some intuition\n",
    "import matplotlib.pyplot as plt\n",
    "plt.imshow(train_data[100], cmap='gray')\n",
    "len(train_data)\n",
    "len(test_data)"
   ]
  },
  {
   "cell_type": "code",
   "execution_count": 13,
   "metadata": {},
   "outputs": [],
   "source": [
    "# Set up the model\n",
    "from keras import models\n",
    "from keras import layers\n",
    "\n",
    "epochs_num = 5\n",
    "\n",
    "model = models.Sequential()\n",
    "model.add(layers.Dense(512, activation='relu' , input_shape=(28*28,)))\n",
    "model.add(layers.Dense(10, activation='softmax'))\n",
    "model.compile(optimizer='rmsprop', loss='categorical_crossentropy', metrics=['acc'])"
   ]
  },
  {
   "cell_type": "code",
   "execution_count": 5,
   "metadata": {},
   "outputs": [],
   "source": [
    "# Vectorize the data\n",
    "from keras.utils.np_utils import to_categorical\n",
    "\n",
    "x_train = train_data.reshape((60000,28*28)).astype('float32')\n",
    "y_train = to_categorical(train_labels)\n",
    "\n",
    "x_test = test_data.reshape((10000,28*28)).astype('float32')\n",
    "y_test = to_categorical(test_labels)"
   ]
  },
  {
   "cell_type": "code",
   "execution_count": 14,
   "metadata": {},
   "outputs": [
    {
     "name": "stdout",
     "output_type": "stream",
     "text": [
      "Epoch 1/5\n",
      "60000/60000 [==============================] - 8s 136us/step - loss: 12.5568 - acc: 0.2204\n",
      "Epoch 2/5\n",
      "60000/60000 [==============================] - 8s 130us/step - loss: 10.2879 - acc: 0.3610\n",
      "Epoch 3/5\n",
      "60000/60000 [==============================] - 8s 135us/step - loss: 10.1189 - acc: 0.3717\n",
      "Epoch 4/5\n",
      "60000/60000 [==============================] - 8s 138us/step - loss: 10.0575 - acc: 0.3755\n",
      "Epoch 5/5\n",
      "60000/60000 [==============================] - 9s 145us/step - loss: 10.0142 - acc: 0.3783\n"
     ]
    }
   ],
   "source": [
    "# Learn!\n",
    "history = model.fit(x_train, y_train, epochs = epochs_num, batch_size=128)"
   ]
  },
  {
   "cell_type": "code",
   "execution_count": 10,
   "metadata": {},
   "outputs": [
    {
     "data": {
      "image/png": "[encoded data removed]",
      "text/plain": [
       "<Figure size 432x288 with 1 Axes>"
      ]
     },
     "metadata": {},
     "output_type": "display_data"
    }
   ],
   "source": [
    "# Lets plot the loss plots - val set needs to be added\n",
    "loss_train = history.history['loss']\n",
    "loss_val  = history.history['val_loss']\n",
    "\n",
    "epochs = range(1, epochs_num + 1)\n",
    "\n",
    "\n",
    "import matplotlib.pyplot as plt\n",
    "plt.clf()\n",
    "plt.plot(epochs, loss_train, 'bo', label=\"Training loss\")\n",
    "plt.plot(epochs, loss_val, 'b', label=\"Validation loss\")\n",
    "plt.xlabel('Epochs')\n",
    "plt.ylabel('Loss function')\n",
    "plt.title('Model loss function')\n",
    "plt.legend()\n",
    "plt.show()\n"
   ]
  },
  {
   "cell_type": "code",
   "execution_count": null,
   "metadata": {},
   "outputs": [],
   "source": [
    "# Let's plot the accuracy - val set needs to be added\n",
    "acc_train = history.history['acc']\n",
    "acc_val  = history.history['val_acc']\n",
    "\n",
    "epochs = range(1, epochs_num + 1)\n",
    "\n",
    "\n",
    "import matplotlib.pyplot as plt\n",
    "plt.clf()\n",
    "plt.plot(epochs, acc_train, 'bo', label=\"Training acc\")\n",
    "plt.plot(epochs, acc_val, 'b', label=\"Validation acc\")\n",
    "plt.xlabel('Epochs')\n",
    "plt.ylabel('Accuracy')\n",
    "plt.title('Model accuracy')\n",
    "plt.legend()\n",
    "plt.show()"
   ]
  },
  {
   "cell_type": "code",
   "execution_count": 15,
   "metadata": {},
   "outputs": [
    {
     "name": "stdout",
     "output_type": "stream",
     "text": [
      "10000/10000 [==============================] - 1s 102us/step\n",
      "9.906003900146484\n",
      "0.3847\n"
     ]
    }
   ],
   "source": [
    "# Testing\n",
    "test_loss, test_acc = model.evaluate(x_test, y_test)\n",
    "print(test_loss)\n",
    "print(test_acc)"
   ]
  },
  {
   "cell_type": "code",
   "execution_count": null,
   "metadata": {},
   "outputs": [],
   "source": [
    "# The conclusion is that the parameters given by the author are an easter egg as they give much worse result"
   ]
  }
 ],
 "metadata": {
  "kernelspec": {
   "display_name": "Python 3",
   "language": "python",
   "name": "python3"
  },
  "language_info": {
   "codemirror_mode": {
    "name": "ipython",
    "version": 3
   },
   "file_extension": ".py",
   "mimetype": "text/x-python",
   "name": "python",
   "nbconvert_exporter": "python",
   "pygments_lexer": "ipython3",
   "version": "3.5.2"
  }
 },
 "nbformat": 4,
 "nbformat_minor": 2
}
