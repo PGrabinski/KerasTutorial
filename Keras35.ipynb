{
 "cells": [
  {
   "cell_type": "code",
   "execution_count": 2,
   "metadata": {},
   "outputs": [
    {
     "name": "stdout",
     "output_type": "stream",
     "text": [
      "Downloading data from https://s3.amazonaws.com/text-datasets/imdb.npz\n",
      "17465344/17464789 [==============================] - 19s 1us/step\n"
     ]
    }
   ],
   "source": [
    "# Basic imports\n",
    "import numpy as np\n",
    "from keras.datasets import imdb\n",
    "(trainData, trainLabels), (testData, testLabels) = imdb.load_data(num_words=10000)"
   ]
  },
  {
   "cell_type": "code",
   "execution_count": 7,
   "metadata": {},
   "outputs": [
    {
     "name": "stdout",
     "output_type": "stream",
     "text": [
      "? this has to be one of the worst films of the 1990s when my friends i were watching this film being the target audience it was aimed at we just sat watched the first half an hour with our jaws touching the floor at how bad it really was the rest of the time everyone else in the theatre just started talking to each other leaving or generally crying into their popcorn that they actually paid money they had ? working to watch this feeble excuse for a film it must have looked like a great idea on paper but on film it looks like no one in the film has a clue what is going on crap acting crap costumes i can't get across how ? this is to watch save yourself an hour a bit of your life\n"
     ]
    }
   ],
   "source": [
    "# Decoding a review (optional)\n",
    "wordIndex = imdb.get_word_index()\n",
    "reverseWordIndex = dict( [(value, key) for (key, value) in wordIndex.items() ])\n",
    "decodedReview = ' '.join( [reverseWordIndex.get(i-3, '?') for i in trainData[2]])\n",
    "print(decodedReview)"
   ]
  },
  {
   "cell_type": "code",
   "execution_count": 69,
   "metadata": {},
   "outputs": [],
   "source": [
    "# Data vectorization function\n",
    "def vectorize(sequences, dimension = 10000):\n",
    "    results = np.zeros((len(sequences), dimension))\n",
    "    for i, sequence in enumerate(sequences):\n",
    "        results[i, sequence] = 1.\n",
    "    return results\n",
    "\n",
    "# Vectorizing the inputs\n",
    "xTrain = vectorize(trainData)\n",
    "xTest = vectorize(testData)\n",
    "\n",
    "# Vectorizing the targets\n",
    "yTrain = np.asarray(trainLabels).astype('float32')\n",
    "# yTrainNeg = np.ones(len(yTrain))- yTrain\n",
    "# yTrain2 = to_categorical(yTrain)\n",
    "# yTrain2 =  np.array([yTrain, yTrainNeg]).transpose()\n",
    "yTest = np.asarray(testLabels).astype('float32')\n",
    "# yTestNeg = np.ones(len(yTest))- yTest\n",
    "# yTest2 =  np.array([yTest, yTestNeg]).transpose()\n",
    "# yTest2 = to_categorical(yTest)"
   ]
  },
  {
   "cell_type": "code",
   "execution_count": 59,
   "metadata": {},
   "outputs": [
    {
     "name": "stdout",
     "output_type": "stream",
     "text": [
      "[[-1.  1.]\n",
      " [ 1. -1.]\n",
      " [ 1. -1.]\n",
      " ...\n",
      " [ 1. -1.]\n",
      " [-1.  1.]\n",
      " [ 1. -1.]]\n"
     ]
    }
   ],
   "source": [
    "from keras.utils.np_utils import to_categorical\n",
    "print(to_categorical(yTrain)-yTrain2)\n"
   ]
  },
  {
   "cell_type": "code",
   "execution_count": 71,
   "metadata": {},
   "outputs": [],
   "source": [
    "# Setting the model\n",
    "from keras import models\n",
    "from keras import layers\n",
    "\n",
    "model = models.Sequential()\n",
    "model.add(layers.Dense(16, activation='relu', input_shape = (10000,)))\n",
    "model.add(layers.Dense(16, activation='relu'))\n",
    "model.add(layers.Dense(1, activation='sigmoid'))\n",
    "model.compile(optimizer='rmsprop', loss='binary_crossentropy', metrics=['acc'])"
   ]
  },
  {
   "cell_type": "code",
   "execution_count": 73,
   "metadata": {},
   "outputs": [],
   "source": [
    "# Taking part of the data\n",
    "xTrainRest = xTrain[:10000]\n",
    "xTrainPart = xTrain[10000:]\n",
    "\n",
    "yTrainRest = yTrain[:10000]\n",
    "yTrainPart = yTrain[10000:]"
   ]
  },
  {
   "cell_type": "code",
   "execution_count": 74,
   "metadata": {},
   "outputs": [
    {
     "name": "stdout",
     "output_type": "stream",
     "text": [
      "Train on 15000 samples, validate on 10000 samples\n",
      "Epoch 1/20\n",
      "15000/15000 [==============================] - 3s 233us/step - loss: 0.5169 - acc: 0.7888 - val_loss: 0.4177 - val_acc: 0.8439\n",
      "Epoch 2/20\n",
      "15000/15000 [==============================] - 2s 162us/step - loss: 0.3173 - acc: 0.9019 - val_loss: 0.3124 - val_acc: 0.8860\n",
      "Epoch 3/20\n",
      "15000/15000 [==============================] - 2s 163us/step - loss: 0.2304 - acc: 0.9260 - val_loss: 0.2995 - val_acc: 0.8811\n",
      "Epoch 4/20\n",
      "15000/15000 [==============================] - 2s 163us/step - loss: 0.1816 - acc: 0.9414 - val_loss: 0.2918 - val_acc: 0.8824\n",
      "Epoch 5/20\n",
      "15000/15000 [==============================] - 2s 163us/step - loss: 0.1455 - acc: 0.9542 - val_loss: 0.2883 - val_acc: 0.8850\n",
      "Epoch 6/20\n",
      "15000/15000 [==============================] - 2s 163us/step - loss: 0.1192 - acc: 0.9649 - val_loss: 0.2933 - val_acc: 0.8873\n",
      "Epoch 7/20\n",
      "15000/15000 [==============================] - 2s 164us/step - loss: 0.0968 - acc: 0.9723 - val_loss: 0.3109 - val_acc: 0.8834\n",
      "Epoch 8/20\n",
      "15000/15000 [==============================] - 3s 171us/step - loss: 0.0778 - acc: 0.9796 - val_loss: 0.3332 - val_acc: 0.8796\n",
      "Epoch 9/20\n",
      "15000/15000 [==============================] - 2s 162us/step - loss: 0.0642 - acc: 0.9834 - val_loss: 0.3581 - val_acc: 0.8805\n",
      "Epoch 10/20\n",
      "15000/15000 [==============================] - 3s 167us/step - loss: 0.0514 - acc: 0.9875 - val_loss: 0.3814 - val_acc: 0.8760\n",
      "Epoch 11/20\n",
      "15000/15000 [==============================] - 3s 168us/step - loss: 0.0379 - acc: 0.9921 - val_loss: 0.4486 - val_acc: 0.8657\n",
      "Epoch 12/20\n",
      "15000/15000 [==============================] - 3s 169us/step - loss: 0.0304 - acc: 0.9939 - val_loss: 0.4450 - val_acc: 0.8718\n",
      "Epoch 13/20\n",
      "15000/15000 [==============================] - 3s 179us/step - loss: 0.0245 - acc: 0.9945 - val_loss: 0.4697 - val_acc: 0.8731\n",
      "Epoch 14/20\n",
      "15000/15000 [==============================] - 3s 179us/step - loss: 0.0197 - acc: 0.9963 - val_loss: 0.4972 - val_acc: 0.8732\n",
      "Epoch 15/20\n",
      "15000/15000 [==============================] - 3s 170us/step - loss: 0.0154 - acc: 0.9969 - val_loss: 0.5345 - val_acc: 0.8686\n",
      "Epoch 16/20\n",
      "15000/15000 [==============================] - 2s 163us/step - loss: 0.0102 - acc: 0.9993 - val_loss: 0.5628 - val_acc: 0.8694\n",
      "Epoch 17/20\n",
      "15000/15000 [==============================] - 2s 164us/step - loss: 0.0105 - acc: 0.9982 - val_loss: 0.5923 - val_acc: 0.8677\n",
      "Epoch 18/20\n",
      "15000/15000 [==============================] - 2s 164us/step - loss: 0.0046 - acc: 0.9998 - val_loss: 0.6209 - val_acc: 0.8671\n",
      "Epoch 19/20\n",
      "15000/15000 [==============================] - 2s 164us/step - loss: 0.0060 - acc: 0.9992 - val_loss: 0.6566 - val_acc: 0.8678\n",
      "Epoch 20/20\n",
      "15000/15000 [==============================] - 2s 165us/step - loss: 0.0025 - acc: 0.9999 - val_loss: 0.6886 - val_acc: 0.8660\n"
     ]
    }
   ],
   "source": [
    "history = model.fit(xTrainPart, yTrainPart, epochs = 20, batch_size=512, validation_data=(xTrainRest,yTrainRest))"
   ]
  },
  {
   "cell_type": "code",
   "execution_count": 75,
   "metadata": {},
   "outputs": [
    {
     "data": {
      "image/png": "[encoded data removed]",
      "text/plain": [
       "<Figure size 432x288 with 1 Axes>"
      ]
     },
     "metadata": {},
     "output_type": "display_data"
    }
   ],
   "source": [
    "# Plotting the loss function\n",
    "import matplotlib.pyplot as plt\n",
    "\n",
    "historyDict = history.history\n",
    "losses = historyDict['loss']\n",
    "lossValues = historyDict['val_loss']\n",
    "\n",
    "epochs = range(1, len(losses)+1)\n",
    "\n",
    "plt.clf()\n",
    "plt.plot(epochs, losses, 'bo', label='Training loss')\n",
    "plt.plot(epochs, lossValues, 'b', label='Validation loss')\n",
    "plt.title('Training and validation loss')\n",
    "plt.xlabel('Epochs')\n",
    "plt.ylabel('Loss')\n",
    "plt.legend()\n",
    "\n",
    "plt.show()"
   ]
  },
  {
   "cell_type": "code",
   "execution_count": 76,
   "metadata": {},
   "outputs": [
    {
     "data": {
      "image/png": "[encoded data removed]",
      "text/plain": [
       "<Figure size 432x288 with 1 Axes>"
      ]
     },
     "metadata": {},
     "output_type": "display_data"
    }
   ],
   "source": [
    "# Plotting the accuracy\n",
    "import matplotlib.pyplot as plt\n",
    "\n",
    "historyDict = history.history\n",
    "acc = historyDict['acc']\n",
    "accValues = historyDict['val_acc']\n",
    "\n",
    "epochs = range(1, len(losses)+1)\n",
    "\n",
    "plt.clf()\n",
    "plt.plot(epochs, acc, 'bo', label='Training accuracy')\n",
    "plt.plot(epochs, accValues, 'b', label='Validation accuracy')\n",
    "plt.title('Training and validation accuracy')\n",
    "plt.xlabel('Epochs')\n",
    "plt.ylabel('Accuracy')\n",
    "plt.legend()\n",
    "\n",
    "plt.show()"
   ]
  },
  {
   "cell_type": "code",
   "execution_count": 77,
   "metadata": {},
   "outputs": [
    {
     "name": "stdout",
     "output_type": "stream",
     "text": [
      "Epoch 1/4\n",
      "25000/25000 [==============================] - 3s 133us/step - loss: 0.4516 - acc: 0.8257\n",
      "Epoch 2/4\n",
      "25000/25000 [==============================] - 3s 119us/step - loss: 0.2648 - acc: 0.9086\n",
      "Epoch 3/4\n",
      "25000/25000 [==============================] - 3s 123us/step - loss: 0.2045 - acc: 0.9266\n",
      "Epoch 4/4\n",
      "25000/25000 [==============================] - 3s 120us/step - loss: 0.1697 - acc: 0.9411\n",
      "25000/25000 [==============================] - 3s 136us/step\n"
     ]
    }
   ],
   "source": [
    "# Another model\n",
    "model2 = models.Sequential()\n",
    "model2.add(layers.Dense(16, activation='relu', input_shape=(10000,)))\n",
    "model2.add(layers.Dense(16, activation='relu'))\n",
    "model2.add(layers.Dense(1, activation='sigmoid'))\n",
    "\n",
    "model2.compile(optimizer = 'rmsprop', loss = 'binary_crossentropy', metrics=['acc'])\n",
    "model2.fit(xTrain,yTrain, epochs=4, batch_size=512)\n",
    "results = model2.evaluate(xTest,yTest)"
   ]
  },
  {
   "cell_type": "code",
   "execution_count": 79,
   "metadata": {},
   "outputs": [
    {
     "name": "stdout",
     "output_type": "stream",
     "text": [
      "[0.2882695001888275, 0.88568]\n"
     ]
    }
   ],
   "source": [
    "print(results)"
   ]
  },
  {
   "cell_type": "code",
   "execution_count": null,
   "metadata": {},
   "outputs": [],
   "source": []
  }
 ],
 "metadata": {
  "kernelspec": {
   "display_name": "Python 3",
   "language": "python",
   "name": "python3"
  },
  "language_info": {
   "codemirror_mode": {
    "name": "ipython",
    "version": 3
   },
   "file_extension": ".py",
   "mimetype": "text/x-python",
   "name": "python",
   "nbconvert_exporter": "python",
   "pygments_lexer": "ipython3",
   "version": "3.5.2"
  }
 },
 "nbformat": 4,
 "nbformat_minor": 2
}
