{
 "cells": [
  {
   "cell_type": "code",
   "execution_count": 5,
   "metadata": {},
   "outputs": [],
   "source": [
    "# Importing the Reuters dataset\n",
    "from keras.datasets import reuters\n",
    "(train_data, train_labels), (test_data, test_labels) = reuters.load_data(num_words=10000)"
   ]
  },
  {
   "cell_type": "code",
   "execution_count": 6,
   "metadata": {},
   "outputs": [
    {
     "name": "stdout",
     "output_type": "stream",
     "text": [
      "? ? ? said as a result of its december acquisition of space co it expects earnings per share in 1987 of 1 15 to 1 30 dlrs per share up from 70 cts in 1986 the company said pretax net should rise to nine to 10 mln dlrs from six mln dlrs in 1986 and rental operation revenues to 19 to 22 mln dlrs from 12 5 mln dlrs it said cash flow per share this year should be 2 50 to three dlrs reuter 3\n"
     ]
    }
   ],
   "source": [
    "# Docoding the rewview wrod list\n",
    "word_index = reuters.get_word_index()\n",
    "reversed_word_index = dict([(value, key) for (key, value) in word_index.items()])\n",
    "decoded_news = ' '.join([reversed_word_index.get(i-3, '?') for i in train_data[0]])\n",
    "print(decoded_news)"
   ]
  },
  {
   "cell_type": "code",
   "execution_count": 8,
   "metadata": {},
   "outputs": [],
   "source": [
    "# Importing numpy\n",
    "import numpy as np\n",
    "\n",
    "# Vectorizing input data\n",
    "def vectorize_sequences(sequences, dimension=10000):\n",
    "    results = np.zeros((len(sequences), dimension))\n",
    "    for i, sequence in enumerate(sequences):\n",
    "        results[i,sequence] = 1.\n",
    "    return results\n",
    "\n",
    "x_train = vectorize_sequences(train_data)\n",
    "x_test = vectorize_sequences(test_data)"
   ]
  },
  {
   "cell_type": "code",
   "execution_count": 21,
   "metadata": {},
   "outputs": [],
   "source": [
    "# Vectorizing labels\n",
    "def vectorize_labels(labels, dimension=46):\n",
    "    results = np.zeros(len(labels), dimension)\n",
    "    for i, label in enumerate(labels):\n",
    "        results[i, label] = 1.\n",
    "    return results\n",
    "\n",
    "# But we do not need this definition\n",
    "\n",
    "# Importing categorization reshaper\n",
    "from keras.utils.np_utils import to_categorical\n",
    "\n",
    "y_train = to_categorical(train_labels)\n",
    "y_test = to_categorical(test_labels)"
   ]
  },
  {
   "cell_type": "code",
   "execution_count": 13,
   "metadata": {},
   "outputs": [],
   "source": [
    "# Setting the model\n",
    "from keras import models\n",
    "from keras import layers\n",
    "\n",
    "model = models.Sequential()\n",
    "model.add(layers.Dense(64, activation='relu', input_shape=(10000,)))\n",
    "model.add(layers.Dense(64, activation='relu'))\n",
    "model.add(layers.Dense(46, activation='softmax'))\n",
    "\n",
    "model.compile( optimizer = 'rmsprop', loss = 'categorical_crossentropy', metrics = ['accuracy'])"
   ]
  },
  {
   "cell_type": "code",
   "execution_count": 11,
   "metadata": {},
   "outputs": [],
   "source": [
    "# Dividing into train set and train validation set\n",
    "x_train_rest = x_train[:1000]\n",
    "x_train_train = x_train[1000:]\n",
    "\n",
    "y_train_rest = y_train[:1000]\n",
    "y_train_train = y_train[1000:]"
   ]
  },
  {
   "cell_type": "code",
   "execution_count": 14,
   "metadata": {},
   "outputs": [
    {
     "name": "stdout",
     "output_type": "stream",
     "text": [
      "Train on 7982 samples, validate on 1000 samples\n",
      "Epoch 1/20\n",
      "7982/7982 [==============================] - 2s 218us/step - loss: 2.5157 - acc: 0.5432 - val_loss: 1.7287 - val_acc: 0.6460\n",
      "Epoch 2/20\n",
      "7982/7982 [==============================] - 1s 172us/step - loss: 1.4110 - acc: 0.6972 - val_loss: 1.3481 - val_acc: 0.6950\n",
      "Epoch 3/20\n",
      "7982/7982 [==============================] - 1s 174us/step - loss: 1.0501 - acc: 0.7700 - val_loss: 1.1419 - val_acc: 0.7410\n",
      "Epoch 4/20\n",
      "7982/7982 [==============================] - 1s 172us/step - loss: 0.8178 - acc: 0.8265 - val_loss: 1.0296 - val_acc: 0.7800\n",
      "Epoch 5/20\n",
      "7982/7982 [==============================] - 1s 186us/step - loss: 0.6505 - acc: 0.8693 - val_loss: 0.9578 - val_acc: 0.8010\n",
      "Epoch 6/20\n",
      "7982/7982 [==============================] - 1s 176us/step - loss: 0.5154 - acc: 0.8976 - val_loss: 0.9031 - val_acc: 0.8080\n",
      "Epoch 7/20\n",
      "7982/7982 [==============================] - 1s 183us/step - loss: 0.4137 - acc: 0.9183 - val_loss: 0.8910 - val_acc: 0.8130\n",
      "Epoch 8/20\n",
      "7982/7982 [==============================] - 1s 181us/step - loss: 0.3368 - acc: 0.9280 - val_loss: 0.8708 - val_acc: 0.8170\n",
      "Epoch 9/20\n",
      "7982/7982 [==============================] - 1s 173us/step - loss: 0.2727 - acc: 0.9389 - val_loss: 0.8820 - val_acc: 0.8190\n",
      "Epoch 10/20\n",
      "7982/7982 [==============================] - 1s 175us/step - loss: 0.2338 - acc: 0.9448 - val_loss: 0.9402 - val_acc: 0.7980\n",
      "Epoch 11/20\n",
      "7982/7982 [==============================] - 1s 180us/step - loss: 0.2025 - acc: 0.9488 - val_loss: 0.9262 - val_acc: 0.8130\n",
      "Epoch 12/20\n",
      "7982/7982 [==============================] - 1s 177us/step - loss: 0.1840 - acc: 0.9518 - val_loss: 0.9332 - val_acc: 0.8160\n",
      "Epoch 13/20\n",
      "7982/7982 [==============================] - 1s 175us/step - loss: 0.1608 - acc: 0.9524 - val_loss: 0.9225 - val_acc: 0.8180\n",
      "Epoch 14/20\n",
      "7982/7982 [==============================] - 1s 177us/step - loss: 0.1472 - acc: 0.9567 - val_loss: 0.9631 - val_acc: 0.8170\n",
      "Epoch 15/20\n",
      "7982/7982 [==============================] - 1s 176us/step - loss: 0.1417 - acc: 0.9559 - val_loss: 0.9666 - val_acc: 0.8150\n",
      "Epoch 16/20\n",
      "7982/7982 [==============================] - 1s 180us/step - loss: 0.1288 - acc: 0.9554 - val_loss: 0.9773 - val_acc: 0.8080\n",
      "Epoch 17/20\n",
      "7982/7982 [==============================] - 1s 181us/step - loss: 0.1228 - acc: 0.9574 - val_loss: 1.0628 - val_acc: 0.7880\n",
      "Epoch 18/20\n",
      "7982/7982 [==============================] - 1s 177us/step - loss: 0.1200 - acc: 0.9579 - val_loss: 1.0359 - val_acc: 0.8070\n",
      "Epoch 19/20\n",
      "7982/7982 [==============================] - 1s 179us/step - loss: 0.1168 - acc: 0.9580 - val_loss: 1.0712 - val_acc: 0.8010\n",
      "Epoch 20/20\n",
      "7982/7982 [==============================] - 1s 180us/step - loss: 0.1071 - acc: 0.9587 - val_loss: 1.0343 - val_acc: 0.8060\n"
     ]
    }
   ],
   "source": [
    "# Learning\n",
    "history = model.fit(x_train_train, y_train_train, epochs=20, batch_size=512, validation_data = (x_train_rest,y_train_rest))"
   ]
  },
  {
   "cell_type": "code",
   "execution_count": 17,
   "metadata": {},
   "outputs": [
    {
     "data": {
      "image/png": "[encoded data removed]",
      "text/plain": [
       "<Figure size 432x288 with 1 Axes>"
      ]
     },
     "metadata": {},
     "output_type": "display_data"
    }
   ],
   "source": [
    "# Plotting the result's loss function\n",
    "import matplotlib.pyplot as plt\n",
    "\n",
    "loss_train = history.history['loss']\n",
    "loss_valid = history.history['val_loss']\n",
    "\n",
    "epochs = range(1, len(loss_train) + 1)\n",
    "\n",
    "plt.clf()\n",
    "plt.plot(epochs, loss_train, 'bo', label='Training loss')\n",
    "plt.plot(epochs, loss_valid, 'g', label='Validation loss')\n",
    "plt.title('Training and validation loss')\n",
    "plt.xlabel('Epochs')\n",
    "plt.ylabel('Loss')\n",
    "plt.legend()\n",
    "plt.show()"
   ]
  },
  {
   "cell_type": "code",
   "execution_count": 18,
   "metadata": {},
   "outputs": [
    {
     "data": {
      "image/png": "[encoded data removed]",
      "text/plain": [
       "<Figure size 432x288 with 1 Axes>"
      ]
     },
     "metadata": {},
     "output_type": "display_data"
    }
   ],
   "source": [
    "# Plotting the result's accuracy\n",
    "import matplotlib.pyplot as plt\n",
    "\n",
    "acc_train = history.history['acc']\n",
    "acc_valid = history.history['val_acc']\n",
    "\n",
    "epochs = range(1, len(loss_train) + 1)\n",
    "\n",
    "plt.clf()\n",
    "plt.plot(epochs, acc_train, 'bo', label='Training acc')\n",
    "plt.plot(epochs, acc_valid, 'g', label='Validation acc')\n",
    "plt.title('Training and validation accuracy')\n",
    "plt.xlabel('Epochs')\n",
    "plt.ylabel('Accuracy')\n",
    "plt.legend()\n",
    "plt.show()"
   ]
  },
  {
   "cell_type": "code",
   "execution_count": 24,
   "metadata": {},
   "outputs": [
    {
     "name": "stdout",
     "output_type": "stream",
     "text": [
      "Train on 7982 samples, validate on 1000 samples\n",
      "Epoch 1/9\n",
      "7982/7982 [==============================] - 2s 208us/step - loss: 2.5771 - acc: 0.4747 - val_loss: 1.6901 - val_acc: 0.6560\n",
      "Epoch 2/9\n",
      "7982/7982 [==============================] - 1s 164us/step - loss: 1.3767 - acc: 0.7101 - val_loss: 1.2501 - val_acc: 0.7310\n",
      "Epoch 3/9\n",
      "7982/7982 [==============================] - 1s 161us/step - loss: 1.0039 - acc: 0.7833 - val_loss: 1.0851 - val_acc: 0.7580\n",
      "Epoch 4/9\n",
      "7982/7982 [==============================] - 1s 164us/step - loss: 0.7828 - acc: 0.8349 - val_loss: 0.9964 - val_acc: 0.7840\n",
      "Epoch 5/9\n",
      "7982/7982 [==============================] - 1s 164us/step - loss: 0.6205 - acc: 0.8705 - val_loss: 0.9235 - val_acc: 0.8050\n",
      "Epoch 6/9\n",
      "7982/7982 [==============================] - 1s 173us/step - loss: 0.4935 - acc: 0.8999 - val_loss: 0.9243 - val_acc: 0.8070\n",
      "Epoch 7/9\n",
      "7982/7982 [==============================] - 1s 163us/step - loss: 0.4007 - acc: 0.9178 - val_loss: 0.8751 - val_acc: 0.8120\n",
      "Epoch 8/9\n",
      "7982/7982 [==============================] - 1s 163us/step - loss: 0.3254 - acc: 0.9325 - val_loss: 0.8925 - val_acc: 0.8190\n",
      "Epoch 9/9\n",
      "7982/7982 [==============================] - 1s 168us/step - loss: 0.2744 - acc: 0.9417 - val_loss: 0.9139 - val_acc: 0.8100\n"
     ]
    },
    {
     "data": {
      "text/plain": [
       "<keras.callbacks.History at 0x7f451b8805c0>"
      ]
     },
     "execution_count": 24,
     "metadata": {},
     "output_type": "execute_result"
    }
   ],
   "source": [
    "# Building a model dimnishing the overfiting\n",
    "model2 = models.Sequential()\n",
    "model2.add(layers.Dense(64, activation='relu', input_shape=(10000,)))\n",
    "model2.add(layers.Dense(64, activation='relu'))\n",
    "model2.add(layers.Dense(46, activation='softmax'))\n",
    "model2.compile( optimizer = 'rmsprop', loss = 'categorical_crossentropy', metrics=['acc'])\n",
    "model2.fit(x_train_train, y_train_train, epochs=9, batch_size=512, validation_data=(x_train_rest, y_train_rest))"
   ]
  },
  {
   "cell_type": "code",
   "execution_count": 25,
   "metadata": {},
   "outputs": [
    {
     "name": "stdout",
     "output_type": "stream",
     "text": [
      "2246/2246 [==============================] - 0s 190us/step\n",
      "[0.9797837343581107, 0.7836153161440804]\n"
     ]
    }
   ],
   "source": [
    "# Checking results for the test data\n",
    "results = model2.evaluate(x_test, y_test)\n",
    "print(results)"
   ]
  },
  {
   "cell_type": "code",
   "execution_count": 26,
   "metadata": {},
   "outputs": [
    {
     "name": "stdout",
     "output_type": "stream",
     "text": [
      "Train on 7982 samples, validate on 1000 samples\n",
      "Epoch 1/20\n",
      "7982/7982 [==============================] - 2s 270us/step - loss: 3.3620 - acc: 0.2740 - val_loss: 2.9616 - val_acc: 0.2510\n",
      "Epoch 2/20\n",
      "7982/7982 [==============================] - 2s 232us/step - loss: 2.6895 - acc: 0.2487 - val_loss: 2.4712 - val_acc: 0.2550\n",
      "Epoch 3/20\n",
      "7982/7982 [==============================] - 2s 240us/step - loss: 2.0832 - acc: 0.2843 - val_loss: 1.8407 - val_acc: 0.2870\n",
      "Epoch 4/20\n",
      "7982/7982 [==============================] - 2s 236us/step - loss: 1.5130 - acc: 0.5890 - val_loss: 1.5068 - val_acc: 0.6210\n",
      "Epoch 5/20\n",
      "7982/7982 [==============================] - 2s 242us/step - loss: 1.2539 - acc: 0.6710 - val_loss: 1.4068 - val_acc: 0.6540\n",
      "Epoch 6/20\n",
      "7982/7982 [==============================] - 2s 246us/step - loss: 1.1192 - acc: 0.7161 - val_loss: 1.3996 - val_acc: 0.6830\n",
      "Epoch 7/20\n",
      "7982/7982 [==============================] - 2s 236us/step - loss: 1.0273 - acc: 0.7481 - val_loss: 1.3615 - val_acc: 0.6990\n",
      "Epoch 8/20\n",
      "7982/7982 [==============================] - 2s 243us/step - loss: 0.9565 - acc: 0.7636 - val_loss: 1.3873 - val_acc: 0.6990\n",
      "Epoch 9/20\n",
      "7982/7982 [==============================] - 2s 239us/step - loss: 0.8978 - acc: 0.7769 - val_loss: 1.3890 - val_acc: 0.6970\n",
      "Epoch 10/20\n",
      "7982/7982 [==============================] - 2s 244us/step - loss: 0.8528 - acc: 0.7885 - val_loss: 1.4335 - val_acc: 0.6980\n",
      "Epoch 11/20\n",
      "7982/7982 [==============================] - 2s 238us/step - loss: 0.8110 - acc: 0.8017 - val_loss: 1.4564 - val_acc: 0.6930\n",
      "Epoch 12/20\n",
      "7982/7982 [==============================] - 2s 243us/step - loss: 0.7760 - acc: 0.8063 - val_loss: 1.4871 - val_acc: 0.6960\n",
      "Epoch 13/20\n",
      "7982/7982 [==============================] - 2s 234us/step - loss: 0.7465 - acc: 0.8123 - val_loss: 1.5617 - val_acc: 0.6990\n",
      "Epoch 14/20\n",
      "7982/7982 [==============================] - 2s 241us/step - loss: 0.7192 - acc: 0.8171 - val_loss: 1.5447 - val_acc: 0.6990\n",
      "Epoch 15/20\n",
      "7982/7982 [==============================] - 2s 246us/step - loss: 0.6982 - acc: 0.8172 - val_loss: 1.6080 - val_acc: 0.6930\n",
      "Epoch 16/20\n",
      "7982/7982 [==============================] - 2s 236us/step - loss: 0.6775 - acc: 0.8215 - val_loss: 1.6706 - val_acc: 0.6980\n",
      "Epoch 17/20\n",
      "7982/7982 [==============================] - 2s 241us/step - loss: 0.6557 - acc: 0.8252 - val_loss: 1.6782 - val_acc: 0.6960\n",
      "Epoch 18/20\n",
      "7982/7982 [==============================] - 2s 239us/step - loss: 0.6408 - acc: 0.8295 - val_loss: 1.7406 - val_acc: 0.6930\n",
      "Epoch 19/20\n",
      "7982/7982 [==============================] - 2s 245us/step - loss: 0.6253 - acc: 0.8299 - val_loss: 1.7663 - val_acc: 0.6860\n",
      "Epoch 20/20\n",
      "7982/7982 [==============================] - 2s 252us/step - loss: 0.6098 - acc: 0.8374 - val_loss: 1.8097 - val_acc: 0.6880\n",
      "2246/2246 [==============================] - 0s 189us/step\n",
      "[2.062747692913215, 0.6620658949773861]\n"
     ]
    }
   ],
   "source": [
    "# Building a model with information bottleneck\n",
    "model3 = models.Sequential()\n",
    "model3.add(layers.Dense(64, activation='relu', input_shape=(10000,)))\n",
    "model3.add(layers.Dense(4, activation='relu'))\n",
    "model3.add(layers.Dense(46, activation='softmax'))\n",
    "model3.compile( optimizer = 'rmsprop', loss = 'categorical_crossentropy', metrics=['acc'])\n",
    "model3.fit(x_train_train, y_train_train, epochs=20, batch_size=128, validation_data=(x_train_rest, y_train_rest))\n",
    "results3 = model3.evaluate(x_test, y_test)\n",
    "print(results3)"
   ]
  },
  {
   "cell_type": "code",
   "execution_count": 28,
   "metadata": {},
   "outputs": [
    {
     "name": "stdout",
     "output_type": "stream",
     "text": [
      "Train on 7982 samples, validate on 1000 samples\n",
      "Epoch 1/20\n",
      "7982/7982 [==============================] - 2s 246us/step - loss: 2.5093 - acc: 0.4708 - val_loss: 1.7251 - val_acc: 0.5850\n",
      "Epoch 2/20\n",
      "7982/7982 [==============================] - 2s 199us/step - loss: 1.4796 - acc: 0.6607 - val_loss: 1.3781 - val_acc: 0.6880\n",
      "Epoch 3/20\n",
      "7982/7982 [==============================] - 1s 179us/step - loss: 1.1244 - acc: 0.7463 - val_loss: 1.2183 - val_acc: 0.7370\n",
      "Epoch 4/20\n",
      "7982/7982 [==============================] - 1s 179us/step - loss: 0.8919 - acc: 0.8053 - val_loss: 1.0974 - val_acc: 0.7700\n",
      "Epoch 5/20\n",
      "7982/7982 [==============================] - 1s 186us/step - loss: 0.7070 - acc: 0.8411 - val_loss: 1.1105 - val_acc: 0.7520\n",
      "Epoch 6/20\n",
      "7982/7982 [==============================] - 2s 189us/step - loss: 0.5773 - acc: 0.8676 - val_loss: 0.9978 - val_acc: 0.7980\n",
      "Epoch 7/20\n",
      "7982/7982 [==============================] - 1s 185us/step - loss: 0.4566 - acc: 0.8976 - val_loss: 1.0168 - val_acc: 0.7920\n",
      "Epoch 8/20\n",
      "7982/7982 [==============================] - 1s 186us/step - loss: 0.3622 - acc: 0.9198 - val_loss: 1.0355 - val_acc: 0.7960\n",
      "Epoch 9/20\n",
      "7982/7982 [==============================] - 1s 180us/step - loss: 0.2995 - acc: 0.9325 - val_loss: 1.0681 - val_acc: 0.8010\n",
      "Epoch 10/20\n",
      "7982/7982 [==============================] - 1s 177us/step - loss: 0.2487 - acc: 0.9446 - val_loss: 1.0931 - val_acc: 0.7800\n",
      "Epoch 11/20\n",
      "7982/7982 [==============================] - 1s 179us/step - loss: 0.2140 - acc: 0.9510 - val_loss: 1.0321 - val_acc: 0.7940\n",
      "Epoch 12/20\n",
      "7982/7982 [==============================] - 1s 178us/step - loss: 0.1864 - acc: 0.9523 - val_loss: 1.1017 - val_acc: 0.8010\n",
      "Epoch 13/20\n",
      "7982/7982 [==============================] - 1s 178us/step - loss: 0.1644 - acc: 0.9546 - val_loss: 1.1839 - val_acc: 0.7810\n",
      "Epoch 14/20\n",
      "7982/7982 [==============================] - 1s 178us/step - loss: 0.1522 - acc: 0.9562 - val_loss: 1.5261 - val_acc: 0.7420\n",
      "Epoch 15/20\n",
      "7982/7982 [==============================] - 2s 194us/step - loss: 0.1427 - acc: 0.9549 - val_loss: 1.0758 - val_acc: 0.8120\n",
      "Epoch 16/20\n",
      "7982/7982 [==============================] - 1s 185us/step - loss: 0.1319 - acc: 0.9572 - val_loss: 1.1367 - val_acc: 0.7920\n",
      "Epoch 17/20\n",
      "7982/7982 [==============================] - 2s 193us/step - loss: 0.1270 - acc: 0.9582 - val_loss: 1.2172 - val_acc: 0.8050\n",
      "Epoch 18/20\n",
      "7982/7982 [==============================] - 2s 205us/step - loss: 0.1284 - acc: 0.9562 - val_loss: 1.2345 - val_acc: 0.7870\n",
      "Epoch 19/20\n",
      "7982/7982 [==============================] - 2s 192us/step - loss: 0.1195 - acc: 0.9574 - val_loss: 1.1645 - val_acc: 0.8000\n",
      "Epoch 20/20\n",
      "7982/7982 [==============================] - 2s 199us/step - loss: 0.1154 - acc: 0.9599 - val_loss: 1.2354 - val_acc: 0.7970\n",
      "2246/2246 [==============================] - 0s 188us/step\n",
      "[1.3874507364373279, 0.7796081923419412]\n"
     ]
    }
   ],
   "source": [
    "# Building a model with an additional layer\n",
    "model4 = models.Sequential()\n",
    "model4.add(layers.Dense(64, activation='relu', input_shape=(10000,)))\n",
    "model4.add(layers.Dense(64, activation='relu'))\n",
    "model4.add(layers.Dense(64, activation='relu'))\n",
    "model4.add(layers.Dense(46, activation='softmax'))\n",
    "model4.compile( optimizer = 'rmsprop', loss = 'categorical_crossentropy', metrics=['acc'])\n",
    "model4.fit(x_train_train, y_train_train, epochs=20, batch_size=512, validation_data=(x_train_rest, y_train_rest))\n",
    "results4 = model4.evaluate(x_test, y_test)\n",
    "print(results4)"
   ]
  },
  {
   "cell_type": "code",
   "execution_count": 29,
   "metadata": {},
   "outputs": [
    {
     "name": "stdout",
     "output_type": "stream",
     "text": [
      "Train on 7982 samples, validate on 1000 samples\n",
      "Epoch 1/20\n",
      "7982/7982 [==============================] - 2s 203us/step - loss: 2.5849 - acc: 0.5658 - val_loss: 1.8489 - val_acc: 0.6490\n",
      "Epoch 2/20\n",
      "7982/7982 [==============================] - 1s 164us/step - loss: 1.4778 - acc: 0.7155 - val_loss: 1.3699 - val_acc: 0.7110\n",
      "Epoch 3/20\n",
      "7982/7982 [==============================] - 1s 155us/step - loss: 1.0678 - acc: 0.7902 - val_loss: 1.1407 - val_acc: 0.7770\n",
      "Epoch 4/20\n",
      "7982/7982 [==============================] - 1s 158us/step - loss: 0.8265 - acc: 0.8353 - val_loss: 1.0185 - val_acc: 0.7940\n",
      "Epoch 5/20\n",
      "7982/7982 [==============================] - 1s 175us/step - loss: 0.6599 - acc: 0.8717 - val_loss: 0.9590 - val_acc: 0.8050\n",
      "Epoch 6/20\n",
      "7982/7982 [==============================] - 1s 177us/step - loss: 0.5381 - acc: 0.8939 - val_loss: 0.8889 - val_acc: 0.8180\n",
      "Epoch 7/20\n",
      "7982/7982 [==============================] - 1s 156us/step - loss: 0.4431 - acc: 0.9123 - val_loss: 0.8496 - val_acc: 0.8280\n",
      "Epoch 8/20\n",
      "7982/7982 [==============================] - 1s 172us/step - loss: 0.3685 - acc: 0.9282 - val_loss: 0.8335 - val_acc: 0.8290\n",
      "Epoch 9/20\n",
      "7982/7982 [==============================] - 1s 177us/step - loss: 0.3098 - acc: 0.9367 - val_loss: 0.8343 - val_acc: 0.8210\n",
      "Epoch 10/20\n",
      "7982/7982 [==============================] - 1s 171us/step - loss: 0.2656 - acc: 0.9422 - val_loss: 0.8305 - val_acc: 0.8230\n",
      "Epoch 11/20\n",
      "7982/7982 [==============================] - 1s 180us/step - loss: 0.2283 - acc: 0.9471 - val_loss: 0.8216 - val_acc: 0.8280\n",
      "Epoch 12/20\n",
      "7982/7982 [==============================] - 1s 170us/step - loss: 0.2019 - acc: 0.9488 - val_loss: 0.8343 - val_acc: 0.8200\n",
      "Epoch 13/20\n",
      "7982/7982 [==============================] - 1s 166us/step - loss: 0.1789 - acc: 0.9518 - val_loss: 0.8405 - val_acc: 0.8250\n",
      "Epoch 14/20\n",
      "7982/7982 [==============================] - 1s 180us/step - loss: 0.1633 - acc: 0.9543 - val_loss: 0.8543 - val_acc: 0.8200\n",
      "Epoch 15/20\n",
      "7982/7982 [==============================] - 1s 159us/step - loss: 0.1473 - acc: 0.9551 - val_loss: 0.8641 - val_acc: 0.8200\n",
      "Epoch 16/20\n",
      "7982/7982 [==============================] - 1s 166us/step - loss: 0.1367 - acc: 0.9553 - val_loss: 0.8671 - val_acc: 0.8200\n",
      "Epoch 17/20\n",
      "7982/7982 [==============================] - 1s 159us/step - loss: 0.1281 - acc: 0.9568 - val_loss: 0.9052 - val_acc: 0.8040\n",
      "Epoch 18/20\n",
      "7982/7982 [==============================] - 1s 171us/step - loss: 0.1190 - acc: 0.9585 - val_loss: 0.9166 - val_acc: 0.8150\n",
      "Epoch 19/20\n",
      "7982/7982 [==============================] - 1s 160us/step - loss: 0.1136 - acc: 0.9580 - val_loss: 0.9167 - val_acc: 0.8120\n",
      "Epoch 20/20\n",
      "7982/7982 [==============================] - 1s 159us/step - loss: 0.1101 - acc: 0.9575 - val_loss: 0.9207 - val_acc: 0.8180\n",
      "2246/2246 [==============================] - 0s 185us/step\n",
      "[1.0286501831808794, 0.8000890471950134]\n"
     ]
    }
   ],
   "source": [
    "# Building a model with one less layer\n",
    "model5 = models.Sequential()\n",
    "model5.add(layers.Dense(64, activation='relu', input_shape=(10000,)))\n",
    "model5.add(layers.Dense(46, activation='softmax'))\n",
    "model5.compile( optimizer = 'rmsprop', loss = 'categorical_crossentropy', metrics=['acc'])\n",
    "model5.fit(x_train_train, y_train_train, epochs=20, batch_size=512, validation_data=(x_train_rest, y_train_rest))\n",
    "results5 = model5.evaluate(x_test, y_test)\n",
    "print(results5)"
   ]
  },
  {
   "cell_type": "code",
   "execution_count": null,
   "metadata": {},
   "outputs": [],
   "source": []
  }
 ],
 "metadata": {
  "kernelspec": {
   "display_name": "Python 3",
   "language": "python",
   "name": "python3"
  },
  "language_info": {
   "codemirror_mode": {
    "name": "ipython",
    "version": 3
   },
   "file_extension": ".py",
   "mimetype": "text/x-python",
   "name": "python",
   "nbconvert_exporter": "python",
   "pygments_lexer": "ipython3",
   "version": "3.5.2"
  }
 },
 "nbformat": 4,
 "nbformat_minor": 2
}
